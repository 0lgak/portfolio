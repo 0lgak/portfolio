{
 "cells": [
  {
   "cell_type": "markdown",
   "metadata": {},
   "source": [
    "# Определение выгодного тарифа для телеком компании"
   ]
  },
  {
   "cell_type": "markdown",
   "metadata": {},
   "source": [
    "### Цель проекта\n",
    "\n",
    "Мы аналитик компании «Мегалайн» — федерального оператора сотовой связи. Клиентам предлагают два тарифных плана: «Смарт» и «Ультра». Чтобы скорректировать рекламный бюджет, коммерческий департамент хочет понять, какой тариф приносит больше денег. Вам предстоит сделать предварительный анализ тарифов на небольшой выборке клиентов.\n",
    "\n",
    "В вашем распоряжении данные 500 пользователей «Мегалайна»: кто они, откуда, каким тарифом пользуются, сколько звонков и сообщений каждый отправил за 2018-й год. Нужно проанализировать поведение клиентов и сделать вывод — какой тариф лучше.\n",
    "\n",
    "### Описание данных\n",
    "\n",
    "Таблица `users` (информация о пользователях):\n",
    "\n",
    "`user_id` — уникальный идентификатор пользователя;\n",
    "\n",
    "`first_name` — имя пользователя;\n",
    "\n",
    "`last_name` — фамилия пользователя;\n",
    "\n",
    "`age` — возраст пользователя (годы);\n",
    "\n",
    "`reg_date` — дата подключения тарифа (день, месяц, год);\n",
    "\n",
    "`churn_date` — дата прекращения пользования тарифом (если значение пропущено, то тариф ещё действовал на момент выгрузки данных);\n",
    "\n",
    "`city` — город проживания пользователя;\n",
    "\n",
    "`tariff` — название тарифного плана.\n",
    "\n",
    "Таблица `calls` (информация о звонках):\n",
    "\n",
    "`id` — уникальный номер звонка;\n",
    "\n",
    "`call_date` — дата звонка;\n",
    "\n",
    "`duration` — длительность звонка в минутах;\n",
    "\n",
    "`user_id` — идентификатор пользователя, сделавшего звонок.\n",
    "\n",
    "Таблица `messages` (информация о сообщениях):\n",
    "\n",
    "`id` — уникальный номер сообщения;\n",
    "\n",
    "`message_date` — дата сообщения;\n",
    "\n",
    "`user_id` — идентификатор пользователя, отправившего сообщение.\n",
    "\n",
    "Таблица `internet` (информация об интернет-сессиях):\n",
    "\n",
    "`id` — уникальный номер сессии;\n",
    "\n",
    "`mb_used` — объём потраченного за сессию интернет-трафика (в мегабайтах);\n",
    "\n",
    "`session_date` — дата интернет-сессии;\n",
    "\n",
    "`user_id` — идентификатор пользователя.\n",
    "\n",
    "Таблица `tariffs` (информация о тарифах):\n",
    "\n",
    "`tariff_name` — название тарифа;\n",
    "\n",
    "`rub_monthly_fee` — ежемесячная абонентская плата в рублях;\n",
    "\n",
    "`minutes_included` — количество минут разговора в месяц, включённых в абонентскую плату;\n",
    "\n",
    "`messages_included` — количество сообщений в месяц, включённых в абонентскую плату;\n",
    "\n",
    "`mb_per_month_included` — объём интернет-трафика, включённого в абонентскую плату (в мегабайтах);\n",
    "\n",
    "`rub_per_minute` — стоимость минуты разговора сверх тарифного пакета (например, если в тарифе 100 минут разговора в месяц, то со 101 минуты будет взиматься плата);\n",
    "\n",
    "`rub_per_message` — стоимость отправки сообщения сверх тарифного пакета;\n",
    "\n",
    "`rub_per_gb` — стоимость дополнительного гигабайта интернет-трафика сверх тарифного пакета."
   ]
  },
  {
   "cell_type": "markdown",
   "metadata": {},
   "source": [
    "## Ознакомление с данными"
   ]
  },
  {
   "cell_type": "code",
   "execution_count": null,
   "metadata": {},
   "outputs": [],
   "source": [
    "import pandas as pd\n",
    "import matplotlib.pyplot as plt \n",
    "import numpy as np\n",
    "from math import ceil\n",
    "from scipy import stats as st"
   ]
  },
  {
   "cell_type": "code",
   "execution_count": 26,
   "metadata": {},
   "outputs": [
    {
     "data": {
      "text/html": [
       "<div>\n",
       "<style scoped>\n",
       "    .dataframe tbody tr th:only-of-type {\n",
       "        vertical-align: middle;\n",
       "    }\n",
       "\n",
       "    .dataframe tbody tr th {\n",
       "        vertical-align: top;\n",
       "    }\n",
       "\n",
       "    .dataframe thead th {\n",
       "        text-align: right;\n",
       "    }\n",
       "</style>\n",
       "<table border=\"1\" class=\"dataframe\">\n",
       "  <thead>\n",
       "    <tr style=\"text-align: right;\">\n",
       "      <th></th>\n",
       "      <th>id</th>\n",
       "      <th>call_date</th>\n",
       "      <th>duration</th>\n",
       "      <th>user_id</th>\n",
       "    </tr>\n",
       "  </thead>\n",
       "  <tbody>\n",
       "    <tr>\n",
       "      <td>0</td>\n",
       "      <td>1000_0</td>\n",
       "      <td>2018-07-25</td>\n",
       "      <td>0.00</td>\n",
       "      <td>1000</td>\n",
       "    </tr>\n",
       "    <tr>\n",
       "      <td>1</td>\n",
       "      <td>1000_1</td>\n",
       "      <td>2018-08-17</td>\n",
       "      <td>0.00</td>\n",
       "      <td>1000</td>\n",
       "    </tr>\n",
       "    <tr>\n",
       "      <td>2</td>\n",
       "      <td>1000_2</td>\n",
       "      <td>2018-06-11</td>\n",
       "      <td>2.85</td>\n",
       "      <td>1000</td>\n",
       "    </tr>\n",
       "    <tr>\n",
       "      <td>3</td>\n",
       "      <td>1000_3</td>\n",
       "      <td>2018-09-21</td>\n",
       "      <td>13.80</td>\n",
       "      <td>1000</td>\n",
       "    </tr>\n",
       "    <tr>\n",
       "      <td>4</td>\n",
       "      <td>1000_4</td>\n",
       "      <td>2018-12-15</td>\n",
       "      <td>5.18</td>\n",
       "      <td>1000</td>\n",
       "    </tr>\n",
       "  </tbody>\n",
       "</table>\n",
       "</div>"
      ],
      "text/plain": [
       "       id   call_date  duration  user_id\n",
       "0  1000_0  2018-07-25      0.00     1000\n",
       "1  1000_1  2018-08-17      0.00     1000\n",
       "2  1000_2  2018-06-11      2.85     1000\n",
       "3  1000_3  2018-09-21     13.80     1000\n",
       "4  1000_4  2018-12-15      5.18     1000"
      ]
     },
     "metadata": {},
     "output_type": "display_data"
    },
    {
     "name": "stdout",
     "output_type": "stream",
     "text": [
      "<class 'pandas.core.frame.DataFrame'>\n",
      "RangeIndex: 202607 entries, 0 to 202606\n",
      "Data columns (total 4 columns):\n",
      "id           202607 non-null object\n",
      "call_date    202607 non-null object\n",
      "duration     202607 non-null float64\n",
      "user_id      202607 non-null int64\n",
      "dtypes: float64(1), int64(1), object(2)\n",
      "memory usage: 6.2+ MB\n"
     ]
    }
   ],
   "source": [
    "data_calls=pd.read_csv('/datasets/calls.csv')\n",
    "\n",
    "display (data_calls.head())\n",
    "\n",
    "data_calls.info()"
   ]
  },
  {
   "cell_type": "markdown",
   "metadata": {},
   "source": [
    "В данной таблице пропусков нет, нужно привести дату к верному формату."
   ]
  },
  {
   "cell_type": "code",
   "execution_count": 2,
   "metadata": {},
   "outputs": [
    {
     "data": {
      "text/html": [
       "<div>\n",
       "<style scoped>\n",
       "    .dataframe tbody tr th:only-of-type {\n",
       "        vertical-align: middle;\n",
       "    }\n",
       "\n",
       "    .dataframe tbody tr th {\n",
       "        vertical-align: top;\n",
       "    }\n",
       "\n",
       "    .dataframe thead th {\n",
       "        text-align: right;\n",
       "    }\n",
       "</style>\n",
       "<table border=\"1\" class=\"dataframe\">\n",
       "  <thead>\n",
       "    <tr style=\"text-align: right;\">\n",
       "      <th></th>\n",
       "      <th>Unnamed: 0</th>\n",
       "      <th>id</th>\n",
       "      <th>mb_used</th>\n",
       "      <th>session_date</th>\n",
       "      <th>user_id</th>\n",
       "    </tr>\n",
       "  </thead>\n",
       "  <tbody>\n",
       "    <tr>\n",
       "      <td>149391</td>\n",
       "      <td>149391</td>\n",
       "      <td>1499_152</td>\n",
       "      <td>318.90</td>\n",
       "      <td>2018-10-03</td>\n",
       "      <td>1499</td>\n",
       "    </tr>\n",
       "    <tr>\n",
       "      <td>149392</td>\n",
       "      <td>149392</td>\n",
       "      <td>1499_153</td>\n",
       "      <td>490.13</td>\n",
       "      <td>2018-12-14</td>\n",
       "      <td>1499</td>\n",
       "    </tr>\n",
       "    <tr>\n",
       "      <td>149393</td>\n",
       "      <td>149393</td>\n",
       "      <td>1499_154</td>\n",
       "      <td>0.00</td>\n",
       "      <td>2018-10-27</td>\n",
       "      <td>1499</td>\n",
       "    </tr>\n",
       "    <tr>\n",
       "      <td>149394</td>\n",
       "      <td>149394</td>\n",
       "      <td>1499_155</td>\n",
       "      <td>1246.32</td>\n",
       "      <td>2018-11-26</td>\n",
       "      <td>1499</td>\n",
       "    </tr>\n",
       "    <tr>\n",
       "      <td>149395</td>\n",
       "      <td>149395</td>\n",
       "      <td>1499_156</td>\n",
       "      <td>544.37</td>\n",
       "      <td>2018-10-26</td>\n",
       "      <td>1499</td>\n",
       "    </tr>\n",
       "  </tbody>\n",
       "</table>\n",
       "</div>"
      ],
      "text/plain": [
       "        Unnamed: 0        id  mb_used session_date  user_id\n",
       "149391      149391  1499_152   318.90   2018-10-03     1499\n",
       "149392      149392  1499_153   490.13   2018-12-14     1499\n",
       "149393      149393  1499_154     0.00   2018-10-27     1499\n",
       "149394      149394  1499_155  1246.32   2018-11-26     1499\n",
       "149395      149395  1499_156   544.37   2018-10-26     1499"
      ]
     },
     "metadata": {},
     "output_type": "display_data"
    },
    {
     "name": "stdout",
     "output_type": "stream",
     "text": [
      "<class 'pandas.core.frame.DataFrame'>\n",
      "RangeIndex: 149396 entries, 0 to 149395\n",
      "Data columns (total 5 columns):\n",
      "Unnamed: 0      149396 non-null int64\n",
      "id              149396 non-null object\n",
      "mb_used         149396 non-null float64\n",
      "session_date    149396 non-null object\n",
      "user_id         149396 non-null int64\n",
      "dtypes: float64(1), int64(2), object(2)\n",
      "memory usage: 5.7+ MB\n"
     ]
    }
   ],
   "source": [
    "data_internet=pd.read_csv('/datasets/internet.csv')\n",
    "display(data_internet.tail())\n",
    "data_internet.info()"
   ]
  },
  {
   "cell_type": "markdown",
   "metadata": {},
   "source": [
    "Присутствует столбец, которого нет в описании: 'Unnamed: 0', его лучше удалить, хотя на дальнейшую работу с таблицей он не повлияет. Также нет пропусков, нужно привести дату к верному формату."
   ]
  },
  {
   "cell_type": "code",
   "execution_count": 3,
   "metadata": {},
   "outputs": [
    {
     "data": {
      "text/html": [
       "<div>\n",
       "<style scoped>\n",
       "    .dataframe tbody tr th:only-of-type {\n",
       "        vertical-align: middle;\n",
       "    }\n",
       "\n",
       "    .dataframe tbody tr th {\n",
       "        vertical-align: top;\n",
       "    }\n",
       "\n",
       "    .dataframe thead th {\n",
       "        text-align: right;\n",
       "    }\n",
       "</style>\n",
       "<table border=\"1\" class=\"dataframe\">\n",
       "  <thead>\n",
       "    <tr style=\"text-align: right;\">\n",
       "      <th></th>\n",
       "      <th>id</th>\n",
       "      <th>message_date</th>\n",
       "      <th>user_id</th>\n",
       "    </tr>\n",
       "  </thead>\n",
       "  <tbody>\n",
       "    <tr>\n",
       "      <td>0</td>\n",
       "      <td>1000_0</td>\n",
       "      <td>2018-06-27</td>\n",
       "      <td>1000</td>\n",
       "    </tr>\n",
       "    <tr>\n",
       "      <td>1</td>\n",
       "      <td>1000_1</td>\n",
       "      <td>2018-10-08</td>\n",
       "      <td>1000</td>\n",
       "    </tr>\n",
       "    <tr>\n",
       "      <td>2</td>\n",
       "      <td>1000_2</td>\n",
       "      <td>2018-08-04</td>\n",
       "      <td>1000</td>\n",
       "    </tr>\n",
       "    <tr>\n",
       "      <td>3</td>\n",
       "      <td>1000_3</td>\n",
       "      <td>2018-06-16</td>\n",
       "      <td>1000</td>\n",
       "    </tr>\n",
       "    <tr>\n",
       "      <td>4</td>\n",
       "      <td>1000_4</td>\n",
       "      <td>2018-12-05</td>\n",
       "      <td>1000</td>\n",
       "    </tr>\n",
       "  </tbody>\n",
       "</table>\n",
       "</div>"
      ],
      "text/plain": [
       "       id message_date  user_id\n",
       "0  1000_0   2018-06-27     1000\n",
       "1  1000_1   2018-10-08     1000\n",
       "2  1000_2   2018-08-04     1000\n",
       "3  1000_3   2018-06-16     1000\n",
       "4  1000_4   2018-12-05     1000"
      ]
     },
     "metadata": {},
     "output_type": "display_data"
    },
    {
     "name": "stdout",
     "output_type": "stream",
     "text": [
      "<class 'pandas.core.frame.DataFrame'>\n",
      "RangeIndex: 123036 entries, 0 to 123035\n",
      "Data columns (total 3 columns):\n",
      "id              123036 non-null object\n",
      "message_date    123036 non-null object\n",
      "user_id         123036 non-null int64\n",
      "dtypes: int64(1), object(2)\n",
      "memory usage: 2.8+ MB\n"
     ]
    }
   ],
   "source": [
    "data_messages=pd.read_csv('/datasets/messages.csv')\n",
    "display(data_messages.head())\n",
    "data_messages.info()"
   ]
  },
  {
   "cell_type": "markdown",
   "metadata": {},
   "source": [
    "Нужно привести дату к верному формату. Пропусков нет."
   ]
  },
  {
   "cell_type": "code",
   "execution_count": 4,
   "metadata": {},
   "outputs": [
    {
     "data": {
      "text/html": [
       "<div>\n",
       "<style scoped>\n",
       "    .dataframe tbody tr th:only-of-type {\n",
       "        vertical-align: middle;\n",
       "    }\n",
       "\n",
       "    .dataframe tbody tr th {\n",
       "        vertical-align: top;\n",
       "    }\n",
       "\n",
       "    .dataframe thead th {\n",
       "        text-align: right;\n",
       "    }\n",
       "</style>\n",
       "<table border=\"1\" class=\"dataframe\">\n",
       "  <thead>\n",
       "    <tr style=\"text-align: right;\">\n",
       "      <th></th>\n",
       "      <th>messages_included</th>\n",
       "      <th>mb_per_month_included</th>\n",
       "      <th>minutes_included</th>\n",
       "      <th>rub_monthly_fee</th>\n",
       "      <th>rub_per_gb</th>\n",
       "      <th>rub_per_message</th>\n",
       "      <th>rub_per_minute</th>\n",
       "      <th>tariff_name</th>\n",
       "    </tr>\n",
       "  </thead>\n",
       "  <tbody>\n",
       "    <tr>\n",
       "      <td>0</td>\n",
       "      <td>50</td>\n",
       "      <td>15360</td>\n",
       "      <td>500</td>\n",
       "      <td>550</td>\n",
       "      <td>200</td>\n",
       "      <td>3</td>\n",
       "      <td>3</td>\n",
       "      <td>smart</td>\n",
       "    </tr>\n",
       "    <tr>\n",
       "      <td>1</td>\n",
       "      <td>1000</td>\n",
       "      <td>30720</td>\n",
       "      <td>3000</td>\n",
       "      <td>1950</td>\n",
       "      <td>150</td>\n",
       "      <td>1</td>\n",
       "      <td>1</td>\n",
       "      <td>ultra</td>\n",
       "    </tr>\n",
       "  </tbody>\n",
       "</table>\n",
       "</div>"
      ],
      "text/plain": [
       "   messages_included  mb_per_month_included  minutes_included  \\\n",
       "0                 50                  15360               500   \n",
       "1               1000                  30720              3000   \n",
       "\n",
       "   rub_monthly_fee  rub_per_gb  rub_per_message  rub_per_minute tariff_name  \n",
       "0              550         200                3               3       smart  \n",
       "1             1950         150                1               1       ultra  "
      ]
     },
     "metadata": {},
     "output_type": "display_data"
    },
    {
     "name": "stdout",
     "output_type": "stream",
     "text": [
      "<class 'pandas.core.frame.DataFrame'>\n",
      "RangeIndex: 2 entries, 0 to 1\n",
      "Data columns (total 8 columns):\n",
      "messages_included        2 non-null int64\n",
      "mb_per_month_included    2 non-null int64\n",
      "minutes_included         2 non-null int64\n",
      "rub_monthly_fee          2 non-null int64\n",
      "rub_per_gb               2 non-null int64\n",
      "rub_per_message          2 non-null int64\n",
      "rub_per_minute           2 non-null int64\n",
      "tariff_name              2 non-null object\n",
      "dtypes: int64(7), object(1)\n",
      "memory usage: 256.0+ bytes\n"
     ]
    }
   ],
   "source": [
    "data_tariffs=pd.read_csv('/datasets/tariffs.csv')\n",
    "display(data_tariffs)\n",
    "data_tariffs.info()"
   ]
  },
  {
   "cell_type": "code",
   "execution_count": 5,
   "metadata": {},
   "outputs": [
    {
     "data": {
      "text/html": [
       "<div>\n",
       "<style scoped>\n",
       "    .dataframe tbody tr th:only-of-type {\n",
       "        vertical-align: middle;\n",
       "    }\n",
       "\n",
       "    .dataframe tbody tr th {\n",
       "        vertical-align: top;\n",
       "    }\n",
       "\n",
       "    .dataframe thead th {\n",
       "        text-align: right;\n",
       "    }\n",
       "</style>\n",
       "<table border=\"1\" class=\"dataframe\">\n",
       "  <thead>\n",
       "    <tr style=\"text-align: right;\">\n",
       "      <th></th>\n",
       "      <th>user_id</th>\n",
       "      <th>age</th>\n",
       "      <th>churn_date</th>\n",
       "      <th>city</th>\n",
       "      <th>first_name</th>\n",
       "      <th>last_name</th>\n",
       "      <th>reg_date</th>\n",
       "      <th>tariff</th>\n",
       "    </tr>\n",
       "  </thead>\n",
       "  <tbody>\n",
       "    <tr>\n",
       "      <td>495</td>\n",
       "      <td>1495</td>\n",
       "      <td>65</td>\n",
       "      <td>NaN</td>\n",
       "      <td>Иркутск</td>\n",
       "      <td>Авксентий</td>\n",
       "      <td>Фокин</td>\n",
       "      <td>2018-08-28</td>\n",
       "      <td>ultra</td>\n",
       "    </tr>\n",
       "    <tr>\n",
       "      <td>496</td>\n",
       "      <td>1496</td>\n",
       "      <td>36</td>\n",
       "      <td>NaN</td>\n",
       "      <td>Вологда</td>\n",
       "      <td>Трифон</td>\n",
       "      <td>Блохин</td>\n",
       "      <td>2018-01-27</td>\n",
       "      <td>smart</td>\n",
       "    </tr>\n",
       "    <tr>\n",
       "      <td>497</td>\n",
       "      <td>1497</td>\n",
       "      <td>32</td>\n",
       "      <td>NaN</td>\n",
       "      <td>Челябинск</td>\n",
       "      <td>Каролина</td>\n",
       "      <td>Агеева</td>\n",
       "      <td>2018-10-09</td>\n",
       "      <td>smart</td>\n",
       "    </tr>\n",
       "    <tr>\n",
       "      <td>498</td>\n",
       "      <td>1498</td>\n",
       "      <td>68</td>\n",
       "      <td>2018-10-25</td>\n",
       "      <td>Владикавказ</td>\n",
       "      <td>Всеволод</td>\n",
       "      <td>Акимчин</td>\n",
       "      <td>2018-07-19</td>\n",
       "      <td>smart</td>\n",
       "    </tr>\n",
       "    <tr>\n",
       "      <td>499</td>\n",
       "      <td>1499</td>\n",
       "      <td>35</td>\n",
       "      <td>NaN</td>\n",
       "      <td>Пермь</td>\n",
       "      <td>Гектор</td>\n",
       "      <td>Корнилов</td>\n",
       "      <td>2018-09-27</td>\n",
       "      <td>smart</td>\n",
       "    </tr>\n",
       "  </tbody>\n",
       "</table>\n",
       "</div>"
      ],
      "text/plain": [
       "     user_id  age  churn_date         city first_name last_name    reg_date  \\\n",
       "495     1495   65         NaN      Иркутск  Авксентий     Фокин  2018-08-28   \n",
       "496     1496   36         NaN      Вологда     Трифон    Блохин  2018-01-27   \n",
       "497     1497   32         NaN    Челябинск   Каролина    Агеева  2018-10-09   \n",
       "498     1498   68  2018-10-25  Владикавказ   Всеволод   Акимчин  2018-07-19   \n",
       "499     1499   35         NaN        Пермь     Гектор  Корнилов  2018-09-27   \n",
       "\n",
       "    tariff  \n",
       "495  ultra  \n",
       "496  smart  \n",
       "497  smart  \n",
       "498  smart  \n",
       "499  smart  "
      ]
     },
     "metadata": {},
     "output_type": "display_data"
    },
    {
     "name": "stdout",
     "output_type": "stream",
     "text": [
      "<class 'pandas.core.frame.DataFrame'>\n",
      "RangeIndex: 500 entries, 0 to 499\n",
      "Data columns (total 8 columns):\n",
      "user_id       500 non-null int64\n",
      "age           500 non-null int64\n",
      "churn_date    38 non-null object\n",
      "city          500 non-null object\n",
      "first_name    500 non-null object\n",
      "last_name     500 non-null object\n",
      "reg_date      500 non-null object\n",
      "tariff        500 non-null object\n",
      "dtypes: int64(2), object(6)\n",
      "memory usage: 31.4+ KB\n"
     ]
    }
   ],
   "source": [
    "data_users=pd.read_csv('/datasets/users.csv')\n",
    "display(data_users.tail())\n",
    "data_users.info()"
   ]
  },
  {
   "cell_type": "markdown",
   "metadata": {},
   "source": [
    "Пропуски в столбце 'churn_date' связаны с тем, что тариф еще действует. Нужно привести дату к верному формату. В столцах, где указаны ФИО и наименования города приводить к одному регистру значения не буду, т.к. написание единообразное."
   ]
  },
  {
   "cell_type": "markdown",
   "metadata": {},
   "source": [
    "<h2> Подготовка данных</h2>"
   ]
  },
  {
   "cell_type": "code",
   "execution_count": 6,
   "metadata": {},
   "outputs": [
    {
     "name": "stdout",
     "output_type": "stream",
     "text": [
      "data_calls\n",
      "<class 'pandas.core.frame.DataFrame'>\n",
      "RangeIndex: 202607 entries, 0 to 202606\n",
      "Data columns (total 4 columns):\n",
      "id           202607 non-null object\n",
      "call_date    202607 non-null datetime64[ns]\n",
      "duration     202607 non-null float64\n",
      "user_id      202607 non-null int64\n",
      "dtypes: datetime64[ns](1), float64(1), int64(1), object(1)\n",
      "memory usage: 6.2+ MB\n",
      "\n",
      "data_internet\n",
      "<class 'pandas.core.frame.DataFrame'>\n",
      "RangeIndex: 149396 entries, 0 to 149395\n",
      "Data columns (total 4 columns):\n",
      "id              149396 non-null object\n",
      "mb_used         149396 non-null float64\n",
      "session_date    149396 non-null datetime64[ns]\n",
      "user_id         149396 non-null int64\n",
      "dtypes: datetime64[ns](1), float64(1), int64(1), object(1)\n",
      "memory usage: 4.6+ MB\n",
      "\n",
      "data_messages\n",
      "<class 'pandas.core.frame.DataFrame'>\n",
      "RangeIndex: 123036 entries, 0 to 123035\n",
      "Data columns (total 3 columns):\n",
      "id              123036 non-null object\n",
      "message_date    123036 non-null datetime64[ns]\n",
      "user_id         123036 non-null int64\n",
      "dtypes: datetime64[ns](1), int64(1), object(1)\n",
      "memory usage: 2.8+ MB\n",
      "\n",
      "data_users\n",
      "<class 'pandas.core.frame.DataFrame'>\n",
      "RangeIndex: 500 entries, 0 to 499\n",
      "Data columns (total 8 columns):\n",
      "user_id       500 non-null int64\n",
      "age           500 non-null int64\n",
      "churn_date    38 non-null datetime64[ns]\n",
      "city          500 non-null object\n",
      "first_name    500 non-null object\n",
      "last_name     500 non-null object\n",
      "reg_date      500 non-null object\n",
      "tariff        500 non-null object\n",
      "dtypes: datetime64[ns](1), int64(2), object(5)\n",
      "memory usage: 31.4+ KB\n"
     ]
    }
   ],
   "source": [
    "data_internet.drop('Unnamed: 0', axis='columns', inplace=True) # Удалила ненужный столбец с дублирующимися значениями\n",
    "\n",
    "# Приводим столбцы с датой к нудному формату в тех таблицах, где это требуется:\n",
    "print('data_calls')\n",
    "data_calls['call_date']=pd.to_datetime(data_calls['call_date'], format='%Y-%m-%d')\n",
    "data_calls.info()\n",
    "print()\n",
    "\n",
    "print('data_internet')\n",
    "data_internet['session_date']=pd.to_datetime(data_internet['session_date'], format='%Y-%m-%d')\n",
    "data_internet.info()\n",
    "print()\n",
    "\n",
    "print('data_messages')\n",
    "data_messages['message_date']=pd.to_datetime(data_messages['message_date'], format='%Y-%m-%d')\n",
    "data_messages.info()\n",
    "print()\n",
    "\n",
    "print('data_users')\n",
    "data_users['churn_date']=pd.to_datetime(data_users['churn_date'], format='%Y-%m-%d')\n",
    "data_users.info()"
   ]
  },
  {
   "cell_type": "markdown",
   "metadata": {},
   "source": [
    "Привела во всех таблицах столбцы с датой к верному формату и убедилась, что все сделано верно. Ошибок в данных я не увидела."
   ]
  },
  {
   "cell_type": "markdown",
   "metadata": {},
   "source": [
    "<h3>Посчитаем для каждого пользователя:\n",
    "    \n",
    "количество сделанных звонков и израсходованных минут разговора по месяцам;\n",
    "количество отправленных сообщений по месяцам;\n",
    "объем израсходованного интернет-трафика по месяцам;\n",
    "помесячную выручку с каждого пользователя.</h3>"
   ]
  },
  {
   "cell_type": "code",
   "execution_count": 7,
   "metadata": {},
   "outputs": [
    {
     "data": {
      "text/html": [
       "<div>\n",
       "<style scoped>\n",
       "    .dataframe tbody tr th:only-of-type {\n",
       "        vertical-align: middle;\n",
       "    }\n",
       "\n",
       "    .dataframe tbody tr th {\n",
       "        vertical-align: top;\n",
       "    }\n",
       "\n",
       "    .dataframe thead th {\n",
       "        text-align: right;\n",
       "    }\n",
       "</style>\n",
       "<table border=\"1\" class=\"dataframe\">\n",
       "  <thead>\n",
       "    <tr style=\"text-align: right;\">\n",
       "      <th></th>\n",
       "      <th>user_id</th>\n",
       "      <th>month</th>\n",
       "      <th>min_count</th>\n",
       "      <th>min_sum</th>\n",
       "    </tr>\n",
       "  </thead>\n",
       "  <tbody>\n",
       "    <tr>\n",
       "      <td>0</td>\n",
       "      <td>1000</td>\n",
       "      <td>5</td>\n",
       "      <td>22</td>\n",
       "      <td>159.0</td>\n",
       "    </tr>\n",
       "    <tr>\n",
       "      <td>1</td>\n",
       "      <td>1000</td>\n",
       "      <td>6</td>\n",
       "      <td>43</td>\n",
       "      <td>172.0</td>\n",
       "    </tr>\n",
       "    <tr>\n",
       "      <td>2</td>\n",
       "      <td>1000</td>\n",
       "      <td>7</td>\n",
       "      <td>47</td>\n",
       "      <td>340.0</td>\n",
       "    </tr>\n",
       "    <tr>\n",
       "      <td>3</td>\n",
       "      <td>1000</td>\n",
       "      <td>8</td>\n",
       "      <td>52</td>\n",
       "      <td>408.0</td>\n",
       "    </tr>\n",
       "    <tr>\n",
       "      <td>4</td>\n",
       "      <td>1000</td>\n",
       "      <td>9</td>\n",
       "      <td>58</td>\n",
       "      <td>466.0</td>\n",
       "    </tr>\n",
       "  </tbody>\n",
       "</table>\n",
       "</div>"
      ],
      "text/plain": [
       "   user_id  month  min_count  min_sum\n",
       "0     1000      5         22    159.0\n",
       "1     1000      6         43    172.0\n",
       "2     1000      7         47    340.0\n",
       "3     1000      8         52    408.0\n",
       "4     1000      9         58    466.0"
      ]
     },
     "metadata": {},
     "output_type": "display_data"
    },
    {
     "data": {
      "text/html": [
       "<div>\n",
       "<style scoped>\n",
       "    .dataframe tbody tr th:only-of-type {\n",
       "        vertical-align: middle;\n",
       "    }\n",
       "\n",
       "    .dataframe tbody tr th {\n",
       "        vertical-align: top;\n",
       "    }\n",
       "\n",
       "    .dataframe thead th {\n",
       "        text-align: right;\n",
       "    }\n",
       "</style>\n",
       "<table border=\"1\" class=\"dataframe\">\n",
       "  <thead>\n",
       "    <tr style=\"text-align: right;\">\n",
       "      <th></th>\n",
       "      <th>user_id</th>\n",
       "      <th>month</th>\n",
       "      <th>messages</th>\n",
       "    </tr>\n",
       "  </thead>\n",
       "  <tbody>\n",
       "    <tr>\n",
       "      <td>0</td>\n",
       "      <td>1000</td>\n",
       "      <td>5</td>\n",
       "      <td>22</td>\n",
       "    </tr>\n",
       "    <tr>\n",
       "      <td>1</td>\n",
       "      <td>1000</td>\n",
       "      <td>6</td>\n",
       "      <td>60</td>\n",
       "    </tr>\n",
       "    <tr>\n",
       "      <td>2</td>\n",
       "      <td>1000</td>\n",
       "      <td>7</td>\n",
       "      <td>75</td>\n",
       "    </tr>\n",
       "    <tr>\n",
       "      <td>3</td>\n",
       "      <td>1000</td>\n",
       "      <td>8</td>\n",
       "      <td>81</td>\n",
       "    </tr>\n",
       "    <tr>\n",
       "      <td>4</td>\n",
       "      <td>1000</td>\n",
       "      <td>9</td>\n",
       "      <td>57</td>\n",
       "    </tr>\n",
       "  </tbody>\n",
       "</table>\n",
       "</div>"
      ],
      "text/plain": [
       "   user_id  month  messages\n",
       "0     1000      5        22\n",
       "1     1000      6        60\n",
       "2     1000      7        75\n",
       "3     1000      8        81\n",
       "4     1000      9        57"
      ]
     },
     "metadata": {},
     "output_type": "display_data"
    },
    {
     "data": {
      "text/html": [
       "<div>\n",
       "<style scoped>\n",
       "    .dataframe tbody tr th:only-of-type {\n",
       "        vertical-align: middle;\n",
       "    }\n",
       "\n",
       "    .dataframe tbody tr th {\n",
       "        vertical-align: top;\n",
       "    }\n",
       "\n",
       "    .dataframe thead th {\n",
       "        text-align: right;\n",
       "    }\n",
       "</style>\n",
       "<table border=\"1\" class=\"dataframe\">\n",
       "  <thead>\n",
       "    <tr style=\"text-align: right;\">\n",
       "      <th></th>\n",
       "      <th>user_id</th>\n",
       "      <th>month</th>\n",
       "      <th>mb_used</th>\n",
       "    </tr>\n",
       "  </thead>\n",
       "  <tbody>\n",
       "    <tr>\n",
       "      <td>0</td>\n",
       "      <td>1000</td>\n",
       "      <td>5</td>\n",
       "      <td>2253.49</td>\n",
       "    </tr>\n",
       "    <tr>\n",
       "      <td>1</td>\n",
       "      <td>1000</td>\n",
       "      <td>6</td>\n",
       "      <td>23233.77</td>\n",
       "    </tr>\n",
       "    <tr>\n",
       "      <td>2</td>\n",
       "      <td>1000</td>\n",
       "      <td>7</td>\n",
       "      <td>14003.64</td>\n",
       "    </tr>\n",
       "    <tr>\n",
       "      <td>3</td>\n",
       "      <td>1000</td>\n",
       "      <td>8</td>\n",
       "      <td>14055.93</td>\n",
       "    </tr>\n",
       "    <tr>\n",
       "      <td>4</td>\n",
       "      <td>1000</td>\n",
       "      <td>9</td>\n",
       "      <td>14568.91</td>\n",
       "    </tr>\n",
       "  </tbody>\n",
       "</table>\n",
       "</div>"
      ],
      "text/plain": [
       "   user_id  month   mb_used\n",
       "0     1000      5   2253.49\n",
       "1     1000      6  23233.77\n",
       "2     1000      7  14003.64\n",
       "3     1000      8  14055.93\n",
       "4     1000      9  14568.91"
      ]
     },
     "metadata": {},
     "output_type": "display_data"
    }
   ],
   "source": [
    "#Округлим минуты для целого, т.к. каждый звонок округляется отдельно по условиям оператора:\n",
    "data_calls['duration']=data_calls['duration'].apply(np.ceil)\n",
    "#Составим сводные таблицы по разным видам траффика:\n",
    "data_calls['month']=data_calls['call_date'].dt.month\n",
    "data_calls_grouped=data_calls.groupby(['user_id','month']).agg({'duration':['count', 'sum']}).reset_index()\n",
    "data_calls_grouped.columns = ['user_id', 'month','min_count', 'min_sum']\n",
    "display(data_calls_grouped.head())\n",
    "\n",
    "data_messages['month']=data_messages['message_date'].dt.month\n",
    "data_messages_grouped=data_messages.groupby(['user_id','month']).agg({'id':'count'}).reset_index()\n",
    "data_messages_grouped.columns = ['user_id', 'month', 'messages']\n",
    "display(data_messages_grouped.head())\n",
    "\n",
    "data_internet['month']=data_internet['session_date'].dt.month\n",
    "data_internet_grouped=data_internet.groupby(['user_id','month']).agg({'mb_used':'sum'}).reset_index()\n",
    "display(data_internet_grouped.head())"
   ]
  },
  {
   "cell_type": "code",
   "execution_count": 8,
   "metadata": {},
   "outputs": [
    {
     "data": {
      "text/html": [
       "<div>\n",
       "<style scoped>\n",
       "    .dataframe tbody tr th:only-of-type {\n",
       "        vertical-align: middle;\n",
       "    }\n",
       "\n",
       "    .dataframe tbody tr th {\n",
       "        vertical-align: top;\n",
       "    }\n",
       "\n",
       "    .dataframe thead th {\n",
       "        text-align: right;\n",
       "    }\n",
       "</style>\n",
       "<table border=\"1\" class=\"dataframe\">\n",
       "  <thead>\n",
       "    <tr style=\"text-align: right;\">\n",
       "      <th></th>\n",
       "      <th>user_id</th>\n",
       "      <th>month</th>\n",
       "      <th>min_count</th>\n",
       "      <th>min_sum</th>\n",
       "      <th>messages</th>\n",
       "      <th>mb_used</th>\n",
       "      <th>tariff</th>\n",
       "      <th>city</th>\n",
       "      <th>messages_included</th>\n",
       "      <th>mb_per_month_included</th>\n",
       "      <th>minutes_included</th>\n",
       "      <th>rub_monthly_fee</th>\n",
       "      <th>rub_per_gb</th>\n",
       "      <th>rub_per_message</th>\n",
       "      <th>rub_per_minute</th>\n",
       "    </tr>\n",
       "  </thead>\n",
       "  <tbody>\n",
       "    <tr>\n",
       "      <td>0</td>\n",
       "      <td>1000</td>\n",
       "      <td>5.0</td>\n",
       "      <td>22.0</td>\n",
       "      <td>159.0</td>\n",
       "      <td>22.0</td>\n",
       "      <td>2253.49</td>\n",
       "      <td>ultra</td>\n",
       "      <td>Краснодар</td>\n",
       "      <td>1000</td>\n",
       "      <td>30720</td>\n",
       "      <td>3000</td>\n",
       "      <td>1950</td>\n",
       "      <td>150</td>\n",
       "      <td>1</td>\n",
       "      <td>1</td>\n",
       "    </tr>\n",
       "    <tr>\n",
       "      <td>1</td>\n",
       "      <td>1000</td>\n",
       "      <td>6.0</td>\n",
       "      <td>43.0</td>\n",
       "      <td>172.0</td>\n",
       "      <td>60.0</td>\n",
       "      <td>23233.77</td>\n",
       "      <td>ultra</td>\n",
       "      <td>Краснодар</td>\n",
       "      <td>1000</td>\n",
       "      <td>30720</td>\n",
       "      <td>3000</td>\n",
       "      <td>1950</td>\n",
       "      <td>150</td>\n",
       "      <td>1</td>\n",
       "      <td>1</td>\n",
       "    </tr>\n",
       "    <tr>\n",
       "      <td>2</td>\n",
       "      <td>1000</td>\n",
       "      <td>7.0</td>\n",
       "      <td>47.0</td>\n",
       "      <td>340.0</td>\n",
       "      <td>75.0</td>\n",
       "      <td>14003.64</td>\n",
       "      <td>ultra</td>\n",
       "      <td>Краснодар</td>\n",
       "      <td>1000</td>\n",
       "      <td>30720</td>\n",
       "      <td>3000</td>\n",
       "      <td>1950</td>\n",
       "      <td>150</td>\n",
       "      <td>1</td>\n",
       "      <td>1</td>\n",
       "    </tr>\n",
       "    <tr>\n",
       "      <td>3</td>\n",
       "      <td>1000</td>\n",
       "      <td>8.0</td>\n",
       "      <td>52.0</td>\n",
       "      <td>408.0</td>\n",
       "      <td>81.0</td>\n",
       "      <td>14055.93</td>\n",
       "      <td>ultra</td>\n",
       "      <td>Краснодар</td>\n",
       "      <td>1000</td>\n",
       "      <td>30720</td>\n",
       "      <td>3000</td>\n",
       "      <td>1950</td>\n",
       "      <td>150</td>\n",
       "      <td>1</td>\n",
       "      <td>1</td>\n",
       "    </tr>\n",
       "    <tr>\n",
       "      <td>4</td>\n",
       "      <td>1000</td>\n",
       "      <td>9.0</td>\n",
       "      <td>58.0</td>\n",
       "      <td>466.0</td>\n",
       "      <td>57.0</td>\n",
       "      <td>14568.91</td>\n",
       "      <td>ultra</td>\n",
       "      <td>Краснодар</td>\n",
       "      <td>1000</td>\n",
       "      <td>30720</td>\n",
       "      <td>3000</td>\n",
       "      <td>1950</td>\n",
       "      <td>150</td>\n",
       "      <td>1</td>\n",
       "      <td>1</td>\n",
       "    </tr>\n",
       "  </tbody>\n",
       "</table>\n",
       "</div>"
      ],
      "text/plain": [
       "   user_id  month  min_count  min_sum  messages   mb_used tariff       city  \\\n",
       "0     1000    5.0       22.0    159.0      22.0   2253.49  ultra  Краснодар   \n",
       "1     1000    6.0       43.0    172.0      60.0  23233.77  ultra  Краснодар   \n",
       "2     1000    7.0       47.0    340.0      75.0  14003.64  ultra  Краснодар   \n",
       "3     1000    8.0       52.0    408.0      81.0  14055.93  ultra  Краснодар   \n",
       "4     1000    9.0       58.0    466.0      57.0  14568.91  ultra  Краснодар   \n",
       "\n",
       "   messages_included  mb_per_month_included  minutes_included  \\\n",
       "0               1000                  30720              3000   \n",
       "1               1000                  30720              3000   \n",
       "2               1000                  30720              3000   \n",
       "3               1000                  30720              3000   \n",
       "4               1000                  30720              3000   \n",
       "\n",
       "   rub_monthly_fee  rub_per_gb  rub_per_message  rub_per_minute  \n",
       "0             1950         150                1               1  \n",
       "1             1950         150                1               1  \n",
       "2             1950         150                1               1  \n",
       "3             1950         150                1               1  \n",
       "4             1950         150                1               1  "
      ]
     },
     "metadata": {},
     "output_type": "display_data"
    }
   ],
   "source": [
    "# Объединим данные с разных таблиц в одну общую для дальнейщей работы с ней\n",
    "data_traffic_sms_min=pd.merge(data_calls_grouped, data_messages_grouped,how='outer')\n",
    "data_traffic=pd.merge(data_traffic_sms_min, data_internet_grouped,how='outer')\n",
    "data_traffic_tariff=pd.merge(data_traffic, data_users[['user_id', 'tariff', 'city']], how='outer')\n",
    "data_tariffs.rename(columns={'tariff_name':'tariff'}, inplace=True)\n",
    "data_full=pd.merge(data_traffic_tariff, data_tariffs, how='outer')\n",
    "\n",
    "display(data_full.head())"
   ]
  },
  {
   "cell_type": "code",
   "execution_count": 9,
   "metadata": {},
   "outputs": [],
   "source": [
    "#Некоторые пользователи пользуются не всеми доступными опциями, поэтому чтобы не было пропущенных значений заполним их нолями.\n",
    "data_full['min_sum']=data_full['min_sum'].fillna(0)\n",
    "data_full['messages']=data_full['messages'].fillna(0)\n",
    "data_full['mb_used']=data_full['mb_used'].fillna(0)"
   ]
  },
  {
   "cell_type": "code",
   "execution_count": 10,
   "metadata": {},
   "outputs": [
    {
     "data": {
      "text/html": [
       "<div>\n",
       "<style scoped>\n",
       "    .dataframe tbody tr th:only-of-type {\n",
       "        vertical-align: middle;\n",
       "    }\n",
       "\n",
       "    .dataframe tbody tr th {\n",
       "        vertical-align: top;\n",
       "    }\n",
       "\n",
       "    .dataframe thead th {\n",
       "        text-align: right;\n",
       "    }\n",
       "</style>\n",
       "<table border=\"1\" class=\"dataframe\">\n",
       "  <thead>\n",
       "    <tr style=\"text-align: right;\">\n",
       "      <th></th>\n",
       "      <th>user_id</th>\n",
       "      <th>month</th>\n",
       "      <th>min_count</th>\n",
       "      <th>min_sum</th>\n",
       "      <th>messages</th>\n",
       "      <th>mb_used</th>\n",
       "      <th>tariff</th>\n",
       "      <th>city</th>\n",
       "      <th>messages_included</th>\n",
       "      <th>mb_per_month_included</th>\n",
       "      <th>minutes_included</th>\n",
       "      <th>rub_monthly_fee</th>\n",
       "      <th>rub_per_gb</th>\n",
       "      <th>rub_per_message</th>\n",
       "      <th>rub_per_minute</th>\n",
       "      <th>benefit</th>\n",
       "    </tr>\n",
       "  </thead>\n",
       "  <tbody>\n",
       "    <tr>\n",
       "      <td>0</td>\n",
       "      <td>1000</td>\n",
       "      <td>5.0</td>\n",
       "      <td>22.0</td>\n",
       "      <td>159.0</td>\n",
       "      <td>22.0</td>\n",
       "      <td>2253.49</td>\n",
       "      <td>ultra</td>\n",
       "      <td>Краснодар</td>\n",
       "      <td>1000</td>\n",
       "      <td>30720</td>\n",
       "      <td>3000</td>\n",
       "      <td>1950</td>\n",
       "      <td>150</td>\n",
       "      <td>1</td>\n",
       "      <td>1</td>\n",
       "      <td>1950.0</td>\n",
       "    </tr>\n",
       "    <tr>\n",
       "      <td>1</td>\n",
       "      <td>1000</td>\n",
       "      <td>6.0</td>\n",
       "      <td>43.0</td>\n",
       "      <td>172.0</td>\n",
       "      <td>60.0</td>\n",
       "      <td>23233.77</td>\n",
       "      <td>ultra</td>\n",
       "      <td>Краснодар</td>\n",
       "      <td>1000</td>\n",
       "      <td>30720</td>\n",
       "      <td>3000</td>\n",
       "      <td>1950</td>\n",
       "      <td>150</td>\n",
       "      <td>1</td>\n",
       "      <td>1</td>\n",
       "      <td>1950.0</td>\n",
       "    </tr>\n",
       "    <tr>\n",
       "      <td>2</td>\n",
       "      <td>1000</td>\n",
       "      <td>7.0</td>\n",
       "      <td>47.0</td>\n",
       "      <td>340.0</td>\n",
       "      <td>75.0</td>\n",
       "      <td>14003.64</td>\n",
       "      <td>ultra</td>\n",
       "      <td>Краснодар</td>\n",
       "      <td>1000</td>\n",
       "      <td>30720</td>\n",
       "      <td>3000</td>\n",
       "      <td>1950</td>\n",
       "      <td>150</td>\n",
       "      <td>1</td>\n",
       "      <td>1</td>\n",
       "      <td>1950.0</td>\n",
       "    </tr>\n",
       "    <tr>\n",
       "      <td>3</td>\n",
       "      <td>1000</td>\n",
       "      <td>8.0</td>\n",
       "      <td>52.0</td>\n",
       "      <td>408.0</td>\n",
       "      <td>81.0</td>\n",
       "      <td>14055.93</td>\n",
       "      <td>ultra</td>\n",
       "      <td>Краснодар</td>\n",
       "      <td>1000</td>\n",
       "      <td>30720</td>\n",
       "      <td>3000</td>\n",
       "      <td>1950</td>\n",
       "      <td>150</td>\n",
       "      <td>1</td>\n",
       "      <td>1</td>\n",
       "      <td>1950.0</td>\n",
       "    </tr>\n",
       "    <tr>\n",
       "      <td>4</td>\n",
       "      <td>1000</td>\n",
       "      <td>9.0</td>\n",
       "      <td>58.0</td>\n",
       "      <td>466.0</td>\n",
       "      <td>57.0</td>\n",
       "      <td>14568.91</td>\n",
       "      <td>ultra</td>\n",
       "      <td>Краснодар</td>\n",
       "      <td>1000</td>\n",
       "      <td>30720</td>\n",
       "      <td>3000</td>\n",
       "      <td>1950</td>\n",
       "      <td>150</td>\n",
       "      <td>1</td>\n",
       "      <td>1</td>\n",
       "      <td>1950.0</td>\n",
       "    </tr>\n",
       "  </tbody>\n",
       "</table>\n",
       "</div>"
      ],
      "text/plain": [
       "   user_id  month  min_count  min_sum  messages   mb_used tariff       city  \\\n",
       "0     1000    5.0       22.0    159.0      22.0   2253.49  ultra  Краснодар   \n",
       "1     1000    6.0       43.0    172.0      60.0  23233.77  ultra  Краснодар   \n",
       "2     1000    7.0       47.0    340.0      75.0  14003.64  ultra  Краснодар   \n",
       "3     1000    8.0       52.0    408.0      81.0  14055.93  ultra  Краснодар   \n",
       "4     1000    9.0       58.0    466.0      57.0  14568.91  ultra  Краснодар   \n",
       "\n",
       "   messages_included  mb_per_month_included  minutes_included  \\\n",
       "0               1000                  30720              3000   \n",
       "1               1000                  30720              3000   \n",
       "2               1000                  30720              3000   \n",
       "3               1000                  30720              3000   \n",
       "4               1000                  30720              3000   \n",
       "\n",
       "   rub_monthly_fee  rub_per_gb  rub_per_message  rub_per_minute  benefit  \n",
       "0             1950         150                1               1   1950.0  \n",
       "1             1950         150                1               1   1950.0  \n",
       "2             1950         150                1               1   1950.0  \n",
       "3             1950         150                1               1   1950.0  \n",
       "4             1950         150                1               1   1950.0  "
      ]
     },
     "metadata": {},
     "output_type": "display_data"
    }
   ],
   "source": [
    "#Для подсчета выручки напишем функцию:\n",
    "def benefit (row):\n",
    "    #объявим переменные\n",
    "    total_gb = 0\n",
    "    total_messages = 0 \n",
    "    total_minutes = 0\n",
    "    min_sum = row['min_sum']\n",
    "    messages = row['messages']\n",
    "    mb_used = row ['mb_used']\n",
    "    messages_included = row ['messages_included']\n",
    "    minutes_included = row ['minutes_included']\n",
    "    mb_per_month_included = row ['mb_per_month_included']\n",
    "    rub_monthly_fee = row ['rub_monthly_fee']\n",
    "    rub_per_gb = row ['rub_per_gb']\n",
    "    rub_per_message = row ['rub_per_message']\n",
    "    rub_per_minute = row ['rub_per_minute']\n",
    "    \n",
    "    if min_sum>minutes_included:\n",
    "        total_minutes=(min_sum-minutes_included)*rub_per_minute\n",
    "    if messages>messages_included:\n",
    "        total_messages=(messages-messages_included)*rub_per_message\n",
    "    if mb_used>mb_per_month_included:\n",
    "        total_gb=np.ceil((mb_used-mb_per_month_included)/1024)*rub_per_gb #округлила Мб до Гб\n",
    "    return total_minutes+total_messages+total_gb+rub_monthly_fee\n",
    "\n",
    "data_full['benefit']=data_full.apply(benefit, axis=1)\n",
    "display(data_full.head())"
   ]
  },
  {
   "cell_type": "markdown",
   "metadata": {},
   "source": [
    "<h2> Анализ данных </h2>"
   ]
  },
  {
   "cell_type": "code",
   "execution_count": 33,
   "metadata": {},
   "outputs": [
    {
     "name": "stdout",
     "output_type": "stream",
     "text": [
      "Тариф \"Ультра\"\n",
      "Дисперсия для звонков = 100950.00623331097\n",
      "Дисперсия для сообщений = 2283.0995570851965\n",
      "Дисперсия для интернета = 101928648.60329504\n",
      "Дисперсия для выручки = 141244.31956107615\n"
     ]
    },
    {
     "data": {
      "text/html": [
       "<div>\n",
       "<style scoped>\n",
       "    .dataframe tbody tr th:only-of-type {\n",
       "        vertical-align: middle;\n",
       "    }\n",
       "\n",
       "    .dataframe tbody tr th {\n",
       "        vertical-align: top;\n",
       "    }\n",
       "\n",
       "    .dataframe thead th {\n",
       "        text-align: right;\n",
       "    }\n",
       "</style>\n",
       "<table border=\"1\" class=\"dataframe\">\n",
       "  <thead>\n",
       "    <tr style=\"text-align: right;\">\n",
       "      <th></th>\n",
       "      <th>min_sum</th>\n",
       "      <th>messages</th>\n",
       "      <th>mb_used</th>\n",
       "      <th>benefit</th>\n",
       "    </tr>\n",
       "  </thead>\n",
       "  <tbody>\n",
       "    <tr>\n",
       "      <td>count</td>\n",
       "      <td>986.000000</td>\n",
       "      <td>986.000000</td>\n",
       "      <td>986.000000</td>\n",
       "      <td>986.000000</td>\n",
       "    </tr>\n",
       "    <tr>\n",
       "      <td>mean</td>\n",
       "      <td>526.089249</td>\n",
       "      <td>49.313387</td>\n",
       "      <td>19449.059970</td>\n",
       "      <td>2070.030426</td>\n",
       "    </tr>\n",
       "    <tr>\n",
       "      <td>std</td>\n",
       "      <td>317.887549</td>\n",
       "      <td>47.806040</td>\n",
       "      <td>10101.095459</td>\n",
       "      <td>376.015578</td>\n",
       "    </tr>\n",
       "    <tr>\n",
       "      <td>min</td>\n",
       "      <td>0.000000</td>\n",
       "      <td>0.000000</td>\n",
       "      <td>0.000000</td>\n",
       "      <td>1950.000000</td>\n",
       "    </tr>\n",
       "    <tr>\n",
       "      <td>25%</td>\n",
       "      <td>282.500000</td>\n",
       "      <td>6.000000</td>\n",
       "      <td>11748.585000</td>\n",
       "      <td>1950.000000</td>\n",
       "    </tr>\n",
       "    <tr>\n",
       "      <td>50%</td>\n",
       "      <td>518.000000</td>\n",
       "      <td>38.000000</td>\n",
       "      <td>19304.020000</td>\n",
       "      <td>1950.000000</td>\n",
       "    </tr>\n",
       "    <tr>\n",
       "      <td>75%</td>\n",
       "      <td>751.750000</td>\n",
       "      <td>78.750000</td>\n",
       "      <td>26835.885000</td>\n",
       "      <td>1950.000000</td>\n",
       "    </tr>\n",
       "    <tr>\n",
       "      <td>max</td>\n",
       "      <td>1673.000000</td>\n",
       "      <td>224.000000</td>\n",
       "      <td>49745.690000</td>\n",
       "      <td>4800.000000</td>\n",
       "    </tr>\n",
       "  </tbody>\n",
       "</table>\n",
       "</div>"
      ],
      "text/plain": [
       "           min_sum    messages       mb_used      benefit\n",
       "count   986.000000  986.000000    986.000000   986.000000\n",
       "mean    526.089249   49.313387  19449.059970  2070.030426\n",
       "std     317.887549   47.806040  10101.095459   376.015578\n",
       "min       0.000000    0.000000      0.000000  1950.000000\n",
       "25%     282.500000    6.000000  11748.585000  1950.000000\n",
       "50%     518.000000   38.000000  19304.020000  1950.000000\n",
       "75%     751.750000   78.750000  26835.885000  1950.000000\n",
       "max    1673.000000  224.000000  49745.690000  4800.000000"
      ]
     },
     "execution_count": 33,
     "metadata": {},
     "output_type": "execute_result"
    }
   ],
   "source": [
    "print('Тариф \"Ультра\"')\n",
    "data_ultra=data_full[['min_sum','messages','mb_used','tariff', 'benefit']].query('tariff==\"ultra\"')\n",
    "\n",
    "#Определим дисперсию для траффика по тарифу \"Ультра\":\n",
    "variance_minutes=np.var(data_ultra['min_sum'])\n",
    "print('Дисперсия для звонков =',variance_minutes)\n",
    "\n",
    "variance_messages=np.var(data_ultra['messages'])\n",
    "print('Дисперсия для сообщений =',variance_messages)\n",
    "\n",
    "variance_mb=np.var(data_ultra['mb_used'])\n",
    "print('Дисперсия для интернета =',variance_mb)\n",
    "\n",
    "variance_benefit=np.var(data_ultra['benefit'])\n",
    "print('Дисперсия для выручки =',variance_benefit)\n",
    "\n",
    "data_ultra.describe()"
   ]
  },
  {
   "cell_type": "code",
   "execution_count": 20,
   "metadata": {},
   "outputs": [
    {
     "name": "stdout",
     "output_type": "stream",
     "text": [
      "Тариф \"smart\"\n",
      "Дисперсия для звонков = 36265.12415310985\n",
      "Дисперсия для сообщений = 796.5978766916688\n",
      "Дисперсия для интернета = 34549343.55148492\n",
      "Дисперсия для выручки = 669430.4361979931\n"
     ]
    },
    {
     "data": {
      "text/html": [
       "<div>\n",
       "<style scoped>\n",
       "    .dataframe tbody tr th:only-of-type {\n",
       "        vertical-align: middle;\n",
       "    }\n",
       "\n",
       "    .dataframe tbody tr th {\n",
       "        vertical-align: top;\n",
       "    }\n",
       "\n",
       "    .dataframe thead th {\n",
       "        text-align: right;\n",
       "    }\n",
       "</style>\n",
       "<table border=\"1\" class=\"dataframe\">\n",
       "  <thead>\n",
       "    <tr style=\"text-align: right;\">\n",
       "      <th></th>\n",
       "      <th>min_sum</th>\n",
       "      <th>messages</th>\n",
       "      <th>mb_used</th>\n",
       "      <th>benefit</th>\n",
       "    </tr>\n",
       "  </thead>\n",
       "  <tbody>\n",
       "    <tr>\n",
       "      <td>count</td>\n",
       "      <td>2230.000000</td>\n",
       "      <td>2230.000000</td>\n",
       "      <td>2230.000000</td>\n",
       "      <td>2230.000000</td>\n",
       "    </tr>\n",
       "    <tr>\n",
       "      <td>mean</td>\n",
       "      <td>417.747534</td>\n",
       "      <td>33.369058</td>\n",
       "      <td>16201.118655</td>\n",
       "      <td>1289.641704</td>\n",
       "    </tr>\n",
       "    <tr>\n",
       "      <td>std</td>\n",
       "      <td>190.476754</td>\n",
       "      <td>28.230396</td>\n",
       "      <td>5879.187315</td>\n",
       "      <td>818.370799</td>\n",
       "    </tr>\n",
       "    <tr>\n",
       "      <td>min</td>\n",
       "      <td>0.000000</td>\n",
       "      <td>0.000000</td>\n",
       "      <td>0.000000</td>\n",
       "      <td>550.000000</td>\n",
       "    </tr>\n",
       "    <tr>\n",
       "      <td>25%</td>\n",
       "      <td>282.000000</td>\n",
       "      <td>10.000000</td>\n",
       "      <td>12630.035000</td>\n",
       "      <td>550.000000</td>\n",
       "    </tr>\n",
       "    <tr>\n",
       "      <td>50%</td>\n",
       "      <td>421.500000</td>\n",
       "      <td>28.000000</td>\n",
       "      <td>16505.475000</td>\n",
       "      <td>1021.000000</td>\n",
       "    </tr>\n",
       "    <tr>\n",
       "      <td>75%</td>\n",
       "      <td>545.000000</td>\n",
       "      <td>51.000000</td>\n",
       "      <td>20042.107500</td>\n",
       "      <td>1750.000000</td>\n",
       "    </tr>\n",
       "    <tr>\n",
       "      <td>max</td>\n",
       "      <td>1435.000000</td>\n",
       "      <td>143.000000</td>\n",
       "      <td>38552.450000</td>\n",
       "      <td>6770.000000</td>\n",
       "    </tr>\n",
       "  </tbody>\n",
       "</table>\n",
       "</div>"
      ],
      "text/plain": [
       "           min_sum     messages       mb_used      benefit\n",
       "count  2230.000000  2230.000000   2230.000000  2230.000000\n",
       "mean    417.747534    33.369058  16201.118655  1289.641704\n",
       "std     190.476754    28.230396   5879.187315   818.370799\n",
       "min       0.000000     0.000000      0.000000   550.000000\n",
       "25%     282.000000    10.000000  12630.035000   550.000000\n",
       "50%     421.500000    28.000000  16505.475000  1021.000000\n",
       "75%     545.000000    51.000000  20042.107500  1750.000000\n",
       "max    1435.000000   143.000000  38552.450000  6770.000000"
      ]
     },
     "execution_count": 20,
     "metadata": {},
     "output_type": "execute_result"
    }
   ],
   "source": [
    "print('Тариф \"Смарт\"')\n",
    "data_smart=data_full[['min_sum','messages','mb_used','tariff', 'benefit']].query('tariff==\"smart\"')\n",
    "\n",
    "#Определим дисперсию для траффика по тарифу \"Смарт\":\n",
    "variance_minutes=np.var(data_smart['min_sum'])\n",
    "print('Дисперсия для звонков =',variance_minutes)\n",
    "\n",
    "variance_messages=np.var(data_smart['messages'])\n",
    "print('Дисперсия для сообщений =',variance_messages)\n",
    "\n",
    "variance_mb=np.var(data_smart['mb_used'])\n",
    "print('Дисперсия для интернета =',variance_mb)\n",
    "\n",
    "variance_benefit=np.var(data_smart['benefit'])\n",
    "print('Дисперсия для выручки =',variance_benefit)\n",
    "\n",
    "data_smart.describe()"
   ]
  },
  {
   "cell_type": "code",
   "execution_count": 13,
   "metadata": {},
   "outputs": [
    {
     "data": {
      "text/plain": [
       "<matplotlib.axes._subplots.AxesSubplot at 0x7f0466c60f90>"
      ]
     },
     "execution_count": 13,
     "metadata": {},
     "output_type": "execute_result"
    },
    {
     "data": {
      "image/png": "[encoded data removed]",
      "text/plain": [
       "<Figure size 432x288 with 1 Axes>"
      ]
     },
     "metadata": {
      "needs_background": "light"
     },
     "output_type": "display_data"
    },
    {
     "data": {
      "image/png": "[encoded data removed]",
      "text/plain": [
       "<Figure size 432x288 with 1 Axes>"
      ]
     },
     "metadata": {
      "needs_background": "light"
     },
     "output_type": "display_data"
    },
    {
     "data": {
      "image/png": "[encoded data removed]",
      "text/plain": [
       "<Figure size 432x288 with 1 Axes>"
      ]
     },
     "metadata": {
      "needs_background": "light"
     },
     "output_type": "display_data"
    },
    {
     "data": {
      "image/png": "[encoded data removed]",
      "text/plain": [
       "<Figure size 432x288 with 1 Axes>"
      ]
     },
     "metadata": {
      "needs_background": "light"
     },
     "output_type": "display_data"
    }
   ],
   "source": [
    "ax=data_full.query('tariff==\"ultra\"').plot(kind='hist',\n",
    "    y='min_sum', bins=50, linewidth=5,alpha=0.7,label='ultra')\n",
    "\n",
    "data_full.query('tariff==\"smart\"').plot(kind='hist',\n",
    "    y='min_sum', bins=50, title='Звонки',linewidth=5, alpha=0.7,label='smart',ax=ax,grid=True,legend=True)\n",
    "\n",
    "\n",
    "ax=data_full.query('tariff==\"ultra\"').plot(kind='hist',\n",
    "    y='messages', bins=30, linewidth=5,alpha=0.7,label='ultra')\n",
    "\n",
    "data_full.query('tariff==\"smart\"').plot(kind='hist',\n",
    "    y='messages', bins=30, title='смс',linewidth=5, alpha=0.7,label='smart',ax=ax,grid=True,legend=True)\n",
    "\n",
    "ax=data_full.query('tariff==\"ultra\"').plot(kind='hist',\n",
    "    y='mb_used', bins=30, linewidth=5,alpha=0.7,label='ultra')\n",
    "\n",
    "data_full.query('tariff==\"smart\"').plot(kind='hist',\n",
    "    y='mb_used', bins=30, title='интернет',linewidth=5, alpha=0.7,label='smart',ax=ax,grid=True,legend=True)\n",
    "\n",
    "ax=data_full.query('tariff==\"ultra\"').plot(kind='hist',\n",
    "    y='benefit', bins=30, linewidth=5,alpha=0.7,label='ultra')\n",
    "\n",
    "data_full.query('tariff==\"smart\"').plot(kind='hist',\n",
    "    y='benefit', bins=30, title='выручка',linewidth=5, alpha=0.7,label='smart',ax=ax,grid=True,legend=True)"
   ]
  },
  {
   "cell_type": "markdown",
   "metadata": {},
   "source": [
    "Пользователи тарифа «Ультра» в среднем больше общаются по телефону, больше отправляют сообщений и больше тратят интернет-траффика, при этом они рреже выходят за пределы траффика и, соответственно, меньше приносят выручки сверх стоимости тарифного плана, зато пользователи тарифа «Смарт» часто покупают дополнительные опции и в среднем покупают больше дополнительного траффика. "
   ]
  },
  {
   "cell_type": "markdown",
   "metadata": {},
   "source": [
    "<h2>Проверка гипотез </h2> "
   ]
  },
  {
   "cell_type": "markdown",
   "metadata": {},
   "source": [
    "### Первая гипотеза"
   ]
  },
  {
   "cell_type": "markdown",
   "metadata": {},
   "source": [
    "Нулевая гипотеза: средняя выручка пользователей тарифов \"Ультра\" и \"Смарт\" равны. \n",
    "Альтернативная гипотеза: средняя выручка на разных тарифах различается."
   ]
  },
  {
   "cell_type": "code",
   "execution_count": 29,
   "metadata": {},
   "outputs": [
    {
     "name": "stdout",
     "output_type": "stream",
     "text": [
      "p-значение: 8.081909555489933e-161\n",
      "Отвергаем нулевую гипотезу\n",
      "2070.030425963489\n",
      "1289.6417040358745\n"
     ]
    }
   ],
   "source": [
    "#Подготовим выборки:\n",
    "ultra_benefit=data_full[data_full['tariff']=='ultra']['benefit']\n",
    "smart_benefit=data_full[data_full['tariff']=='smart']['benefit']\n",
    "alpha = 0.05 # зададим критический уровень статистической значимости\n",
    "results = st.ttest_ind(ultra_benefit, smart_benefit) \n",
    "\n",
    "print('p-значение:', results.pvalue)\n",
    "\n",
    "if results.pvalue < alpha:\n",
    "    print(\"Отвергаем нулевую гипотезу\")\n",
    "else:\n",
    "    print(\"Не получилось отвергнуть нулевую гипотезу\")  "
   ]
  },
  {
   "cell_type": "markdown",
   "metadata": {},
   "source": [
    "Средняя выручка на тарифах различается, поэтому отвергаем нулевую гипотезу."
   ]
  },
  {
   "cell_type": "markdown",
   "metadata": {},
   "source": [
    "### Вторая гипотеза"
   ]
  },
  {
   "cell_type": "markdown",
   "metadata": {},
   "source": [
    "Нулевая гипотеза: средняя выручка пользователей из Москвы не отличается от выручки пользователей из других регионов.\n",
    "Альтернативная гипотеза: средняя выручка пользователей ииз Москвы отличается от выручки пользователей из других регионов"
   ]
  },
  {
   "cell_type": "code",
   "execution_count": 32,
   "metadata": {},
   "outputs": [
    {
     "name": "stdout",
     "output_type": "stream",
     "text": [
      "p-значение: 0.5400751614511182\n",
      "Не получилось отвергнуть нулевую гипотезу\n",
      "1546.7135842880523\n",
      "1524.7251439539348\n"
     ]
    }
   ],
   "source": [
    "moscow_city=data_full[data_full['city']=='Москва']['benefit']\n",
    "other_city=data_full[data_full['city']!='Москва']['benefit']\n",
    "alpha = 0.05 # зададим критический уровень статистической значимости\n",
    "results = st.ttest_ind(moscow_city, other_city) \n",
    "\n",
    "print('p-значение:', results.pvalue)\n",
    "\n",
    "if results.pvalue < alpha:\n",
    "    print(\"Отвергаем нулевую гипотезу\")\n",
    "else:\n",
    "    print(\"Не получилось отвергнуть нулевую гипотезу\")\n",
    "    "
   ]
  },
  {
   "cell_type": "markdown",
   "metadata": {},
   "source": [
    "Средняя выручка не сильно отличается в зависимости от места проживания абонента, поэтому отвергнуть нулевую гипотезу мы не можем."
   ]
  },
  {
   "cell_type": "markdown",
   "metadata": {},
   "source": [
    "<h2>Выводы</h2>\n",
    "\n",
    "По результатам работы с данным заданием могу сделать следующие выводы: данные довольно \"чистые\" подготовка потребовалась минимальная.\n",
    "Если ориентироваться только на средний чек, то для оператора выгоднее тариф \"Ультра\", если же смотреть по дополнительным покупкам траффика, то на тарифе \"Смарт\" чаще идут дополнительные покупки, что полезно для бизнеса. При этом выручка слабо зависит от места нахождения абонентов."
   ]
  }
 ],
 "metadata": {
  "ExecuteTimeLog": [
   {
    "duration": 956,
    "start_time": "2021-08-16T08:45:49.289Z"
   },
   {
    "duration": 214,
    "start_time": "2021-08-16T08:46:06.724Z"
   },
   {
    "duration": 228,
    "start_time": "2021-08-16T08:46:27.088Z"
   },
   {
    "duration": 721,
    "start_time": "2021-08-16T08:48:41.437Z"
   },
   {
    "duration": 511,
    "start_time": "2021-08-16T08:48:47.557Z"
   },
   {
    "duration": 203,
    "start_time": "2021-08-16T08:49:32.151Z"
   },
   {
    "duration": 232,
    "start_time": "2021-08-16T08:51:14.649Z"
   },
   {
    "duration": 195,
    "start_time": "2021-08-16T08:51:54.291Z"
   },
   {
    "duration": 136,
    "start_time": "2021-08-16T08:55:14.379Z"
   },
   {
    "duration": 26,
    "start_time": "2021-08-16T08:57:36.766Z"
   },
   {
    "duration": 27,
    "start_time": "2021-08-16T08:57:57.567Z"
   },
   {
    "duration": 44,
    "start_time": "2021-08-16T08:59:17.720Z"
   },
   {
    "duration": 45,
    "start_time": "2021-08-16T09:01:07.660Z"
   },
   {
    "duration": 1756,
    "start_time": "2021-08-16T14:28:02.249Z"
   },
   {
    "duration": 1016,
    "start_time": "2021-08-16T14:28:24.025Z"
   },
   {
    "duration": 213,
    "start_time": "2021-08-16T14:28:25.044Z"
   },
   {
    "duration": 139,
    "start_time": "2021-08-16T14:28:25.263Z"
   },
   {
    "duration": 30,
    "start_time": "2021-08-16T14:28:25.405Z"
   },
   {
    "duration": 58,
    "start_time": "2021-08-16T14:28:25.438Z"
   },
   {
    "duration": 375,
    "start_time": "2021-08-16T14:30:14.261Z"
   },
   {
    "duration": 7080,
    "start_time": "2021-08-16T14:30:29.590Z"
   },
   {
    "duration": 46,
    "start_time": "2021-08-16T14:31:51.867Z"
   },
   {
    "duration": 24,
    "start_time": "2021-08-16T14:32:14.496Z"
   },
   {
    "duration": 275,
    "start_time": "2021-08-16T14:32:26.489Z"
   },
   {
    "duration": 27,
    "start_time": "2021-08-16T14:32:33.097Z"
   },
   {
    "duration": 77,
    "start_time": "2021-08-16T14:33:44.762Z"
   },
   {
    "duration": 67,
    "start_time": "2021-08-16T14:34:02.028Z"
   },
   {
    "duration": 53,
    "start_time": "2021-08-16T14:34:36.144Z"
   },
   {
    "duration": 43,
    "start_time": "2021-08-16T14:34:45.798Z"
   },
   {
    "duration": 77,
    "start_time": "2021-08-16T14:36:14.318Z"
   },
   {
    "duration": 69,
    "start_time": "2021-08-16T14:37:31.871Z"
   },
   {
    "duration": 256,
    "start_time": "2021-08-16T14:39:47.341Z"
   },
   {
    "duration": 228,
    "start_time": "2021-08-16T14:40:22.976Z"
   },
   {
    "duration": 151,
    "start_time": "2021-08-16T14:41:05.298Z"
   },
   {
    "duration": 991,
    "start_time": "2021-08-16T17:00:15.618Z"
   },
   {
    "duration": 213,
    "start_time": "2021-08-16T17:00:16.612Z"
   },
   {
    "duration": 150,
    "start_time": "2021-08-16T17:00:16.828Z"
   },
   {
    "duration": 30,
    "start_time": "2021-08-16T17:00:16.980Z"
   },
   {
    "duration": 69,
    "start_time": "2021-08-16T17:00:17.012Z"
   },
   {
    "duration": 178,
    "start_time": "2021-08-16T17:00:17.084Z"
   },
   {
    "duration": 94,
    "start_time": "2021-08-16T17:00:17.264Z"
   },
   {
    "duration": 351,
    "start_time": "2021-08-16T17:02:34.002Z"
   },
   {
    "duration": 244,
    "start_time": "2021-08-16T17:03:28.410Z"
   },
   {
    "duration": 323,
    "start_time": "2021-08-16T17:06:33.675Z"
   },
   {
    "duration": 33,
    "start_time": "2021-08-16T17:09:13.227Z"
   },
   {
    "duration": 46,
    "start_time": "2021-08-16T17:09:30.755Z"
   },
   {
    "duration": 298,
    "start_time": "2021-08-16T17:10:28.029Z"
   },
   {
    "duration": 64,
    "start_time": "2021-08-16T17:46:16.487Z"
   },
   {
    "duration": 51,
    "start_time": "2021-08-16T17:46:24.892Z"
   },
   {
    "duration": 67,
    "start_time": "2021-08-16T17:46:52.620Z"
   },
   {
    "duration": 65,
    "start_time": "2021-08-16T17:50:36.742Z"
   },
   {
    "duration": 85,
    "start_time": "2021-08-16T17:50:56.198Z"
   },
   {
    "duration": 77,
    "start_time": "2021-08-16T17:51:08.606Z"
   },
   {
    "duration": 334,
    "start_time": "2021-08-16T17:55:56.095Z"
   },
   {
    "duration": 85,
    "start_time": "2021-08-16T17:56:20.639Z"
   },
   {
    "duration": 86,
    "start_time": "2021-08-16T17:56:53.127Z"
   },
   {
    "duration": 85,
    "start_time": "2021-08-16T17:57:11.095Z"
   },
   {
    "duration": 86,
    "start_time": "2021-08-16T17:57:28.447Z"
   },
   {
    "duration": 104,
    "start_time": "2021-08-16T17:58:04.319Z"
   },
   {
    "duration": 92,
    "start_time": "2021-08-16T17:59:08.824Z"
   },
   {
    "duration": 338,
    "start_time": "2021-08-16T18:00:16.449Z"
   },
   {
    "duration": 93,
    "start_time": "2021-08-16T18:00:33.016Z"
   },
   {
    "duration": 94,
    "start_time": "2021-08-16T18:00:41.560Z"
   },
   {
    "duration": 154,
    "start_time": "2021-08-16T18:01:31.177Z"
   },
   {
    "duration": 109,
    "start_time": "2021-08-16T18:01:42.897Z"
   },
   {
    "duration": 370,
    "start_time": "2021-08-16T18:02:28.760Z"
   },
   {
    "duration": 317,
    "start_time": "2021-08-16T18:02:55.089Z"
   },
   {
    "duration": 112,
    "start_time": "2021-08-16T18:03:29.929Z"
   },
   {
    "duration": 89,
    "start_time": "2021-08-16T18:03:37.704Z"
   },
   {
    "duration": 360,
    "start_time": "2021-08-16T18:03:59.856Z"
   },
   {
    "duration": 144,
    "start_time": "2021-08-16T18:04:22.331Z"
   },
   {
    "duration": 102,
    "start_time": "2021-08-16T18:05:23.097Z"
   },
   {
    "duration": 100,
    "start_time": "2021-08-16T18:05:34.193Z"
   },
   {
    "duration": 8478,
    "start_time": "2021-08-16T18:09:21.338Z"
   },
   {
    "duration": 150,
    "start_time": "2021-08-16T18:09:51.379Z"
   },
   {
    "duration": 150,
    "start_time": "2021-08-16T18:10:20.419Z"
   },
   {
    "duration": 1049,
    "start_time": "2021-08-16T18:53:15.320Z"
   },
   {
    "duration": 206,
    "start_time": "2021-08-16T18:53:16.372Z"
   },
   {
    "duration": 152,
    "start_time": "2021-08-16T18:53:16.585Z"
   },
   {
    "duration": 37,
    "start_time": "2021-08-16T18:53:16.739Z"
   },
   {
    "duration": 42,
    "start_time": "2021-08-16T18:53:16.778Z"
   },
   {
    "duration": 184,
    "start_time": "2021-08-16T18:53:16.822Z"
   },
   {
    "duration": 185,
    "start_time": "2021-08-16T18:53:17.010Z"
   },
   {
    "duration": 309,
    "start_time": "2021-08-16T18:56:25.074Z"
   },
   {
    "duration": 1319,
    "start_time": "2021-08-16T18:56:38.726Z"
   },
   {
    "duration": 205,
    "start_time": "2021-08-16T18:56:40.047Z"
   },
   {
    "duration": 133,
    "start_time": "2021-08-16T18:56:40.262Z"
   },
   {
    "duration": 29,
    "start_time": "2021-08-16T18:56:40.398Z"
   },
   {
    "duration": 50,
    "start_time": "2021-08-16T18:56:40.430Z"
   },
   {
    "duration": 179,
    "start_time": "2021-08-16T18:56:40.483Z"
   },
   {
    "duration": 168,
    "start_time": "2021-08-16T18:56:40.664Z"
   },
   {
    "duration": 31,
    "start_time": "2021-08-16T18:56:40.835Z"
   },
   {
    "duration": 47,
    "start_time": "2021-08-16T19:01:41.573Z"
   },
   {
    "duration": 443,
    "start_time": "2021-08-16T19:02:33.126Z"
   },
   {
    "duration": 1104,
    "start_time": "2021-08-16T19:04:47.012Z"
   },
   {
    "duration": 89,
    "start_time": "2021-08-16T19:06:52.319Z"
   },
   {
    "duration": 384,
    "start_time": "2021-08-16T19:07:21.774Z"
   },
   {
    "duration": -49,
    "start_time": "2021-08-16T19:07:51.154Z"
   },
   {
    "duration": 1016,
    "start_time": "2021-08-16T19:08:11.335Z"
   },
   {
    "duration": 230,
    "start_time": "2021-08-16T19:08:12.354Z"
   },
   {
    "duration": 145,
    "start_time": "2021-08-16T19:08:12.587Z"
   },
   {
    "duration": 36,
    "start_time": "2021-08-16T19:08:12.735Z"
   },
   {
    "duration": 46,
    "start_time": "2021-08-16T19:08:12.774Z"
   },
   {
    "duration": 167,
    "start_time": "2021-08-16T19:08:12.823Z"
   },
   {
    "duration": 7471,
    "start_time": "2021-08-16T19:08:12.992Z"
   },
   {
    "duration": -65,
    "start_time": "2021-08-16T19:08:20.531Z"
   },
   {
    "duration": 341,
    "start_time": "2021-08-16T19:09:08.725Z"
   },
   {
    "duration": 151,
    "start_time": "2021-08-16T19:09:24.946Z"
   },
   {
    "duration": 47,
    "start_time": "2021-08-16T19:09:36.046Z"
   },
   {
    "duration": 58,
    "start_time": "2021-08-16T19:10:17.346Z"
   },
   {
    "duration": 88,
    "start_time": "2021-08-16T19:11:51.849Z"
   },
   {
    "duration": 274,
    "start_time": "2021-08-16T19:12:00.804Z"
   },
   {
    "duration": 31,
    "start_time": "2021-08-16T19:16:49.227Z"
   },
   {
    "duration": 83,
    "start_time": "2021-08-16T19:17:35.990Z"
   },
   {
    "duration": 59,
    "start_time": "2021-08-16T19:18:09.016Z"
   },
   {
    "duration": 52,
    "start_time": "2021-08-16T19:18:43.469Z"
   },
   {
    "duration": 106,
    "start_time": "2021-08-16T19:19:23.844Z"
   },
   {
    "duration": 49,
    "start_time": "2021-08-16T19:19:31.437Z"
   },
   {
    "duration": 39,
    "start_time": "2021-08-16T19:20:11.614Z"
   },
   {
    "duration": 28,
    "start_time": "2021-08-16T19:20:24.663Z"
   },
   {
    "duration": 34,
    "start_time": "2021-08-16T19:20:44.910Z"
   },
   {
    "duration": 48,
    "start_time": "2021-08-16T19:31:16.770Z"
   },
   {
    "duration": 45,
    "start_time": "2021-08-16T19:31:28.378Z"
   },
   {
    "duration": 258,
    "start_time": "2021-08-16T19:32:34.375Z"
   },
   {
    "duration": 72,
    "start_time": "2021-08-16T19:34:03.696Z"
   },
   {
    "duration": 289,
    "start_time": "2021-08-16T19:34:19.487Z"
   },
   {
    "duration": 331,
    "start_time": "2021-08-16T19:35:09.888Z"
   },
   {
    "duration": 39,
    "start_time": "2021-08-16T19:36:09.519Z"
   },
   {
    "duration": 411,
    "start_time": "2021-08-16T19:36:17.085Z"
   },
   {
    "duration": 256,
    "start_time": "2021-08-16T19:39:01.626Z"
   },
   {
    "duration": 360,
    "start_time": "2021-08-16T19:41:31.058Z"
   },
   {
    "duration": 60,
    "start_time": "2021-08-16T19:41:44.946Z"
   },
   {
    "duration": 81,
    "start_time": "2021-08-16T19:58:52.709Z"
   },
   {
    "duration": 296,
    "start_time": "2021-08-16T19:59:09.600Z"
   },
   {
    "duration": 331,
    "start_time": "2021-08-16T19:59:24.853Z"
   },
   {
    "duration": 12,
    "start_time": "2021-08-16T19:59:38.166Z"
   },
   {
    "duration": 37,
    "start_time": "2021-08-16T20:00:06.349Z"
   },
   {
    "duration": 34,
    "start_time": "2021-08-16T20:00:49.385Z"
   },
   {
    "duration": 46,
    "start_time": "2021-08-16T20:01:16.751Z"
   },
   {
    "duration": 52,
    "start_time": "2021-08-16T20:01:39.307Z"
   },
   {
    "duration": 58,
    "start_time": "2021-08-16T20:02:49.543Z"
   },
   {
    "duration": 55,
    "start_time": "2021-08-16T20:04:14.352Z"
   },
   {
    "duration": 54,
    "start_time": "2021-08-16T20:04:49.065Z"
   },
   {
    "duration": 63,
    "start_time": "2021-08-16T20:08:36.385Z"
   },
   {
    "duration": 63,
    "start_time": "2021-08-16T20:09:08.930Z"
   },
   {
    "duration": 45,
    "start_time": "2021-08-16T20:09:59.154Z"
   },
   {
    "duration": 1037,
    "start_time": "2021-08-16T20:10:56.446Z"
   },
   {
    "duration": 211,
    "start_time": "2021-08-16T20:10:57.486Z"
   },
   {
    "duration": 151,
    "start_time": "2021-08-16T20:10:57.702Z"
   },
   {
    "duration": 29,
    "start_time": "2021-08-16T20:10:57.862Z"
   },
   {
    "duration": 56,
    "start_time": "2021-08-16T20:10:57.893Z"
   },
   {
    "duration": 165,
    "start_time": "2021-08-16T20:10:57.951Z"
   },
   {
    "duration": 182,
    "start_time": "2021-08-16T20:10:58.119Z"
   },
   {
    "duration": 76,
    "start_time": "2021-08-16T20:10:58.305Z"
   },
   {
    "duration": 54,
    "start_time": "2021-08-16T20:10:58.385Z"
   },
   {
    "duration": 968,
    "start_time": "2021-08-16T20:28:39.052Z"
   },
   {
    "duration": 214,
    "start_time": "2021-08-16T20:28:40.023Z"
   },
   {
    "duration": 145,
    "start_time": "2021-08-16T20:28:40.240Z"
   },
   {
    "duration": 30,
    "start_time": "2021-08-16T20:28:40.388Z"
   },
   {
    "duration": 54,
    "start_time": "2021-08-16T20:28:40.420Z"
   },
   {
    "duration": 165,
    "start_time": "2021-08-16T20:28:40.476Z"
   },
   {
    "duration": 180,
    "start_time": "2021-08-16T20:28:40.644Z"
   },
   {
    "duration": 99,
    "start_time": "2021-08-16T20:28:40.828Z"
   },
   {
    "duration": 77,
    "start_time": "2021-08-16T20:28:40.931Z"
   },
   {
    "duration": 105,
    "start_time": "2021-08-16T20:34:20.673Z"
   },
   {
    "duration": 37,
    "start_time": "2021-08-16T20:36:20.137Z"
   },
   {
    "duration": 31,
    "start_time": "2021-08-16T20:37:37.618Z"
   },
   {
    "duration": 401,
    "start_time": "2021-08-16T20:38:32.225Z"
   },
   {
    "duration": 33,
    "start_time": "2021-08-16T20:38:49.202Z"
   },
   {
    "duration": 32,
    "start_time": "2021-08-16T20:39:55.402Z"
   },
   {
    "duration": 49,
    "start_time": "2021-08-16T20:40:14.154Z"
   },
   {
    "duration": 32,
    "start_time": "2021-08-16T20:40:35.794Z"
   },
   {
    "duration": 32,
    "start_time": "2021-08-16T20:40:38.538Z"
   },
   {
    "duration": 339,
    "start_time": "2021-08-16T20:43:10.043Z"
   },
   {
    "duration": 396,
    "start_time": "2021-08-16T20:51:25.540Z"
   },
   {
    "duration": 484,
    "start_time": "2021-08-16T20:52:20.365Z"
   },
   {
    "duration": 758,
    "start_time": "2021-08-16T20:52:30.533Z"
   },
   {
    "duration": 656,
    "start_time": "2021-08-16T20:53:15.557Z"
   },
   {
    "duration": 904,
    "start_time": "2021-08-16T20:54:14.693Z"
   },
   {
    "duration": 686,
    "start_time": "2021-08-16T20:54:28.454Z"
   },
   {
    "duration": 1335,
    "start_time": "2021-08-16T20:55:11.334Z"
   },
   {
    "duration": 1317,
    "start_time": "2021-08-16T20:55:21.526Z"
   },
   {
    "duration": 2403,
    "start_time": "2021-08-16T20:56:04.159Z"
   },
   {
    "duration": 1006,
    "start_time": "2021-08-17T18:10:21.112Z"
   },
   {
    "duration": 198,
    "start_time": "2021-08-17T18:10:22.120Z"
   },
   {
    "duration": 128,
    "start_time": "2021-08-17T18:10:22.322Z"
   },
   {
    "duration": 32,
    "start_time": "2021-08-17T18:10:22.453Z"
   },
   {
    "duration": 39,
    "start_time": "2021-08-17T18:10:22.487Z"
   },
   {
    "duration": 142,
    "start_time": "2021-08-17T18:10:22.528Z"
   },
   {
    "duration": 168,
    "start_time": "2021-08-17T18:10:22.672Z"
   },
   {
    "duration": 74,
    "start_time": "2021-08-17T18:10:22.842Z"
   },
   {
    "duration": 45,
    "start_time": "2021-08-17T18:10:22.919Z"
   },
   {
    "duration": 42,
    "start_time": "2021-08-17T18:10:22.966Z"
   },
   {
    "duration": 30,
    "start_time": "2021-08-17T18:10:23.010Z"
   },
   {
    "duration": 1646,
    "start_time": "2021-08-17T18:10:23.042Z"
   },
   {
    "duration": 1143,
    "start_time": "2021-08-17T18:47:26.863Z"
   },
   {
    "duration": 187,
    "start_time": "2021-08-17T18:47:28.009Z"
   },
   {
    "duration": 121,
    "start_time": "2021-08-17T18:47:28.199Z"
   },
   {
    "duration": 28,
    "start_time": "2021-08-17T18:47:28.323Z"
   },
   {
    "duration": 44,
    "start_time": "2021-08-17T18:47:28.353Z"
   },
   {
    "duration": 143,
    "start_time": "2021-08-17T18:47:28.399Z"
   },
   {
    "duration": 160,
    "start_time": "2021-08-17T18:47:28.544Z"
   },
   {
    "duration": 53,
    "start_time": "2021-08-17T18:47:28.708Z"
   },
   {
    "duration": 58,
    "start_time": "2021-08-17T18:47:28.764Z"
   },
   {
    "duration": 29,
    "start_time": "2021-08-17T18:47:28.824Z"
   },
   {
    "duration": 54,
    "start_time": "2021-08-17T18:47:28.856Z"
   },
   {
    "duration": 1677,
    "start_time": "2021-08-17T18:47:28.912Z"
   },
   {
    "duration": 5,
    "start_time": "2021-08-17T18:47:30.591Z"
   },
   {
    "duration": 29,
    "start_time": "2021-08-17T18:49:47.388Z"
   },
   {
    "duration": 27,
    "start_time": "2021-08-17T18:51:12.485Z"
   },
   {
    "duration": 25,
    "start_time": "2021-08-17T18:51:25.809Z"
   },
   {
    "duration": 30,
    "start_time": "2021-08-17T18:51:34.475Z"
   },
   {
    "duration": 24,
    "start_time": "2021-08-17T18:52:04.252Z"
   },
   {
    "duration": 32,
    "start_time": "2021-08-17T18:53:31.995Z"
   },
   {
    "duration": 34,
    "start_time": "2021-08-17T18:54:33.666Z"
   },
   {
    "duration": 34,
    "start_time": "2021-08-17T18:55:21.002Z"
   },
   {
    "duration": 37,
    "start_time": "2021-08-17T18:56:01.646Z"
   },
   {
    "duration": 71,
    "start_time": "2021-08-17T19:05:05.291Z"
   },
   {
    "duration": 46,
    "start_time": "2021-08-17T19:07:02.366Z"
   },
   {
    "duration": 50,
    "start_time": "2021-08-17T19:07:20.792Z"
   },
   {
    "duration": 38,
    "start_time": "2021-08-17T19:07:50.771Z"
   },
   {
    "duration": 214,
    "start_time": "2021-08-17T19:16:35.660Z"
   },
   {
    "duration": 57,
    "start_time": "2021-08-17T19:18:24.321Z"
   },
   {
    "duration": 1131,
    "start_time": "2021-08-17T19:22:18.907Z"
   },
   {
    "duration": 55,
    "start_time": "2021-08-17T19:22:25.897Z"
   },
   {
    "duration": 285,
    "start_time": "2021-08-17T19:28:40.183Z"
   },
   {
    "duration": 268,
    "start_time": "2021-08-17T19:29:23.099Z"
   },
   {
    "duration": 228,
    "start_time": "2021-08-17T19:29:37.990Z"
   },
   {
    "duration": 1041,
    "start_time": "2021-08-17T19:29:49.577Z"
   },
   {
    "duration": 187,
    "start_time": "2021-08-17T19:29:50.621Z"
   },
   {
    "duration": 130,
    "start_time": "2021-08-17T19:29:50.811Z"
   },
   {
    "duration": 28,
    "start_time": "2021-08-17T19:29:50.943Z"
   },
   {
    "duration": 46,
    "start_time": "2021-08-17T19:29:50.974Z"
   },
   {
    "duration": 148,
    "start_time": "2021-08-17T19:29:51.022Z"
   },
   {
    "duration": 148,
    "start_time": "2021-08-17T19:29:51.182Z"
   },
   {
    "duration": 70,
    "start_time": "2021-08-17T19:29:51.333Z"
   },
   {
    "duration": 41,
    "start_time": "2021-08-17T19:29:51.406Z"
   },
   {
    "duration": 52,
    "start_time": "2021-08-17T19:29:51.450Z"
   },
   {
    "duration": 37,
    "start_time": "2021-08-17T19:29:51.504Z"
   },
   {
    "duration": 1706,
    "start_time": "2021-08-17T19:29:51.543Z"
   },
   {
    "duration": 162,
    "start_time": "2021-08-17T19:30:07.886Z"
   },
   {
    "duration": 1008,
    "start_time": "2021-08-17T19:30:38.666Z"
   },
   {
    "duration": 178,
    "start_time": "2021-08-17T19:30:39.682Z"
   },
   {
    "duration": 121,
    "start_time": "2021-08-17T19:30:39.863Z"
   },
   {
    "duration": 30,
    "start_time": "2021-08-17T19:30:39.987Z"
   },
   {
    "duration": 43,
    "start_time": "2021-08-17T19:30:40.020Z"
   },
   {
    "duration": 154,
    "start_time": "2021-08-17T19:30:40.082Z"
   },
   {
    "duration": 167,
    "start_time": "2021-08-17T19:30:40.239Z"
   },
   {
    "duration": 72,
    "start_time": "2021-08-17T19:30:40.410Z"
   },
   {
    "duration": 44,
    "start_time": "2021-08-17T19:30:40.485Z"
   },
   {
    "duration": 56,
    "start_time": "2021-08-17T19:30:40.532Z"
   },
   {
    "duration": 36,
    "start_time": "2021-08-17T19:30:40.590Z"
   },
   {
    "duration": 1808,
    "start_time": "2021-08-17T19:30:40.629Z"
   },
   {
    "duration": 56,
    "start_time": "2021-08-17T19:42:21.072Z"
   },
   {
    "duration": 7,
    "start_time": "2021-08-17T19:43:50.650Z"
   },
   {
    "duration": 49,
    "start_time": "2021-08-17T19:52:16.403Z"
   },
   {
    "duration": 7,
    "start_time": "2021-08-17T19:52:24.006Z"
   },
   {
    "duration": 327,
    "start_time": "2021-08-17T20:06:06.067Z"
   },
   {
    "duration": 348,
    "start_time": "2021-08-17T20:06:26.474Z"
   },
   {
    "duration": 442,
    "start_time": "2021-08-17T20:06:41.542Z"
   },
   {
    "duration": 36,
    "start_time": "2021-08-17T20:08:11.779Z"
   },
   {
    "duration": 359,
    "start_time": "2021-08-17T20:09:47.425Z"
   },
   {
    "duration": 2193,
    "start_time": "2021-08-17T20:14:37.532Z"
   },
   {
    "duration": 1027,
    "start_time": "2021-08-17T20:15:06.599Z"
   },
   {
    "duration": 244,
    "start_time": "2021-08-17T20:15:07.629Z"
   },
   {
    "duration": 125,
    "start_time": "2021-08-17T20:15:07.883Z"
   },
   {
    "duration": 27,
    "start_time": "2021-08-17T20:15:08.010Z"
   },
   {
    "duration": 45,
    "start_time": "2021-08-17T20:15:08.040Z"
   },
   {
    "duration": 152,
    "start_time": "2021-08-17T20:15:08.088Z"
   },
   {
    "duration": 181,
    "start_time": "2021-08-17T20:15:08.243Z"
   },
   {
    "duration": 73,
    "start_time": "2021-08-17T20:15:08.427Z"
   },
   {
    "duration": 7,
    "start_time": "2021-08-17T20:15:08.504Z"
   },
   {
    "duration": 397,
    "start_time": "2021-08-17T20:15:08.513Z"
   },
   {
    "duration": 44,
    "start_time": "2021-08-17T20:15:08.912Z"
   },
   {
    "duration": 57,
    "start_time": "2021-08-17T20:15:08.959Z"
   },
   {
    "duration": 2327,
    "start_time": "2021-08-17T20:15:09.019Z"
   },
   {
    "duration": 42,
    "start_time": "2021-08-17T20:15:51.313Z"
   },
   {
    "duration": 42,
    "start_time": "2021-08-17T20:16:02.472Z"
   },
   {
    "duration": 45,
    "start_time": "2021-08-17T20:16:36.670Z"
   },
   {
    "duration": 43,
    "start_time": "2021-08-17T20:16:49.701Z"
   },
   {
    "duration": 42,
    "start_time": "2021-08-17T20:18:17.620Z"
   },
   {
    "duration": 47,
    "start_time": "2021-08-17T20:18:35.545Z"
   },
   {
    "duration": 41,
    "start_time": "2021-08-17T20:19:15.318Z"
   },
   {
    "duration": 7,
    "start_time": "2021-08-17T20:48:58.985Z"
   },
   {
    "duration": 10,
    "start_time": "2021-08-17T20:49:11.661Z"
   },
   {
    "duration": 13,
    "start_time": "2021-08-17T20:49:27.603Z"
   },
   {
    "duration": 13,
    "start_time": "2021-08-17T20:50:18.723Z"
   },
   {
    "duration": 348,
    "start_time": "2021-08-17T20:51:54.526Z"
   },
   {
    "duration": 619,
    "start_time": "2021-08-17T20:52:18.894Z"
   },
   {
    "duration": 11,
    "start_time": "2021-08-17T20:52:24.840Z"
   },
   {
    "duration": 13,
    "start_time": "2021-08-17T20:53:14.239Z"
   },
   {
    "duration": 14,
    "start_time": "2021-08-17T20:53:30.921Z"
   },
   {
    "duration": 12,
    "start_time": "2021-08-17T20:56:46.034Z"
   },
   {
    "duration": 12,
    "start_time": "2021-08-17T20:57:16.035Z"
   },
   {
    "duration": 13,
    "start_time": "2021-08-17T20:57:50.422Z"
   },
   {
    "duration": 76,
    "start_time": "2021-08-17T21:08:43.968Z"
   }
  ],
  "kernelspec": {
   "display_name": "Python 3 (ipykernel)",
   "language": "python",
   "name": "python3"
  },
  "language_info": {
   "codemirror_mode": {
    "name": "ipython",
    "version": 3
   },
   "file_extension": ".py",
   "mimetype": "text/x-python",
   "name": "python",
   "nbconvert_exporter": "python",
   "pygments_lexer": "ipython3",
   "version": "3.10.1"
  },
  "toc": {
   "base_numbering": 1,
   "nav_menu": {},
   "number_sections": false,
   "sideBar": true,
   "skip_h1_title": true,
   "title_cell": "Table of Contents",
   "title_sidebar": "Contents",
   "toc_cell": false,
   "toc_position": {
    "height": "calc(100% - 180px)",
    "left": "10px",
    "top": "150px",
    "width": "284.444px"
   },
   "toc_section_display": true,
   "toc_window_display": true
  }
 },
 "nbformat": 4,
 "nbformat_minor": 2
}
