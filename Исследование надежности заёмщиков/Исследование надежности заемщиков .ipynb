{
 "cells": [
  {
   "cell_type": "markdown",
   "metadata": {
    "toc": true
   },
   "source": [
    "<h1>Table of Contents<span class=\"tocSkip\"></span></h1>\n",
    "<div class=\"toc\"><ul class=\"toc-item\"><li><span><a href=\"#Откройте-файл-с-данными-и-изучите-общую-информацию\" data-toc-modified-id=\"Откройте-файл-с-данными-и-изучите-общую-информацию-1\"><span class=\"toc-item-num\">1&nbsp;&nbsp;</span>Откройте файл с данными и изучите общую информацию</a></span></li><li><span><a href=\"#Предобработка-данных\" data-toc-modified-id=\"Предобработка-данных-2\"><span class=\"toc-item-num\">2&nbsp;&nbsp;</span>Предобработка данных</a></span><ul class=\"toc-item\"><li><span><a href=\"#Обработка-пропусков\" data-toc-modified-id=\"Обработка-пропусков-2.1\"><span class=\"toc-item-num\">2.1&nbsp;&nbsp;</span>Обработка пропусков</a></span></li><li><span><a href=\"#Замена-типа-данных\" data-toc-modified-id=\"Замена-типа-данных-2.2\"><span class=\"toc-item-num\">2.2&nbsp;&nbsp;</span>Замена типа данных</a></span></li><li><span><a href=\"#Обработка-дубликатов\" data-toc-modified-id=\"Обработка-дубликатов-2.3\"><span class=\"toc-item-num\">2.3&nbsp;&nbsp;</span>Обработка дубликатов</a></span></li><li><span><a href=\"#Лемматизация\" data-toc-modified-id=\"Лемматизация-2.4\"><span class=\"toc-item-num\">2.4&nbsp;&nbsp;</span>Лемматизация</a></span></li><li><span><a href=\"#Категоризация-данных\" data-toc-modified-id=\"Категоризация-данных-2.5\"><span class=\"toc-item-num\">2.5&nbsp;&nbsp;</span>Категоризация данных</a></span></li></ul></li><li><span><a href=\"#Ответьте-на-вопросы\" data-toc-modified-id=\"Ответьте-на-вопросы-3\"><span class=\"toc-item-num\">3&nbsp;&nbsp;</span>Ответьте на вопросы</a></span></li><li><span><a href=\"#Общий-вывод\" data-toc-modified-id=\"Общий-вывод-4\"><span class=\"toc-item-num\">4&nbsp;&nbsp;</span>Общий вывод</a></span></li></ul></div>"
   ]
  },
  {
   "cell_type": "markdown",
   "metadata": {},
   "source": [
    "# Исследование надёжности заёмщиков\n",
    "\n",
    "Заказчик — кредитный отдел банка. Нужно разобраться, влияет ли семейное положение и количество детей клиента на факт погашения кредита в срок. Входные данные от банка — статистика о платёжеспособности клиентов.\n",
    "\n",
    "Результаты исследования будут учтены при построении модели **кредитного скоринга** — специальной системы, которая оценивает способность потенциального заёмщика вернуть кредит банку."
   ]
  },
  {
   "cell_type": "markdown",
   "metadata": {},
   "source": [
    "##  Откройте файл с данными и изучите общую информацию"
   ]
  },
  {
   "cell_type": "code",
   "execution_count": 1,
   "metadata": {},
   "outputs": [],
   "source": [
    "import pandas as pd\n",
    "from pymystem3 import Mystem\n",
    "from collections import Counter"
   ]
  },
  {
   "cell_type": "code",
   "execution_count": 2,
   "metadata": {
    "scrolled": false
   },
   "outputs": [
    {
     "data": {
      "text/html": [
       "<div>\n",
       "<style scoped>\n",
       "    .dataframe tbody tr th:only-of-type {\n",
       "        vertical-align: middle;\n",
       "    }\n",
       "\n",
       "    .dataframe tbody tr th {\n",
       "        vertical-align: top;\n",
       "    }\n",
       "\n",
       "    .dataframe thead th {\n",
       "        text-align: right;\n",
       "    }\n",
       "</style>\n",
       "<table border=\"1\" class=\"dataframe\">\n",
       "  <thead>\n",
       "    <tr style=\"text-align: right;\">\n",
       "      <th></th>\n",
       "      <th>children</th>\n",
       "      <th>days_employed</th>\n",
       "      <th>dob_years</th>\n",
       "      <th>education</th>\n",
       "      <th>education_id</th>\n",
       "      <th>family_status</th>\n",
       "      <th>family_status_id</th>\n",
       "      <th>gender</th>\n",
       "      <th>income_type</th>\n",
       "      <th>debt</th>\n",
       "      <th>total_income</th>\n",
       "      <th>purpose</th>\n",
       "    </tr>\n",
       "  </thead>\n",
       "  <tbody>\n",
       "    <tr>\n",
       "      <th>0</th>\n",
       "      <td>1</td>\n",
       "      <td>-8437.673028</td>\n",
       "      <td>42</td>\n",
       "      <td>высшее</td>\n",
       "      <td>0</td>\n",
       "      <td>женат / замужем</td>\n",
       "      <td>0</td>\n",
       "      <td>F</td>\n",
       "      <td>сотрудник</td>\n",
       "      <td>0</td>\n",
       "      <td>253875.639453</td>\n",
       "      <td>покупка жилья</td>\n",
       "    </tr>\n",
       "    <tr>\n",
       "      <th>1</th>\n",
       "      <td>1</td>\n",
       "      <td>-4024.803754</td>\n",
       "      <td>36</td>\n",
       "      <td>среднее</td>\n",
       "      <td>1</td>\n",
       "      <td>женат / замужем</td>\n",
       "      <td>0</td>\n",
       "      <td>F</td>\n",
       "      <td>сотрудник</td>\n",
       "      <td>0</td>\n",
       "      <td>112080.014102</td>\n",
       "      <td>приобретение автомобиля</td>\n",
       "    </tr>\n",
       "    <tr>\n",
       "      <th>2</th>\n",
       "      <td>0</td>\n",
       "      <td>-5623.422610</td>\n",
       "      <td>33</td>\n",
       "      <td>Среднее</td>\n",
       "      <td>1</td>\n",
       "      <td>женат / замужем</td>\n",
       "      <td>0</td>\n",
       "      <td>M</td>\n",
       "      <td>сотрудник</td>\n",
       "      <td>0</td>\n",
       "      <td>145885.952297</td>\n",
       "      <td>покупка жилья</td>\n",
       "    </tr>\n",
       "    <tr>\n",
       "      <th>3</th>\n",
       "      <td>3</td>\n",
       "      <td>-4124.747207</td>\n",
       "      <td>32</td>\n",
       "      <td>среднее</td>\n",
       "      <td>1</td>\n",
       "      <td>женат / замужем</td>\n",
       "      <td>0</td>\n",
       "      <td>M</td>\n",
       "      <td>сотрудник</td>\n",
       "      <td>0</td>\n",
       "      <td>267628.550329</td>\n",
       "      <td>дополнительное образование</td>\n",
       "    </tr>\n",
       "    <tr>\n",
       "      <th>4</th>\n",
       "      <td>0</td>\n",
       "      <td>340266.072047</td>\n",
       "      <td>53</td>\n",
       "      <td>среднее</td>\n",
       "      <td>1</td>\n",
       "      <td>гражданский брак</td>\n",
       "      <td>1</td>\n",
       "      <td>F</td>\n",
       "      <td>пенсионер</td>\n",
       "      <td>0</td>\n",
       "      <td>158616.077870</td>\n",
       "      <td>сыграть свадьбу</td>\n",
       "    </tr>\n",
       "  </tbody>\n",
       "</table>\n",
       "</div>"
      ],
      "text/plain": [
       "   children  days_employed  dob_years education  education_id  \\\n",
       "0         1   -8437.673028         42    высшее             0   \n",
       "1         1   -4024.803754         36   среднее             1   \n",
       "2         0   -5623.422610         33   Среднее             1   \n",
       "3         3   -4124.747207         32   среднее             1   \n",
       "4         0  340266.072047         53   среднее             1   \n",
       "\n",
       "      family_status  family_status_id gender income_type  debt   total_income  \\\n",
       "0   женат / замужем                 0      F   сотрудник     0  253875.639453   \n",
       "1   женат / замужем                 0      F   сотрудник     0  112080.014102   \n",
       "2   женат / замужем                 0      M   сотрудник     0  145885.952297   \n",
       "3   женат / замужем                 0      M   сотрудник     0  267628.550329   \n",
       "4  гражданский брак                 1      F   пенсионер     0  158616.077870   \n",
       "\n",
       "                      purpose  \n",
       "0               покупка жилья  \n",
       "1     приобретение автомобиля  \n",
       "2               покупка жилья  \n",
       "3  дополнительное образование  \n",
       "4             сыграть свадьбу  "
      ]
     },
     "execution_count": 2,
     "metadata": {},
     "output_type": "execute_result"
    }
   ],
   "source": [
    "data=pd.read_csv('data.csv')\n",
    "data.head()"
   ]
  },
  {
   "cell_type": "code",
   "execution_count": 3,
   "metadata": {},
   "outputs": [
    {
     "name": "stdout",
     "output_type": "stream",
     "text": [
      "<class 'pandas.core.frame.DataFrame'>\n",
      "RangeIndex: 21525 entries, 0 to 21524\n",
      "Data columns (total 12 columns):\n",
      " #   Column            Non-Null Count  Dtype  \n",
      "---  ------            --------------  -----  \n",
      " 0   children          21525 non-null  int64  \n",
      " 1   days_employed     19351 non-null  float64\n",
      " 2   dob_years         21525 non-null  int64  \n",
      " 3   education         21525 non-null  object \n",
      " 4   education_id      21525 non-null  int64  \n",
      " 5   family_status     21525 non-null  object \n",
      " 6   family_status_id  21525 non-null  int64  \n",
      " 7   gender            21525 non-null  object \n",
      " 8   income_type       21525 non-null  object \n",
      " 9   debt              21525 non-null  int64  \n",
      " 10  total_income      19351 non-null  float64\n",
      " 11  purpose           21525 non-null  object \n",
      "dtypes: float64(2), int64(5), object(5)\n",
      "memory usage: 2.0+ MB\n"
     ]
    }
   ],
   "source": [
    "data.info()"
   ]
  },
  {
   "cell_type": "markdown",
   "metadata": {},
   "source": [
    "**Вывод**"
   ]
  },
  {
   "cell_type": "markdown",
   "metadata": {},
   "source": [
    "На основании метода info() в двух столбцах вижу пропущенные значения. На основе ознакомления с таблицей вижу сразу следующие недочеты в данных, которые могут помешать дальнейшей обработке данных: в трудовом стаже указаны отрицательные значения, некоторые значения чрезмерно велики, в строковых столбцах используются разные регистры, в целях предоставления кредита нет категоризации. "
   ]
  },
  {
   "cell_type": "markdown",
   "metadata": {},
   "source": [
    "##  Предобработка данных"
   ]
  },
  {
   "cell_type": "markdown",
   "metadata": {},
   "source": [
    "### Обработка пропусков"
   ]
  },
  {
   "cell_type": "code",
   "execution_count": 4,
   "metadata": {},
   "outputs": [
    {
     "name": "stdout",
     "output_type": "stream",
     "text": [
      "Количество пропусков в столбце \"стаж\" до обработки пропусков:  2174\n",
      "Количество пропусков в столбце \"ежемесячный доход\" до обработки пропусков:  2174\n",
      "----\n",
      "сотрудник 142594.39684740017\n",
      "пенсионер 118514.48641164352\n",
      "компаньон 172357.95096577113\n",
      "госслужащий 150447.9352830068\n",
      "безработный 131339.7516762103\n",
      "предприниматель 499163.1449470857\n",
      "студент 98201.62531401133\n",
      "в декрете 53829.13072905995\n",
      "Количество пропусков в столбце \"стаж\" после обработки пропусков:  0\n",
      "Количество пропусков в столбце \"ежемесячный доход\" после обработки пропусков:  0\n"
     ]
    }
   ],
   "source": [
    "data['days_employed_module']=abs(data['days_employed']) # вычисление модуля числа с помощью метода abs()\n",
    "\n",
    "print ('Количество пропусков в столбце \"стаж\" до обработки пропусков: ', data['days_employed_module'].isna().sum())\n",
    "print ('Количество пропусков в столбце \"ежемесячный доход\" до обработки пропусков: ', data['total_income'].isna().sum())\n",
    "print('----')\n",
    "\n",
    "avg_days_employed=data['days_employed_module'].median() #медианное значение занятости\n",
    "#замена пропущенных значений ранее вычесленным медианным значением:\n",
    "data['days_employed_module']=data['days_employed_module'].fillna(value=avg_days_employed)\n",
    "\n",
    "# замена пропущенных значений медианными для зароботка:\n",
    "for position in data ['income_type'].unique():\n",
    "    median=data.loc[data['income_type'] == position,'total_income'].median()\n",
    "    print (position, median)\n",
    "    data.loc[(data['total_income'].isna())&(data['income_type']==position), 'total_income']=median\n",
    "\n",
    "print ('Количество пропусков в столбце \"стаж\" после обработки пропусков: ', data['days_employed_module'].isna().sum())\n",
    "print ('Количество пропусков в столбце \"ежемесячный доход\" после обработки пропусков: ', data['total_income'].isna().sum())\n"
   ]
  },
  {
   "cell_type": "markdown",
   "metadata": {},
   "source": [
    "**Вывод**\n",
    "\n",
    "Пропущенные значения присутствуют у разных возрастных групп, кредит был взят на разные цели, на основании этого предполагаю, что данные просто не заполнили (пропуски в двух столбцах - стаж и месячный доход). Перед тем, как заполнить найденные пропуски, перевела отрицательные числа в положительные, для адекватности данных. Также я заметила, что некоторые значения трудовой занятости чрезмерно велики, т.к. я не знаю, чем вызвана эта ошибка (вероятно случайная), решила заполнить пропущенные значения медианными значениями, т.к. среднее значения из-за артефактов не будет отражать реальные цифры (такой результат может получится только после очередной пенсионной рефоры). После убедила, что все пропуски заполнены."
   ]
  },
  {
   "cell_type": "markdown",
   "metadata": {},
   "source": [
    "### Замена типа данных"
   ]
  },
  {
   "cell_type": "code",
   "execution_count": 5,
   "metadata": {},
   "outputs": [
    {
     "name": "stdout",
     "output_type": "stream",
     "text": [
      "<class 'pandas.core.frame.DataFrame'>\n",
      "RangeIndex: 21525 entries, 0 to 21524\n",
      "Data columns (total 13 columns):\n",
      " #   Column                Non-Null Count  Dtype  \n",
      "---  ------                --------------  -----  \n",
      " 0   children              21525 non-null  int64  \n",
      " 1   days_employed         19351 non-null  float64\n",
      " 2   dob_years             21525 non-null  int64  \n",
      " 3   education             21525 non-null  object \n",
      " 4   education_id          21525 non-null  int64  \n",
      " 5   family_status         21525 non-null  object \n",
      " 6   family_status_id      21525 non-null  int64  \n",
      " 7   gender                21525 non-null  object \n",
      " 8   income_type           21525 non-null  object \n",
      " 9   debt                  21525 non-null  int64  \n",
      " 10  total_income          21525 non-null  int32  \n",
      " 11  purpose               21525 non-null  object \n",
      " 12  days_employed_module  21525 non-null  int32  \n",
      "dtypes: float64(1), int32(2), int64(5), object(5)\n",
      "memory usage: 2.0+ MB\n"
     ]
    }
   ],
   "source": [
    "data['days_employed_module']=data['days_employed_module'].astype('int')\n",
    "data['total_income']=data['total_income'].astype('int')\n",
    "data.info() #убедилась, что тип данных изменен"
   ]
  },
  {
   "cell_type": "markdown",
   "metadata": {},
   "source": [
    "**Вывод**"
   ]
  },
  {
   "cell_type": "markdown",
   "metadata": {},
   "source": [
    "Данные приведены к нужному типу."
   ]
  },
  {
   "cell_type": "markdown",
   "metadata": {},
   "source": [
    "### Обработка дубликатов"
   ]
  },
  {
   "cell_type": "code",
   "execution_count": 6,
   "metadata": {},
   "outputs": [
    {
     "name": "stdout",
     "output_type": "stream",
     "text": [
      "среднее                13750\n",
      "высшее                  4718\n",
      "СРЕДНЕЕ                  772\n",
      "Среднее                  711\n",
      "неоконченное высшее      668\n",
      "ВЫСШЕЕ                   274\n",
      "Высшее                   268\n",
      "начальное                250\n",
      "Неоконченное высшее       47\n",
      "НЕОКОНЧЕННОЕ ВЫСШЕЕ       29\n",
      "НАЧАЛЬНОЕ                 17\n",
      "Начальное                 15\n",
      "ученая степень             4\n",
      "Ученая степень             1\n",
      "УЧЕНАЯ СТЕПЕНЬ             1\n",
      "Name: education, dtype: int64 сотрудник          11119\n",
      "компаньон           5085\n",
      "пенсионер           3856\n",
      "госслужащий         1459\n",
      "безработный            2\n",
      "предприниматель        2\n",
      "студент                1\n",
      "в декрете              1\n",
      "Name: income_type, dtype: int64 женат / замужем          12380\n",
      "гражданский брак          4177\n",
      "Не женат / не замужем     2813\n",
      "в разводе                 1195\n",
      "вдовец / вдова             960\n",
      "Name: family_status, dtype: int64\n",
      "среднее                15233\n",
      "высшее                  5260\n",
      "неоконченное высшее      744\n",
      "начальное                282\n",
      "ученая степень             6\n",
      "Name: education_lowercase, dtype: int64\n"
     ]
    }
   ],
   "source": [
    "print(data['education'].value_counts(), data['income_type'].value_counts(), data['family_status'].value_counts())\n",
    "data['education_lowercase']=data['education'].str.lower() #привела все записи к одноу регистру\n",
    "print(data['education_lowercase'].value_counts())"
   ]
  },
  {
   "cell_type": "markdown",
   "metadata": {},
   "source": [
    "**Вывод**"
   ]
  },
  {
   "cell_type": "markdown",
   "metadata": {},
   "source": [
    "Для начала проверила уникальные значения в трех столбцах - образование, тип занятости, семейный статус. Цель кредита не стала проверять, потому что там необходимо работать с леммами. В столбце образование дубликаты из-за использования разного регистра при вводе данных, либо из-за того, что склейка базы произведена из разных источников, где требования к регистру была разная. Для устранения таких дубликатов использую метод str.lower() для приведения всех значений к единому, данные после обработки сохранила в новый столбец и проверила на дубликаты - их не осталось!"
   ]
  },
  {
   "cell_type": "markdown",
   "metadata": {},
   "source": [
    "### Лемматизация"
   ]
  },
  {
   "cell_type": "code",
   "execution_count": 7,
   "metadata": {},
   "outputs": [
    {
     "name": "stdout",
     "output_type": "stream",
     "text": [
      "Counter({' ': 55201, 'недвижимость': 6367, 'покупка': 5912, 'жилье': 4473, 'автомобиль': 4315, 'образование': 4022, 'с': 2924, 'операция': 2610, 'свадьба': 2348, 'свой': 2235, 'на': 2233, 'строительство': 1881, 'высокий': 1375, 'получение': 1316, 'коммерческий': 1315, 'для': 1294, 'жилой': 1233, 'сделка': 944, 'дополнительный': 909, 'заниматься': 908, 'подержать': 858, 'проведение': 777, 'сыграть': 774, 'сдача': 653, 'семья': 641, 'собственный': 635, 'со': 630, 'ремонт': 612, 'приобретение': 462, 'профильный': 436, 'подержанный': 110, '\\n': 1})\n"
     ]
    }
   ],
   "source": [
    "m = Mystem()\n",
    "text=' '.join(data['purpose'])\n",
    "lemmas = m.lemmatize(text)\n",
    "\n",
    "print(Counter(lemmas)) "
   ]
  },
  {
   "cell_type": "markdown",
   "metadata": {},
   "source": [
    "**Вывод**"
   ]
  },
  {
   "cell_type": "markdown",
   "metadata": {},
   "source": [
    "Лемматизацию выполнила с помощью библиотеки pymystem3, т.к. мне этот метод показался наиболее наглядным и с ним удобнее работать. По итогам выполнения кода видно, что наиболее часто встречающиеся цели кредита это недвижимость,  покупка авто, образование, свадьба и ремонт"
   ]
  },
  {
   "cell_type": "markdown",
   "metadata": {},
   "source": [
    "### Категоризация данных"
   ]
  },
  {
   "cell_type": "code",
   "execution_count": 8,
   "metadata": {},
   "outputs": [],
   "source": [
    "def categorize_purpose(row):\n",
    "    try:\n",
    "        if 'автом' in row:\n",
    "            return 'автомобиль'\n",
    "        elif 'жил' in row or 'недвиж' in row:\n",
    "            return 'недвижимость'\n",
    "        elif 'свад' in row:\n",
    "            return 'свадьба'\n",
    "        elif 'образов' in row:\n",
    "            return 'образование'\n",
    "    except:\n",
    "        return 'нет категории'"
   ]
  },
  {
   "cell_type": "code",
   "execution_count": 9,
   "metadata": {
    "scrolled": true
   },
   "outputs": [
    {
     "data": {
      "text/html": [
       "<div>\n",
       "<style scoped>\n",
       "    .dataframe tbody tr th:only-of-type {\n",
       "        vertical-align: middle;\n",
       "    }\n",
       "\n",
       "    .dataframe tbody tr th {\n",
       "        vertical-align: top;\n",
       "    }\n",
       "\n",
       "    .dataframe thead th {\n",
       "        text-align: right;\n",
       "    }\n",
       "</style>\n",
       "<table border=\"1\" class=\"dataframe\">\n",
       "  <thead>\n",
       "    <tr style=\"text-align: right;\">\n",
       "      <th></th>\n",
       "      <th>children</th>\n",
       "      <th>days_employed</th>\n",
       "      <th>dob_years</th>\n",
       "      <th>education</th>\n",
       "      <th>education_id</th>\n",
       "      <th>family_status</th>\n",
       "      <th>family_status_id</th>\n",
       "      <th>gender</th>\n",
       "      <th>income_type</th>\n",
       "      <th>debt</th>\n",
       "      <th>total_income</th>\n",
       "      <th>purpose</th>\n",
       "      <th>days_employed_module</th>\n",
       "      <th>education_lowercase</th>\n",
       "      <th>purpose_ctg</th>\n",
       "    </tr>\n",
       "  </thead>\n",
       "  <tbody>\n",
       "    <tr>\n",
       "      <th>0</th>\n",
       "      <td>1</td>\n",
       "      <td>-8437.673028</td>\n",
       "      <td>42</td>\n",
       "      <td>высшее</td>\n",
       "      <td>0</td>\n",
       "      <td>женат / замужем</td>\n",
       "      <td>0</td>\n",
       "      <td>F</td>\n",
       "      <td>сотрудник</td>\n",
       "      <td>0</td>\n",
       "      <td>253875</td>\n",
       "      <td>покупка жилья</td>\n",
       "      <td>8437</td>\n",
       "      <td>высшее</td>\n",
       "      <td>недвижимость</td>\n",
       "    </tr>\n",
       "    <tr>\n",
       "      <th>1</th>\n",
       "      <td>1</td>\n",
       "      <td>-4024.803754</td>\n",
       "      <td>36</td>\n",
       "      <td>среднее</td>\n",
       "      <td>1</td>\n",
       "      <td>женат / замужем</td>\n",
       "      <td>0</td>\n",
       "      <td>F</td>\n",
       "      <td>сотрудник</td>\n",
       "      <td>0</td>\n",
       "      <td>112080</td>\n",
       "      <td>приобретение автомобиля</td>\n",
       "      <td>4024</td>\n",
       "      <td>среднее</td>\n",
       "      <td>автомобиль</td>\n",
       "    </tr>\n",
       "    <tr>\n",
       "      <th>2</th>\n",
       "      <td>0</td>\n",
       "      <td>-5623.422610</td>\n",
       "      <td>33</td>\n",
       "      <td>Среднее</td>\n",
       "      <td>1</td>\n",
       "      <td>женат / замужем</td>\n",
       "      <td>0</td>\n",
       "      <td>M</td>\n",
       "      <td>сотрудник</td>\n",
       "      <td>0</td>\n",
       "      <td>145885</td>\n",
       "      <td>покупка жилья</td>\n",
       "      <td>5623</td>\n",
       "      <td>среднее</td>\n",
       "      <td>недвижимость</td>\n",
       "    </tr>\n",
       "    <tr>\n",
       "      <th>3</th>\n",
       "      <td>3</td>\n",
       "      <td>-4124.747207</td>\n",
       "      <td>32</td>\n",
       "      <td>среднее</td>\n",
       "      <td>1</td>\n",
       "      <td>женат / замужем</td>\n",
       "      <td>0</td>\n",
       "      <td>M</td>\n",
       "      <td>сотрудник</td>\n",
       "      <td>0</td>\n",
       "      <td>267628</td>\n",
       "      <td>дополнительное образование</td>\n",
       "      <td>4124</td>\n",
       "      <td>среднее</td>\n",
       "      <td>образование</td>\n",
       "    </tr>\n",
       "    <tr>\n",
       "      <th>4</th>\n",
       "      <td>0</td>\n",
       "      <td>340266.072047</td>\n",
       "      <td>53</td>\n",
       "      <td>среднее</td>\n",
       "      <td>1</td>\n",
       "      <td>гражданский брак</td>\n",
       "      <td>1</td>\n",
       "      <td>F</td>\n",
       "      <td>пенсионер</td>\n",
       "      <td>0</td>\n",
       "      <td>158616</td>\n",
       "      <td>сыграть свадьбу</td>\n",
       "      <td>340266</td>\n",
       "      <td>среднее</td>\n",
       "      <td>свадьба</td>\n",
       "    </tr>\n",
       "  </tbody>\n",
       "</table>\n",
       "</div>"
      ],
      "text/plain": [
       "   children  days_employed  dob_years education  education_id  \\\n",
       "0         1   -8437.673028         42    высшее             0   \n",
       "1         1   -4024.803754         36   среднее             1   \n",
       "2         0   -5623.422610         33   Среднее             1   \n",
       "3         3   -4124.747207         32   среднее             1   \n",
       "4         0  340266.072047         53   среднее             1   \n",
       "\n",
       "      family_status  family_status_id gender income_type  debt  total_income  \\\n",
       "0   женат / замужем                 0      F   сотрудник     0        253875   \n",
       "1   женат / замужем                 0      F   сотрудник     0        112080   \n",
       "2   женат / замужем                 0      M   сотрудник     0        145885   \n",
       "3   женат / замужем                 0      M   сотрудник     0        267628   \n",
       "4  гражданский брак                 1      F   пенсионер     0        158616   \n",
       "\n",
       "                      purpose  days_employed_module education_lowercase  \\\n",
       "0               покупка жилья                  8437              высшее   \n",
       "1     приобретение автомобиля                  4024             среднее   \n",
       "2               покупка жилья                  5623             среднее   \n",
       "3  дополнительное образование                  4124             среднее   \n",
       "4             сыграть свадьбу                340266             среднее   \n",
       "\n",
       "    purpose_ctg  \n",
       "0  недвижимость  \n",
       "1    автомобиль  \n",
       "2  недвижимость  \n",
       "3   образование  \n",
       "4       свадьба  "
      ]
     },
     "execution_count": 9,
     "metadata": {},
     "output_type": "execute_result"
    }
   ],
   "source": [
    "data['purpose_ctg']=data['purpose'].apply(categorize_purpose)\n",
    "data.head()"
   ]
  },
  {
   "cell_type": "markdown",
   "metadata": {},
   "source": [
    "**Вывод**"
   ]
  },
  {
   "cell_type": "markdown",
   "metadata": {},
   "source": [
    "На основании использования предыдущего метода определила основные категории и присвоила их подходящим значениям."
   ]
  },
  {
   "cell_type": "markdown",
   "metadata": {},
   "source": [
    "## Ответьте на вопросы"
   ]
  },
  {
   "cell_type": "markdown",
   "metadata": {},
   "source": [
    "- Есть ли зависимость между наличием детей и возвратом кредита в срок?"
   ]
  },
  {
   "cell_type": "code",
   "execution_count": 14,
   "metadata": {
    "scrolled": true
   },
   "outputs": [
    {
     "data": {
      "text/html": [
       "<div>\n",
       "<style scoped>\n",
       "    .dataframe tbody tr th:only-of-type {\n",
       "        vertical-align: middle;\n",
       "    }\n",
       "\n",
       "    .dataframe tbody tr th {\n",
       "        vertical-align: top;\n",
       "    }\n",
       "\n",
       "    .dataframe thead th {\n",
       "        text-align: right;\n",
       "    }\n",
       "</style>\n",
       "<table border=\"1\" class=\"dataframe\">\n",
       "  <thead>\n",
       "    <tr style=\"text-align: right;\">\n",
       "      <th></th>\n",
       "      <th>debt</th>\n",
       "      <th>count_debt</th>\n",
       "      <th>percent_debt</th>\n",
       "    </tr>\n",
       "    <tr>\n",
       "      <th>children</th>\n",
       "      <th></th>\n",
       "      <th></th>\n",
       "      <th></th>\n",
       "    </tr>\n",
       "  </thead>\n",
       "  <tbody>\n",
       "    <tr>\n",
       "      <th>20</th>\n",
       "      <td>8</td>\n",
       "      <td>76</td>\n",
       "      <td>10.526316</td>\n",
       "    </tr>\n",
       "    <tr>\n",
       "      <th>4</th>\n",
       "      <td>4</td>\n",
       "      <td>41</td>\n",
       "      <td>9.756098</td>\n",
       "    </tr>\n",
       "    <tr>\n",
       "      <th>2</th>\n",
       "      <td>194</td>\n",
       "      <td>2055</td>\n",
       "      <td>9.440389</td>\n",
       "    </tr>\n",
       "    <tr>\n",
       "      <th>1</th>\n",
       "      <td>444</td>\n",
       "      <td>4818</td>\n",
       "      <td>9.215442</td>\n",
       "    </tr>\n",
       "    <tr>\n",
       "      <th>3</th>\n",
       "      <td>27</td>\n",
       "      <td>330</td>\n",
       "      <td>8.181818</td>\n",
       "    </tr>\n",
       "    <tr>\n",
       "      <th>0</th>\n",
       "      <td>1063</td>\n",
       "      <td>14149</td>\n",
       "      <td>7.512898</td>\n",
       "    </tr>\n",
       "    <tr>\n",
       "      <th>-1</th>\n",
       "      <td>1</td>\n",
       "      <td>47</td>\n",
       "      <td>2.127660</td>\n",
       "    </tr>\n",
       "    <tr>\n",
       "      <th>5</th>\n",
       "      <td>0</td>\n",
       "      <td>9</td>\n",
       "      <td>0.000000</td>\n",
       "    </tr>\n",
       "  </tbody>\n",
       "</table>\n",
       "</div>"
      ],
      "text/plain": [
       "          debt  count_debt  percent_debt\n",
       "children                                \n",
       " 20          8          76     10.526316\n",
       " 4           4          41      9.756098\n",
       " 2         194        2055      9.440389\n",
       " 1         444        4818      9.215442\n",
       " 3          27         330      8.181818\n",
       " 0        1063       14149      7.512898\n",
       "-1           1          47      2.127660\n",
       " 5           0           9      0.000000"
      ]
     },
     "execution_count": 14,
     "metadata": {},
     "output_type": "execute_result"
    }
   ],
   "source": [
    "data_grouped_child=data.pivot_table(index='children', values='debt', aggfunc='sum')\n",
    "data_grouped_child['count_debt']=data.pivot_table(index='children', values='debt', aggfunc='count')\n",
    "data_grouped_child['percent_debt']=(data_grouped_child['debt']/data_grouped_child['count_debt'])*100\n",
    "data_grouped_child.sort_values('percent_debt',ascending=[False])"
   ]
  },
  {
   "cell_type": "markdown",
   "metadata": {},
   "source": [
    "**Вывод**"
   ]
  },
  {
   "cell_type": "markdown",
   "metadata": {},
   "source": [
    "Самая большая просрочка по платежам у многодетных семей."
   ]
  },
  {
   "cell_type": "markdown",
   "metadata": {},
   "source": [
    "- Есть ли зависимость между семейным положением и возвратом кредита в срок?"
   ]
  },
  {
   "cell_type": "code",
   "execution_count": 15,
   "metadata": {
    "scrolled": true
   },
   "outputs": [
    {
     "data": {
      "text/html": [
       "<div>\n",
       "<style scoped>\n",
       "    .dataframe tbody tr th:only-of-type {\n",
       "        vertical-align: middle;\n",
       "    }\n",
       "\n",
       "    .dataframe tbody tr th {\n",
       "        vertical-align: top;\n",
       "    }\n",
       "\n",
       "    .dataframe thead th {\n",
       "        text-align: right;\n",
       "    }\n",
       "</style>\n",
       "<table border=\"1\" class=\"dataframe\">\n",
       "  <thead>\n",
       "    <tr style=\"text-align: right;\">\n",
       "      <th></th>\n",
       "      <th>debt</th>\n",
       "      <th>count_debt</th>\n",
       "      <th>percent_debt</th>\n",
       "    </tr>\n",
       "    <tr>\n",
       "      <th>family_status</th>\n",
       "      <th></th>\n",
       "      <th></th>\n",
       "      <th></th>\n",
       "    </tr>\n",
       "  </thead>\n",
       "  <tbody>\n",
       "    <tr>\n",
       "      <th>Не женат / не замужем</th>\n",
       "      <td>274</td>\n",
       "      <td>2813</td>\n",
       "      <td>9.740491</td>\n",
       "    </tr>\n",
       "    <tr>\n",
       "      <th>гражданский брак</th>\n",
       "      <td>388</td>\n",
       "      <td>4177</td>\n",
       "      <td>9.288963</td>\n",
       "    </tr>\n",
       "    <tr>\n",
       "      <th>женат / замужем</th>\n",
       "      <td>931</td>\n",
       "      <td>12380</td>\n",
       "      <td>7.520194</td>\n",
       "    </tr>\n",
       "    <tr>\n",
       "      <th>в разводе</th>\n",
       "      <td>85</td>\n",
       "      <td>1195</td>\n",
       "      <td>7.112971</td>\n",
       "    </tr>\n",
       "    <tr>\n",
       "      <th>вдовец / вдова</th>\n",
       "      <td>63</td>\n",
       "      <td>960</td>\n",
       "      <td>6.562500</td>\n",
       "    </tr>\n",
       "  </tbody>\n",
       "</table>\n",
       "</div>"
      ],
      "text/plain": [
       "                       debt  count_debt  percent_debt\n",
       "family_status                                        \n",
       "Не женат / не замужем   274        2813      9.740491\n",
       "гражданский брак        388        4177      9.288963\n",
       "женат / замужем         931       12380      7.520194\n",
       "в разводе                85        1195      7.112971\n",
       "вдовец / вдова           63         960      6.562500"
      ]
     },
     "execution_count": 15,
     "metadata": {},
     "output_type": "execute_result"
    }
   ],
   "source": [
    "data_grouped_marital=data.pivot_table(index='family_status', values='debt', aggfunc='sum')\n",
    "data_grouped_marital['count_debt']=data.pivot_table(index='family_status', values='debt', aggfunc='count')\n",
    "data_grouped_marital['percent_debt']=(data_grouped_marital['debt']/data_grouped_marital['count_debt'])*100\n",
    "data_grouped_marital.sort_values('percent_debt',ascending=[False])"
   ]
  },
  {
   "cell_type": "markdown",
   "metadata": {},
   "source": [
    "**Вывод**"
   ]
  },
  {
   "cell_type": "markdown",
   "metadata": {},
   "source": [
    "Посмотрев на сводную таблицу, можно увидеть, что доля просроченых кредитов больше у людей, которые находятся в гражданском браке или не женаты. Чаще всего возращают кредиты вдовцы и вдовы."
   ]
  },
  {
   "cell_type": "markdown",
   "metadata": {},
   "source": [
    "- Есть ли зависимость между уровнем дохода и возвратом кредита в срок?"
   ]
  },
  {
   "cell_type": "code",
   "execution_count": 16,
   "metadata": {},
   "outputs": [
    {
     "data": {
      "text/html": [
       "<div>\n",
       "<style scoped>\n",
       "    .dataframe tbody tr th:only-of-type {\n",
       "        vertical-align: middle;\n",
       "    }\n",
       "\n",
       "    .dataframe tbody tr th {\n",
       "        vertical-align: top;\n",
       "    }\n",
       "\n",
       "    .dataframe thead th {\n",
       "        text-align: right;\n",
       "    }\n",
       "</style>\n",
       "<table border=\"1\" class=\"dataframe\">\n",
       "  <thead>\n",
       "    <tr style=\"text-align: right;\">\n",
       "      <th></th>\n",
       "      <th>debt</th>\n",
       "      <th>count_debt</th>\n",
       "      <th>percent_debt</th>\n",
       "    </tr>\n",
       "    <tr>\n",
       "      <th>income_cat</th>\n",
       "      <th></th>\n",
       "      <th></th>\n",
       "      <th></th>\n",
       "    </tr>\n",
       "  </thead>\n",
       "  <tbody>\n",
       "    <tr>\n",
       "      <th>(107798.0, 142594.0]</th>\n",
       "      <td>483</td>\n",
       "      <td>5523</td>\n",
       "      <td>8.745247</td>\n",
       "    </tr>\n",
       "    <tr>\n",
       "      <th>(142594.0, 195549.0]</th>\n",
       "      <td>445</td>\n",
       "      <td>5239</td>\n",
       "      <td>8.493987</td>\n",
       "    </tr>\n",
       "    <tr>\n",
       "      <th>(20666.999, 107798.0]</th>\n",
       "      <td>427</td>\n",
       "      <td>5382</td>\n",
       "      <td>7.933854</td>\n",
       "    </tr>\n",
       "    <tr>\n",
       "      <th>(195549.0, 2265604.0]</th>\n",
       "      <td>386</td>\n",
       "      <td>5381</td>\n",
       "      <td>7.173388</td>\n",
       "    </tr>\n",
       "  </tbody>\n",
       "</table>\n",
       "</div>"
      ],
      "text/plain": [
       "                       debt  count_debt  percent_debt\n",
       "income_cat                                           \n",
       "(107798.0, 142594.0]    483        5523      8.745247\n",
       "(142594.0, 195549.0]    445        5239      8.493987\n",
       "(20666.999, 107798.0]   427        5382      7.933854\n",
       "(195549.0, 2265604.0]   386        5381      7.173388"
      ]
     },
     "execution_count": 16,
     "metadata": {},
     "output_type": "execute_result"
    }
   ],
   "source": [
    "data['income_cat']=pd.qcut(data['total_income'], q=4)\n",
    "data_grouped_income=data.pivot_table(index='income_cat', values='debt', aggfunc='sum')\n",
    "data_grouped_income['count_debt']=data.pivot_table(index='income_cat', values='debt', aggfunc='count')\n",
    "data_grouped_income['percent_debt']=(data_grouped_income['debt']/data_grouped_income['count_debt'])*100\n",
    "data_grouped_income.sort_values('percent_debt',ascending=[False])"
   ]
  },
  {
   "cell_type": "markdown",
   "metadata": {},
   "source": [
    "**Вывод**"
   ]
  },
  {
   "cell_type": "markdown",
   "metadata": {},
   "source": [
    "Уровень дохода не значительно влияет на кредитные выплаты в срок."
   ]
  },
  {
   "cell_type": "markdown",
   "metadata": {},
   "source": [
    "- Как разные цели кредита влияют на его возврат в срок?"
   ]
  },
  {
   "cell_type": "code",
   "execution_count": 17,
   "metadata": {},
   "outputs": [
    {
     "data": {
      "text/html": [
       "<div>\n",
       "<style scoped>\n",
       "    .dataframe tbody tr th:only-of-type {\n",
       "        vertical-align: middle;\n",
       "    }\n",
       "\n",
       "    .dataframe tbody tr th {\n",
       "        vertical-align: top;\n",
       "    }\n",
       "\n",
       "    .dataframe thead th {\n",
       "        text-align: right;\n",
       "    }\n",
       "</style>\n",
       "<table border=\"1\" class=\"dataframe\">\n",
       "  <thead>\n",
       "    <tr style=\"text-align: right;\">\n",
       "      <th></th>\n",
       "      <th>debt</th>\n",
       "      <th>count_debt</th>\n",
       "      <th>percent_debt</th>\n",
       "    </tr>\n",
       "    <tr>\n",
       "      <th>purpose_ctg</th>\n",
       "      <th></th>\n",
       "      <th></th>\n",
       "      <th></th>\n",
       "    </tr>\n",
       "  </thead>\n",
       "  <tbody>\n",
       "    <tr>\n",
       "      <th>автомобиль</th>\n",
       "      <td>403</td>\n",
       "      <td>4315</td>\n",
       "      <td>9.339513</td>\n",
       "    </tr>\n",
       "    <tr>\n",
       "      <th>образование</th>\n",
       "      <td>370</td>\n",
       "      <td>4022</td>\n",
       "      <td>9.199403</td>\n",
       "    </tr>\n",
       "    <tr>\n",
       "      <th>свадьба</th>\n",
       "      <td>186</td>\n",
       "      <td>2348</td>\n",
       "      <td>7.921635</td>\n",
       "    </tr>\n",
       "    <tr>\n",
       "      <th>недвижимость</th>\n",
       "      <td>782</td>\n",
       "      <td>10840</td>\n",
       "      <td>7.214022</td>\n",
       "    </tr>\n",
       "  </tbody>\n",
       "</table>\n",
       "</div>"
      ],
      "text/plain": [
       "              debt  count_debt  percent_debt\n",
       "purpose_ctg                                 \n",
       "автомобиль     403        4315      9.339513\n",
       "образование    370        4022      9.199403\n",
       "свадьба        186        2348      7.921635\n",
       "недвижимость   782       10840      7.214022"
      ]
     },
     "execution_count": 17,
     "metadata": {},
     "output_type": "execute_result"
    }
   ],
   "source": [
    "data_grouped_purpose=data.pivot_table(index='purpose_ctg', values='debt', aggfunc='sum')\n",
    "data_grouped_purpose['count_debt']=data.pivot_table(index='purpose_ctg', values='debt', aggfunc='count')\n",
    "data_grouped_purpose['percent_debt']=(data_grouped_purpose['debt']/data_grouped_purpose['count_debt'])*100\n",
    "data_grouped_purpose.sort_values('percent_debt',ascending=[False])"
   ]
  },
  {
   "cell_type": "markdown",
   "metadata": {},
   "source": [
    "**Вывод**"
   ]
  },
  {
   "cell_type": "markdown",
   "metadata": {},
   "source": [
    "Чаще других просрачивают платежи за образование и на приобретение автомобиля."
   ]
  },
  {
   "cell_type": "markdown",
   "metadata": {},
   "source": [
    "## Общий вывод"
   ]
  },
  {
   "cell_type": "markdown",
   "metadata": {},
   "source": [
    "Больше всего на невозврат кредитных средств в срок влияет количество детей (чем больше детей, тем риск выше), уровень дохода практически не влияет при этом. Незначительное влияение оказывает цель кредита (в зоне риска автомобильные кредиты и образование) и семейное положение (люди не состоящие в отношениеях или состоящие в незарегистрированных отношениях более необязательные)."
   ]
  }
 ],
 "metadata": {
  "ExecuteTimeLog": [
   {
    "duration": 822,
    "start_time": "2021-07-07T18:44:22.103Z"
   },
   {
    "duration": 78,
    "start_time": "2021-07-07T18:48:43.520Z"
   },
   {
    "duration": 845,
    "start_time": "2021-07-07T18:58:23.983Z"
   },
   {
    "duration": 78,
    "start_time": "2021-07-07T18:59:36.278Z"
   },
   {
    "duration": 1036,
    "start_time": "2021-07-08T13:39:22.800Z"
   },
   {
    "duration": 28,
    "start_time": "2021-07-08T14:03:38.470Z"
   },
   {
    "duration": 18,
    "start_time": "2021-07-08T14:03:51.402Z"
   },
   {
    "duration": 19,
    "start_time": "2021-07-08T14:04:15.415Z"
   },
   {
    "duration": 15,
    "start_time": "2021-07-08T14:04:23.197Z"
   },
   {
    "duration": 14,
    "start_time": "2021-07-08T14:04:28.073Z"
   },
   {
    "duration": 504,
    "start_time": "2021-07-08T14:05:24.499Z"
   },
   {
    "duration": -46,
    "start_time": "2021-07-08T14:06:22.016Z"
   },
   {
    "duration": -46,
    "start_time": "2021-07-08T14:06:36.640Z"
   },
   {
    "duration": 13,
    "start_time": "2021-07-08T14:06:55.793Z"
   },
   {
    "duration": -49,
    "start_time": "2021-07-08T14:07:28.530Z"
   },
   {
    "duration": -49,
    "start_time": "2021-07-08T14:07:44.305Z"
   },
   {
    "duration": -48,
    "start_time": "2021-07-08T14:07:44.307Z"
   },
   {
    "duration": 8351,
    "start_time": "2021-07-08T14:07:48.637Z"
   },
   {
    "duration": 11,
    "start_time": "2021-07-08T14:08:32.618Z"
   },
   {
    "duration": 941,
    "start_time": "2021-07-08T14:08:43.214Z"
   },
   {
    "duration": 84,
    "start_time": "2021-07-08T14:08:53.016Z"
   },
   {
    "duration": 15,
    "start_time": "2021-07-08T14:10:29.414Z"
   },
   {
    "duration": 36,
    "start_time": "2021-07-08T14:12:34.244Z"
   },
   {
    "duration": 22,
    "start_time": "2021-07-08T14:14:43.362Z"
   },
   {
    "duration": 17,
    "start_time": "2021-07-08T14:18:56.018Z"
   },
   {
    "duration": 21,
    "start_time": "2021-07-08T14:27:06.406Z"
   },
   {
    "duration": 9,
    "start_time": "2021-07-08T14:27:25.879Z"
   },
   {
    "duration": 9,
    "start_time": "2021-07-08T14:27:39.291Z"
   },
   {
    "duration": 11,
    "start_time": "2021-07-08T14:30:53.230Z"
   },
   {
    "duration": 12,
    "start_time": "2021-07-08T14:31:19.901Z"
   },
   {
    "duration": 14,
    "start_time": "2021-07-08T14:32:07.598Z"
   },
   {
    "duration": 17,
    "start_time": "2021-07-08T14:32:39.591Z"
   },
   {
    "duration": 14,
    "start_time": "2021-07-08T14:33:13.062Z"
   },
   {
    "duration": 15,
    "start_time": "2021-07-08T14:33:36.510Z"
   },
   {
    "duration": 829,
    "start_time": "2021-07-08T14:33:57.019Z"
   },
   {
    "duration": 15,
    "start_time": "2021-07-08T14:33:57.851Z"
   },
   {
    "duration": 23,
    "start_time": "2021-07-08T14:44:23.354Z"
   },
   {
    "duration": 79,
    "start_time": "2021-07-08T18:44:06.118Z"
   },
   {
    "duration": 79,
    "start_time": "2021-07-08T18:47:46.335Z"
   },
   {
    "duration": 1004,
    "start_time": "2021-07-08T19:07:21.266Z"
   },
   {
    "duration": 24,
    "start_time": "2021-07-08T19:07:22.273Z"
   },
   {
    "duration": 36,
    "start_time": "2021-07-08T19:14:56.933Z"
   },
   {
    "duration": 43,
    "start_time": "2021-07-08T19:15:10.431Z"
   },
   {
    "duration": 925,
    "start_time": "2021-07-08T19:15:31.489Z"
   },
   {
    "duration": 33,
    "start_time": "2021-07-08T19:15:32.417Z"
   },
   {
    "duration": 29,
    "start_time": "2021-07-08T19:29:47.600Z"
   },
   {
    "duration": 1787,
    "start_time": "2021-07-08T19:35:05.130Z"
   },
   {
    "duration": 20,
    "start_time": "2021-07-08T19:35:18.658Z"
   },
   {
    "duration": 19,
    "start_time": "2021-07-08T19:37:09.244Z"
   },
   {
    "duration": 31,
    "start_time": "2021-07-08T19:41:08.010Z"
   },
   {
    "duration": 920,
    "start_time": "2021-07-08T19:41:24.651Z"
   },
   {
    "duration": 31,
    "start_time": "2021-07-08T19:41:25.576Z"
   },
   {
    "duration": 30,
    "start_time": "2021-07-08T19:41:47.196Z"
   },
   {
    "duration": 33,
    "start_time": "2021-07-08T19:42:14.288Z"
   },
   {
    "duration": 815,
    "start_time": "2021-07-08T19:42:31.828Z"
   },
   {
    "duration": 47,
    "start_time": "2021-07-08T19:42:32.646Z"
   },
   {
    "duration": 993,
    "start_time": "2021-07-08T19:43:28.477Z"
   },
   {
    "duration": 31,
    "start_time": "2021-07-08T19:43:29.473Z"
   },
   {
    "duration": 878,
    "start_time": "2021-07-08T19:44:26.831Z"
   },
   {
    "duration": 28,
    "start_time": "2021-07-08T19:44:27.712Z"
   },
   {
    "duration": 27,
    "start_time": "2021-07-08T19:57:54.550Z"
   },
   {
    "duration": 32,
    "start_time": "2021-07-08T19:58:10.494Z"
   },
   {
    "duration": 963,
    "start_time": "2021-07-08T19:58:23.952Z"
   },
   {
    "duration": 25,
    "start_time": "2021-07-08T19:58:24.918Z"
   },
   {
    "duration": 75,
    "start_time": "2021-07-08T19:58:24.946Z"
   },
   {
    "duration": 27,
    "start_time": "2021-07-08T19:59:55.953Z"
   },
   {
    "duration": 21,
    "start_time": "2021-07-08T20:00:26.599Z"
   },
   {
    "duration": 82,
    "start_time": "2021-07-08T20:04:13.544Z"
   },
   {
    "duration": 7860,
    "start_time": "2021-07-10T10:43:37.449Z"
   },
   {
    "duration": 9,
    "start_time": "2021-07-10T10:43:58.988Z"
   },
   {
    "duration": 13,
    "start_time": "2021-07-10T10:45:21.267Z"
   },
   {
    "duration": 17,
    "start_time": "2021-07-10T10:46:44.657Z"
   },
   {
    "duration": 364,
    "start_time": "2021-07-10T10:55:12.651Z"
   },
   {
    "duration": 829,
    "start_time": "2021-07-10T10:55:29.903Z"
   },
   {
    "duration": 27,
    "start_time": "2021-07-10T10:55:30.735Z"
   },
   {
    "duration": 20,
    "start_time": "2021-07-10T10:55:30.785Z"
   },
   {
    "duration": 427,
    "start_time": "2021-07-10T10:55:30.808Z"
   },
   {
    "duration": 50,
    "start_time": "2021-07-10T10:58:16.975Z"
   },
   {
    "duration": 39,
    "start_time": "2021-07-10T10:58:59.955Z"
   },
   {
    "duration": 311,
    "start_time": "2021-07-10T16:59:51.539Z"
   },
   {
    "duration": 328,
    "start_time": "2021-07-10T17:00:19.043Z"
   },
   {
    "duration": 107,
    "start_time": "2021-07-10T17:03:04.640Z"
   },
   {
    "duration": 3592,
    "start_time": "2021-07-10T17:03:17.783Z"
   },
   {
    "duration": 3688,
    "start_time": "2021-07-10T17:03:58.179Z"
   },
   {
    "duration": 7,
    "start_time": "2021-07-11T10:34:59.210Z"
   },
   {
    "duration": 7,
    "start_time": "2021-07-11T10:35:17.857Z"
   },
   {
    "duration": 6460,
    "start_time": "2021-07-11T10:49:38.605Z"
   },
   {
    "duration": 935,
    "start_time": "2021-07-11T10:49:54.154Z"
   },
   {
    "duration": 37,
    "start_time": "2021-07-11T10:49:55.092Z"
   },
   {
    "duration": 52,
    "start_time": "2021-07-11T10:49:55.133Z"
   },
   {
    "duration": 35,
    "start_time": "2021-07-11T10:49:55.188Z"
   },
   {
    "duration": 3725,
    "start_time": "2021-07-11T10:49:55.225Z"
   },
   {
    "duration": 4949,
    "start_time": "2021-07-11T10:49:58.953Z"
   },
   {
    "duration": 312,
    "start_time": "2021-07-11T10:51:01.008Z"
   },
   {
    "duration": 404,
    "start_time": "2021-07-11T10:51:46.929Z"
   },
   {
    "duration": 386,
    "start_time": "2021-07-11T10:52:16.326Z"
   },
   {
    "duration": 870,
    "start_time": "2021-07-11T10:52:36.581Z"
   },
   {
    "duration": 33,
    "start_time": "2021-07-11T10:52:37.455Z"
   },
   {
    "duration": 20,
    "start_time": "2021-07-11T10:52:37.492Z"
   },
   {
    "duration": 35,
    "start_time": "2021-07-11T10:52:37.515Z"
   },
   {
    "duration": 3708,
    "start_time": "2021-07-11T10:52:37.552Z"
   },
   {
    "duration": 414,
    "start_time": "2021-07-11T10:52:41.262Z"
   },
   {
    "duration": 1314,
    "start_time": "2021-07-11T10:54:15.038Z"
   },
   {
    "duration": 4112,
    "start_time": "2021-07-11T10:55:14.453Z"
   },
   {
    "duration": 27,
    "start_time": "2021-07-11T10:56:59.120Z"
   },
   {
    "duration": 810,
    "start_time": "2021-07-11T10:57:22.134Z"
   },
   {
    "duration": 42,
    "start_time": "2021-07-11T10:57:22.947Z"
   },
   {
    "duration": 20,
    "start_time": "2021-07-11T10:57:22.992Z"
   },
   {
    "duration": 39,
    "start_time": "2021-07-11T10:57:23.014Z"
   },
   {
    "duration": 3778,
    "start_time": "2021-07-11T10:57:23.056Z"
   },
   {
    "duration": 49,
    "start_time": "2021-07-11T10:57:26.838Z"
   },
   {
    "duration": 26,
    "start_time": "2021-07-11T10:57:38.351Z"
   },
   {
    "duration": 27,
    "start_time": "2021-07-11T10:59:10.909Z"
   },
   {
    "duration": 1065,
    "start_time": "2021-07-11T11:12:18.667Z"
   },
   {
    "duration": 1205,
    "start_time": "2021-07-11T11:14:15.651Z"
   },
   {
    "duration": 55,
    "start_time": "2021-07-11T11:14:16.860Z"
   },
   {
    "duration": 45,
    "start_time": "2021-07-11T11:14:16.920Z"
   },
   {
    "duration": 66,
    "start_time": "2021-07-11T11:14:16.968Z"
   },
   {
    "duration": 4092,
    "start_time": "2021-07-11T11:14:17.038Z"
   },
   {
    "duration": 856,
    "start_time": "2021-07-11T11:19:54.845Z"
   },
   {
    "duration": 25,
    "start_time": "2021-07-11T11:19:55.704Z"
   },
   {
    "duration": 18,
    "start_time": "2021-07-11T11:19:55.732Z"
   },
   {
    "duration": 63,
    "start_time": "2021-07-11T11:19:55.752Z"
   },
   {
    "duration": 3727,
    "start_time": "2021-07-11T11:19:55.817Z"
   },
   {
    "duration": 857,
    "start_time": "2021-07-11T11:19:59.548Z"
   },
   {
    "duration": 2275,
    "start_time": "2021-07-11T11:22:07.480Z"
   },
   {
    "duration": 1739,
    "start_time": "2021-07-11T11:22:42.369Z"
   },
   {
    "duration": 1903,
    "start_time": "2021-07-11T11:22:54.144Z"
   },
   {
    "duration": 1907,
    "start_time": "2021-07-11T11:23:59.668Z"
   },
   {
    "duration": 1469,
    "start_time": "2021-07-11T11:26:20.707Z"
   },
   {
    "duration": 1434,
    "start_time": "2021-07-11T11:26:24.932Z"
   },
   {
    "duration": 563,
    "start_time": "2021-07-11T11:27:22.522Z"
   },
   {
    "duration": 541,
    "start_time": "2021-07-11T11:27:39.199Z"
   },
   {
    "duration": 901,
    "start_time": "2021-07-11T11:28:01.019Z"
   },
   {
    "duration": 1037,
    "start_time": "2021-07-11T11:29:03.429Z"
   },
   {
    "duration": 886,
    "start_time": "2021-07-11T11:29:25.760Z"
   },
   {
    "duration": 25,
    "start_time": "2021-07-11T11:29:26.649Z"
   },
   {
    "duration": 20,
    "start_time": "2021-07-11T11:29:26.687Z"
   },
   {
    "duration": 35,
    "start_time": "2021-07-11T11:29:26.709Z"
   },
   {
    "duration": 3317,
    "start_time": "2021-07-11T11:29:26.746Z"
   },
   {
    "duration": 929,
    "start_time": "2021-07-11T11:34:55.271Z"
   },
   {
    "duration": 26,
    "start_time": "2021-07-11T11:34:56.203Z"
   },
   {
    "duration": 24,
    "start_time": "2021-07-11T11:34:56.232Z"
   },
   {
    "duration": 37,
    "start_time": "2021-07-11T11:34:56.286Z"
   },
   {
    "duration": 3854,
    "start_time": "2021-07-11T11:34:56.326Z"
   },
   {
    "duration": 4597,
    "start_time": "2021-07-11T11:35:00.187Z"
   },
   {
    "duration": 3718,
    "start_time": "2021-07-11T11:35:30.702Z"
   },
   {
    "duration": 3842,
    "start_time": "2021-07-11T11:36:32.791Z"
   },
   {
    "duration": 3573,
    "start_time": "2021-07-11T11:37:28.202Z"
   },
   {
    "duration": 3940,
    "start_time": "2021-07-11T11:37:33.670Z"
   },
   {
    "duration": 3806,
    "start_time": "2021-07-11T11:37:47.259Z"
   },
   {
    "duration": 3672,
    "start_time": "2021-07-11T11:39:06.449Z"
   },
   {
    "duration": 3594,
    "start_time": "2021-07-11T11:40:15.809Z"
   },
   {
    "duration": 3728,
    "start_time": "2021-07-11T11:40:42.909Z"
   },
   {
    "duration": 3587,
    "start_time": "2021-07-11T11:41:27.569Z"
   },
   {
    "duration": 3711,
    "start_time": "2021-07-11T11:42:01.959Z"
   },
   {
    "duration": 3779,
    "start_time": "2021-07-11T11:42:52.543Z"
   },
   {
    "duration": 3719,
    "start_time": "2021-07-11T11:43:52.811Z"
   },
   {
    "duration": 817,
    "start_time": "2021-07-11T11:44:28.525Z"
   },
   {
    "duration": 45,
    "start_time": "2021-07-11T11:44:29.345Z"
   },
   {
    "duration": 20,
    "start_time": "2021-07-11T11:44:29.393Z"
   },
   {
    "duration": 34,
    "start_time": "2021-07-11T11:44:29.415Z"
   },
   {
    "duration": 3677,
    "start_time": "2021-07-11T11:44:29.452Z"
   },
   {
    "duration": 3838,
    "start_time": "2021-07-11T11:44:33.131Z"
   },
   {
    "duration": 3677,
    "start_time": "2021-07-11T11:47:08.741Z"
   },
   {
    "duration": 3669,
    "start_time": "2021-07-11T11:49:10.781Z"
   },
   {
    "duration": 3739,
    "start_time": "2021-07-11T11:50:05.463Z"
   },
   {
    "duration": 3621,
    "start_time": "2021-07-11T11:50:44.222Z"
   },
   {
    "duration": 3674,
    "start_time": "2021-07-11T11:55:09.362Z"
   },
   {
    "duration": 934,
    "start_time": "2021-07-11T11:57:31.065Z"
   },
   {
    "duration": 31,
    "start_time": "2021-07-11T11:57:32.002Z"
   },
   {
    "duration": 56,
    "start_time": "2021-07-11T11:57:32.038Z"
   },
   {
    "duration": 49,
    "start_time": "2021-07-11T11:57:32.098Z"
   },
   {
    "duration": 3917,
    "start_time": "2021-07-11T11:57:32.150Z"
   },
   {
    "duration": 4401,
    "start_time": "2021-07-11T11:57:36.070Z"
   },
   {
    "duration": 9,
    "start_time": "2021-07-11T12:23:52.622Z"
   },
   {
    "duration": 8315,
    "start_time": "2021-07-11T12:26:42.347Z"
   },
   {
    "duration": 9,
    "start_time": "2021-07-11T12:37:21.694Z"
   },
   {
    "duration": 10,
    "start_time": "2021-07-11T12:55:57.424Z"
   },
   {
    "duration": 10,
    "start_time": "2021-07-11T12:56:14.539Z"
   },
   {
    "duration": 14,
    "start_time": "2021-07-11T13:01:55.994Z"
   },
   {
    "duration": 101,
    "start_time": "2021-07-11T13:04:19.694Z"
   },
   {
    "duration": 118,
    "start_time": "2021-07-11T13:04:31.034Z"
   },
   {
    "duration": 104,
    "start_time": "2021-07-11T13:04:43.114Z"
   },
   {
    "duration": 10,
    "start_time": "2021-07-11T13:04:50.431Z"
   },
   {
    "duration": 115,
    "start_time": "2021-07-11T13:04:59.414Z"
   },
   {
    "duration": 12,
    "start_time": "2021-07-11T13:05:48.204Z"
   },
   {
    "duration": 105,
    "start_time": "2021-07-11T13:06:01.675Z"
   },
   {
    "duration": 113,
    "start_time": "2021-07-11T13:06:27.711Z"
   },
   {
    "duration": 108,
    "start_time": "2021-07-11T13:06:44.764Z"
   },
   {
    "duration": 117,
    "start_time": "2021-07-11T13:07:03.912Z"
   },
   {
    "duration": 100,
    "start_time": "2021-07-11T13:07:15.465Z"
   },
   {
    "duration": 112,
    "start_time": "2021-07-11T13:08:10.555Z"
   },
   {
    "duration": 102,
    "start_time": "2021-07-11T13:08:44.392Z"
   },
   {
    "duration": 11,
    "start_time": "2021-07-11T13:08:48.885Z"
   },
   {
    "duration": 24,
    "start_time": "2021-07-11T13:11:47.912Z"
   },
   {
    "duration": 14,
    "start_time": "2021-07-11T13:12:02.435Z"
   },
   {
    "duration": 17,
    "start_time": "2021-07-11T13:12:46.685Z"
   },
   {
    "duration": 15,
    "start_time": "2021-07-11T13:13:05.116Z"
   },
   {
    "duration": 11,
    "start_time": "2021-07-11T13:13:37.716Z"
   },
   {
    "duration": 14,
    "start_time": "2021-07-11T13:13:53.555Z"
   },
   {
    "duration": 333,
    "start_time": "2021-07-11T13:16:01.945Z"
   },
   {
    "duration": 313,
    "start_time": "2021-07-11T13:16:25.445Z"
   },
   {
    "duration": 145,
    "start_time": "2021-07-11T13:16:36.835Z"
   },
   {
    "duration": 14,
    "start_time": "2021-07-11T13:17:10.726Z"
   },
   {
    "duration": 114,
    "start_time": "2021-07-11T13:27:14.306Z"
   },
   {
    "duration": 451,
    "start_time": "2021-07-11T13:27:41.426Z"
   },
   {
    "duration": 322,
    "start_time": "2021-07-11T13:28:35.396Z"
   },
   {
    "duration": 8560,
    "start_time": "2021-07-11T13:28:46.393Z"
   },
   {
    "duration": 91,
    "start_time": "2021-07-11T13:29:32.046Z"
   },
   {
    "duration": 713,
    "start_time": "2021-07-11T13:30:30.446Z"
   },
   {
    "duration": 343,
    "start_time": "2021-07-11T13:31:36.526Z"
   },
   {
    "duration": 6,
    "start_time": "2021-07-11T13:31:45.596Z"
   },
   {
    "duration": 366,
    "start_time": "2021-07-11T13:32:08.875Z"
   },
   {
    "duration": 11,
    "start_time": "2021-07-11T13:32:24.286Z"
   },
   {
    "duration": 14,
    "start_time": "2021-07-11T13:34:40.866Z"
   },
   {
    "duration": 7,
    "start_time": "2021-07-11T13:45:48.556Z"
   },
   {
    "duration": 307,
    "start_time": "2021-07-11T13:46:12.076Z"
   },
   {
    "duration": 112,
    "start_time": "2021-07-11T13:46:34.356Z"
   },
   {
    "duration": 320,
    "start_time": "2021-07-11T13:46:41.806Z"
   },
   {
    "duration": 315,
    "start_time": "2021-07-11T13:46:54.166Z"
   },
   {
    "duration": 11,
    "start_time": "2021-07-11T13:47:12.346Z"
   },
   {
    "duration": 546,
    "start_time": "2021-07-11T13:47:39.706Z"
   },
   {
    "duration": 25,
    "start_time": "2021-07-11T13:47:49.446Z"
   },
   {
    "duration": 853,
    "start_time": "2021-07-11T13:48:26.127Z"
   },
   {
    "duration": 25,
    "start_time": "2021-07-11T13:48:26.983Z"
   },
   {
    "duration": 18,
    "start_time": "2021-07-11T13:48:27.011Z"
   },
   {
    "duration": 59,
    "start_time": "2021-07-11T13:48:27.032Z"
   },
   {
    "duration": 3651,
    "start_time": "2021-07-11T13:48:27.093Z"
   },
   {
    "duration": 3696,
    "start_time": "2021-07-11T13:48:30.746Z"
   },
   {
    "duration": 41,
    "start_time": "2021-07-11T13:48:34.444Z"
   },
   {
    "duration": 14,
    "start_time": "2021-07-11T13:48:34.489Z"
   },
   {
    "duration": 31,
    "start_time": "2021-07-11T13:48:34.505Z"
   },
   {
    "duration": 40,
    "start_time": "2021-07-11T14:10:13.908Z"
   },
   {
    "duration": 21,
    "start_time": "2021-07-11T14:14:16.662Z"
   },
   {
    "duration": 18,
    "start_time": "2021-07-11T14:14:29.726Z"
   },
   {
    "duration": 25,
    "start_time": "2021-07-11T14:14:39.177Z"
   },
   {
    "duration": 18,
    "start_time": "2021-07-11T14:17:01.314Z"
   },
   {
    "duration": 46,
    "start_time": "2021-07-11T14:17:13.487Z"
   },
   {
    "duration": 21,
    "start_time": "2021-07-11T14:18:12.110Z"
   },
   {
    "duration": 20,
    "start_time": "2021-07-11T14:18:55.657Z"
   },
   {
    "duration": 21,
    "start_time": "2021-07-11T14:19:23.542Z"
   },
   {
    "duration": 23,
    "start_time": "2021-07-11T14:19:54.885Z"
   },
   {
    "duration": 21,
    "start_time": "2021-07-11T14:20:09.796Z"
   },
   {
    "duration": 16,
    "start_time": "2021-07-11T14:22:29.644Z"
   },
   {
    "duration": 14,
    "start_time": "2021-07-11T14:26:28.965Z"
   },
   {
    "duration": 823,
    "start_time": "2021-07-12T07:11:14.529Z"
   },
   {
    "duration": 26,
    "start_time": "2021-07-12T07:11:15.355Z"
   },
   {
    "duration": 24,
    "start_time": "2021-07-12T07:11:15.386Z"
   },
   {
    "duration": 61,
    "start_time": "2021-07-12T07:11:15.414Z"
   },
   {
    "duration": 3256,
    "start_time": "2021-07-12T07:11:15.478Z"
   },
   {
    "duration": 3480,
    "start_time": "2021-07-12T07:11:18.738Z"
   },
   {
    "duration": 40,
    "start_time": "2021-07-12T07:11:22.221Z"
   },
   {
    "duration": 14,
    "start_time": "2021-07-12T07:11:22.265Z"
   },
   {
    "duration": 29,
    "start_time": "2021-07-12T07:11:22.282Z"
   },
   {
    "duration": 48,
    "start_time": "2021-07-12T07:11:22.313Z"
   },
   {
    "duration": 860,
    "start_time": "2021-07-12T09:53:57.393Z"
   },
   {
    "duration": 78,
    "start_time": "2021-07-12T09:54:40.553Z"
   },
   {
    "duration": 21,
    "start_time": "2021-07-12T09:59:06.841Z"
   },
   {
    "duration": 11,
    "start_time": "2021-07-12T10:00:53.262Z"
   },
   {
    "duration": 11,
    "start_time": "2021-07-12T10:34:27.613Z"
   },
   {
    "duration": 12,
    "start_time": "2021-07-12T10:34:46.028Z"
   },
   {
    "duration": 366,
    "start_time": "2021-07-12T10:36:26.741Z"
   },
   {
    "duration": 264,
    "start_time": "2021-07-12T10:36:35.408Z"
   },
   {
    "duration": 22,
    "start_time": "2021-07-12T10:37:14.653Z"
   },
   {
    "duration": 24,
    "start_time": "2021-07-12T10:37:57.764Z"
   },
   {
    "duration": 106,
    "start_time": "2021-07-12T11:07:49.170Z"
   },
   {
    "duration": 342,
    "start_time": "2021-07-12T11:08:02.172Z"
   },
   {
    "duration": 347,
    "start_time": "2021-07-12T12:25:48.957Z"
   },
   {
    "duration": 294,
    "start_time": "2021-07-12T12:25:58.346Z"
   },
   {
    "duration": 269,
    "start_time": "2021-07-12T12:26:00.967Z"
   },
   {
    "duration": 765,
    "start_time": "2021-07-12T12:26:18.529Z"
   },
   {
    "duration": 320,
    "start_time": "2021-07-12T12:26:20.996Z"
   },
   {
    "duration": 884,
    "start_time": "2021-07-12T14:38:59.818Z"
   },
   {
    "duration": 277,
    "start_time": "2021-07-12T14:39:16.156Z"
   },
   {
    "duration": 326,
    "start_time": "2021-07-12T14:54:04.577Z"
   },
   {
    "duration": 6841,
    "start_time": "2021-07-12T14:54:31.738Z"
   },
   {
    "duration": 5,
    "start_time": "2021-07-12T14:55:09.290Z"
   },
   {
    "duration": 21,
    "start_time": "2021-07-12T14:56:00.208Z"
   },
   {
    "duration": 92,
    "start_time": "2021-07-12T14:56:25.295Z"
   },
   {
    "duration": 14,
    "start_time": "2021-07-12T14:56:35.894Z"
   },
   {
    "duration": 106,
    "start_time": "2021-07-12T18:07:40.501Z"
   },
   {
    "duration": 404,
    "start_time": "2021-07-12T18:12:26.124Z"
   },
   {
    "duration": 934,
    "start_time": "2021-07-12T18:12:38.607Z"
   },
   {
    "duration": 363,
    "start_time": "2021-07-12T18:12:41.795Z"
   },
   {
    "duration": 74,
    "start_time": "2021-07-12T18:13:01.571Z"
   },
   {
    "duration": 831,
    "start_time": "2021-07-12T18:13:27.316Z"
   },
   {
    "duration": 74,
    "start_time": "2021-07-12T18:13:28.150Z"
   },
   {
    "duration": 406,
    "start_time": "2021-07-12T18:13:28.228Z"
   },
   {
    "duration": -50,
    "start_time": "2021-07-12T18:13:28.686Z"
   },
   {
    "duration": -50,
    "start_time": "2021-07-12T18:13:28.688Z"
   },
   {
    "duration": -50,
    "start_time": "2021-07-12T18:13:28.690Z"
   },
   {
    "duration": -50,
    "start_time": "2021-07-12T18:13:28.691Z"
   },
   {
    "duration": -50,
    "start_time": "2021-07-12T18:13:28.692Z"
   },
   {
    "duration": -57,
    "start_time": "2021-07-12T18:13:28.701Z"
   },
   {
    "duration": -57,
    "start_time": "2021-07-12T18:13:28.702Z"
   },
   {
    "duration": 88,
    "start_time": "2021-07-12T18:14:39.014Z"
   },
   {
    "duration": 81,
    "start_time": "2021-07-12T18:14:58.059Z"
   },
   {
    "duration": 84,
    "start_time": "2021-07-12T18:15:37.416Z"
   },
   {
    "duration": 82,
    "start_time": "2021-07-12T18:15:53.359Z"
   },
   {
    "duration": 83,
    "start_time": "2021-07-12T18:16:06.707Z"
   },
   {
    "duration": 105,
    "start_time": "2021-07-12T18:18:21.656Z"
   },
   {
    "duration": 112,
    "start_time": "2021-07-12T18:18:35.978Z"
   },
   {
    "duration": 82,
    "start_time": "2021-07-12T18:19:13.862Z"
   },
   {
    "duration": 112,
    "start_time": "2021-07-12T18:19:17.122Z"
   },
   {
    "duration": 83,
    "start_time": "2021-07-12T18:19:35.833Z"
   },
   {
    "duration": 78,
    "start_time": "2021-07-12T18:20:04.371Z"
   },
   {
    "duration": 107,
    "start_time": "2021-07-12T18:20:17.730Z"
   },
   {
    "duration": -41,
    "start_time": "2021-07-12T18:22:01.697Z"
   },
   {
    "duration": 102,
    "start_time": "2021-07-12T18:22:02.316Z"
   },
   {
    "duration": 70,
    "start_time": "2021-07-12T18:22:30.344Z"
   },
   {
    "duration": 116,
    "start_time": "2021-07-12T18:23:33.017Z"
   },
   {
    "duration": 354,
    "start_time": "2021-07-12T18:24:18.598Z"
   },
   {
    "duration": 1097,
    "start_time": "2021-07-12T18:24:26.646Z"
   },
   {
    "duration": 88,
    "start_time": "2021-07-12T18:24:30.663Z"
   },
   {
    "duration": 74,
    "start_time": "2021-07-12T18:25:52.974Z"
   },
   {
    "duration": 92,
    "start_time": "2021-07-12T18:28:01.816Z"
   },
   {
    "duration": 886,
    "start_time": "2021-07-12T18:28:08.289Z"
   },
   {
    "duration": 99,
    "start_time": "2021-07-12T18:28:09.178Z"
   },
   {
    "duration": 19,
    "start_time": "2021-07-12T18:28:09.281Z"
   },
   {
    "duration": 37,
    "start_time": "2021-07-12T18:28:09.302Z"
   },
   {
    "duration": 3751,
    "start_time": "2021-07-12T18:28:09.368Z"
   },
   {
    "duration": 4220,
    "start_time": "2021-07-12T18:28:13.121Z"
   },
   {
    "duration": 45,
    "start_time": "2021-07-12T18:28:17.343Z"
   },
   {
    "duration": 19,
    "start_time": "2021-07-12T18:28:17.400Z"
   },
   {
    "duration": 40,
    "start_time": "2021-07-12T18:28:17.422Z"
   },
   {
    "duration": 15,
    "start_time": "2021-07-12T18:28:17.470Z"
   },
   {
    "duration": 136,
    "start_time": "2021-07-12T18:32:06.448Z"
   },
   {
    "duration": 16,
    "start_time": "2021-07-12T18:33:44.902Z"
   },
   {
    "duration": 14,
    "start_time": "2021-07-12T18:33:57.023Z"
   },
   {
    "duration": 14,
    "start_time": "2021-07-12T18:34:04.649Z"
   },
   {
    "duration": 20,
    "start_time": "2021-07-12T18:34:38.463Z"
   },
   {
    "duration": 15,
    "start_time": "2021-07-12T18:35:05.491Z"
   },
   {
    "duration": 17,
    "start_time": "2021-07-12T18:35:27.581Z"
   },
   {
    "duration": 20,
    "start_time": "2021-07-12T18:36:09.565Z"
   },
   {
    "duration": 23,
    "start_time": "2021-07-12T18:36:37.813Z"
   },
   {
    "duration": 15,
    "start_time": "2021-07-12T18:37:17.422Z"
   },
   {
    "duration": 906,
    "start_time": "2021-07-12T18:38:58.449Z"
   },
   {
    "duration": 84,
    "start_time": "2021-07-12T18:38:59.358Z"
   },
   {
    "duration": 39,
    "start_time": "2021-07-12T18:38:59.445Z"
   },
   {
    "duration": 36,
    "start_time": "2021-07-12T18:38:59.487Z"
   },
   {
    "duration": 3901,
    "start_time": "2021-07-12T18:38:59.526Z"
   },
   {
    "duration": 4442,
    "start_time": "2021-07-12T18:39:03.429Z"
   },
   {
    "duration": 36,
    "start_time": "2021-07-12T18:39:07.874Z"
   },
   {
    "duration": 23,
    "start_time": "2021-07-12T18:39:07.915Z"
   },
   {
    "duration": 41,
    "start_time": "2021-07-12T18:39:07.964Z"
   },
   {
    "duration": 21,
    "start_time": "2021-07-12T18:39:08.009Z"
   },
   {
    "duration": 17,
    "start_time": "2021-07-12T18:40:01.205Z"
   },
   {
    "duration": 16,
    "start_time": "2021-07-12T18:40:30.007Z"
   },
   {
    "duration": 847,
    "start_time": "2021-07-12T18:42:18.190Z"
   },
   {
    "duration": 97,
    "start_time": "2021-07-12T18:42:19.041Z"
   },
   {
    "duration": 29,
    "start_time": "2021-07-12T18:42:19.142Z"
   },
   {
    "duration": 36,
    "start_time": "2021-07-12T18:42:19.175Z"
   },
   {
    "duration": 3875,
    "start_time": "2021-07-12T18:42:19.213Z"
   },
   {
    "duration": 14,
    "start_time": "2021-07-12T18:54:11.425Z"
   },
   {
    "duration": 434,
    "start_time": "2021-07-12T18:54:45.076Z"
   },
   {
    "duration": 329,
    "start_time": "2021-07-12T18:55:17.658Z"
   },
   {
    "duration": 18,
    "start_time": "2021-07-12T18:55:37.614Z"
   },
   {
    "duration": 28,
    "start_time": "2021-07-12T18:55:46.890Z"
   },
   {
    "duration": 22,
    "start_time": "2021-07-12T18:56:07.117Z"
   },
   {
    "duration": 20,
    "start_time": "2021-07-12T18:56:40.398Z"
   },
   {
    "duration": 17,
    "start_time": "2021-07-12T18:57:11.143Z"
   },
   {
    "duration": 30,
    "start_time": "2021-07-12T18:58:08.747Z"
   },
   {
    "duration": 46,
    "start_time": "2021-07-12T18:58:40.864Z"
   },
   {
    "duration": 35,
    "start_time": "2021-07-12T18:59:02.836Z"
   },
   {
    "duration": 915,
    "start_time": "2021-07-12T18:59:09.069Z"
   },
   {
    "duration": 95,
    "start_time": "2021-07-12T18:59:09.986Z"
   },
   {
    "duration": 27,
    "start_time": "2021-07-12T18:59:10.085Z"
   },
   {
    "duration": 75,
    "start_time": "2021-07-12T18:59:10.115Z"
   },
   {
    "duration": 4026,
    "start_time": "2021-07-12T18:59:10.193Z"
   },
   {
    "duration": 4301,
    "start_time": "2021-07-12T18:59:14.222Z"
   },
   {
    "duration": 40,
    "start_time": "2021-07-12T18:59:18.525Z"
   },
   {
    "duration": 1546,
    "start_time": "2021-07-12T18:59:18.569Z"
   },
   {
    "duration": -56,
    "start_time": "2021-07-12T18:59:20.173Z"
   },
   {
    "duration": -61,
    "start_time": "2021-07-12T18:59:20.179Z"
   },
   {
    "duration": 118,
    "start_time": "2021-07-12T19:00:32.729Z"
   },
   {
    "duration": 88,
    "start_time": "2021-07-12T19:00:48.679Z"
   },
   {
    "duration": 313,
    "start_time": "2021-07-12T19:06:39.008Z"
   },
   {
    "duration": 31,
    "start_time": "2021-07-12T19:07:23.271Z"
   },
   {
    "duration": 403,
    "start_time": "2021-07-12T19:07:32.485Z"
   },
   {
    "duration": 31,
    "start_time": "2021-07-12T19:07:42.915Z"
   },
   {
    "duration": 22,
    "start_time": "2021-07-12T19:07:53.135Z"
   },
   {
    "duration": 943,
    "start_time": "2021-07-12T19:08:04.455Z"
   },
   {
    "duration": 128,
    "start_time": "2021-07-12T19:08:05.401Z"
   },
   {
    "duration": 45,
    "start_time": "2021-07-12T19:08:05.533Z"
   },
   {
    "duration": 56,
    "start_time": "2021-07-12T19:08:05.582Z"
   },
   {
    "duration": 3692,
    "start_time": "2021-07-12T19:08:05.641Z"
   },
   {
    "duration": 4580,
    "start_time": "2021-07-12T19:08:09.335Z"
   },
   {
    "duration": 50,
    "start_time": "2021-07-12T19:08:13.917Z"
   },
   {
    "duration": 30,
    "start_time": "2021-07-12T19:08:13.972Z"
   },
   {
    "duration": 69,
    "start_time": "2021-07-12T19:08:14.005Z"
   },
   {
    "duration": 25,
    "start_time": "2021-07-12T19:08:14.076Z"
   },
   {
    "duration": 988,
    "start_time": "2021-07-12T19:12:13.448Z"
   },
   {
    "duration": 83,
    "start_time": "2021-07-12T19:12:14.438Z"
   },
   {
    "duration": 42,
    "start_time": "2021-07-12T19:12:14.524Z"
   },
   {
    "duration": 42,
    "start_time": "2021-07-12T19:12:14.570Z"
   },
   {
    "duration": 4586,
    "start_time": "2021-07-12T19:12:14.614Z"
   },
   {
    "duration": 4341,
    "start_time": "2021-07-12T19:12:19.202Z"
   },
   {
    "duration": 49,
    "start_time": "2021-07-12T19:12:23.545Z"
   },
   {
    "duration": 22,
    "start_time": "2021-07-12T19:12:23.597Z"
   },
   {
    "duration": 60,
    "start_time": "2021-07-12T19:12:23.621Z"
   },
   {
    "duration": 21,
    "start_time": "2021-07-12T19:12:23.684Z"
   },
   {
    "duration": 836,
    "start_time": "2021-07-13T05:38:15.198Z"
   },
   {
    "duration": 87,
    "start_time": "2021-07-13T05:38:16.038Z"
   },
   {
    "duration": 20,
    "start_time": "2021-07-13T05:38:16.129Z"
   },
   {
    "duration": 37,
    "start_time": "2021-07-13T05:38:16.168Z"
   },
   {
    "duration": 3837,
    "start_time": "2021-07-13T05:38:16.207Z"
   },
   {
    "duration": 3599,
    "start_time": "2021-07-13T05:38:20.046Z"
   },
   {
    "duration": 45,
    "start_time": "2021-07-13T05:38:23.648Z"
   },
   {
    "duration": 21,
    "start_time": "2021-07-13T05:38:23.697Z"
   },
   {
    "duration": 57,
    "start_time": "2021-07-13T05:38:23.721Z"
   },
   {
    "duration": 20,
    "start_time": "2021-07-13T05:38:23.780Z"
   },
   {
    "duration": 868,
    "start_time": "2021-07-13T06:43:57.615Z"
   },
   {
    "duration": 376,
    "start_time": "2021-07-13T06:44:15.611Z"
   },
   {
    "duration": 360,
    "start_time": "2021-07-13T06:45:45.878Z"
   },
   {
    "duration": 883,
    "start_time": "2021-07-13T06:46:01.211Z"
   },
   {
    "duration": 83,
    "start_time": "2021-07-13T06:46:02.098Z"
   },
   {
    "duration": 37,
    "start_time": "2021-07-13T06:46:02.184Z"
   },
   {
    "duration": 51,
    "start_time": "2021-07-13T06:46:02.224Z"
   },
   {
    "duration": 3726,
    "start_time": "2021-07-13T06:46:02.278Z"
   },
   {
    "duration": 3587,
    "start_time": "2021-07-13T06:46:06.009Z"
   },
   {
    "duration": 34,
    "start_time": "2021-07-13T06:46:09.608Z"
   },
   {
    "duration": 21,
    "start_time": "2021-07-13T06:46:09.645Z"
   },
   {
    "duration": 59,
    "start_time": "2021-07-13T06:46:09.668Z"
   },
   {
    "duration": 21,
    "start_time": "2021-07-13T06:46:09.730Z"
   },
   {
    "duration": 829,
    "start_time": "2021-07-13T06:46:24.627Z"
   },
   {
    "duration": -58,
    "start_time": "2021-07-13T06:46:46.785Z"
   },
   {
    "duration": 115,
    "start_time": "2021-07-13T06:46:58.755Z"
   },
   {
    "duration": 20,
    "start_time": "2021-07-13T06:47:02.998Z"
   },
   {
    "duration": 27,
    "start_time": "2021-07-13T06:54:19.149Z"
   },
   {
    "duration": 31,
    "start_time": "2021-07-13T06:55:43.776Z"
   },
   {
    "duration": 31,
    "start_time": "2021-07-13T06:55:56.597Z"
   },
   {
    "duration": 29,
    "start_time": "2021-07-13T06:56:15.816Z"
   },
   {
    "duration": 108,
    "start_time": "2021-07-13T06:57:17.417Z"
   },
   {
    "duration": 34,
    "start_time": "2021-07-13T07:01:40.706Z"
   },
   {
    "duration": 46,
    "start_time": "2021-07-13T07:05:30.529Z"
   },
   {
    "duration": 35,
    "start_time": "2021-07-13T07:11:15.300Z"
   },
   {
    "duration": 859,
    "start_time": "2021-07-13T07:23:24.472Z"
   },
   {
    "duration": 86,
    "start_time": "2021-07-13T07:23:25.334Z"
   },
   {
    "duration": 20,
    "start_time": "2021-07-13T07:23:25.426Z"
   },
   {
    "duration": 62,
    "start_time": "2021-07-13T07:23:25.448Z"
   },
   {
    "duration": 3701,
    "start_time": "2021-07-13T07:23:25.512Z"
   },
   {
    "duration": 3720,
    "start_time": "2021-07-13T07:23:29.216Z"
   },
   {
    "duration": 43,
    "start_time": "2021-07-13T07:23:32.940Z"
   },
   {
    "duration": 48,
    "start_time": "2021-07-13T07:23:32.986Z"
   },
   {
    "duration": 49,
    "start_time": "2021-07-13T07:23:33.037Z"
   },
   {
    "duration": 46,
    "start_time": "2021-07-13T07:23:33.089Z"
   },
   {
    "duration": 591,
    "start_time": "2021-07-13T09:33:42.882Z"
   },
   {
    "duration": 48,
    "start_time": "2021-07-13T09:33:43.475Z"
   },
   {
    "duration": 21,
    "start_time": "2021-07-13T09:33:43.525Z"
   },
   {
    "duration": 24,
    "start_time": "2021-07-13T09:33:43.547Z"
   },
   {
    "duration": 2527,
    "start_time": "2021-07-13T09:33:43.573Z"
   },
   {
    "duration": 2730,
    "start_time": "2021-07-13T09:33:46.101Z"
   },
   {
    "duration": 30,
    "start_time": "2021-07-13T09:33:48.841Z"
   },
   {
    "duration": 19,
    "start_time": "2021-07-13T09:33:48.873Z"
   },
   {
    "duration": 26,
    "start_time": "2021-07-13T09:33:48.893Z"
   },
   {
    "duration": 19,
    "start_time": "2021-07-13T09:33:48.940Z"
   },
   {
    "duration": 422,
    "start_time": "2021-07-21T11:36:29.081Z"
   },
   {
    "duration": 779,
    "start_time": "2021-07-21T11:36:38.119Z"
   },
   {
    "duration": 84,
    "start_time": "2021-07-21T11:36:40.812Z"
   }
  ],
  "kernelspec": {
   "display_name": "Python 3 (ipykernel)",
   "language": "python",
   "name": "python3"
  },
  "language_info": {
   "codemirror_mode": {
    "name": "ipython",
    "version": 3
   },
   "file_extension": ".py",
   "mimetype": "text/x-python",
   "name": "python",
   "nbconvert_exporter": "python",
   "pygments_lexer": "ipython3",
   "version": "3.10.1"
  },
  "toc": {
   "base_numbering": 1,
   "nav_menu": {},
   "number_sections": true,
   "sideBar": true,
   "skip_h1_title": true,
   "title_cell": "Table of Contents",
   "title_sidebar": "Contents",
   "toc_cell": true,
   "toc_position": {},
   "toc_section_display": true,
   "toc_window_display": true
  }
 },
 "nbformat": 4,
 "nbformat_minor": 2
}
