{
 "cells": [
  {
   "cell_type": "markdown",
   "metadata": {},
   "source": [
    "# Оценка результатов теста A/B"
   ]
  },
  {
   "cell_type": "markdown",
   "metadata": {},
   "source": [
    "В текущем проекте необходимо провести анализ гипотез, приотеризировать гипотезы, затем провести А/В-тест и произвести анализ полученных результатов. Для выполнения работы предоставлено 3 датасета. Первый датасет с информацией по гипотезам, второй с информацией о заказах интернет-магазина, третий - о пользователях. Работу буду выполнять, придерживаясь следующего плана:\n",
    "1. Ознакомление датасета с гипотезами, приоритезация гипотез с помощью фреймворков ICE и RICE.\n",
    "2. Ознакомление и предобработка данных из второго и третьего датасетов.\n",
    "3. Построение графиков и проведение анализа по ним:\n",
    "\t- график кумулятивной выручки по группам;\n",
    "\t-  график кумулятивного среднего чека по группам;\n",
    "\t-  график относительного изменения кумулятивного среднего чека группы B к группе A;\n",
    "\t-  график кумулятивного среднего количества заказов на посетителя по группам;\n",
    "\t-  график относительного изменения кумулятивного среднего количества заказов на посетителя группы B к группе A;\n",
    "\t-  точечный график количества заказов по пользователям.\n",
    "4. Подсчет 95-й и 99-й перцентией количества заказов на пользователя. \n",
    "5. Построение точечного графика стоимостей заказов. \n",
    "9. Подсчет 95-й и 99-й перцентили стоимости заказов. \n",
    "10. Подсчет статистическрой значимости различий в среднем количестве заказов на посетителя между группами по «сырым» данным. \n",
    "11. Подсчет статистической значимости различий в среднем чеке заказа между группами по «сырым» данным. \n",
    "12. Подсчет статистической значимости различий в среднем количестве заказов на посетителя между группами по «очищенным» данным. \n",
    "13. Подсчет статистической значимости различий в среднем чеке заказа между группами по «очищенным» данным.\n",
    "14. Принятие решения по результатам теста \n"
   ]
  },
  {
   "cell_type": "markdown",
   "metadata": {},
   "source": [
    "###  Загрузка данных и импорт библиотек"
   ]
  },
  {
   "cell_type": "code",
   "execution_count": 1,
   "metadata": {},
   "outputs": [],
   "source": [
    "import pandas as pd\n",
    "import scipy.stats as stats\n",
    "import datetime as dt\n",
    "import numpy as np\n",
    "import matplotlib.pyplot as plt\n",
    "from pandas.plotting import register_matplotlib_converters\n",
    "import warnings\n",
    "# конвертеры, которые позволяют использовать типы pandas в matplotlib  \n",
    "register_matplotlib_converters()"
   ]
  },
  {
   "cell_type": "code",
   "execution_count": 2,
   "metadata": {},
   "outputs": [],
   "source": [
    "hypothesis= pd.read_csv('/datasets/hypothesis.csv')\n",
    "orders= pd.read_csv('/datasets/orders.csv')\n",
    "visitors= pd.read_csv('/datasets/visitors.csv')"
   ]
  },
  {
   "cell_type": "code",
   "execution_count": 3,
   "metadata": {
    "scrolled": true
   },
   "outputs": [
    {
     "data": {
      "text/html": [
       "<div>\n",
       "<style scoped>\n",
       "    .dataframe tbody tr th:only-of-type {\n",
       "        vertical-align: middle;\n",
       "    }\n",
       "\n",
       "    .dataframe tbody tr th {\n",
       "        vertical-align: top;\n",
       "    }\n",
       "\n",
       "    .dataframe thead th {\n",
       "        text-align: right;\n",
       "    }\n",
       "</style>\n",
       "<table border=\"1\" class=\"dataframe\">\n",
       "  <thead>\n",
       "    <tr style=\"text-align: right;\">\n",
       "      <th></th>\n",
       "      <th>Hypothesis</th>\n",
       "      <th>Reach</th>\n",
       "      <th>Impact</th>\n",
       "      <th>Confidence</th>\n",
       "      <th>Efforts</th>\n",
       "    </tr>\n",
       "  </thead>\n",
       "  <tbody>\n",
       "    <tr>\n",
       "      <th>0</th>\n",
       "      <td>Добавить два новых канала привлечения трафика, что позволит привлекать на 30% больше пользователей</td>\n",
       "      <td>3</td>\n",
       "      <td>10</td>\n",
       "      <td>8</td>\n",
       "      <td>6</td>\n",
       "    </tr>\n",
       "    <tr>\n",
       "      <th>1</th>\n",
       "      <td>Запустить собственную службу доставки, что сократит срок доставки заказов</td>\n",
       "      <td>2</td>\n",
       "      <td>5</td>\n",
       "      <td>4</td>\n",
       "      <td>10</td>\n",
       "    </tr>\n",
       "    <tr>\n",
       "      <th>2</th>\n",
       "      <td>Добавить блоки рекомендаций товаров на сайт интернет магазина, чтобы повысить конверсию и средний чек заказа</td>\n",
       "      <td>8</td>\n",
       "      <td>3</td>\n",
       "      <td>7</td>\n",
       "      <td>3</td>\n",
       "    </tr>\n",
       "    <tr>\n",
       "      <th>3</th>\n",
       "      <td>Изменить структура категорий, что увеличит конверсию, т.к. пользователи быстрее найдут нужный товар</td>\n",
       "      <td>8</td>\n",
       "      <td>3</td>\n",
       "      <td>3</td>\n",
       "      <td>8</td>\n",
       "    </tr>\n",
       "    <tr>\n",
       "      <th>4</th>\n",
       "      <td>Изменить цвет фона главной страницы, чтобы увеличить вовлеченность пользователей</td>\n",
       "      <td>3</td>\n",
       "      <td>1</td>\n",
       "      <td>1</td>\n",
       "      <td>1</td>\n",
       "    </tr>\n",
       "    <tr>\n",
       "      <th>5</th>\n",
       "      <td>Добавить страницу отзывов клиентов о магазине, что позволит увеличить количество заказов</td>\n",
       "      <td>3</td>\n",
       "      <td>2</td>\n",
       "      <td>2</td>\n",
       "      <td>3</td>\n",
       "    </tr>\n",
       "    <tr>\n",
       "      <th>6</th>\n",
       "      <td>Показать на главной странице баннеры с актуальными акциями и распродажами, чтобы увеличить конверсию</td>\n",
       "      <td>5</td>\n",
       "      <td>3</td>\n",
       "      <td>8</td>\n",
       "      <td>3</td>\n",
       "    </tr>\n",
       "    <tr>\n",
       "      <th>7</th>\n",
       "      <td>Добавить форму подписки на все основные страницы, чтобы собрать базу клиентов для email-рассылок</td>\n",
       "      <td>10</td>\n",
       "      <td>7</td>\n",
       "      <td>8</td>\n",
       "      <td>5</td>\n",
       "    </tr>\n",
       "    <tr>\n",
       "      <th>8</th>\n",
       "      <td>Запустить акцию, дающую скидку на товар в день рождения</td>\n",
       "      <td>1</td>\n",
       "      <td>9</td>\n",
       "      <td>9</td>\n",
       "      <td>5</td>\n",
       "    </tr>\n",
       "  </tbody>\n",
       "</table>\n",
       "</div>"
      ],
      "text/plain": [
       "                                                                                                     Hypothesis  \\\n",
       "0            Добавить два новых канала привлечения трафика, что позволит привлекать на 30% больше пользователей   \n",
       "1                                     Запустить собственную службу доставки, что сократит срок доставки заказов   \n",
       "2  Добавить блоки рекомендаций товаров на сайт интернет магазина, чтобы повысить конверсию и средний чек заказа   \n",
       "3           Изменить структура категорий, что увеличит конверсию, т.к. пользователи быстрее найдут нужный товар   \n",
       "4                              Изменить цвет фона главной страницы, чтобы увеличить вовлеченность пользователей   \n",
       "5                      Добавить страницу отзывов клиентов о магазине, что позволит увеличить количество заказов   \n",
       "6          Показать на главной странице баннеры с актуальными акциями и распродажами, чтобы увеличить конверсию   \n",
       "7              Добавить форму подписки на все основные страницы, чтобы собрать базу клиентов для email-рассылок   \n",
       "8                                                       Запустить акцию, дающую скидку на товар в день рождения   \n",
       "\n",
       "   Reach  Impact  Confidence  Efforts  \n",
       "0      3      10           8        6  \n",
       "1      2       5           4       10  \n",
       "2      8       3           7        3  \n",
       "3      8       3           3        8  \n",
       "4      3       1           1        1  \n",
       "5      3       2           2        3  \n",
       "6      5       3           8        3  \n",
       "7     10       7           8        5  \n",
       "8      1       9           9        5  "
      ]
     },
     "execution_count": 3,
     "metadata": {},
     "output_type": "execute_result"
    }
   ],
   "source": [
    "# снимаем ограничение на количество столбцов\n",
    "pd.set_option('display.max_columns', None)\n",
    "\n",
    "# снимаем ограничение на ширину столбцов\n",
    "pd.set_option('display.max_colwidth', None)\n",
    "# ознакомление с данными:\n",
    "hypothesis"
   ]
  },
  {
   "cell_type": "code",
   "execution_count": 4,
   "metadata": {},
   "outputs": [
    {
     "data": {
      "text/html": [
       "<div>\n",
       "<style scoped>\n",
       "    .dataframe tbody tr th:only-of-type {\n",
       "        vertical-align: middle;\n",
       "    }\n",
       "\n",
       "    .dataframe tbody tr th {\n",
       "        vertical-align: top;\n",
       "    }\n",
       "\n",
       "    .dataframe thead th {\n",
       "        text-align: right;\n",
       "    }\n",
       "</style>\n",
       "<table border=\"1\" class=\"dataframe\">\n",
       "  <thead>\n",
       "    <tr style=\"text-align: right;\">\n",
       "      <th></th>\n",
       "      <th>transactionId</th>\n",
       "      <th>visitorId</th>\n",
       "      <th>date</th>\n",
       "      <th>revenue</th>\n",
       "      <th>group</th>\n",
       "    </tr>\n",
       "  </thead>\n",
       "  <tbody>\n",
       "    <tr>\n",
       "      <th>0</th>\n",
       "      <td>3667963787</td>\n",
       "      <td>3312258926</td>\n",
       "      <td>2019-08-15</td>\n",
       "      <td>1650</td>\n",
       "      <td>B</td>\n",
       "    </tr>\n",
       "    <tr>\n",
       "      <th>1</th>\n",
       "      <td>2804400009</td>\n",
       "      <td>3642806036</td>\n",
       "      <td>2019-08-15</td>\n",
       "      <td>730</td>\n",
       "      <td>B</td>\n",
       "    </tr>\n",
       "    <tr>\n",
       "      <th>2</th>\n",
       "      <td>2961555356</td>\n",
       "      <td>4069496402</td>\n",
       "      <td>2019-08-15</td>\n",
       "      <td>400</td>\n",
       "      <td>A</td>\n",
       "    </tr>\n",
       "    <tr>\n",
       "      <th>3</th>\n",
       "      <td>3797467345</td>\n",
       "      <td>1196621759</td>\n",
       "      <td>2019-08-15</td>\n",
       "      <td>9759</td>\n",
       "      <td>B</td>\n",
       "    </tr>\n",
       "    <tr>\n",
       "      <th>4</th>\n",
       "      <td>2282983706</td>\n",
       "      <td>2322279887</td>\n",
       "      <td>2019-08-15</td>\n",
       "      <td>2308</td>\n",
       "      <td>B</td>\n",
       "    </tr>\n",
       "  </tbody>\n",
       "</table>\n",
       "</div>"
      ],
      "text/plain": [
       "   transactionId   visitorId        date  revenue group\n",
       "0     3667963787  3312258926  2019-08-15     1650     B\n",
       "1     2804400009  3642806036  2019-08-15      730     B\n",
       "2     2961555356  4069496402  2019-08-15      400     A\n",
       "3     3797467345  1196621759  2019-08-15     9759     B\n",
       "4     2282983706  2322279887  2019-08-15     2308     B"
      ]
     },
     "execution_count": 4,
     "metadata": {},
     "output_type": "execute_result"
    }
   ],
   "source": [
    "orders.head()"
   ]
  },
  {
   "cell_type": "code",
   "execution_count": 5,
   "metadata": {},
   "outputs": [
    {
     "name": "stdout",
     "output_type": "stream",
     "text": [
      "<class 'pandas.core.frame.DataFrame'>\n",
      "RangeIndex: 1197 entries, 0 to 1196\n",
      "Data columns (total 5 columns):\n",
      " #   Column         Non-Null Count  Dtype \n",
      "---  ------         --------------  ----- \n",
      " 0   transactionId  1197 non-null   int64 \n",
      " 1   visitorId      1197 non-null   int64 \n",
      " 2   date           1197 non-null   object\n",
      " 3   revenue        1197 non-null   int64 \n",
      " 4   group          1197 non-null   object\n",
      "dtypes: int64(3), object(2)\n",
      "memory usage: 46.9+ KB\n"
     ]
    }
   ],
   "source": [
    "orders.info()"
   ]
  },
  {
   "cell_type": "markdown",
   "metadata": {},
   "source": [
    "В таблице нет пропусков, название столбцов все в едином реестре. Проверим на дубли и преведем данные с датой к корректному формату."
   ]
  },
  {
   "cell_type": "code",
   "execution_count": 6,
   "metadata": {},
   "outputs": [
    {
     "data": {
      "text/plain": [
       "0"
      ]
     },
     "execution_count": 6,
     "metadata": {},
     "output_type": "execute_result"
    }
   ],
   "source": [
    "orders['date']=pd.to_datetime(orders['date'])\n",
    "orders.duplicated().sum()"
   ]
  },
  {
   "cell_type": "code",
   "execution_count": 7,
   "metadata": {},
   "outputs": [
    {
     "data": {
      "text/html": [
       "<div>\n",
       "<style scoped>\n",
       "    .dataframe tbody tr th:only-of-type {\n",
       "        vertical-align: middle;\n",
       "    }\n",
       "\n",
       "    .dataframe tbody tr th {\n",
       "        vertical-align: top;\n",
       "    }\n",
       "\n",
       "    .dataframe thead th {\n",
       "        text-align: right;\n",
       "    }\n",
       "</style>\n",
       "<table border=\"1\" class=\"dataframe\">\n",
       "  <thead>\n",
       "    <tr style=\"text-align: right;\">\n",
       "      <th></th>\n",
       "      <th>date</th>\n",
       "      <th>group</th>\n",
       "      <th>visitors</th>\n",
       "    </tr>\n",
       "  </thead>\n",
       "  <tbody>\n",
       "    <tr>\n",
       "      <th>0</th>\n",
       "      <td>2019-08-01</td>\n",
       "      <td>A</td>\n",
       "      <td>719</td>\n",
       "    </tr>\n",
       "    <tr>\n",
       "      <th>1</th>\n",
       "      <td>2019-08-02</td>\n",
       "      <td>A</td>\n",
       "      <td>619</td>\n",
       "    </tr>\n",
       "    <tr>\n",
       "      <th>2</th>\n",
       "      <td>2019-08-03</td>\n",
       "      <td>A</td>\n",
       "      <td>507</td>\n",
       "    </tr>\n",
       "    <tr>\n",
       "      <th>3</th>\n",
       "      <td>2019-08-04</td>\n",
       "      <td>A</td>\n",
       "      <td>717</td>\n",
       "    </tr>\n",
       "    <tr>\n",
       "      <th>4</th>\n",
       "      <td>2019-08-05</td>\n",
       "      <td>A</td>\n",
       "      <td>756</td>\n",
       "    </tr>\n",
       "  </tbody>\n",
       "</table>\n",
       "</div>"
      ],
      "text/plain": [
       "         date group  visitors\n",
       "0  2019-08-01     A       719\n",
       "1  2019-08-02     A       619\n",
       "2  2019-08-03     A       507\n",
       "3  2019-08-04     A       717\n",
       "4  2019-08-05     A       756"
      ]
     },
     "execution_count": 7,
     "metadata": {},
     "output_type": "execute_result"
    }
   ],
   "source": [
    "visitors.head()"
   ]
  },
  {
   "cell_type": "code",
   "execution_count": 8,
   "metadata": {},
   "outputs": [
    {
     "name": "stdout",
     "output_type": "stream",
     "text": [
      "<class 'pandas.core.frame.DataFrame'>\n",
      "RangeIndex: 62 entries, 0 to 61\n",
      "Data columns (total 3 columns):\n",
      " #   Column    Non-Null Count  Dtype \n",
      "---  ------    --------------  ----- \n",
      " 0   date      62 non-null     object\n",
      " 1   group     62 non-null     object\n",
      " 2   visitors  62 non-null     int64 \n",
      "dtypes: int64(1), object(2)\n",
      "memory usage: 1.6+ KB\n"
     ]
    }
   ],
   "source": [
    "visitors.info()"
   ]
  },
  {
   "cell_type": "markdown",
   "metadata": {},
   "source": [
    "В таблице также нет пропусков, название столбцов  в едином реестре. Проверим на дубли и преведем данные с датой к корректному формату."
   ]
  },
  {
   "cell_type": "code",
   "execution_count": 9,
   "metadata": {},
   "outputs": [
    {
     "data": {
      "text/plain": [
       "0"
      ]
     },
     "execution_count": 9,
     "metadata": {},
     "output_type": "execute_result"
    }
   ],
   "source": [
    "visitors['date']=pd.to_datetime(visitors['date'])\n",
    "visitors.duplicated().sum()"
   ]
  },
  {
   "cell_type": "markdown",
   "metadata": {},
   "source": [
    "Дубликатов в базах данных нет, можно приступать к следубщему этапу."
   ]
  },
  {
   "cell_type": "markdown",
   "metadata": {},
   "source": [
    "### Приоритезация гипотез"
   ]
  },
  {
   "cell_type": "code",
   "execution_count": 10,
   "metadata": {},
   "outputs": [
    {
     "data": {
      "text/html": [
       "<div>\n",
       "<style scoped>\n",
       "    .dataframe tbody tr th:only-of-type {\n",
       "        vertical-align: middle;\n",
       "    }\n",
       "\n",
       "    .dataframe tbody tr th {\n",
       "        vertical-align: top;\n",
       "    }\n",
       "\n",
       "    .dataframe thead th {\n",
       "        text-align: right;\n",
       "    }\n",
       "</style>\n",
       "<table border=\"1\" class=\"dataframe\">\n",
       "  <thead>\n",
       "    <tr style=\"text-align: right;\">\n",
       "      <th></th>\n",
       "      <th>Hypothesis</th>\n",
       "      <th>ICE</th>\n",
       "    </tr>\n",
       "  </thead>\n",
       "  <tbody>\n",
       "    <tr>\n",
       "      <th>8</th>\n",
       "      <td>Запустить акцию, дающую скидку на товар в день рождения</td>\n",
       "      <td>16.200000</td>\n",
       "    </tr>\n",
       "    <tr>\n",
       "      <th>0</th>\n",
       "      <td>Добавить два новых канала привлечения трафика, что позволит привлекать на 30% больше пользователей</td>\n",
       "      <td>13.333333</td>\n",
       "    </tr>\n",
       "    <tr>\n",
       "      <th>7</th>\n",
       "      <td>Добавить форму подписки на все основные страницы, чтобы собрать базу клиентов для email-рассылок</td>\n",
       "      <td>11.200000</td>\n",
       "    </tr>\n",
       "    <tr>\n",
       "      <th>6</th>\n",
       "      <td>Показать на главной странице баннеры с актуальными акциями и распродажами, чтобы увеличить конверсию</td>\n",
       "      <td>8.000000</td>\n",
       "    </tr>\n",
       "    <tr>\n",
       "      <th>2</th>\n",
       "      <td>Добавить блоки рекомендаций товаров на сайт интернет магазина, чтобы повысить конверсию и средний чек заказа</td>\n",
       "      <td>7.000000</td>\n",
       "    </tr>\n",
       "    <tr>\n",
       "      <th>1</th>\n",
       "      <td>Запустить собственную службу доставки, что сократит срок доставки заказов</td>\n",
       "      <td>2.000000</td>\n",
       "    </tr>\n",
       "    <tr>\n",
       "      <th>5</th>\n",
       "      <td>Добавить страницу отзывов клиентов о магазине, что позволит увеличить количество заказов</td>\n",
       "      <td>1.333333</td>\n",
       "    </tr>\n",
       "    <tr>\n",
       "      <th>3</th>\n",
       "      <td>Изменить структура категорий, что увеличит конверсию, т.к. пользователи быстрее найдут нужный товар</td>\n",
       "      <td>1.125000</td>\n",
       "    </tr>\n",
       "    <tr>\n",
       "      <th>4</th>\n",
       "      <td>Изменить цвет фона главной страницы, чтобы увеличить вовлеченность пользователей</td>\n",
       "      <td>1.000000</td>\n",
       "    </tr>\n",
       "  </tbody>\n",
       "</table>\n",
       "</div>"
      ],
      "text/plain": [
       "                                                                                                     Hypothesis  \\\n",
       "8                                                       Запустить акцию, дающую скидку на товар в день рождения   \n",
       "0            Добавить два новых канала привлечения трафика, что позволит привлекать на 30% больше пользователей   \n",
       "7              Добавить форму подписки на все основные страницы, чтобы собрать базу клиентов для email-рассылок   \n",
       "6          Показать на главной странице баннеры с актуальными акциями и распродажами, чтобы увеличить конверсию   \n",
       "2  Добавить блоки рекомендаций товаров на сайт интернет магазина, чтобы повысить конверсию и средний чек заказа   \n",
       "1                                     Запустить собственную службу доставки, что сократит срок доставки заказов   \n",
       "5                      Добавить страницу отзывов клиентов о магазине, что позволит увеличить количество заказов   \n",
       "3           Изменить структура категорий, что увеличит конверсию, т.к. пользователи быстрее найдут нужный товар   \n",
       "4                              Изменить цвет фона главной страницы, чтобы увеличить вовлеченность пользователей   \n",
       "\n",
       "         ICE  \n",
       "8  16.200000  \n",
       "0  13.333333  \n",
       "7  11.200000  \n",
       "6   8.000000  \n",
       "2   7.000000  \n",
       "1   2.000000  \n",
       "5   1.333333  \n",
       "3   1.125000  \n",
       "4   1.000000  "
      ]
     },
     "execution_count": 10,
     "metadata": {},
     "output_type": "execute_result"
    }
   ],
   "source": [
    "#фреймворк ICE:\n",
    "hypothesis['ICE']=(hypothesis['Impact']*hypothesis['Confidence'])/hypothesis['Efforts']\n",
    "hypothesis[['Hypothesis', 'ICE']].sort_values(by='ICE', ascending=False)"
   ]
  },
  {
   "cell_type": "markdown",
   "metadata": {},
   "source": [
    "8 гипотеза самая перспективная, затем идут 0 и 7. "
   ]
  },
  {
   "cell_type": "code",
   "execution_count": 11,
   "metadata": {},
   "outputs": [
    {
     "data": {
      "text/html": [
       "<div>\n",
       "<style scoped>\n",
       "    .dataframe tbody tr th:only-of-type {\n",
       "        vertical-align: middle;\n",
       "    }\n",
       "\n",
       "    .dataframe tbody tr th {\n",
       "        vertical-align: top;\n",
       "    }\n",
       "\n",
       "    .dataframe thead th {\n",
       "        text-align: right;\n",
       "    }\n",
       "</style>\n",
       "<table border=\"1\" class=\"dataframe\">\n",
       "  <thead>\n",
       "    <tr style=\"text-align: right;\">\n",
       "      <th></th>\n",
       "      <th>Hypothesis</th>\n",
       "      <th>RICE</th>\n",
       "    </tr>\n",
       "  </thead>\n",
       "  <tbody>\n",
       "    <tr>\n",
       "      <th>7</th>\n",
       "      <td>Добавить форму подписки на все основные страницы, чтобы собрать базу клиентов для email-рассылок</td>\n",
       "      <td>112.0</td>\n",
       "    </tr>\n",
       "    <tr>\n",
       "      <th>2</th>\n",
       "      <td>Добавить блоки рекомендаций товаров на сайт интернет магазина, чтобы повысить конверсию и средний чек заказа</td>\n",
       "      <td>56.0</td>\n",
       "    </tr>\n",
       "    <tr>\n",
       "      <th>0</th>\n",
       "      <td>Добавить два новых канала привлечения трафика, что позволит привлекать на 30% больше пользователей</td>\n",
       "      <td>40.0</td>\n",
       "    </tr>\n",
       "    <tr>\n",
       "      <th>6</th>\n",
       "      <td>Показать на главной странице баннеры с актуальными акциями и распродажами, чтобы увеличить конверсию</td>\n",
       "      <td>40.0</td>\n",
       "    </tr>\n",
       "    <tr>\n",
       "      <th>8</th>\n",
       "      <td>Запустить акцию, дающую скидку на товар в день рождения</td>\n",
       "      <td>16.2</td>\n",
       "    </tr>\n",
       "    <tr>\n",
       "      <th>3</th>\n",
       "      <td>Изменить структура категорий, что увеличит конверсию, т.к. пользователи быстрее найдут нужный товар</td>\n",
       "      <td>9.0</td>\n",
       "    </tr>\n",
       "    <tr>\n",
       "      <th>1</th>\n",
       "      <td>Запустить собственную службу доставки, что сократит срок доставки заказов</td>\n",
       "      <td>4.0</td>\n",
       "    </tr>\n",
       "    <tr>\n",
       "      <th>5</th>\n",
       "      <td>Добавить страницу отзывов клиентов о магазине, что позволит увеличить количество заказов</td>\n",
       "      <td>4.0</td>\n",
       "    </tr>\n",
       "    <tr>\n",
       "      <th>4</th>\n",
       "      <td>Изменить цвет фона главной страницы, чтобы увеличить вовлеченность пользователей</td>\n",
       "      <td>3.0</td>\n",
       "    </tr>\n",
       "  </tbody>\n",
       "</table>\n",
       "</div>"
      ],
      "text/plain": [
       "                                                                                                     Hypothesis  \\\n",
       "7              Добавить форму подписки на все основные страницы, чтобы собрать базу клиентов для email-рассылок   \n",
       "2  Добавить блоки рекомендаций товаров на сайт интернет магазина, чтобы повысить конверсию и средний чек заказа   \n",
       "0            Добавить два новых канала привлечения трафика, что позволит привлекать на 30% больше пользователей   \n",
       "6          Показать на главной странице баннеры с актуальными акциями и распродажами, чтобы увеличить конверсию   \n",
       "8                                                       Запустить акцию, дающую скидку на товар в день рождения   \n",
       "3           Изменить структура категорий, что увеличит конверсию, т.к. пользователи быстрее найдут нужный товар   \n",
       "1                                     Запустить собственную службу доставки, что сократит срок доставки заказов   \n",
       "5                      Добавить страницу отзывов клиентов о магазине, что позволит увеличить количество заказов   \n",
       "4                              Изменить цвет фона главной страницы, чтобы увеличить вовлеченность пользователей   \n",
       "\n",
       "    RICE  \n",
       "7  112.0  \n",
       "2   56.0  \n",
       "0   40.0  \n",
       "6   40.0  \n",
       "8   16.2  \n",
       "3    9.0  \n",
       "1    4.0  \n",
       "5    4.0  \n",
       "4    3.0  "
      ]
     },
     "execution_count": 11,
     "metadata": {},
     "output_type": "execute_result"
    }
   ],
   "source": [
    "#фреймворк RICE:\n",
    "hypothesis['RICE']=(hypothesis['Impact']*hypothesis['Confidence']*hypothesis['Reach'])/hypothesis['Efforts']\n",
    "hypothesis[['Hypothesis', 'RICE']].sort_values(by='RICE', ascending=False)\n"
   ]
  },
  {
   "cell_type": "markdown",
   "metadata": {},
   "source": [
    "При оценке гипотез методом RICE самыми эффективными оказались гипотезы номер 7, 2, 0 и 6. Разница этих методов в том, что при использовании метода RICE оцениваются не только насколько сильно повлияет изменение на пользователей и стоимость проверки гипотезы, но и то, какое количество пользователей это затрагивает.\n",
    "В результате приоритезации самыми перспективными выглядят гипотезы 7, т.к. эти измения затронут абсолютно всех пользователей при сравнительно небольшой цене и 0, т.к. оказывает существенное влияние в связи с привлечением новых пользователей."
   ]
  },
  {
   "cell_type": "markdown",
   "metadata": {},
   "source": [
    "### Построение графиков и проведение анализа по ним"
   ]
  },
  {
   "cell_type": "code",
   "execution_count": 12,
   "metadata": {},
   "outputs": [
    {
     "name": "stdout",
     "output_type": "stream",
     "text": [
      "Всего пользователей в тесте: 1031\n",
      "Количество  совпадающих пользователей в двух группах: 58\n"
     ]
    }
   ],
   "source": [
    "# проверим группы на совпадения пользователей\n",
    "group_a = orders[orders['group'] == 'A']['visitorId']\n",
    "group_b = orders[orders['group'] == 'B']['visitorId']\n",
    "orders_ab = orders.query('visitorId in @group_a and visitorId in @group_b')\n",
    "print('Всего пользователей в тесте:', orders['visitorId'].nunique())\n",
    "print('Количество  совпадающих пользователей в двух группах:', orders_ab['visitorId'].nunique())"
   ]
  },
  {
   "cell_type": "markdown",
   "metadata": {},
   "source": [
    "Около 5%  от общего числа пользователей пересекаются в 2 группах. Процента пересечения небольшой, поэтому оставим данные без изменений."
   ]
  },
  {
   "cell_type": "code",
   "execution_count": 13,
   "metadata": {},
   "outputs": [
    {
     "data": {
      "image/png": "[encoded data removed]",
      "text/plain": [
       "<Figure size 1440x432 with 1 Axes>"
      ]
     },
     "metadata": {
      "needs_background": "light"
     },
     "output_type": "display_data"
    }
   ],
   "source": [
    "# график кумулятивной выручки по группам\n",
    "# создаем массив уникальных пар значений дат и групп теста\n",
    "datesGroups = orders[['date','group']].drop_duplicates()\n",
    "\n",
    "# получаем агрегированные кумулятивные по дням данные о заказах \n",
    "ordersAggregated = datesGroups.apply(\n",
    "    lambda x: orders[np.logical_and(\n",
    "        orders['date'] <= x['date'], orders['group'] == x['group'])].agg(\n",
    "        {\n",
    "            'date' : 'max',\n",
    "            'group' : 'max',\n",
    "            'transactionId' : 'nunique',\n",
    "            'visitorId' : 'nunique',\n",
    "            'revenue' : 'sum'\n",
    "        }),\n",
    "    axis=1).sort_values(by=['date','group'])\n",
    "\n",
    "# получаем агрегированные кумулятивные по дням данные о посетителях интернет-магазина \n",
    "visitorsAggregated = datesGroups.apply(\n",
    "    lambda x: visitors[np.logical_and(\n",
    "        visitors['date'] <= x['date'], visitors['group'] == x['group'])].agg(\n",
    "        {\n",
    "            'date' : 'max',\n",
    "            'group' : 'max',\n",
    "            'visitors' : 'sum'\n",
    "        }), axis=1).sort_values(by=['date','group'])\n",
    "\n",
    "# объединяем кумулятивные данные в одной таблице и присваиваем ее столбцам понятные названия\n",
    "cumulativeData = ordersAggregated.merge(visitorsAggregated, left_on=['date', 'group'], right_on=['date', 'group'])\n",
    "cumulativeData.columns = ['date', 'group', 'orders', 'buyers', 'revenue', 'visitors']\n",
    "\n",
    "# датафрейм с кумулятивным количеством заказов и кумулятивной выручкой по дням в группе А\n",
    "cumulativeRevenueA = cumulativeData[cumulativeData['group']=='A'][['date','revenue', 'orders']]\n",
    "\n",
    "# датафрейм с кумулятивным количеством заказов и кумулятивной выручкой по дням в группе B\n",
    "cumulativeRevenueB = cumulativeData[cumulativeData['group']=='B'][['date','revenue', 'orders']]\n",
    "\n",
    "plt.figure(figsize=(20, 6))\n",
    "plt.xticks(rotation = 45)\n",
    "plt.title('График кумулятивной выручки по группам')\n",
    "plt.ylabel(\"Выручка, млн.\")\n",
    "plt.xlabel(\"Дата\")\n",
    "# Строим график выручки группы А\n",
    "plt.plot(cumulativeRevenueA['date'], cumulativeRevenueA['revenue'], label='A')\n",
    "\n",
    "# Строим график выручки группы B\n",
    "plt.plot(cumulativeRevenueB['date'], cumulativeRevenueB['revenue'], label='B')\n",
    "plt.legend() \n",
    "plt.show()"
   ]
  },
  {
   "cell_type": "markdown",
   "metadata": {},
   "source": [
    "Сегмент В по результатам превосходит сегмент А, но во второй половине теста происходит значительный отрыв, это может сигнализировать о всплесках числа заказов, либо о появлении очень дорогих заказов в выборке. "
   ]
  },
  {
   "cell_type": "code",
   "execution_count": 14,
   "metadata": {},
   "outputs": [
    {
     "data": {
      "text/plain": [
       "<matplotlib.legend.Legend at 0x7f884de283a0>"
      ]
     },
     "execution_count": 14,
     "metadata": {},
     "output_type": "execute_result"
    },
    {
     "data": {
      "image/png": "[encoded data removed]",
      "text/plain": [
       "<Figure size 1440x432 with 1 Axes>"
      ]
     },
     "metadata": {
      "needs_background": "light"
     },
     "output_type": "display_data"
    }
   ],
   "source": [
    "# график кумулятивного среднего чека по группам\n",
    "plt.figure(figsize=(20, 6))\n",
    "plt.xticks(rotation = 45)\n",
    "plt.title('График среднего чека по группам')\n",
    "plt.ylabel(\"Средний чек\")\n",
    "plt.xlabel(\"Дата\")\n",
    "plt.plot(cumulativeRevenueA['date'], cumulativeRevenueA['revenue']/cumulativeRevenueA['orders'], label='A')\n",
    "plt.plot(cumulativeRevenueB['date'], cumulativeRevenueB['revenue']/cumulativeRevenueB['orders'], label='B')\n",
    "plt.legend() "
   ]
  },
  {
   "cell_type": "markdown",
   "metadata": {},
   "source": [
    "К середине теста кумулятивное значение среднего чека становится более равномерным, но все равно делать выводы по данным рано без дополнительного анализа выбросов. Резкий скачек среднего чека в группе В обусловлен аномально большим по сумме заказом."
   ]
  },
  {
   "cell_type": "code",
   "execution_count": 15,
   "metadata": {},
   "outputs": [
    {
     "data": {
      "text/plain": [
       "<matplotlib.lines.Line2D at 0x7f8856265a90>"
      ]
     },
     "execution_count": 15,
     "metadata": {},
     "output_type": "execute_result"
    },
    {
     "data": {
      "image/png": "[encoded data removed]",
      "text/plain": [
       "<Figure size 1080x288 with 1 Axes>"
      ]
     },
     "metadata": {
      "needs_background": "light"
     },
     "output_type": "display_data"
    }
   ],
   "source": [
    "# график относительного изменения кумулятивного среднего чека группы B к группе A\n",
    "plt.figure(figsize=(15, 4))\n",
    "plt.xticks(rotation = 45)\n",
    "plt.title('График относительного различия для среднего чека')\n",
    "plt.ylabel(\"Проценты\")\n",
    "plt.xlabel(\"Дата\")\n",
    "# собираем данные в одном датафрейме\n",
    "mergedCumulativeRevenue = cumulativeRevenueA.merge(cumulativeRevenueB, left_on='date', right_on='date', how='left', suffixes=['A', 'B'])\n",
    "\n",
    "# cтроим отношение средних чеков\n",
    "plt.plot(mergedCumulativeRevenue['date'], (mergedCumulativeRevenue['revenueB']/mergedCumulativeRevenue['ordersB'])/(mergedCumulativeRevenue['revenueA']/mergedCumulativeRevenue['ordersA'])-1)\n",
    "\n",
    "# добавляем ось X\n",
    "plt.axhline(y=0, color='black', linestyle='--')"
   ]
  },
  {
   "cell_type": "markdown",
   "metadata": {},
   "source": [
    "Результаты теста сильно менялись несколько раз, видимо в эти даты были совершены аномальные заказы."
   ]
  },
  {
   "cell_type": "code",
   "execution_count": 16,
   "metadata": {},
   "outputs": [
    {
     "data": {
      "text/plain": [
       "(18109.0, 18139.0, 0.01, 0.05)"
      ]
     },
     "execution_count": 16,
     "metadata": {},
     "output_type": "execute_result"
    },
    {
     "data": {
      "image/png": "[encoded data removed]",
      "text/plain": [
       "<Figure size 1440x288 with 1 Axes>"
      ]
     },
     "metadata": {
      "needs_background": "light"
     },
     "output_type": "display_data"
    }
   ],
   "source": [
    "# график кумулятивного среднего количества заказов на посетителя по группам\n",
    "# считаем кумулятивную конверсию\n",
    "cumulativeData['conversion'] = cumulativeData['orders']/cumulativeData['visitors']\n",
    "\n",
    "# отделяем данные по группе A\n",
    "cumulativeDataA = cumulativeData[cumulativeData['group']=='A']\n",
    "\n",
    "# отделяем данные по группе B\n",
    "cumulativeDataB = cumulativeData[cumulativeData['group']=='B']\n",
    "\n",
    "# строим графики\n",
    "plt.figure(figsize=(20, 4))\n",
    "plt.xticks(rotation = 45)\n",
    "plt.title('График кумулятивного среднего количества заказов на посетителя по группам')\n",
    "plt.ylabel(\"среднее кол-во заказов на посетителя\")\n",
    "plt.xlabel(\"Дата\")\n",
    "plt.plot(cumulativeDataA['date'], cumulativeDataA['conversion'], label='A')\n",
    "plt.plot(cumulativeDataB['date'], cumulativeDataB['conversion'], label='B')\n",
    "plt.legend()\n",
    "\n",
    "# задаем масштаб осей\n",
    "plt.axis([\"2019-08-01\", '2019-08-31', 0.010, 0.050])\n"
   ]
  },
  {
   "cell_type": "markdown",
   "metadata": {},
   "source": [
    "В начале группы колебались около одного значения, но затем сегмент В вырвался вперед и данные выровнялись."
   ]
  },
  {
   "cell_type": "code",
   "execution_count": 17,
   "metadata": {},
   "outputs": [
    {
     "data": {
      "text/plain": [
       "(18109.0, 18140.0, -0.2, 0.3)"
      ]
     },
     "execution_count": 17,
     "metadata": {},
     "output_type": "execute_result"
    },
    {
     "data": {
      "image/png": "[encoded data removed]",
      "text/plain": [
       "<Figure size 1080x288 with 1 Axes>"
      ]
     },
     "metadata": {
      "needs_background": "light"
     },
     "output_type": "display_data"
    }
   ],
   "source": [
    "# график относительного изменения кумулятивного среднего количества заказов на посетителя группы B к группе A\n",
    "mergedCumulativeConversions = cumulativeDataA[['date','conversion']].merge(\n",
    "    cumulativeDataB[['date','conversion']], left_on='date', right_on='date', how='left', suffixes=['A', 'B'])\n",
    "\n",
    "plt.figure(figsize=(15, 4))\n",
    "plt.title('Относительный прирост конверсии группы B относительно группы A')\n",
    "plt.ylabel(\"Проценты\")\n",
    "plt.xlabel(\"Дата\")\n",
    "plt.plot(mergedCumulativeConversions['date'],\n",
    "         mergedCumulativeConversions['conversionB']/mergedCumulativeConversions['conversionA']-1,)\n",
    "plt.axhline(y=0, color='black', linestyle='--')\n",
    "plt.axhline(y=0.15, color='grey', linestyle='--')\n",
    "plt.axis([\"2019-08-01\", '2019-09-01', -0.2, 0.3])\n",
    "\n"
   ]
  },
  {
   "cell_type": "markdown",
   "metadata": {},
   "source": [
    "Прирост группы В по среднему числу заказов относительно группы А почти 15%. Но однозначно сказать, что показатели утановились по данному графику нельзя. По-прежнему сильно влияют выбросы."
   ]
  },
  {
   "cell_type": "markdown",
   "metadata": {},
   "source": [
    "По предыдущим графикам видно, что группа В показыввает лучшие результаты, но также на графиках присутствуют выбросы, поэтому далее проанализируем аномальные значения, такие как количество заказов на одного пользователя"
   ]
  },
  {
   "cell_type": "markdown",
   "metadata": {},
   "source": [
    "### Оценка аномальных значений"
   ]
  },
  {
   "cell_type": "code",
   "execution_count": 18,
   "metadata": {},
   "outputs": [
    {
     "data": {
      "text/plain": [
       "<matplotlib.collections.PathCollection at 0x7f884dcc7c10>"
      ]
     },
     "execution_count": 18,
     "metadata": {},
     "output_type": "execute_result"
    },
    {
     "data": {
      "image/png": "[encoded data removed]",
      "text/plain": [
       "<Figure size 432x288 with 1 Axes>"
      ]
     },
     "metadata": {
      "needs_background": "light"
     },
     "output_type": "display_data"
    }
   ],
   "source": [
    "# точечный график количества заказов по пользователям\n",
    "ordersByUsers = (\n",
    "    orders.groupby('visitorId', as_index=False)\n",
    "    .agg({'transactionId': 'nunique'})\n",
    ")\n",
    "ordersByUsers.columns = ['userId', 'orders']\n",
    "\n",
    "# серия из чисел от 0 до количества наблюдений в ordersByUsers\n",
    "x_values = pd.Series(range(0, len(ordersByUsers)))\n",
    "plt.title('Точечный график количества заказов по пользователям')\n",
    "plt.ylabel(\"Заказы\")\n",
    "plt.xlabel(\"Пользователи\")\n",
    "plt.scatter(x_values, ordersByUsers['orders']) "
   ]
  },
  {
   "cell_type": "markdown",
   "metadata": {},
   "source": [
    "В основном пользователи совершили не более двух заказов, но есть единичные пользователи, совершившие больше 6 заказов."
   ]
  },
  {
   "cell_type": "code",
   "execution_count": 41,
   "metadata": {},
   "outputs": [
    {
     "data": {
      "text/plain": [
       "array([2., 4.])"
      ]
     },
     "execution_count": 41,
     "metadata": {},
     "output_type": "execute_result"
    }
   ],
   "source": [
    "# подсчет 95-й и 99-й перцентией количества заказов на пользователя\n",
    "np.percentile(ordersByUsers['orders'], [95, 99])\n"
   ]
  },
  {
   "cell_type": "markdown",
   "metadata": {},
   "source": [
    "Не более 5% пользователей совершили более 2 покупок и только 1% больше 4 покупок. Примем за верхнюю границу 4 заказа на одного пользователя для определения аномальных пользователей."
   ]
  },
  {
   "cell_type": "code",
   "execution_count": 42,
   "metadata": {},
   "outputs": [],
   "source": [
    "abd_orders = np.percentile(ordersByUsers['orders'], 99)"
   ]
  },
  {
   "cell_type": "code",
   "execution_count": 20,
   "metadata": {},
   "outputs": [
    {
     "data": {
      "text/plain": [
       "<matplotlib.collections.PathCollection at 0x7f884dc6c130>"
      ]
     },
     "execution_count": 20,
     "metadata": {},
     "output_type": "execute_result"
    },
    {
     "data": {
      "image/png": "[encoded data removed]",
      "text/plain": [
       "<Figure size 432x288 with 1 Axes>"
      ]
     },
     "metadata": {
      "needs_background": "light"
     },
     "output_type": "display_data"
    }
   ],
   "source": [
    "# построение точечного графика стоимостей заказов\n",
    "x_values = pd.Series(range(0, len(orders['revenue'])))\n",
    "plt.title('Точечный график стоимостей заказов')\n",
    "plt.ylabel(\"Стоимость заказа, млн.\")\n",
    "plt.xlabel(\"Пользователи\")\n",
    "plt.scatter(x_values, orders['revenue']) "
   ]
  },
  {
   "cell_type": "code",
   "execution_count": 21,
   "metadata": {},
   "outputs": [
    {
     "data": {
      "text/plain": [
       "<matplotlib.collections.PathCollection at 0x7f884dc6c5b0>"
      ]
     },
     "execution_count": 21,
     "metadata": {},
     "output_type": "execute_result"
    },
    {
     "data": {
      "image/png": "[encoded data removed]",
      "text/plain": [
       "<Figure size 432x288 with 1 Axes>"
      ]
     },
     "metadata": {
      "needs_background": "light"
     },
     "output_type": "display_data"
    }
   ],
   "source": [
    "# построение укрупненного (без выбросов) точечного графика стоимостей заказов\n",
    "x_values = pd.Series(range(0, len(orders['revenue'])))\n",
    "plt.title('Точечный график стоимостей заказов')\n",
    "plt.ylabel(\"Стоимость заказа\")\n",
    "plt.xlabel(\"Пользователи\")\n",
    "plt.ylim(0, 120000)\n",
    "plt.scatter(x_values, orders['revenue']) "
   ]
  },
  {
   "cell_type": "markdown",
   "metadata": {},
   "source": [
    "Есть единичные заказы дороже 200 тысяч рублей."
   ]
  },
  {
   "cell_type": "code",
   "execution_count": 40,
   "metadata": {},
   "outputs": [
    {
     "data": {
      "text/plain": [
       "array([28000. , 58233.2])"
      ]
     },
     "execution_count": 40,
     "metadata": {},
     "output_type": "execute_result"
    }
   ],
   "source": [
    "# подсчет 95-й и 99-й перцентили стоимости заказов\n",
    "np.percentile(orders['revenue'], [95, 99]) \n",
    "\n"
   ]
  },
  {
   "cell_type": "markdown",
   "metadata": {},
   "source": [
    "При этом 95% всех заказов не превышает 28000 рублей и лишь 1% заказов дороже 58000. Определим значение 99-ого перцентиля как границу стоимости аномальных заказов.\n"
   ]
  },
  {
   "cell_type": "code",
   "execution_count": null,
   "metadata": {},
   "outputs": [],
   "source": [
    "abd_revenue = np.percentile(orders['revenue'], 99)"
   ]
  },
  {
   "cell_type": "markdown",
   "metadata": {},
   "source": [
    "### Анализ статистической значимости"
   ]
  },
  {
   "cell_type": "markdown",
   "metadata": {},
   "source": [
    "Мы уже оценили результаты A/B-теста визуально и выяснили, что в данных есть выбросы, увидели выбросы  их визуально на графиках и нашли границы для их определения.\n",
    "Теперь посчитаем статистическую значимость различий в среднем числе заказов на пользователя и среднем чеке между группами по «сырым» данным — без удаления аномальных пользователей.\n",
    "Сформулируем гипотезы. Нулевая: различий в среднем количестве заказов между группами нет. Альтернативная: различия в среднем между группами есть.\n",
    "Установим стандартный уровень статистической значимости, равный 0.05.\n",
    "Для проверки гипотез будем использовать непараметрический тест Уилкоксона-Манна-Уитни."
   ]
  },
  {
   "cell_type": "markdown",
   "metadata": {},
   "source": [
    "#### Статистическая значимость различий в среднем количестве заказов на посетителя между группами по «сырым» данным "
   ]
  },
  {
   "cell_type": "code",
   "execution_count": 23,
   "metadata": {},
   "outputs": [],
   "source": [
    "visitorsPerDateA=visitors[visitors['group']== 'A']\n",
    "visitorsPerDateB=visitors[visitors['group']== 'B']"
   ]
  },
  {
   "cell_type": "code",
   "execution_count": 32,
   "metadata": {},
   "outputs": [],
   "source": [
    "# создадим переменные ordersByUsersA и ordersByUsersB, \n",
    "# в них для пользователей, которые заказывали хотя бы 1 раз, укажем число совершённых заказов. \n",
    "ordersByUsersA = (\n",
    "    orders[orders['group'] == 'A']\n",
    "    .groupby('visitorId', as_index=False)\n",
    "    .agg({'transactionId': pd.Series.nunique})\n",
    ")\n",
    "ordersByUsersA.columns = ['userId', 'orders']\n",
    "\n",
    "ordersByUsersB = (\n",
    "    orders[orders['group'] == 'B']\n",
    "    .groupby('visitorId', as_index=False)\n",
    "    .agg({'transactionId': pd.Series.nunique})\n",
    ")\n",
    "ordersByUsersB.columns = ['userId', 'orders']\n",
    "\n",
    "# для подготовки выборки к проверке критерием Манна-Уитни объявим переменные sampleA и sampleB, \n",
    "# в которых пользователям из разных групп будет соответствовать количество заказов. \n",
    "# Тем, кто ничего не заказал, будут соответствовать нули. \n",
    "sampleA = pd.concat([ordersByUsersA['orders'],pd.Series(\n",
    "    0, index=np.arange(visitorsPerDateA['visitors'].sum() - len(ordersByUsersA['orders'])), name='orders')],axis=0)\n",
    "\n",
    "sampleB = pd.concat([ordersByUsersB['orders'],pd.Series(\n",
    "    0, index=np.arange(visitorsPerDateB['visitors'].sum() - len(ordersByUsersB['orders'])), name='orders')],axis=0)"
   ]
  },
  {
   "cell_type": "code",
   "execution_count": 25,
   "metadata": {},
   "outputs": [],
   "source": [
    "ordersByUsersA = (\n",
    "    orders[orders['group'] == 'A']\n",
    "    .groupby('visitorId', as_index=False)\n",
    "    .agg({'transactionId': pd.Series.nunique})\n",
    ")\n",
    "ordersByUsersA.columns = ['userId', 'orders']\n",
    "\n",
    "ordersByUsersB = (\n",
    "    orders[orders['group'] == 'B']\n",
    "    .groupby('visitorId', as_index=False)\n",
    "    .agg({'transactionId': pd.Series.nunique})\n",
    ")\n",
    "ordersByUsersB.columns = ['userId', 'orders']\n",
    "\n",
    "sampleA = pd.concat(\n",
    "    [\n",
    "        ordersByUsersA['orders'],\n",
    "        pd.Series(\n",
    "            0,\n",
    "            index=np.arange(\n",
    "                visitorsPerDateA['visitors'].sum() - len(ordersByUsersA['orders'])\n",
    "            ),\n",
    "            name='orders',\n",
    "        ),\n",
    "    ],\n",
    "    axis=0,\n",
    ")\n",
    "\n",
    "sampleB = pd.concat(\n",
    "    [\n",
    "        ordersByUsersB['orders'],\n",
    "        pd.Series(\n",
    "            0,\n",
    "            index=np.arange(\n",
    "                visitorsPerDateB['visitors'].sum() - len(ordersByUsersB['orders'])\n",
    "            ),\n",
    "            name='orders',\n",
    "        ),\n",
    "    ],\n",
    "    axis=0,\n",
    ")"
   ]
  },
  {
   "cell_type": "code",
   "execution_count": 44,
   "metadata": {},
   "outputs": [
    {
     "name": "stdout",
     "output_type": "stream",
     "text": [
      "P-value: 0.017\n",
      "Отвергаем нулевую гипотезу: между группами наблюдается статистически значимая разница\n",
      "Относительный прирост В к А: 13.808%\n"
     ]
    }
   ],
   "source": [
    "# Функция для проверки гипотезы о равенстве групп data A и data B\n",
    "def stat_significance(data_a, data_b):\n",
    "    alpha = 0.05\n",
    "    p_value = stats.mannwhitneyu(data_a, data_b)[1]\n",
    "    print(\"P-value: {0:.3f}\".format(p_value))\n",
    "\n",
    "    if (p_value < alpha):\n",
    "        print(\"Отвергаем нулевую гипотезу: между группами наблюдается статистически значимая разница\")\n",
    "    else:\n",
    "        print(\"Не получилось отвергнуть нулевую гипотезу, нет оснований считать группы разными\")\n",
    "    \n",
    "    print(\"Относительный прирост В к А: {0:.3%}\".format(data_b.mean() / data_a.mean()-1))\n",
    "    \n",
    " \n",
    "stat_significance(sampleA, sampleB)   "
   ]
  },
  {
   "cell_type": "markdown",
   "metadata": {},
   "source": [
    "#### Статистическая значимость различий в среднем чеке заказа между группами по «сырым» данным\n",
    "Нулевая гипотеза: различий в среднем чеке заказа между группами нет.\n",
    "Альтернативная гипотеза: различия в среднем чеке заказа между группами есть."
   ]
  },
  {
   "cell_type": "code",
   "execution_count": 27,
   "metadata": {},
   "outputs": [
    {
     "name": "stdout",
     "output_type": "stream",
     "text": [
      "P-value: 0.729\n",
      "Не получилось отвергнуть нулевую гипотезу, нет оснований считать группы разными\n",
      "Относительный прирост В к А: 25.871%\n"
     ]
    }
   ],
   "source": [
    "stat_significance(orders[orders['group']=='A']['revenue'], orders[orders['group']=='B']['revenue'])"
   ]
  },
  {
   "cell_type": "markdown",
   "metadata": {},
   "source": [
    "####  Статистическая значимость различий в среднем количестве заказов на посетителя между группами по «очищенным» данным"
   ]
  },
  {
   "cell_type": "markdown",
   "metadata": {},
   "source": [
    "Нулевая гипотеза: различий в среднем количестве заказов между группами нет. Альтернативная гипотеза: различия есть."
   ]
  },
  {
   "cell_type": "code",
   "execution_count": 43,
   "metadata": {},
   "outputs": [
    {
     "name": "stdout",
     "output_type": "stream",
     "text": [
      "15\n"
     ]
    }
   ],
   "source": [
    "# исключаем аномальные данные\n",
    "usersWithManyOrders = pd.concat(\n",
    "    [\n",
    "        ordersByUsersA[ordersByUsersA['orders'] > abd_orders]['userId'],\n",
    "        ordersByUsersB[ordersByUsersB['orders'] > abd_orders]['userId'],\n",
    "    ],\n",
    "    axis=0,\n",
    ")\n",
    "usersWithExpensiveOrders = orders[orders['revenue'] > abd_revenue]['visitorId']\n",
    "abnormalUsers = (\n",
    "    pd.concat([usersWithManyOrders, usersWithExpensiveOrders], axis=0)\n",
    "    .drop_duplicates()\n",
    "    .sort_values()\n",
    ")\n",
    "#print(abnormalUsers.head(5))\n",
    "print(abnormalUsers.shape[0])\n"
   ]
  },
  {
   "cell_type": "markdown",
   "metadata": {},
   "source": [
    "Исключили аномальных пользователей."
   ]
  },
  {
   "cell_type": "code",
   "execution_count": 29,
   "metadata": {},
   "outputs": [],
   "source": [
    "sampleAFiltered = pd.concat(\n",
    "    [\n",
    "        ordersByUsersA[\n",
    "            np.logical_not(ordersByUsersA['userId'].isin(abnormalUsers))\n",
    "        ]['orders'],\n",
    "        pd.Series(\n",
    "            0,\n",
    "            index=np.arange(\n",
    "                visitorsPerDateA['visitors'].sum() - len(ordersByUsersA['orders'])\n",
    "            ),\n",
    "            name='orders',\n",
    "        ),\n",
    "    ],\n",
    "    axis=0,\n",
    ")\n",
    "\n",
    "sampleBFiltered = pd.concat(\n",
    "    [\n",
    "        ordersByUsersB[\n",
    "            np.logical_not(ordersByUsersB['userId'].isin(abnormalUsers))\n",
    "        ]['orders'],\n",
    "        pd.Series(\n",
    "            0,\n",
    "            index=np.arange(\n",
    "                visitorsPerDateB['visitors'].sum() - len(ordersByUsersB['orders'])\n",
    "            ),\n",
    "            name='orders',\n",
    "        ),\n",
    "    ],\n",
    "    axis=0,\n",
    ")"
   ]
  },
  {
   "cell_type": "code",
   "execution_count": 45,
   "metadata": {},
   "outputs": [
    {
     "name": "stdout",
     "output_type": "stream",
     "text": [
      "P-value: 0.014\n",
      "Отвергаем нулевую гипотезу: между группами наблюдается статистически значимая разница\n",
      "Относительный прирост В к А: 15.331%\n"
     ]
    }
   ],
   "source": [
    "stat_significance(sampleAFiltered, sampleBFiltered)"
   ]
  },
  {
   "cell_type": "markdown",
   "metadata": {},
   "source": [
    "Разница между \"сырыми\" и \"очищенными данными всего 2 процентных пункта."
   ]
  },
  {
   "cell_type": "markdown",
   "metadata": {},
   "source": [
    "#### Статистическая значимость различий в среднем чеке заказа между группами по «очищенным» данным"
   ]
  },
  {
   "cell_type": "markdown",
   "metadata": {},
   "source": [
    "Нулевая гипотеза: различий в среднем чеке заказа между группами нет. Альтернативная гипотеза: различия в среднем чеке заказа между группами есть."
   ]
  },
  {
   "cell_type": "code",
   "execution_count": 31,
   "metadata": {},
   "outputs": [
    {
     "name": "stdout",
     "output_type": "stream",
     "text": [
      "P-value: 0.851\n",
      "Не получилось отвергнуть нулевую гипотезу, нет оснований считать группы разными\n",
      "Относительный прирост В к А: -0.575%\n"
     ]
    }
   ],
   "source": [
    "stat_significance(\n",
    "    orders[(orders['group']=='A') & np.logical_not(orders['visitorId'].isin(abnormalUsers))]['revenue'], \n",
    "    orders[(orders['group']=='B') & np.logical_not(orders['visitorId'].isin(abnormalUsers))]['revenue'])\n",
    "                  "
   ]
  },
  {
   "cell_type": "markdown",
   "metadata": {},
   "source": [
    "### Вывод"
   ]
  },
  {
   "cell_type": "markdown",
   "metadata": {},
   "source": [
    "В результета исследования данных, предоставленных интернет-магазином можно сделать следующие выводы и рекомендации. \n",
    "Следуетпринять следующие гипотезы в разработку в первую очередь:\n",
    "- Добавить форму подписки на все основные страницы, чтобы собрать базу клиентов для email-рассылок.\n",
    "- Добавить два новых канала привлечения трафика, что позволит привлекать на 30% больше пользователей.\n",
    "\n",
    "Можно сделать вывод, что группы равны по среднему чеку и группа В превосходит группу А по среднему числу заказов, на основании этого тест нужно завершать, потому что тенденций к улучшению среднего чека в группе В по очищенным данным не наблюдается, статистически значимой разницы между группами нет, вероятность того, что что-то изменится в случае продолжения теста крайне мала. Тест можно признать успешным  по отношению среднему числу заказов группы В к группе А. \n",
    "То есть, изменения, проеверяемые в группе В имеют большее положительное влияние на выручку, т.к. при сохранении среднего чека заказа пользователи чаще совершают заказы."
   ]
  }
 ],
 "metadata": {
  "ExecuteTimeLog": [
   {
    "duration": 49,
    "start_time": "2023-04-24T15:54:10.999Z"
   },
   {
    "duration": 544,
    "start_time": "2023-04-24T15:54:17.697Z"
   },
   {
    "duration": 962,
    "start_time": "2023-04-24T15:54:30.534Z"
   },
   {
    "duration": 17,
    "start_time": "2023-04-24T15:54:32.729Z"
   },
   {
    "duration": 50,
    "start_time": "2023-04-24T15:55:47.290Z"
   },
   {
    "duration": 7,
    "start_time": "2023-04-24T15:55:49.290Z"
   },
   {
    "duration": 142,
    "start_time": "2023-04-24T15:55:50.477Z"
   },
   {
    "duration": 11,
    "start_time": "2023-04-24T15:55:51.103Z"
   },
   {
    "duration": 9,
    "start_time": "2023-04-24T15:56:01.911Z"
   },
   {
    "duration": 12,
    "start_time": "2023-04-24T15:56:11.544Z"
   },
   {
    "duration": 8,
    "start_time": "2023-04-24T15:57:30.993Z"
   },
   {
    "duration": 7,
    "start_time": "2023-04-24T15:58:39.030Z"
   },
   {
    "duration": 12,
    "start_time": "2023-04-24T15:58:54.717Z"
   },
   {
    "duration": 6,
    "start_time": "2023-04-24T16:02:01.342Z"
   },
   {
    "duration": 7,
    "start_time": "2023-04-24T16:04:03.120Z"
   },
   {
    "duration": 7,
    "start_time": "2023-04-24T16:04:05.219Z"
   },
   {
    "duration": 8,
    "start_time": "2023-04-24T16:04:07.346Z"
   },
   {
    "duration": 10,
    "start_time": "2023-04-24T16:04:15.649Z"
   },
   {
    "duration": 7,
    "start_time": "2023-04-24T16:04:46.198Z"
   },
   {
    "duration": 9,
    "start_time": "2023-04-24T16:04:47.054Z"
   },
   {
    "duration": 8,
    "start_time": "2023-04-24T16:05:00.405Z"
   },
   {
    "duration": 6,
    "start_time": "2023-04-24T16:06:09.550Z"
   },
   {
    "duration": 51,
    "start_time": "2023-04-24T18:07:51.944Z"
   },
   {
    "duration": 1103,
    "start_time": "2023-04-24T18:08:03.070Z"
   },
   {
    "duration": 16,
    "start_time": "2023-04-24T18:08:04.175Z"
   },
   {
    "duration": 24,
    "start_time": "2023-04-24T18:08:04.193Z"
   },
   {
    "duration": 20,
    "start_time": "2023-04-24T18:08:04.218Z"
   },
   {
    "duration": 13,
    "start_time": "2023-04-24T18:08:04.240Z"
   },
   {
    "duration": 10,
    "start_time": "2023-04-24T18:08:04.255Z"
   },
   {
    "duration": 24,
    "start_time": "2023-04-24T18:08:04.266Z"
   },
   {
    "duration": 35,
    "start_time": "2023-04-24T18:08:04.291Z"
   },
   {
    "duration": 13,
    "start_time": "2023-04-24T18:08:04.328Z"
   },
   {
    "duration": 80,
    "start_time": "2023-04-24T18:11:14.089Z"
   },
   {
    "duration": 11,
    "start_time": "2023-04-24T18:11:22.008Z"
   },
   {
    "duration": 9,
    "start_time": "2023-04-24T18:15:16.583Z"
   },
   {
    "duration": 519,
    "start_time": "2023-04-24T18:35:19.736Z"
   },
   {
    "duration": 145,
    "start_time": "2023-04-24T18:39:13.796Z"
   },
   {
    "duration": 9,
    "start_time": "2023-04-24T18:40:16.797Z"
   },
   {
    "duration": 9,
    "start_time": "2023-04-24T18:45:04.372Z"
   },
   {
    "duration": 257,
    "start_time": "2023-04-24T18:46:25.746Z"
   },
   {
    "duration": 548,
    "start_time": "2023-04-24T18:47:23.137Z"
   },
   {
    "duration": 554,
    "start_time": "2023-04-24T18:51:30.015Z"
   },
   {
    "duration": 539,
    "start_time": "2023-04-24T18:51:51.182Z"
   },
   {
    "duration": 515,
    "start_time": "2023-04-24T18:53:32.726Z"
   },
   {
    "duration": 616,
    "start_time": "2023-04-24T18:53:53.884Z"
   },
   {
    "duration": 560,
    "start_time": "2023-04-24T18:54:17.177Z"
   },
   {
    "duration": 625,
    "start_time": "2023-04-24T18:55:40.259Z"
   },
   {
    "duration": 545,
    "start_time": "2023-04-24T18:55:58.950Z"
   },
   {
    "duration": 585,
    "start_time": "2023-04-24T18:56:04.969Z"
   },
   {
    "duration": 534,
    "start_time": "2023-04-24T18:57:39.795Z"
   },
   {
    "duration": 534,
    "start_time": "2023-04-24T18:58:05.204Z"
   },
   {
    "duration": 563,
    "start_time": "2023-04-24T18:59:30.930Z"
   },
   {
    "duration": 624,
    "start_time": "2023-04-24T19:23:13.536Z"
   },
   {
    "duration": 563,
    "start_time": "2023-04-24T19:23:22.750Z"
   },
   {
    "duration": 339,
    "start_time": "2023-04-24T19:24:48.561Z"
   },
   {
    "duration": 313,
    "start_time": "2023-04-24T19:25:43.049Z"
   },
   {
    "duration": 427,
    "start_time": "2023-04-24T19:29:34.272Z"
   },
   {
    "duration": 476,
    "start_time": "2023-04-24T19:30:33.940Z"
   },
   {
    "duration": 420,
    "start_time": "2023-04-24T19:30:41.579Z"
   },
   {
    "duration": 382,
    "start_time": "2023-04-24T19:30:48.797Z"
   },
   {
    "duration": 262,
    "start_time": "2023-04-24T19:36:25.205Z"
   },
   {
    "duration": 202,
    "start_time": "2023-04-24T19:36:33.327Z"
   },
   {
    "duration": 274,
    "start_time": "2023-04-24T19:36:41.719Z"
   },
   {
    "duration": 403,
    "start_time": "2023-04-24T19:48:16.194Z"
   },
   {
    "duration": 360,
    "start_time": "2023-04-24T19:49:19.802Z"
   },
   {
    "duration": 498,
    "start_time": "2023-04-24T19:49:32.394Z"
   },
   {
    "duration": 350,
    "start_time": "2023-04-24T19:49:40.216Z"
   },
   {
    "duration": 431,
    "start_time": "2023-04-24T19:49:50.470Z"
   },
   {
    "duration": 344,
    "start_time": "2023-04-24T19:50:02.213Z"
   },
   {
    "duration": 314,
    "start_time": "2023-04-24T19:50:18.733Z"
   },
   {
    "duration": 399,
    "start_time": "2023-04-24T19:52:29.462Z"
   },
   {
    "duration": 54,
    "start_time": "2023-04-25T12:32:50.076Z"
   },
   {
    "duration": 1700,
    "start_time": "2023-04-25T12:33:00.608Z"
   },
   {
    "duration": 12,
    "start_time": "2023-04-25T12:33:02.310Z"
   },
   {
    "duration": 18,
    "start_time": "2023-04-25T12:33:02.326Z"
   },
   {
    "duration": 25,
    "start_time": "2023-04-25T12:33:02.347Z"
   },
   {
    "duration": 33,
    "start_time": "2023-04-25T12:33:02.373Z"
   },
   {
    "duration": 17,
    "start_time": "2023-04-25T12:33:02.407Z"
   },
   {
    "duration": 53,
    "start_time": "2023-04-25T12:33:02.426Z"
   },
   {
    "duration": 33,
    "start_time": "2023-04-25T12:33:02.482Z"
   },
   {
    "duration": 38,
    "start_time": "2023-04-25T12:33:02.517Z"
   },
   {
    "duration": 38,
    "start_time": "2023-04-25T12:33:02.557Z"
   },
   {
    "duration": 643,
    "start_time": "2023-04-25T12:33:02.598Z"
   },
   {
    "duration": 247,
    "start_time": "2023-04-25T12:33:03.243Z"
   },
   {
    "duration": 376,
    "start_time": "2023-04-25T12:33:03.493Z"
   },
   {
    "duration": 222,
    "start_time": "2023-04-25T12:33:03.871Z"
   },
   {
    "duration": 290,
    "start_time": "2023-04-25T12:33:04.095Z"
   },
   {
    "duration": 318,
    "start_time": "2023-04-25T12:34:25.982Z"
   },
   {
    "duration": 351,
    "start_time": "2023-04-25T12:35:11.200Z"
   },
   {
    "duration": 367,
    "start_time": "2023-04-25T12:35:56.548Z"
   },
   {
    "duration": 401,
    "start_time": "2023-04-25T12:36:05.585Z"
   },
   {
    "duration": 438,
    "start_time": "2023-04-25T12:36:18.438Z"
   },
   {
    "duration": 370,
    "start_time": "2023-04-25T12:36:28.491Z"
   },
   {
    "duration": 368,
    "start_time": "2023-04-25T12:36:38.586Z"
   },
   {
    "duration": 374,
    "start_time": "2023-04-25T12:38:22.485Z"
   },
   {
    "duration": 308,
    "start_time": "2023-04-25T12:39:05.650Z"
   },
   {
    "duration": 325,
    "start_time": "2023-04-25T12:39:24.073Z"
   },
   {
    "duration": 302,
    "start_time": "2023-04-25T12:39:59.455Z"
   },
   {
    "duration": 139,
    "start_time": "2023-04-25T12:51:18.822Z"
   },
   {
    "duration": 15,
    "start_time": "2023-04-25T12:51:51.806Z"
   },
   {
    "duration": 9,
    "start_time": "2023-04-25T13:17:39.588Z"
   },
   {
    "duration": 134,
    "start_time": "2023-04-25T13:18:13.598Z"
   },
   {
    "duration": 127,
    "start_time": "2023-04-25T13:18:43.949Z"
   },
   {
    "duration": 137,
    "start_time": "2023-04-25T13:18:50.112Z"
   },
   {
    "duration": 120,
    "start_time": "2023-04-25T13:38:23.749Z"
   },
   {
    "duration": 5,
    "start_time": "2023-04-25T13:45:27.377Z"
   },
   {
    "duration": 4,
    "start_time": "2023-04-25T13:45:45.044Z"
   },
   {
    "duration": 5,
    "start_time": "2023-04-25T13:45:56.150Z"
   },
   {
    "duration": 10,
    "start_time": "2023-04-25T14:07:42.047Z"
   },
   {
    "duration": 8,
    "start_time": "2023-04-25T14:09:22.044Z"
   },
   {
    "duration": 12,
    "start_time": "2023-04-25T14:09:40.781Z"
   },
   {
    "duration": 8,
    "start_time": "2023-04-25T14:09:46.308Z"
   },
   {
    "duration": 9,
    "start_time": "2023-04-25T14:10:07.811Z"
   },
   {
    "duration": 144,
    "start_time": "2023-04-25T14:10:23.721Z"
   },
   {
    "duration": 5,
    "start_time": "2023-04-25T14:11:23.781Z"
   },
   {
    "duration": 132,
    "start_time": "2023-04-25T14:13:11.073Z"
   },
   {
    "duration": 8,
    "start_time": "2023-04-25T14:13:17.704Z"
   },
   {
    "duration": 221,
    "start_time": "2023-04-25T14:13:33.887Z"
   },
   {
    "duration": 135,
    "start_time": "2023-04-25T14:13:56.594Z"
   },
   {
    "duration": 7,
    "start_time": "2023-04-25T14:14:29.225Z"
   },
   {
    "duration": 162,
    "start_time": "2023-04-25T14:15:23.319Z"
   },
   {
    "duration": 154,
    "start_time": "2023-04-25T14:15:36.690Z"
   },
   {
    "duration": 139,
    "start_time": "2023-04-25T14:15:47.896Z"
   },
   {
    "duration": 12,
    "start_time": "2023-04-25T14:29:28.501Z"
   },
   {
    "duration": 8,
    "start_time": "2023-04-25T14:29:33.578Z"
   },
   {
    "duration": 12,
    "start_time": "2023-04-25T14:29:37.509Z"
   },
   {
    "duration": 10,
    "start_time": "2023-04-25T14:29:39.610Z"
   },
   {
    "duration": 9,
    "start_time": "2023-04-25T14:29:40.228Z"
   },
   {
    "duration": 11,
    "start_time": "2023-04-25T14:30:00.498Z"
   },
   {
    "duration": 8,
    "start_time": "2023-04-25T14:30:40.338Z"
   },
   {
    "duration": 13,
    "start_time": "2023-04-25T14:32:11.834Z"
   },
   {
    "duration": 11,
    "start_time": "2023-04-25T14:32:22.708Z"
   },
   {
    "duration": 5,
    "start_time": "2023-04-25T14:33:48.017Z"
   },
   {
    "duration": 5,
    "start_time": "2023-04-25T14:34:00.623Z"
   },
   {
    "duration": 179,
    "start_time": "2023-04-25T14:35:54.255Z"
   },
   {
    "duration": 130,
    "start_time": "2023-04-25T14:36:01.750Z"
   },
   {
    "duration": 121,
    "start_time": "2023-04-25T14:36:08.596Z"
   },
   {
    "duration": 120,
    "start_time": "2023-04-25T14:36:10.477Z"
   },
   {
    "duration": 114,
    "start_time": "2023-04-25T14:36:15.387Z"
   },
   {
    "duration": 145,
    "start_time": "2023-04-25T14:37:37.106Z"
   },
   {
    "duration": 49,
    "start_time": "2023-04-25T14:52:16.119Z"
   },
   {
    "duration": 49,
    "start_time": "2023-04-25T14:52:17.227Z"
   },
   {
    "duration": 3,
    "start_time": "2023-04-25T14:52:22.498Z"
   },
   {
    "duration": 18,
    "start_time": "2023-04-25T15:07:28.641Z"
   },
   {
    "duration": 10,
    "start_time": "2023-04-25T15:09:19.201Z"
   },
   {
    "duration": 157,
    "start_time": "2023-04-25T15:09:54.091Z"
   },
   {
    "duration": 159,
    "start_time": "2023-04-25T15:10:24.089Z"
   },
   {
    "duration": 221,
    "start_time": "2023-04-25T15:14:22.140Z"
   },
   {
    "duration": 149,
    "start_time": "2023-04-25T15:14:26.269Z"
   },
   {
    "duration": 150,
    "start_time": "2023-04-25T15:14:29.598Z"
   },
   {
    "duration": 252,
    "start_time": "2023-04-25T15:14:42.242Z"
   },
   {
    "duration": 15,
    "start_time": "2023-04-25T15:15:54.422Z"
   },
   {
    "duration": 189,
    "start_time": "2023-04-25T15:17:01.042Z"
   },
   {
    "duration": 10,
    "start_time": "2023-04-25T15:24:38.593Z"
   },
   {
    "duration": 25,
    "start_time": "2023-04-25T15:25:25.331Z"
   },
   {
    "duration": 143,
    "start_time": "2023-04-25T15:25:46.825Z"
   },
   {
    "duration": 27,
    "start_time": "2023-04-25T15:25:48.889Z"
   },
   {
    "duration": 10,
    "start_time": "2023-04-25T18:44:20.397Z"
   },
   {
    "duration": 1278,
    "start_time": "2023-04-25T18:50:07.225Z"
   },
   {
    "duration": 0,
    "start_time": "2023-04-25T18:50:08.505Z"
   },
   {
    "duration": 916,
    "start_time": "2023-04-25T18:50:48.561Z"
   },
   {
    "duration": 838,
    "start_time": "2023-04-25T18:50:59.620Z"
   },
   {
    "duration": 12,
    "start_time": "2023-04-25T18:53:02.681Z"
   },
   {
    "duration": 989,
    "start_time": "2023-04-25T18:55:16.130Z"
   },
   {
    "duration": 1153,
    "start_time": "2023-04-25T18:56:34.367Z"
   },
   {
    "duration": 12,
    "start_time": "2023-04-25T18:56:35.523Z"
   },
   {
    "duration": 44,
    "start_time": "2023-04-25T18:56:35.536Z"
   },
   {
    "duration": 25,
    "start_time": "2023-04-25T18:56:35.582Z"
   },
   {
    "duration": 37,
    "start_time": "2023-04-25T18:56:35.608Z"
   },
   {
    "duration": 29,
    "start_time": "2023-04-25T18:56:35.647Z"
   },
   {
    "duration": 34,
    "start_time": "2023-04-25T18:56:35.678Z"
   },
   {
    "duration": 19,
    "start_time": "2023-04-25T18:56:35.714Z"
   },
   {
    "duration": 23,
    "start_time": "2023-04-25T18:56:35.735Z"
   },
   {
    "duration": 20,
    "start_time": "2023-04-25T18:56:35.761Z"
   },
   {
    "duration": 643,
    "start_time": "2023-04-25T18:56:35.783Z"
   },
   {
    "duration": 257,
    "start_time": "2023-04-25T18:56:36.428Z"
   },
   {
    "duration": 353,
    "start_time": "2023-04-25T18:56:36.686Z"
   },
   {
    "duration": 247,
    "start_time": "2023-04-25T18:56:37.040Z"
   },
   {
    "duration": 350,
    "start_time": "2023-04-25T18:56:37.289Z"
   },
   {
    "duration": 137,
    "start_time": "2023-04-25T18:56:37.641Z"
   },
   {
    "duration": 5,
    "start_time": "2023-04-25T18:56:37.780Z"
   },
   {
    "duration": 164,
    "start_time": "2023-04-25T18:56:37.787Z"
   },
   {
    "duration": 5,
    "start_time": "2023-04-25T18:56:37.953Z"
   },
   {
    "duration": 260,
    "start_time": "2023-04-25T18:56:37.960Z"
   },
   {
    "duration": 148,
    "start_time": "2023-04-25T18:56:38.222Z"
   },
   {
    "duration": 156,
    "start_time": "2023-04-25T18:56:38.372Z"
   },
   {
    "duration": 28,
    "start_time": "2023-04-25T18:56:38.529Z"
   },
   {
    "duration": 8,
    "start_time": "2023-04-25T18:56:38.559Z"
   },
   {
    "duration": 1343,
    "start_time": "2023-04-25T18:56:38.568Z"
   },
   {
    "duration": 0,
    "start_time": "2023-04-25T18:56:39.913Z"
   },
   {
    "duration": 803,
    "start_time": "2023-04-25T18:56:50.684Z"
   },
   {
    "duration": 776,
    "start_time": "2023-04-25T18:57:17.082Z"
   },
   {
    "duration": 8,
    "start_time": "2023-04-25T19:01:04.355Z"
   },
   {
    "duration": 13,
    "start_time": "2023-04-25T19:01:26.311Z"
   },
   {
    "duration": 9,
    "start_time": "2023-04-25T19:01:35.114Z"
   },
   {
    "duration": 9,
    "start_time": "2023-04-25T19:02:37.293Z"
   },
   {
    "duration": 8,
    "start_time": "2023-04-25T19:04:02.184Z"
   },
   {
    "duration": 24,
    "start_time": "2023-04-25T19:04:29.784Z"
   },
   {
    "duration": 903,
    "start_time": "2023-04-25T19:08:13.175Z"
   },
   {
    "duration": 11,
    "start_time": "2023-04-25T19:09:21.992Z"
   },
   {
    "duration": 11,
    "start_time": "2023-04-25T19:12:19.899Z"
   },
   {
    "duration": 11,
    "start_time": "2023-04-25T19:22:12.629Z"
   },
   {
    "duration": 8,
    "start_time": "2023-04-25T19:30:22.267Z"
   },
   {
    "duration": 1177,
    "start_time": "2023-04-25T19:48:15.610Z"
   },
   {
    "duration": 12,
    "start_time": "2023-04-25T19:48:16.790Z"
   },
   {
    "duration": 20,
    "start_time": "2023-04-25T19:48:16.803Z"
   },
   {
    "duration": 26,
    "start_time": "2023-04-25T19:48:16.825Z"
   },
   {
    "duration": 27,
    "start_time": "2023-04-25T19:48:16.853Z"
   },
   {
    "duration": 22,
    "start_time": "2023-04-25T19:48:16.882Z"
   },
   {
    "duration": 30,
    "start_time": "2023-04-25T19:48:16.905Z"
   },
   {
    "duration": 30,
    "start_time": "2023-04-25T19:48:16.937Z"
   },
   {
    "duration": 26,
    "start_time": "2023-04-25T19:48:16.968Z"
   },
   {
    "duration": 45,
    "start_time": "2023-04-25T19:48:16.997Z"
   },
   {
    "duration": 626,
    "start_time": "2023-04-25T19:48:17.043Z"
   },
   {
    "duration": 240,
    "start_time": "2023-04-25T19:48:17.672Z"
   },
   {
    "duration": 310,
    "start_time": "2023-04-25T19:48:17.917Z"
   },
   {
    "duration": 239,
    "start_time": "2023-04-25T19:48:18.229Z"
   },
   {
    "duration": 295,
    "start_time": "2023-04-25T19:48:18.470Z"
   },
   {
    "duration": 134,
    "start_time": "2023-04-25T19:48:18.767Z"
   },
   {
    "duration": 14,
    "start_time": "2023-04-25T19:48:18.903Z"
   },
   {
    "duration": 180,
    "start_time": "2023-04-25T19:48:18.919Z"
   },
   {
    "duration": 6,
    "start_time": "2023-04-25T19:48:19.100Z"
   },
   {
    "duration": 261,
    "start_time": "2023-04-25T19:48:19.108Z"
   },
   {
    "duration": 139,
    "start_time": "2023-04-25T19:48:19.371Z"
   },
   {
    "duration": 138,
    "start_time": "2023-04-25T19:48:19.517Z"
   },
   {
    "duration": 25,
    "start_time": "2023-04-25T19:48:19.657Z"
   },
   {
    "duration": 21,
    "start_time": "2023-04-25T19:48:19.684Z"
   },
   {
    "duration": 59,
    "start_time": "2023-04-25T19:48:19.707Z"
   },
   {
    "duration": 56,
    "start_time": "2023-04-25T19:48:19.768Z"
   },
   {
    "duration": 52,
    "start_time": "2023-04-25T19:48:19.826Z"
   },
   {
    "duration": 19,
    "start_time": "2023-04-25T19:48:19.882Z"
   },
   {
    "duration": 218,
    "start_time": "2023-04-25T19:49:52.532Z"
   },
   {
    "duration": 1442,
    "start_time": "2023-04-25T21:38:39.378Z"
   },
   {
    "duration": 12,
    "start_time": "2023-04-25T21:38:40.822Z"
   },
   {
    "duration": 26,
    "start_time": "2023-04-25T21:38:40.835Z"
   },
   {
    "duration": 50,
    "start_time": "2023-04-25T21:38:40.863Z"
   },
   {
    "duration": 8,
    "start_time": "2023-04-25T21:38:40.915Z"
   },
   {
    "duration": 11,
    "start_time": "2023-04-25T21:38:40.924Z"
   },
   {
    "duration": 20,
    "start_time": "2023-04-25T21:38:40.936Z"
   },
   {
    "duration": 51,
    "start_time": "2023-04-25T21:38:40.958Z"
   },
   {
    "duration": 12,
    "start_time": "2023-04-25T21:38:41.011Z"
   },
   {
    "duration": 10,
    "start_time": "2023-04-25T21:38:41.024Z"
   },
   {
    "duration": 711,
    "start_time": "2023-04-25T21:38:41.036Z"
   },
   {
    "duration": 268,
    "start_time": "2023-04-25T21:38:41.763Z"
   },
   {
    "duration": 376,
    "start_time": "2023-04-25T21:38:42.032Z"
   },
   {
    "duration": 262,
    "start_time": "2023-04-25T21:38:42.411Z"
   },
   {
    "duration": 319,
    "start_time": "2023-04-25T21:38:42.675Z"
   },
   {
    "duration": 139,
    "start_time": "2023-04-25T21:38:42.997Z"
   },
   {
    "duration": 4,
    "start_time": "2023-04-25T21:38:43.137Z"
   },
   {
    "duration": 187,
    "start_time": "2023-04-25T21:38:43.142Z"
   },
   {
    "duration": 4,
    "start_time": "2023-04-25T21:38:43.331Z"
   },
   {
    "duration": 298,
    "start_time": "2023-04-25T21:38:43.336Z"
   },
   {
    "duration": 186,
    "start_time": "2023-04-25T21:38:43.636Z"
   },
   {
    "duration": 174,
    "start_time": "2023-04-25T21:38:43.823Z"
   },
   {
    "duration": 23,
    "start_time": "2023-04-25T21:38:43.999Z"
   },
   {
    "duration": 7,
    "start_time": "2023-04-25T21:38:44.024Z"
   },
   {
    "duration": 18,
    "start_time": "2023-04-25T21:38:44.032Z"
   },
   {
    "duration": 54,
    "start_time": "2023-04-25T21:38:44.052Z"
   },
   {
    "duration": 21,
    "start_time": "2023-04-25T21:38:44.108Z"
   },
   {
    "duration": 8,
    "start_time": "2023-04-25T21:38:44.131Z"
   },
   {
    "duration": 3806,
    "start_time": "2023-04-27T10:26:51.129Z"
   },
   {
    "duration": 276,
    "start_time": "2023-04-27T10:26:54.937Z"
   },
   {
    "duration": 18,
    "start_time": "2023-04-27T10:26:55.214Z"
   },
   {
    "duration": 18,
    "start_time": "2023-04-27T10:26:55.233Z"
   },
   {
    "duration": 29,
    "start_time": "2023-04-27T10:26:55.253Z"
   },
   {
    "duration": 18,
    "start_time": "2023-04-27T10:26:55.284Z"
   },
   {
    "duration": 29,
    "start_time": "2023-04-27T10:26:55.304Z"
   },
   {
    "duration": 21,
    "start_time": "2023-04-27T10:26:55.335Z"
   },
   {
    "duration": 16,
    "start_time": "2023-04-27T10:26:55.358Z"
   },
   {
    "duration": 60,
    "start_time": "2023-04-27T10:26:55.375Z"
   },
   {
    "duration": 13,
    "start_time": "2023-04-27T10:26:55.437Z"
   },
   {
    "duration": 712,
    "start_time": "2023-04-27T10:26:55.452Z"
   },
   {
    "duration": 264,
    "start_time": "2023-04-27T10:26:56.166Z"
   },
   {
    "duration": 378,
    "start_time": "2023-04-27T10:26:56.433Z"
   },
   {
    "duration": 297,
    "start_time": "2023-04-27T10:26:56.813Z"
   },
   {
    "duration": 365,
    "start_time": "2023-04-27T10:26:57.111Z"
   },
   {
    "duration": 137,
    "start_time": "2023-04-27T10:26:57.477Z"
   },
   {
    "duration": 17,
    "start_time": "2023-04-27T10:26:57.617Z"
   },
   {
    "duration": 162,
    "start_time": "2023-04-27T10:26:57.637Z"
   },
   {
    "duration": 7,
    "start_time": "2023-04-27T10:26:57.801Z"
   },
   {
    "duration": 267,
    "start_time": "2023-04-27T10:26:57.810Z"
   },
   {
    "duration": 183,
    "start_time": "2023-04-27T10:26:58.079Z"
   },
   {
    "duration": 155,
    "start_time": "2023-04-27T10:26:58.264Z"
   },
   {
    "duration": 38,
    "start_time": "2023-04-27T10:26:58.421Z"
   },
   {
    "duration": 10,
    "start_time": "2023-04-27T10:26:58.462Z"
   },
   {
    "duration": 28,
    "start_time": "2023-04-27T10:26:58.474Z"
   },
   {
    "duration": 45,
    "start_time": "2023-04-27T10:26:58.504Z"
   },
   {
    "duration": 55,
    "start_time": "2023-04-27T10:26:58.551Z"
   },
   {
    "duration": 15,
    "start_time": "2023-04-27T10:26:58.608Z"
   },
   {
    "duration": 494,
    "start_time": "2023-04-27T10:30:27.209Z"
   },
   {
    "duration": 317,
    "start_time": "2023-04-27T10:31:46.246Z"
   },
   {
    "duration": 310,
    "start_time": "2023-04-27T10:37:44.894Z"
   },
   {
    "duration": 263,
    "start_time": "2023-04-27T10:40:27.089Z"
   },
   {
    "duration": 110,
    "start_time": "2023-04-27T10:41:22.938Z"
   },
   {
    "duration": 327,
    "start_time": "2023-04-27T10:41:35.381Z"
   },
   {
    "duration": 332,
    "start_time": "2023-04-27T10:41:55.313Z"
   },
   {
    "duration": 250,
    "start_time": "2023-04-27T10:43:48.008Z"
   },
   {
    "duration": 132,
    "start_time": "2023-04-27T10:45:24.880Z"
   },
   {
    "duration": 154,
    "start_time": "2023-04-27T10:46:41.855Z"
   },
   {
    "duration": 279,
    "start_time": "2023-04-27T12:49:36.723Z"
   },
   {
    "duration": 1266,
    "start_time": "2023-04-27T13:00:37.732Z"
   },
   {
    "duration": 36,
    "start_time": "2023-04-27T13:01:05.612Z"
   },
   {
    "duration": 908,
    "start_time": "2023-04-27T13:01:17.318Z"
   },
   {
    "duration": 10,
    "start_time": "2023-04-27T13:01:33.366Z"
   },
   {
    "duration": 10,
    "start_time": "2023-04-27T13:02:44.923Z"
   },
   {
    "duration": 10,
    "start_time": "2023-04-27T13:03:05.757Z"
   },
   {
    "duration": 11,
    "start_time": "2023-04-27T13:03:27.424Z"
   },
   {
    "duration": 157,
    "start_time": "2023-04-27T13:11:20.263Z"
   },
   {
    "duration": 135,
    "start_time": "2023-04-27T13:11:28.022Z"
   },
   {
    "duration": 164,
    "start_time": "2023-04-27T13:12:41.826Z"
   },
   {
    "duration": 9,
    "start_time": "2023-04-27T13:19:19.686Z"
   },
   {
    "duration": 18,
    "start_time": "2023-04-27T13:19:34.021Z"
   },
   {
    "duration": 290,
    "start_time": "2023-04-27T13:32:49.130Z"
   },
   {
    "duration": 117,
    "start_time": "2023-04-27T13:33:20.972Z"
   },
   {
    "duration": 1233,
    "start_time": "2023-04-27T13:45:25.059Z"
   },
   {
    "duration": 91,
    "start_time": "2023-04-27T13:45:26.295Z"
   },
   {
    "duration": 14,
    "start_time": "2023-04-27T13:45:26.388Z"
   },
   {
    "duration": 22,
    "start_time": "2023-04-27T13:45:26.405Z"
   },
   {
    "duration": 31,
    "start_time": "2023-04-27T13:45:26.429Z"
   },
   {
    "duration": 28,
    "start_time": "2023-04-27T13:45:26.462Z"
   },
   {
    "duration": 12,
    "start_time": "2023-04-27T13:45:26.492Z"
   },
   {
    "duration": 25,
    "start_time": "2023-04-27T13:45:26.505Z"
   },
   {
    "duration": 29,
    "start_time": "2023-04-27T13:45:26.533Z"
   },
   {
    "duration": 31,
    "start_time": "2023-04-27T13:45:26.565Z"
   },
   {
    "duration": 16,
    "start_time": "2023-04-27T13:45:26.598Z"
   },
   {
    "duration": 15,
    "start_time": "2023-04-27T13:45:26.616Z"
   },
   {
    "duration": 739,
    "start_time": "2023-04-27T13:45:26.633Z"
   },
   {
    "duration": 327,
    "start_time": "2023-04-27T13:45:27.373Z"
   },
   {
    "duration": 363,
    "start_time": "2023-04-27T13:45:27.702Z"
   },
   {
    "duration": 285,
    "start_time": "2023-04-27T13:45:28.067Z"
   },
   {
    "duration": 308,
    "start_time": "2023-04-27T13:45:28.355Z"
   },
   {
    "duration": 160,
    "start_time": "2023-04-27T13:45:28.665Z"
   },
   {
    "duration": 11,
    "start_time": "2023-04-27T13:45:28.827Z"
   },
   {
    "duration": 183,
    "start_time": "2023-04-27T13:45:28.839Z"
   },
   {
    "duration": 175,
    "start_time": "2023-04-27T13:45:29.024Z"
   },
   {
    "duration": 6,
    "start_time": "2023-04-27T13:45:29.201Z"
   },
   {
    "duration": 30,
    "start_time": "2023-04-27T13:45:29.209Z"
   },
   {
    "duration": 245,
    "start_time": "2023-04-27T13:45:29.241Z"
   },
   {
    "duration": 0,
    "start_time": "2023-04-27T13:45:29.488Z"
   },
   {
    "duration": 0,
    "start_time": "2023-04-27T13:45:29.489Z"
   },
   {
    "duration": 0,
    "start_time": "2023-04-27T13:45:29.490Z"
   },
   {
    "duration": 0,
    "start_time": "2023-04-27T13:45:29.491Z"
   },
   {
    "duration": 0,
    "start_time": "2023-04-27T13:45:29.492Z"
   },
   {
    "duration": 0,
    "start_time": "2023-04-27T13:45:29.493Z"
   },
   {
    "duration": 0,
    "start_time": "2023-04-27T13:45:29.494Z"
   },
   {
    "duration": 11,
    "start_time": "2023-04-27T13:47:25.058Z"
   },
   {
    "duration": 151,
    "start_time": "2023-04-27T13:47:32.767Z"
   },
   {
    "duration": 214,
    "start_time": "2023-04-27T14:02:13.432Z"
   },
   {
    "duration": 204,
    "start_time": "2023-04-27T14:02:19.319Z"
   },
   {
    "duration": 16,
    "start_time": "2023-04-27T14:02:24.794Z"
   },
   {
    "duration": 133,
    "start_time": "2023-04-27T14:02:49.336Z"
   },
   {
    "duration": 134,
    "start_time": "2023-04-27T14:02:53.651Z"
   },
   {
    "duration": 27,
    "start_time": "2023-04-27T14:02:58.623Z"
   },
   {
    "duration": 169,
    "start_time": "2023-04-27T14:03:26.750Z"
   },
   {
    "duration": 5,
    "start_time": "2023-04-27T14:03:28.320Z"
   },
   {
    "duration": 4,
    "start_time": "2023-04-27T14:03:32.422Z"
   },
   {
    "duration": 5,
    "start_time": "2023-04-27T14:03:59.528Z"
   },
   {
    "duration": 9,
    "start_time": "2023-04-27T14:04:52.353Z"
   },
   {
    "duration": 7,
    "start_time": "2023-04-27T14:07:46.776Z"
   },
   {
    "duration": 7,
    "start_time": "2023-04-27T14:07:49.321Z"
   },
   {
    "duration": 7,
    "start_time": "2023-04-27T14:07:55.527Z"
   },
   {
    "duration": 8,
    "start_time": "2023-04-27T14:08:47.813Z"
   },
   {
    "duration": 8,
    "start_time": "2023-04-27T14:10:14.619Z"
   },
   {
    "duration": 3,
    "start_time": "2023-04-27T14:10:29.284Z"
   },
   {
    "duration": 4,
    "start_time": "2023-04-27T14:10:48.271Z"
   },
   {
    "duration": 160,
    "start_time": "2023-04-27T14:12:10.920Z"
   },
   {
    "duration": 10,
    "start_time": "2023-04-27T14:12:55.414Z"
   },
   {
    "duration": 142,
    "start_time": "2023-04-27T14:13:26.346Z"
   },
   {
    "duration": 7,
    "start_time": "2023-04-27T14:14:15.518Z"
   },
   {
    "duration": 6,
    "start_time": "2023-04-27T14:14:18.169Z"
   },
   {
    "duration": 10,
    "start_time": "2023-04-27T14:14:44.717Z"
   },
   {
    "duration": 6,
    "start_time": "2023-04-27T14:15:10.721Z"
   },
   {
    "duration": 11,
    "start_time": "2023-04-27T14:15:26.847Z"
   },
   {
    "duration": 6,
    "start_time": "2023-04-27T14:15:31.420Z"
   },
   {
    "duration": 130,
    "start_time": "2023-04-27T14:15:47.324Z"
   },
   {
    "duration": 129,
    "start_time": "2023-04-27T14:16:04.623Z"
   },
   {
    "duration": 26,
    "start_time": "2023-04-27T14:16:07.701Z"
   },
   {
    "duration": 1106,
    "start_time": "2023-04-27T14:16:25.687Z"
   },
   {
    "duration": 92,
    "start_time": "2023-04-27T14:16:26.794Z"
   },
   {
    "duration": 16,
    "start_time": "2023-04-27T14:16:26.888Z"
   },
   {
    "duration": 43,
    "start_time": "2023-04-27T14:16:26.906Z"
   },
   {
    "duration": 45,
    "start_time": "2023-04-27T14:16:26.951Z"
   },
   {
    "duration": 57,
    "start_time": "2023-04-27T14:16:26.998Z"
   },
   {
    "duration": 22,
    "start_time": "2023-04-27T14:16:27.057Z"
   },
   {
    "duration": 46,
    "start_time": "2023-04-27T14:16:27.081Z"
   },
   {
    "duration": 27,
    "start_time": "2023-04-27T14:16:27.129Z"
   },
   {
    "duration": 33,
    "start_time": "2023-04-27T14:16:27.159Z"
   },
   {
    "duration": 16,
    "start_time": "2023-04-27T14:16:27.193Z"
   },
   {
    "duration": 48,
    "start_time": "2023-04-27T14:16:27.211Z"
   },
   {
    "duration": 653,
    "start_time": "2023-04-27T14:16:27.261Z"
   },
   {
    "duration": 261,
    "start_time": "2023-04-27T14:16:27.915Z"
   },
   {
    "duration": 296,
    "start_time": "2023-04-27T14:16:28.178Z"
   },
   {
    "duration": 238,
    "start_time": "2023-04-27T14:16:28.476Z"
   },
   {
    "duration": 310,
    "start_time": "2023-04-27T14:16:28.715Z"
   },
   {
    "duration": 155,
    "start_time": "2023-04-27T14:16:29.034Z"
   },
   {
    "duration": 5,
    "start_time": "2023-04-27T14:16:29.190Z"
   },
   {
    "duration": 157,
    "start_time": "2023-04-27T14:16:29.196Z"
   },
   {
    "duration": 143,
    "start_time": "2023-04-27T14:16:29.355Z"
   },
   {
    "duration": 5,
    "start_time": "2023-04-27T14:16:29.499Z"
   },
   {
    "duration": 15,
    "start_time": "2023-04-27T14:16:29.505Z"
   },
   {
    "duration": 143,
    "start_time": "2023-04-27T14:16:29.522Z"
   },
   {
    "duration": 237,
    "start_time": "2023-04-27T14:16:29.666Z"
   },
   {
    "duration": 0,
    "start_time": "2023-04-27T14:16:29.905Z"
   },
   {
    "duration": 0,
    "start_time": "2023-04-27T14:16:29.906Z"
   },
   {
    "duration": 0,
    "start_time": "2023-04-27T14:16:29.907Z"
   },
   {
    "duration": 0,
    "start_time": "2023-04-27T14:16:29.908Z"
   },
   {
    "duration": 0,
    "start_time": "2023-04-27T14:16:29.909Z"
   },
   {
    "duration": 0,
    "start_time": "2023-04-27T14:16:29.910Z"
   },
   {
    "duration": 150,
    "start_time": "2023-04-27T14:17:25.668Z"
   },
   {
    "duration": 38,
    "start_time": "2023-04-27T14:17:28.011Z"
   },
   {
    "duration": 9,
    "start_time": "2023-04-27T14:17:35.083Z"
   },
   {
    "duration": 9,
    "start_time": "2023-04-27T14:17:38.661Z"
   },
   {
    "duration": 13,
    "start_time": "2023-04-27T14:17:43.588Z"
   },
   {
    "duration": 12,
    "start_time": "2023-04-27T14:18:06.219Z"
   },
   {
    "duration": 23,
    "start_time": "2023-04-27T14:18:09.366Z"
   },
   {
    "duration": 13,
    "start_time": "2023-04-27T14:18:14.756Z"
   },
   {
    "duration": 1071,
    "start_time": "2023-04-27T14:18:51.481Z"
   },
   {
    "duration": 77,
    "start_time": "2023-04-27T14:18:52.554Z"
   },
   {
    "duration": 15,
    "start_time": "2023-04-27T14:18:52.637Z"
   },
   {
    "duration": 12,
    "start_time": "2023-04-27T14:18:52.654Z"
   },
   {
    "duration": 22,
    "start_time": "2023-04-27T14:18:52.668Z"
   },
   {
    "duration": 12,
    "start_time": "2023-04-27T14:18:52.691Z"
   },
   {
    "duration": 7,
    "start_time": "2023-04-27T14:18:52.705Z"
   },
   {
    "duration": 11,
    "start_time": "2023-04-27T14:18:52.714Z"
   },
   {
    "duration": 6,
    "start_time": "2023-04-27T14:18:52.745Z"
   },
   {
    "duration": 19,
    "start_time": "2023-04-27T14:18:52.753Z"
   },
   {
    "duration": 10,
    "start_time": "2023-04-27T14:18:52.773Z"
   },
   {
    "duration": 10,
    "start_time": "2023-04-27T14:18:52.785Z"
   },
   {
    "duration": 652,
    "start_time": "2023-04-27T14:18:52.797Z"
   },
   {
    "duration": 241,
    "start_time": "2023-04-27T14:18:53.452Z"
   },
   {
    "duration": 312,
    "start_time": "2023-04-27T14:18:53.695Z"
   },
   {
    "duration": 271,
    "start_time": "2023-04-27T14:18:54.008Z"
   },
   {
    "duration": 268,
    "start_time": "2023-04-27T14:18:54.281Z"
   },
   {
    "duration": 145,
    "start_time": "2023-04-27T14:18:54.550Z"
   },
   {
    "duration": 4,
    "start_time": "2023-04-27T14:18:54.697Z"
   },
   {
    "duration": 158,
    "start_time": "2023-04-27T14:18:54.703Z"
   },
   {
    "duration": 153,
    "start_time": "2023-04-27T14:18:54.863Z"
   },
   {
    "duration": 5,
    "start_time": "2023-04-27T14:18:55.018Z"
   },
   {
    "duration": 16,
    "start_time": "2023-04-27T14:18:55.033Z"
   },
   {
    "duration": 130,
    "start_time": "2023-04-27T14:18:55.050Z"
   },
   {
    "duration": 122,
    "start_time": "2023-04-27T14:18:55.182Z"
   },
   {
    "duration": 34,
    "start_time": "2023-04-27T14:18:55.306Z"
   },
   {
    "duration": 11,
    "start_time": "2023-04-27T14:18:55.341Z"
   },
   {
    "duration": 9,
    "start_time": "2023-04-27T14:18:55.354Z"
   },
   {
    "duration": 27,
    "start_time": "2023-04-27T14:18:55.364Z"
   },
   {
    "duration": 37,
    "start_time": "2023-04-27T14:18:55.393Z"
   },
   {
    "duration": 16,
    "start_time": "2023-04-27T14:18:55.432Z"
   },
   {
    "duration": 128,
    "start_time": "2023-04-27T14:20:06.219Z"
   },
   {
    "duration": 6,
    "start_time": "2023-04-27T14:22:24.388Z"
   },
   {
    "duration": 109,
    "start_time": "2023-04-27T14:22:50.317Z"
   },
   {
    "duration": 9,
    "start_time": "2023-04-27T14:23:42.860Z"
   },
   {
    "duration": 9,
    "start_time": "2023-04-27T14:27:47.158Z"
   },
   {
    "duration": 7,
    "start_time": "2023-04-27T14:27:56.964Z"
   },
   {
    "duration": 7,
    "start_time": "2023-04-27T14:28:20.977Z"
   },
   {
    "duration": 4,
    "start_time": "2023-04-27T14:29:13.921Z"
   },
   {
    "duration": 6,
    "start_time": "2023-04-27T14:29:30.922Z"
   },
   {
    "duration": 5,
    "start_time": "2023-04-27T14:29:48.964Z"
   },
   {
    "duration": 5,
    "start_time": "2023-04-27T14:29:51.147Z"
   },
   {
    "duration": 13,
    "start_time": "2023-04-27T14:30:04.849Z"
   },
   {
    "duration": 23,
    "start_time": "2023-04-27T14:32:27.686Z"
   },
   {
    "duration": 28,
    "start_time": "2023-04-27T14:32:41.790Z"
   }
  ],
  "kernelspec": {
   "display_name": "Python 3 (ipykernel)",
   "language": "python",
   "name": "python3"
  },
  "language_info": {
   "codemirror_mode": {
    "name": "ipython",
    "version": 3
   },
   "file_extension": ".py",
   "mimetype": "text/x-python",
   "name": "python",
   "nbconvert_exporter": "python",
   "pygments_lexer": "ipython3",
   "version": "3.10.1"
  },
  "toc": {
   "base_numbering": 1,
   "nav_menu": {},
   "number_sections": false,
   "sideBar": true,
   "skip_h1_title": false,
   "title_cell": "Table of Contents",
   "title_sidebar": "Contents",
   "toc_cell": false,
   "toc_position": {
    "height": "calc(100% - 180px)",
    "left": "10px",
    "top": "150px",
    "width": "283.267px"
   },
   "toc_section_display": true,
   "toc_window_display": true
  }
 },
 "nbformat": 4,
 "nbformat_minor": 2
}
