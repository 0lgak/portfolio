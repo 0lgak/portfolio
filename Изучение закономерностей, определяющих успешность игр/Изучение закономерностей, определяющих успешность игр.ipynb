{
 "cells": [
  {
   "cell_type": "markdown",
   "metadata": {},
   "source": [
    "#  Изучение закономерностей, определяющих успешность игр"
   ]
  },
  {
   "cell_type": "markdown",
   "metadata": {},
   "source": [
    "Из открытых источников доступны исторические данные о продажах игр, оценки пользователей и экспертов, жанры и платформы (например, Xbox или PlayStation). Нужно выявить определяющие успешность игры закономерности. Это позволит сделать ставку на потенциально популярный продукт и спланировать рекламные кампании.\n",
    "\n",
    "Перед вами данные до 2016 года. Представим, что сейчас декабрь 2016 г., и вы планируете кампанию на 2017-й. Нужно отработать принцип работы с данными. Неважно, прогнозируете ли вы продажи на 2017 год по данным 2016-го или же 2027-й — по данным 2026 года.\n",
    "\n",
    "В наборе данных попадается аббревиатура ESRB (Entertainment Software Rating Board) — это ассоциация, определяющая возрастной рейтинг компьютерных игр. ESRB оценивает игровой контент и присваивает ему подходящую возрастную категорию, например, «Для взрослых», «Для детей младшего возраста» или «Для подростков».\n",
    "\n",
    "### Описание данных\n",
    "Name — название игры\n",
    "\n",
    "Platform — платформа\n",
    "\n",
    "Year_of_Release — год выпуска\n",
    "\n",
    "Genre — жанр игры\n",
    "\n",
    "NA_sales — продажи в Северной Америке (миллионы проданных копий)\n",
    "\n",
    "EU_sales — продажи в Европе (миллионы проданных копий)\n",
    "\n",
    "JP_sales — продажи в Японии (миллионы проданных копий)\n",
    "\n",
    "Other_sales — продажи в других странах (миллионы проданных копий)\n",
    "\n",
    "Critic_Score — оценка критиков (максимум 100)\n",
    "\n",
    "User_Score — оценка пользователей (максимум 10)\n",
    "\n",
    "Rating — рейтинг от организации ESRB (англ. Entertainment Software Rating Board). \n",
    "\n",
    "Данные за 2016 год могут быть неполными."
   ]
  },
  {
   "cell_type": "markdown",
   "metadata": {},
   "source": [
    "## Ознакомление с данными"
   ]
  },
  {
   "cell_type": "code",
   "execution_count": 1,
   "metadata": {},
   "outputs": [],
   "source": [
    "import pandas as pd\n",
    "import matplotlib.pyplot as plt\n",
    "import seaborn as sns\n",
    "from scipy import stats as st"
   ]
  },
  {
   "cell_type": "code",
   "execution_count": 2,
   "metadata": {},
   "outputs": [
    {
     "data": {
      "text/html": [
       "<div>\n",
       "<style scoped>\n",
       "    .dataframe tbody tr th:only-of-type {\n",
       "        vertical-align: middle;\n",
       "    }\n",
       "\n",
       "    .dataframe tbody tr th {\n",
       "        vertical-align: top;\n",
       "    }\n",
       "\n",
       "    .dataframe thead th {\n",
       "        text-align: right;\n",
       "    }\n",
       "</style>\n",
       "<table border=\"1\" class=\"dataframe\">\n",
       "  <thead>\n",
       "    <tr style=\"text-align: right;\">\n",
       "      <th></th>\n",
       "      <th>Name</th>\n",
       "      <th>Platform</th>\n",
       "      <th>Year_of_Release</th>\n",
       "      <th>Genre</th>\n",
       "      <th>NA_sales</th>\n",
       "      <th>EU_sales</th>\n",
       "      <th>JP_sales</th>\n",
       "      <th>Other_sales</th>\n",
       "      <th>Critic_Score</th>\n",
       "      <th>User_Score</th>\n",
       "      <th>Rating</th>\n",
       "    </tr>\n",
       "  </thead>\n",
       "  <tbody>\n",
       "    <tr>\n",
       "      <th>0</th>\n",
       "      <td>Wii Sports</td>\n",
       "      <td>Wii</td>\n",
       "      <td>2006.0</td>\n",
       "      <td>Sports</td>\n",
       "      <td>41.36</td>\n",
       "      <td>28.96</td>\n",
       "      <td>3.77</td>\n",
       "      <td>8.45</td>\n",
       "      <td>76.0</td>\n",
       "      <td>8</td>\n",
       "      <td>E</td>\n",
       "    </tr>\n",
       "    <tr>\n",
       "      <th>1</th>\n",
       "      <td>Super Mario Bros.</td>\n",
       "      <td>NES</td>\n",
       "      <td>1985.0</td>\n",
       "      <td>Platform</td>\n",
       "      <td>29.08</td>\n",
       "      <td>3.58</td>\n",
       "      <td>6.81</td>\n",
       "      <td>0.77</td>\n",
       "      <td>NaN</td>\n",
       "      <td>NaN</td>\n",
       "      <td>NaN</td>\n",
       "    </tr>\n",
       "    <tr>\n",
       "      <th>2</th>\n",
       "      <td>Mario Kart Wii</td>\n",
       "      <td>Wii</td>\n",
       "      <td>2008.0</td>\n",
       "      <td>Racing</td>\n",
       "      <td>15.68</td>\n",
       "      <td>12.76</td>\n",
       "      <td>3.79</td>\n",
       "      <td>3.29</td>\n",
       "      <td>82.0</td>\n",
       "      <td>8.3</td>\n",
       "      <td>E</td>\n",
       "    </tr>\n",
       "    <tr>\n",
       "      <th>3</th>\n",
       "      <td>Wii Sports Resort</td>\n",
       "      <td>Wii</td>\n",
       "      <td>2009.0</td>\n",
       "      <td>Sports</td>\n",
       "      <td>15.61</td>\n",
       "      <td>10.93</td>\n",
       "      <td>3.28</td>\n",
       "      <td>2.95</td>\n",
       "      <td>80.0</td>\n",
       "      <td>8</td>\n",
       "      <td>E</td>\n",
       "    </tr>\n",
       "    <tr>\n",
       "      <th>4</th>\n",
       "      <td>Pokemon Red/Pokemon Blue</td>\n",
       "      <td>GB</td>\n",
       "      <td>1996.0</td>\n",
       "      <td>Role-Playing</td>\n",
       "      <td>11.27</td>\n",
       "      <td>8.89</td>\n",
       "      <td>10.22</td>\n",
       "      <td>1.00</td>\n",
       "      <td>NaN</td>\n",
       "      <td>NaN</td>\n",
       "      <td>NaN</td>\n",
       "    </tr>\n",
       "    <tr>\n",
       "      <th>...</th>\n",
       "      <td>...</td>\n",
       "      <td>...</td>\n",
       "      <td>...</td>\n",
       "      <td>...</td>\n",
       "      <td>...</td>\n",
       "      <td>...</td>\n",
       "      <td>...</td>\n",
       "      <td>...</td>\n",
       "      <td>...</td>\n",
       "      <td>...</td>\n",
       "      <td>...</td>\n",
       "    </tr>\n",
       "    <tr>\n",
       "      <th>16710</th>\n",
       "      <td>Samurai Warriors: Sanada Maru</td>\n",
       "      <td>PS3</td>\n",
       "      <td>2016.0</td>\n",
       "      <td>Action</td>\n",
       "      <td>0.00</td>\n",
       "      <td>0.00</td>\n",
       "      <td>0.01</td>\n",
       "      <td>0.00</td>\n",
       "      <td>NaN</td>\n",
       "      <td>NaN</td>\n",
       "      <td>NaN</td>\n",
       "    </tr>\n",
       "    <tr>\n",
       "      <th>16711</th>\n",
       "      <td>LMA Manager 2007</td>\n",
       "      <td>X360</td>\n",
       "      <td>2006.0</td>\n",
       "      <td>Sports</td>\n",
       "      <td>0.00</td>\n",
       "      <td>0.01</td>\n",
       "      <td>0.00</td>\n",
       "      <td>0.00</td>\n",
       "      <td>NaN</td>\n",
       "      <td>NaN</td>\n",
       "      <td>NaN</td>\n",
       "    </tr>\n",
       "    <tr>\n",
       "      <th>16712</th>\n",
       "      <td>Haitaka no Psychedelica</td>\n",
       "      <td>PSV</td>\n",
       "      <td>2016.0</td>\n",
       "      <td>Adventure</td>\n",
       "      <td>0.00</td>\n",
       "      <td>0.00</td>\n",
       "      <td>0.01</td>\n",
       "      <td>0.00</td>\n",
       "      <td>NaN</td>\n",
       "      <td>NaN</td>\n",
       "      <td>NaN</td>\n",
       "    </tr>\n",
       "    <tr>\n",
       "      <th>16713</th>\n",
       "      <td>Spirits &amp; Spells</td>\n",
       "      <td>GBA</td>\n",
       "      <td>2003.0</td>\n",
       "      <td>Platform</td>\n",
       "      <td>0.01</td>\n",
       "      <td>0.00</td>\n",
       "      <td>0.00</td>\n",
       "      <td>0.00</td>\n",
       "      <td>NaN</td>\n",
       "      <td>NaN</td>\n",
       "      <td>NaN</td>\n",
       "    </tr>\n",
       "    <tr>\n",
       "      <th>16714</th>\n",
       "      <td>Winning Post 8 2016</td>\n",
       "      <td>PSV</td>\n",
       "      <td>2016.0</td>\n",
       "      <td>Simulation</td>\n",
       "      <td>0.00</td>\n",
       "      <td>0.00</td>\n",
       "      <td>0.01</td>\n",
       "      <td>0.00</td>\n",
       "      <td>NaN</td>\n",
       "      <td>NaN</td>\n",
       "      <td>NaN</td>\n",
       "    </tr>\n",
       "  </tbody>\n",
       "</table>\n",
       "<p>16715 rows × 11 columns</p>\n",
       "</div>"
      ],
      "text/plain": [
       "                                Name Platform  Year_of_Release         Genre  \\\n",
       "0                         Wii Sports      Wii           2006.0        Sports   \n",
       "1                  Super Mario Bros.      NES           1985.0      Platform   \n",
       "2                     Mario Kart Wii      Wii           2008.0        Racing   \n",
       "3                  Wii Sports Resort      Wii           2009.0        Sports   \n",
       "4           Pokemon Red/Pokemon Blue       GB           1996.0  Role-Playing   \n",
       "...                              ...      ...              ...           ...   \n",
       "16710  Samurai Warriors: Sanada Maru      PS3           2016.0        Action   \n",
       "16711               LMA Manager 2007     X360           2006.0        Sports   \n",
       "16712        Haitaka no Psychedelica      PSV           2016.0     Adventure   \n",
       "16713               Spirits & Spells      GBA           2003.0      Platform   \n",
       "16714            Winning Post 8 2016      PSV           2016.0    Simulation   \n",
       "\n",
       "       NA_sales  EU_sales  JP_sales  Other_sales  Critic_Score User_Score  \\\n",
       "0         41.36     28.96      3.77         8.45          76.0          8   \n",
       "1         29.08      3.58      6.81         0.77           NaN        NaN   \n",
       "2         15.68     12.76      3.79         3.29          82.0        8.3   \n",
       "3         15.61     10.93      3.28         2.95          80.0          8   \n",
       "4         11.27      8.89     10.22         1.00           NaN        NaN   \n",
       "...         ...       ...       ...          ...           ...        ...   \n",
       "16710      0.00      0.00      0.01         0.00           NaN        NaN   \n",
       "16711      0.00      0.01      0.00         0.00           NaN        NaN   \n",
       "16712      0.00      0.00      0.01         0.00           NaN        NaN   \n",
       "16713      0.01      0.00      0.00         0.00           NaN        NaN   \n",
       "16714      0.00      0.00      0.01         0.00           NaN        NaN   \n",
       "\n",
       "      Rating  \n",
       "0          E  \n",
       "1        NaN  \n",
       "2          E  \n",
       "3          E  \n",
       "4        NaN  \n",
       "...      ...  \n",
       "16710    NaN  \n",
       "16711    NaN  \n",
       "16712    NaN  \n",
       "16713    NaN  \n",
       "16714    NaN  \n",
       "\n",
       "[16715 rows x 11 columns]"
      ]
     },
     "metadata": {},
     "output_type": "display_data"
    },
    {
     "name": "stdout",
     "output_type": "stream",
     "text": [
      "<class 'pandas.core.frame.DataFrame'>\n",
      "RangeIndex: 16715 entries, 0 to 16714\n",
      "Data columns (total 11 columns):\n",
      " #   Column           Non-Null Count  Dtype  \n",
      "---  ------           --------------  -----  \n",
      " 0   Name             16713 non-null  object \n",
      " 1   Platform         16715 non-null  object \n",
      " 2   Year_of_Release  16446 non-null  float64\n",
      " 3   Genre            16713 non-null  object \n",
      " 4   NA_sales         16715 non-null  float64\n",
      " 5   EU_sales         16715 non-null  float64\n",
      " 6   JP_sales         16715 non-null  float64\n",
      " 7   Other_sales      16715 non-null  float64\n",
      " 8   Critic_Score     8137 non-null   float64\n",
      " 9   User_Score       10014 non-null  object \n",
      " 10  Rating           9949 non-null   object \n",
      "dtypes: float64(6), object(5)\n",
      "memory usage: 1.4+ MB\n"
     ]
    }
   ],
   "source": [
    "data=pd.read_csv('/datasets/games.csv')\n",
    "display(data)\n",
    "data.info()"
   ]
  },
  {
   "cell_type": "markdown",
   "metadata": {},
   "source": [
    "Есть пропуски в столбцах 'Name', 'Year_of_Release', 'Genre', 'Critic_Score', 'User_Score', 'Rating'. Строчки с пропущенными данными в 'Name', 'Year_of_Release', 'Genre' я удалю, т.к. их мало (не больше 2-хпроцентов) и данные не заполнить средними значениями. Также имеет заменить типы данных в столбцах 'Year_of_Release' и 'Critic_Score' и 'User_Score'.\n"
   ]
  },
  {
   "cell_type": "markdown",
   "metadata": {},
   "source": [
    "<h2>Подготовка данных</h2>"
   ]
  },
  {
   "cell_type": "code",
   "execution_count": 3,
   "metadata": {},
   "outputs": [
    {
     "name": "stdout",
     "output_type": "stream",
     "text": [
      "<class 'pandas.core.frame.DataFrame'>\n",
      "RangeIndex: 16715 entries, 0 to 16714\n",
      "Data columns (total 11 columns):\n",
      " #   Column           Non-Null Count  Dtype  \n",
      "---  ------           --------------  -----  \n",
      " 0   name             16713 non-null  object \n",
      " 1   platform         16715 non-null  object \n",
      " 2   year_of_release  16446 non-null  float64\n",
      " 3   genre            16713 non-null  object \n",
      " 4   na_sales         16715 non-null  float64\n",
      " 5   eu_sales         16715 non-null  float64\n",
      " 6   jp_sales         16715 non-null  float64\n",
      " 7   other_sales      16715 non-null  float64\n",
      " 8   critic_score     8137 non-null   float64\n",
      " 9   user_score       10014 non-null  object \n",
      " 10  rating           9949 non-null   object \n",
      "dtypes: float64(6), object(5)\n",
      "memory usage: 1.4+ MB\n"
     ]
    }
   ],
   "source": [
    "#Приведем названия стобцов к единому регистру:\n",
    "data.columns # получили список названий столбцов\n",
    "new_columns=['name', 'platform', 'year_of_release', 'genre', 'na_sales', 'eu_sales',\n",
    "       'jp_sales', 'other_sales', 'critic_score', 'user_score', 'rating']\n",
    "data.set_axis(new_columns,axis='columns',inplace=True) \n",
    "data.info()"
   ]
  },
  {
   "cell_type": "code",
   "execution_count": 4,
   "metadata": {},
   "outputs": [
    {
     "name": "stdout",
     "output_type": "stream",
     "text": [
      "<class 'pandas.core.frame.DataFrame'>\n",
      "RangeIndex: 16715 entries, 0 to 16714\n",
      "Data columns (total 11 columns):\n",
      " #   Column           Non-Null Count  Dtype         \n",
      "---  ------           --------------  -----         \n",
      " 0   name             16713 non-null  object        \n",
      " 1   platform         16715 non-null  object        \n",
      " 2   year_of_release  16446 non-null  datetime64[ns]\n",
      " 3   genre            16713 non-null  object        \n",
      " 4   na_sales         16715 non-null  float64       \n",
      " 5   eu_sales         16715 non-null  float64       \n",
      " 6   jp_sales         16715 non-null  float64       \n",
      " 7   other_sales      16715 non-null  float64       \n",
      " 8   critic_score     8137 non-null   float64       \n",
      " 9   user_score       10014 non-null  object        \n",
      " 10  rating           9949 non-null   object        \n",
      "dtypes: datetime64[ns](1), float64(5), object(5)\n",
      "memory usage: 1.4+ MB\n"
     ]
    }
   ],
   "source": [
    "#Приведем данные к нужно типу:\n",
    "data['year_of_release']=pd.to_datetime(data['year_of_release'], format='%Y')\n",
    "\n",
    "data.info()"
   ]
  },
  {
   "cell_type": "code",
   "execution_count": 5,
   "metadata": {},
   "outputs": [
    {
     "name": "stdout",
     "output_type": "stream",
     "text": [
      "<class 'pandas.core.frame.DataFrame'>\n",
      "Int64Index: 16444 entries, 0 to 16714\n",
      "Data columns (total 11 columns):\n",
      " #   Column           Non-Null Count  Dtype         \n",
      "---  ------           --------------  -----         \n",
      " 0   name             16444 non-null  object        \n",
      " 1   platform         16444 non-null  object        \n",
      " 2   year_of_release  16444 non-null  datetime64[ns]\n",
      " 3   genre            16444 non-null  object        \n",
      " 4   na_sales         16444 non-null  float64       \n",
      " 5   eu_sales         16444 non-null  float64       \n",
      " 6   jp_sales         16444 non-null  float64       \n",
      " 7   other_sales      16444 non-null  float64       \n",
      " 8   critic_score     7983 non-null   float64       \n",
      " 9   user_score       9839 non-null   object        \n",
      " 10  rating           9768 non-null   object        \n",
      "dtypes: datetime64[ns](1), float64(5), object(5)\n",
      "memory usage: 1.5+ MB\n"
     ]
    }
   ],
   "source": [
    "#Удалим пропуски:\n",
    "data.dropna(subset = ['name', 'year_of_release', 'genre'], inplace = True)  \n",
    "data.info()"
   ]
  },
  {
   "cell_type": "code",
   "execution_count": 6,
   "metadata": {},
   "outputs": [
    {
     "data": {
      "text/plain": [
       "0"
      ]
     },
     "execution_count": 6,
     "metadata": {},
     "output_type": "execute_result"
    }
   ],
   "source": [
    "#Проверим на дубли:\n",
    "data.duplicated().sum()"
   ]
  },
  {
   "cell_type": "markdown",
   "metadata": {},
   "source": [
    "Явных дублей нет."
   ]
  },
  {
   "cell_type": "code",
   "execution_count": 7,
   "metadata": {},
   "outputs": [
    {
     "data": {
      "text/html": [
       "<div>\n",
       "<style scoped>\n",
       "    .dataframe tbody tr th:only-of-type {\n",
       "        vertical-align: middle;\n",
       "    }\n",
       "\n",
       "    .dataframe tbody tr th {\n",
       "        vertical-align: top;\n",
       "    }\n",
       "\n",
       "    .dataframe thead th {\n",
       "        text-align: right;\n",
       "    }\n",
       "</style>\n",
       "<table border=\"1\" class=\"dataframe\">\n",
       "  <thead>\n",
       "    <tr style=\"text-align: right;\">\n",
       "      <th></th>\n",
       "      <th>name</th>\n",
       "      <th>platform</th>\n",
       "      <th>year_of_release</th>\n",
       "      <th>genre</th>\n",
       "      <th>na_sales</th>\n",
       "      <th>eu_sales</th>\n",
       "      <th>jp_sales</th>\n",
       "      <th>other_sales</th>\n",
       "      <th>critic_score</th>\n",
       "      <th>user_score</th>\n",
       "      <th>rating</th>\n",
       "    </tr>\n",
       "  </thead>\n",
       "  <tbody>\n",
       "    <tr>\n",
       "      <th>119</th>\n",
       "      <td>Zumba Fitness</td>\n",
       "      <td>Wii</td>\n",
       "      <td>2010-01-01</td>\n",
       "      <td>Sports</td>\n",
       "      <td>3.45</td>\n",
       "      <td>2.59</td>\n",
       "      <td>0.0</td>\n",
       "      <td>0.66</td>\n",
       "      <td>NaN</td>\n",
       "      <td>tbd</td>\n",
       "      <td>E</td>\n",
       "    </tr>\n",
       "    <tr>\n",
       "      <th>301</th>\n",
       "      <td>Namco Museum: 50th Anniversary</td>\n",
       "      <td>PS2</td>\n",
       "      <td>2005-01-01</td>\n",
       "      <td>Misc</td>\n",
       "      <td>2.08</td>\n",
       "      <td>1.35</td>\n",
       "      <td>0.0</td>\n",
       "      <td>0.54</td>\n",
       "      <td>61.0</td>\n",
       "      <td>tbd</td>\n",
       "      <td>E10+</td>\n",
       "    </tr>\n",
       "    <tr>\n",
       "      <th>520</th>\n",
       "      <td>Zumba Fitness 2</td>\n",
       "      <td>Wii</td>\n",
       "      <td>2011-01-01</td>\n",
       "      <td>Sports</td>\n",
       "      <td>1.51</td>\n",
       "      <td>1.03</td>\n",
       "      <td>0.0</td>\n",
       "      <td>0.27</td>\n",
       "      <td>NaN</td>\n",
       "      <td>tbd</td>\n",
       "      <td>T</td>\n",
       "    </tr>\n",
       "    <tr>\n",
       "      <th>645</th>\n",
       "      <td>uDraw Studio</td>\n",
       "      <td>Wii</td>\n",
       "      <td>2010-01-01</td>\n",
       "      <td>Misc</td>\n",
       "      <td>1.65</td>\n",
       "      <td>0.57</td>\n",
       "      <td>0.0</td>\n",
       "      <td>0.20</td>\n",
       "      <td>71.0</td>\n",
       "      <td>tbd</td>\n",
       "      <td>E</td>\n",
       "    </tr>\n",
       "    <tr>\n",
       "      <th>718</th>\n",
       "      <td>Just Dance Kids</td>\n",
       "      <td>Wii</td>\n",
       "      <td>2010-01-01</td>\n",
       "      <td>Misc</td>\n",
       "      <td>1.52</td>\n",
       "      <td>0.54</td>\n",
       "      <td>0.0</td>\n",
       "      <td>0.18</td>\n",
       "      <td>NaN</td>\n",
       "      <td>tbd</td>\n",
       "      <td>E</td>\n",
       "    </tr>\n",
       "    <tr>\n",
       "      <th>...</th>\n",
       "      <td>...</td>\n",
       "      <td>...</td>\n",
       "      <td>...</td>\n",
       "      <td>...</td>\n",
       "      <td>...</td>\n",
       "      <td>...</td>\n",
       "      <td>...</td>\n",
       "      <td>...</td>\n",
       "      <td>...</td>\n",
       "      <td>...</td>\n",
       "      <td>...</td>\n",
       "    </tr>\n",
       "    <tr>\n",
       "      <th>16695</th>\n",
       "      <td>Planet Monsters</td>\n",
       "      <td>GBA</td>\n",
       "      <td>2001-01-01</td>\n",
       "      <td>Action</td>\n",
       "      <td>0.01</td>\n",
       "      <td>0.00</td>\n",
       "      <td>0.0</td>\n",
       "      <td>0.00</td>\n",
       "      <td>67.0</td>\n",
       "      <td>tbd</td>\n",
       "      <td>E</td>\n",
       "    </tr>\n",
       "    <tr>\n",
       "      <th>16697</th>\n",
       "      <td>Bust-A-Move 3000</td>\n",
       "      <td>GC</td>\n",
       "      <td>2003-01-01</td>\n",
       "      <td>Puzzle</td>\n",
       "      <td>0.01</td>\n",
       "      <td>0.00</td>\n",
       "      <td>0.0</td>\n",
       "      <td>0.00</td>\n",
       "      <td>53.0</td>\n",
       "      <td>tbd</td>\n",
       "      <td>E</td>\n",
       "    </tr>\n",
       "    <tr>\n",
       "      <th>16698</th>\n",
       "      <td>Mega Brain Boost</td>\n",
       "      <td>DS</td>\n",
       "      <td>2008-01-01</td>\n",
       "      <td>Puzzle</td>\n",
       "      <td>0.01</td>\n",
       "      <td>0.00</td>\n",
       "      <td>0.0</td>\n",
       "      <td>0.00</td>\n",
       "      <td>48.0</td>\n",
       "      <td>tbd</td>\n",
       "      <td>E</td>\n",
       "    </tr>\n",
       "    <tr>\n",
       "      <th>16704</th>\n",
       "      <td>Plushees</td>\n",
       "      <td>DS</td>\n",
       "      <td>2008-01-01</td>\n",
       "      <td>Simulation</td>\n",
       "      <td>0.01</td>\n",
       "      <td>0.00</td>\n",
       "      <td>0.0</td>\n",
       "      <td>0.00</td>\n",
       "      <td>NaN</td>\n",
       "      <td>tbd</td>\n",
       "      <td>E</td>\n",
       "    </tr>\n",
       "    <tr>\n",
       "      <th>16706</th>\n",
       "      <td>Men in Black II: Alien Escape</td>\n",
       "      <td>GC</td>\n",
       "      <td>2003-01-01</td>\n",
       "      <td>Shooter</td>\n",
       "      <td>0.01</td>\n",
       "      <td>0.00</td>\n",
       "      <td>0.0</td>\n",
       "      <td>0.00</td>\n",
       "      <td>NaN</td>\n",
       "      <td>tbd</td>\n",
       "      <td>T</td>\n",
       "    </tr>\n",
       "  </tbody>\n",
       "</table>\n",
       "<p>2376 rows × 11 columns</p>\n",
       "</div>"
      ],
      "text/plain": [
       "                                 name platform year_of_release       genre  \\\n",
       "119                     Zumba Fitness      Wii      2010-01-01      Sports   \n",
       "301    Namco Museum: 50th Anniversary      PS2      2005-01-01        Misc   \n",
       "520                   Zumba Fitness 2      Wii      2011-01-01      Sports   \n",
       "645                      uDraw Studio      Wii      2010-01-01        Misc   \n",
       "718                   Just Dance Kids      Wii      2010-01-01        Misc   \n",
       "...                               ...      ...             ...         ...   \n",
       "16695                 Planet Monsters      GBA      2001-01-01      Action   \n",
       "16697                Bust-A-Move 3000       GC      2003-01-01      Puzzle   \n",
       "16698                Mega Brain Boost       DS      2008-01-01      Puzzle   \n",
       "16704                        Plushees       DS      2008-01-01  Simulation   \n",
       "16706   Men in Black II: Alien Escape       GC      2003-01-01     Shooter   \n",
       "\n",
       "       na_sales  eu_sales  jp_sales  other_sales  critic_score user_score  \\\n",
       "119        3.45      2.59       0.0         0.66           NaN        tbd   \n",
       "301        2.08      1.35       0.0         0.54          61.0        tbd   \n",
       "520        1.51      1.03       0.0         0.27           NaN        tbd   \n",
       "645        1.65      0.57       0.0         0.20          71.0        tbd   \n",
       "718        1.52      0.54       0.0         0.18           NaN        tbd   \n",
       "...         ...       ...       ...          ...           ...        ...   \n",
       "16695      0.01      0.00       0.0         0.00          67.0        tbd   \n",
       "16697      0.01      0.00       0.0         0.00          53.0        tbd   \n",
       "16698      0.01      0.00       0.0         0.00          48.0        tbd   \n",
       "16704      0.01      0.00       0.0         0.00           NaN        tbd   \n",
       "16706      0.01      0.00       0.0         0.00           NaN        tbd   \n",
       "\n",
       "      rating  \n",
       "119        E  \n",
       "301     E10+  \n",
       "520        T  \n",
       "645        E  \n",
       "718        E  \n",
       "...      ...  \n",
       "16695      E  \n",
       "16697      E  \n",
       "16698      E  \n",
       "16704      E  \n",
       "16706      T  \n",
       "\n",
       "[2376 rows x 11 columns]"
      ]
     },
     "execution_count": 7,
     "metadata": {},
     "output_type": "execute_result"
    }
   ],
   "source": [
    "data[data['user_score']=='tbd']"
   ]
  },
  {
   "cell_type": "markdown",
   "metadata": {},
   "source": [
    "\"tbd\" расшифровывается как To Be Determined - будет определено, это игры по которым оценка еще не сформирована - мало отзывов. Т.к. довольно большой процент строк имеет данное значение, то заменю значение на NaN, чтобы была возмжность дальнейшей обработки информации."
   ]
  },
  {
   "cell_type": "code",
   "execution_count": 8,
   "metadata": {},
   "outputs": [
    {
     "name": "stdout",
     "output_type": "stream",
     "text": [
      "<class 'pandas.core.frame.DataFrame'>\n",
      "Int64Index: 16444 entries, 0 to 16714\n",
      "Data columns (total 11 columns):\n",
      " #   Column           Non-Null Count  Dtype         \n",
      "---  ------           --------------  -----         \n",
      " 0   name             16444 non-null  object        \n",
      " 1   platform         16444 non-null  object        \n",
      " 2   year_of_release  16444 non-null  datetime64[ns]\n",
      " 3   genre            16444 non-null  object        \n",
      " 4   na_sales         16444 non-null  float64       \n",
      " 5   eu_sales         16444 non-null  float64       \n",
      " 6   jp_sales         16444 non-null  float64       \n",
      " 7   other_sales      16444 non-null  float64       \n",
      " 8   critic_score     7983 non-null   float64       \n",
      " 9   user_score       7463 non-null   float64       \n",
      " 10  rating           9768 non-null   object        \n",
      "dtypes: datetime64[ns](1), float64(6), object(4)\n",
      "memory usage: 1.5+ MB\n"
     ]
    }
   ],
   "source": [
    "#замена значений в столбце\n",
    "data.loc[data['user_score']=='tbd','user_score']='NaN'\n",
    "#Теперь можно заменить тип данных в столбце 'user_score'\n",
    "data['user_score']=data['user_score'].astype('float')\n",
    "data.info()"
   ]
  },
  {
   "cell_type": "code",
   "execution_count": 9,
   "metadata": {},
   "outputs": [],
   "source": [
    "#Добавим столбец с суммарными продажами:\n",
    "data['total_sales']=data['na_sales']+data['eu_sales']+data['jp_sales']+data['other_sales']"
   ]
  },
  {
   "cell_type": "markdown",
   "metadata": {},
   "source": [
    "<h2>Исследовательский анализ данных</h2>"
   ]
  },
  {
   "cell_type": "markdown",
   "metadata": {},
   "source": [
    "<h3>Сколько игр выпускалось в разные годы.</h3>"
   ]
  },
  {
   "cell_type": "code",
   "execution_count": 10,
   "metadata": {},
   "outputs": [
    {
     "data": {
      "text/plain": [
       "<AxesSubplot:title={'center':'Выпуск игр по годам'}, xlabel='год выпуска'>"
      ]
     },
     "execution_count": 10,
     "metadata": {},
     "output_type": "execute_result"
    },
    {
     "data": {
      "image/png": "[encoded data removed]",
      "text/plain": [
       "<Figure size 432x288 with 1 Axes>"
      ]
     },
     "metadata": {
      "needs_background": "light"
     },
     "output_type": "display_data"
    }
   ],
   "source": [
    "#data.groupby('year_of_release')['total_sales'].sum().count()\n",
    "data_years_release=data.pivot_table(index = 'year_of_release', values='total_sales', aggfunc=('count','sum'))\n",
    "\n",
    "data_years_release.plot(grid = True, title='Выпуск игр по годам', xlabel='год выпуска')"
   ]
  },
  {
   "cell_type": "markdown",
   "metadata": {},
   "source": [
    "До 1994 года в мире выпускалось меньше 100 игр в год и только с 1996 года количество продаваемых копий перевалило за 100 млн. Данные до 1996 года к тому же старые, так что, думаю, они уже не очень актуальны и важны. C 2009 года начался спад в игровой индустрии - выходит меньше игр и уменьшились сборы."
   ]
  },
  {
   "cell_type": "markdown",
   "metadata": {},
   "source": [
    "<h3>Как менялись продажи по платформам</h3>"
   ]
  },
  {
   "cell_type": "code",
   "execution_count": 11,
   "metadata": {},
   "outputs": [
    {
     "data": {
      "text/plain": [
       "<AxesSubplot:title={'center':'Выпуск игр по платформам'}, xlabel='год выпуска'>"
      ]
     },
     "execution_count": 11,
     "metadata": {},
     "output_type": "execute_result"
    },
    {
     "data": {
      "image/png": "[encoded data removed]",
      "text/plain": [
       "<Figure size 864x576 with 1 Axes>"
      ]
     },
     "metadata": {
      "needs_background": "light"
     },
     "output_type": "display_data"
    }
   ],
   "source": [
    "data_platform=data.query('year_of_release>1996').pivot_table(\n",
    "    index=('platform'), values='total_sales', aggfunc='sum').sort_values(\n",
    "    by='total_sales', ascending = False)\n",
    "\n",
    "top_5_platform=data_platform.query('total_sales>800').index\n",
    "\n",
    "data.query('year_of_release>1996').pivot_table(\n",
    "    index='year_of_release',columns='platform',values='total_sales', aggfunc='sum').plot(\n",
    "    grid = True,figsize = (12,8), title='Выпуск игр по платформам', xlabel='год выпуска')\n"
   ]
  },
  {
   "cell_type": "markdown",
   "metadata": {},
   "source": [
    "В среднем, популярные компании \"живут\" около 8-10 лет, причем появились все эти компании в основном за 2 года: с 2004 по 2006, т.е. происходит смена поколей. Поэтому я считаю, что новый период актуально брать с 2012 года. "
   ]
  },
  {
   "cell_type": "markdown",
   "metadata": {},
   "source": [
    "<h3> Лидирующие платформы по продажам</h3>"
   ]
  },
  {
   "cell_type": "code",
   "execution_count": 12,
   "metadata": {},
   "outputs": [
    {
     "data": {
      "text/html": [
       "<div>\n",
       "<style scoped>\n",
       "    .dataframe tbody tr th:only-of-type {\n",
       "        vertical-align: middle;\n",
       "    }\n",
       "\n",
       "    .dataframe tbody tr th {\n",
       "        vertical-align: top;\n",
       "    }\n",
       "\n",
       "    .dataframe thead th {\n",
       "        text-align: right;\n",
       "    }\n",
       "</style>\n",
       "<table border=\"1\" class=\"dataframe\">\n",
       "  <thead>\n",
       "    <tr style=\"text-align: right;\">\n",
       "      <th></th>\n",
       "      <th>total_sales</th>\n",
       "    </tr>\n",
       "    <tr>\n",
       "      <th>platform</th>\n",
       "      <th></th>\n",
       "    </tr>\n",
       "  </thead>\n",
       "  <tbody>\n",
       "    <tr>\n",
       "      <th>PS4</th>\n",
       "      <td>314.14</td>\n",
       "    </tr>\n",
       "    <tr>\n",
       "      <th>XOne</th>\n",
       "      <td>159.32</td>\n",
       "    </tr>\n",
       "    <tr>\n",
       "      <th>3DS</th>\n",
       "      <td>143.25</td>\n",
       "    </tr>\n",
       "    <tr>\n",
       "      <th>WiiU</th>\n",
       "      <td>64.63</td>\n",
       "    </tr>\n",
       "    <tr>\n",
       "      <th>PC</th>\n",
       "      <td>39.43</td>\n",
       "    </tr>\n",
       "    <tr>\n",
       "      <th>PSV</th>\n",
       "      <td>32.99</td>\n",
       "    </tr>\n",
       "    <tr>\n",
       "      <th>PSP</th>\n",
       "      <td>3.50</td>\n",
       "    </tr>\n",
       "  </tbody>\n",
       "</table>\n",
       "</div>"
      ],
      "text/plain": [
       "          total_sales\n",
       "platform             \n",
       "PS4            314.14\n",
       "XOne           159.32\n",
       "3DS            143.25\n",
       "WiiU            64.63\n",
       "PC              39.43\n",
       "PSV             32.99\n",
       "PSP              3.50"
      ]
     },
     "metadata": {},
     "output_type": "display_data"
    },
    {
     "data": {
      "text/plain": [
       "<AxesSubplot:title={'center':'Топ прибыльных платформ'}, xlabel='Год выпсука'>"
      ]
     },
     "execution_count": 12,
     "metadata": {},
     "output_type": "execute_result"
    },
    {
     "data": {
      "image/png": "[encoded data removed]",
      "text/plain": [
       "<Figure size 432x288 with 1 Axes>"
      ]
     },
     "metadata": {
      "needs_background": "light"
     },
     "output_type": "display_data"
    }
   ],
   "source": [
    "data_platform_new=data.query(\n",
    "    'year_of_release>2012 and platform not in @top_5_platform').pivot_table(\n",
    "    index='platform', values='total_sales', aggfunc='sum').sort_values(\n",
    "    by='total_sales', ascending = False)\n",
    "display(data_platform_new)\n",
    "top_platform_new=data_platform_new.query('total_sales>50').index\n",
    "top_platform_new\n",
    "data.query('platform in @top_platform_new').pivot_table(\n",
    "    index='year_of_release',columns='platform',values='total_sales', aggfunc='sum').plot(\n",
    "    grid = True, title='Топ прибыльных платформ', xlabel='Год выпсука')"
   ]
  },
  {
   "cell_type": "markdown",
   "metadata": {},
   "source": [
    "В актуальном периоде игровая отрасль, судя по данным испытывает спад. Выбрала 4 наиболее перспективные компании, 3 из них вышли на рынок после 2012 года."
   ]
  },
  {
   "cell_type": "markdown",
   "metadata": {},
   "source": [
    "<h3>Глобальные продажи игр в разбивке по платформам</h3>"
   ]
  },
  {
   "cell_type": "code",
   "execution_count": 13,
   "metadata": {},
   "outputs": [
    {
     "data": {
      "text/plain": [
       "<AxesSubplot:xlabel='platform', ylabel='total_sales'>"
      ]
     },
     "execution_count": 13,
     "metadata": {},
     "output_type": "execute_result"
    },
    {
     "data": {
      "image/png": "[encoded data removed]",
      "text/plain": [
       "<Figure size 720x720 with 1 Axes>"
      ]
     },
     "metadata": {
      "needs_background": "light"
     },
     "output_type": "display_data"
    }
   ],
   "source": [
    "actual_data=data.query('year_of_release>2012')\n",
    "platform_top=actual_data[actual_data['platform'].isin(['PS4', 'XOne', '3DS', 'WiiU'])]\n",
    "plt.figure(figsize=(10,10))\n",
    "sns.boxplot(data=platform_top, x='platform', y='total_sales', showfliers = False)\n"
   ]
  },
  {
   "cell_type": "markdown",
   "metadata": {},
   "source": [
    "По боксплоту видно, что объем продаж и средние продажи сильно отличаются по платформам, наилучшие показатели у 'PS4'и 'XOne'. "
   ]
  },
  {
   "cell_type": "markdown",
   "metadata": {},
   "source": [
    "<h3>Корреляция между отзывами и продажами</h3>"
   ]
  },
  {
   "cell_type": "code",
   "execution_count": 14,
   "metadata": {},
   "outputs": [
    {
     "name": "stdout",
     "output_type": "stream",
     "text": [
      "Корреляция между оценками критиков и продажами:  0.406567902061781\n",
      "Корреляция между оценками пользователей и продажами:  -0.031957110204556376\n"
     ]
    },
    {
     "data": {
      "text/plain": [
       "array([[<AxesSubplot:xlabel='total_sales', ylabel='total_sales'>,\n",
       "        <AxesSubplot:xlabel='critic_score', ylabel='total_sales'>,\n",
       "        <AxesSubplot:xlabel='user_score', ylabel='total_sales'>],\n",
       "       [<AxesSubplot:xlabel='total_sales', ylabel='critic_score'>,\n",
       "        <AxesSubplot:xlabel='critic_score', ylabel='critic_score'>,\n",
       "        <AxesSubplot:xlabel='user_score', ylabel='critic_score'>],\n",
       "       [<AxesSubplot:xlabel='total_sales', ylabel='user_score'>,\n",
       "        <AxesSubplot:xlabel='critic_score', ylabel='user_score'>,\n",
       "        <AxesSubplot:xlabel='user_score', ylabel='user_score'>]],\n",
       "      dtype=object)"
      ]
     },
     "execution_count": 14,
     "metadata": {},
     "output_type": "execute_result"
    },
    {
     "data": {
      "image/png": "[encoded data removed]",
      "text/plain": [
       "<Figure size 720x720 with 9 Axes>"
      ]
     },
     "metadata": {
      "needs_background": "light"
     },
     "output_type": "display_data"
    }
   ],
   "source": [
    "#возьмем наиболее популярную платформу PS4:\n",
    "play_station_4=actual_data[actual_data['platform']=='PS4']\n",
    "#посчитаем корреляцию:\n",
    "print('Корреляция между оценками критиков и продажами: ', \n",
    "      play_station_4['total_sales'].corr(play_station_4['critic_score']) )\n",
    "print('Корреляция между оценками пользователей и продажами: ', \n",
    "      play_station_4['total_sales'].corr(play_station_4['user_score']) )\n",
    "#построим диаграмму рассеяния:\n",
    "pd.plotting.scatter_matrix(play_station_4[['total_sales', 'critic_score', 'user_score']],figsize=(10,10))"
   ]
  },
  {
   "cell_type": "markdown",
   "metadata": {},
   "source": [
    "Взаимосвязь между рейтингами и продажами есть, но довольно слабая, причем зачастую игры продаются весьма неплохо, несмотря на низкие оценки пользователей."
   ]
  },
  {
   "cell_type": "markdown",
   "metadata": {},
   "source": [
    "<h3>Корреляция между оценками игр и продажами</h3>"
   ]
  },
  {
   "cell_type": "code",
   "execution_count": 15,
   "metadata": {},
   "outputs": [
    {
     "name": "stdout",
     "output_type": "stream",
     "text": [
      "Корреляция между оценками критиков и продажами:  0.41699832800840175\n",
      "Корреляция между оценками пользователей и продажами:  -0.06892505328279412\n"
     ]
    },
    {
     "data": {
      "text/plain": [
       "array([[<AxesSubplot:xlabel='total_sales', ylabel='total_sales'>,\n",
       "        <AxesSubplot:xlabel='critic_score', ylabel='total_sales'>,\n",
       "        <AxesSubplot:xlabel='user_score', ylabel='total_sales'>],\n",
       "       [<AxesSubplot:xlabel='total_sales', ylabel='critic_score'>,\n",
       "        <AxesSubplot:xlabel='critic_score', ylabel='critic_score'>,\n",
       "        <AxesSubplot:xlabel='user_score', ylabel='critic_score'>],\n",
       "       [<AxesSubplot:xlabel='total_sales', ylabel='user_score'>,\n",
       "        <AxesSubplot:xlabel='critic_score', ylabel='user_score'>,\n",
       "        <AxesSubplot:xlabel='user_score', ylabel='user_score'>]],\n",
       "      dtype=object)"
      ]
     },
     "execution_count": 15,
     "metadata": {},
     "output_type": "execute_result"
    },
    {
     "data": {
      "image/png": "[encoded data removed]",
      "text/plain": [
       "<Figure size 720x720 with 9 Axes>"
      ]
     },
     "metadata": {
      "needs_background": "light"
     },
     "output_type": "display_data"
    }
   ],
   "source": [
    "#XOne\n",
    "x_one=actual_data[actual_data['platform']=='XOne']\n",
    "#посчитаем корреляцию:\n",
    "print('Корреляция между оценками критиков и продажами: ', x_one['total_sales'].corr(x_one['critic_score']) )\n",
    "print('Корреляция между оценками пользователей и продажами: ', x_one['total_sales'].corr(x_one['user_score']) )\n",
    "#построим диаграмму рассеяния:\n",
    "pd.plotting.scatter_matrix(x_one[['total_sales', 'critic_score', 'user_score']],figsize=(10,10))"
   ]
  },
  {
   "cell_type": "markdown",
   "metadata": {},
   "source": [
    "Для x_one также слабая корреляция между продажами и оценками критикой и практически отсутствует корреляция между продажами и оценками пользователей."
   ]
  },
  {
   "cell_type": "code",
   "execution_count": 16,
   "metadata": {},
   "outputs": [
    {
     "name": "stdout",
     "output_type": "stream",
     "text": [
      "Корреляция между оценками критиков и продажами:  0.35705661422881035\n",
      "Корреляция между оценками пользователей и продажами:  0.24150411773563016\n"
     ]
    },
    {
     "data": {
      "text/plain": [
       "array([[<AxesSubplot:xlabel='total_sales', ylabel='total_sales'>,\n",
       "        <AxesSubplot:xlabel='critic_score', ylabel='total_sales'>,\n",
       "        <AxesSubplot:xlabel='user_score', ylabel='total_sales'>],\n",
       "       [<AxesSubplot:xlabel='total_sales', ylabel='critic_score'>,\n",
       "        <AxesSubplot:xlabel='critic_score', ylabel='critic_score'>,\n",
       "        <AxesSubplot:xlabel='user_score', ylabel='critic_score'>],\n",
       "       [<AxesSubplot:xlabel='total_sales', ylabel='user_score'>,\n",
       "        <AxesSubplot:xlabel='critic_score', ylabel='user_score'>,\n",
       "        <AxesSubplot:xlabel='user_score', ylabel='user_score'>]],\n",
       "      dtype=object)"
      ]
     },
     "execution_count": 16,
     "metadata": {},
     "output_type": "execute_result"
    },
    {
     "data": {
      "image/png": "[encoded data removed]",
      "text/plain": [
       "<Figure size 720x720 with 9 Axes>"
      ]
     },
     "metadata": {
      "needs_background": "light"
     },
     "output_type": "display_data"
    }
   ],
   "source": [
    "#3DS\n",
    "platform_3ds=actual_data[actual_data['platform']=='3DS']\n",
    "#посчитаем корреляцию:\n",
    "print('Корреляция между оценками критиков и продажами: ', platform_3ds['total_sales'].corr(platform_3ds['critic_score']) )\n",
    "print('Корреляция между оценками пользователей и продажами: ', platform_3ds['total_sales'].corr(platform_3ds['user_score']) )\n",
    "#построим диаграмму рассеяния:\n",
    "pd.plotting.scatter_matrix(platform_3ds[['total_sales', 'critic_score', 'user_score']],figsize=(10,10))"
   ]
  },
  {
   "cell_type": "markdown",
   "metadata": {},
   "source": [
    "Корреляция слабая между оценками и продажами."
   ]
  },
  {
   "cell_type": "code",
   "execution_count": 17,
   "metadata": {},
   "outputs": [
    {
     "name": "stdout",
     "output_type": "stream",
     "text": [
      "Корреляция между оценками критиков и продажами:  0.3764149065423912\n",
      "Корреляция между оценками пользователей и продажами:  0.4193304819266187\n"
     ]
    },
    {
     "data": {
      "text/plain": [
       "array([[<AxesSubplot:xlabel='total_sales', ylabel='total_sales'>,\n",
       "        <AxesSubplot:xlabel='critic_score', ylabel='total_sales'>,\n",
       "        <AxesSubplot:xlabel='user_score', ylabel='total_sales'>],\n",
       "       [<AxesSubplot:xlabel='total_sales', ylabel='critic_score'>,\n",
       "        <AxesSubplot:xlabel='critic_score', ylabel='critic_score'>,\n",
       "        <AxesSubplot:xlabel='user_score', ylabel='critic_score'>],\n",
       "       [<AxesSubplot:xlabel='total_sales', ylabel='user_score'>,\n",
       "        <AxesSubplot:xlabel='critic_score', ylabel='user_score'>,\n",
       "        <AxesSubplot:xlabel='user_score', ylabel='user_score'>]],\n",
       "      dtype=object)"
      ]
     },
     "execution_count": 17,
     "metadata": {},
     "output_type": "execute_result"
    },
    {
     "data": {
      "image/png": "[encoded data removed]",
      "text/plain": [
       "<Figure size 720x720 with 9 Axes>"
      ]
     },
     "metadata": {
      "needs_background": "light"
     },
     "output_type": "display_data"
    }
   ],
   "source": [
    "#WiiU\n",
    "wiiu=actual_data[actual_data['platform']=='WiiU']\n",
    "#посчитаем корреляцию:\n",
    "print('Корреляция между оценками критиков и продажами: ', wiiu['total_sales'].corr(wiiu['critic_score']) )\n",
    "print('Корреляция между оценками пользователей и продажами: ', wiiu['total_sales'].corr(wiiu['user_score']) )\n",
    "#построим диаграмму рассеяния:\n",
    "pd.plotting.scatter_matrix(wiiu[['total_sales', 'critic_score', 'user_score']],figsize=(10,10))"
   ]
  },
  {
   "cell_type": "markdown",
   "metadata": {},
   "source": [
    "Корреляция по всем платформам слабая между оценками и продажами, может дело в росте популярности стриминговых платформ?"
   ]
  },
  {
   "cell_type": "markdown",
   "metadata": {},
   "source": [
    "<h3>Распределение игр по жанрам</h3>"
   ]
  },
  {
   "cell_type": "code",
   "execution_count": 18,
   "metadata": {},
   "outputs": [
    {
     "data": {
      "text/plain": [
       "<AxesSubplot:title={'center':'Распределение прибыли по жанрам'}, ylabel='sum'>"
      ]
     },
     "execution_count": 18,
     "metadata": {},
     "output_type": "execute_result"
    },
    {
     "data": {
      "image/png": "[encoded data removed]",
      "text/plain": [
       "<Figure size 576x576 with 1 Axes>"
      ]
     },
     "metadata": {},
     "output_type": "display_data"
    },
    {
     "data": {
      "image/png": "[encoded data removed]",
      "text/plain": [
       "<Figure size 576x576 with 1 Axes>"
      ]
     },
     "metadata": {},
     "output_type": "display_data"
    }
   ],
   "source": [
    "platform_top.pivot_table(index='genre',values='total_sales',aggfunc=('count', 'sum')).plot(\n",
    "    y='count',kind='pie',figsize=(8,8), title='Распределение продаж по жанрам')\n",
    "platform_top.pivot_table(index='genre',values='total_sales',aggfunc=('count', 'sum')).plot(\n",
    "    y='sum',kind='pie',figsize=(8,8), title='Распределение прибыли по жанрам')"
   ]
  },
  {
   "cell_type": "markdown",
   "metadata": {},
   "source": [
    "Если оценивать по количеству продаж, то обсолютный фаворит это игры жанра Action, остальные жанры продаются ощутимо меньше, если же посмотреть на прибыльность жанров, то наиболее прибыльный жанр опять же Action, но еще 2 жанра (Shooter, Role-Plaing) практически не отстают по прибыльности, из чего можно сделать вывод, что игры различаются по стоимости, что может косвенно влиять на продажи."
   ]
  },
  {
   "cell_type": "markdown",
   "metadata": {},
   "source": [
    "<h2>Ппортрет пользователя каждого региона</h2>"
   ]
  },
  {
   "cell_type": "markdown",
   "metadata": {},
   "source": [
    "Определите для пользователя каждого региона (NA, EU, JP):\n",
    "Самые популярные платформы (топ-5). Опишите различия в долях продаж.\n",
    "Самые популярные жанры (топ-5). Поясните разницу.\n",
    "Влияет ли рейтинг ESRB на продажи в отдельном регионе?"
   ]
  },
  {
   "cell_type": "code",
   "execution_count": 19,
   "metadata": {},
   "outputs": [
    {
     "data": {
      "image/png": "[encoded data removed]",
      "text/plain": [
       "<Figure size 432x288 with 1 Axes>"
      ]
     },
     "metadata": {},
     "output_type": "display_data"
    },
    {
     "data": {
      "image/png": "[encoded data removed]",
      "text/plain": [
       "<Figure size 432x288 with 1 Axes>"
      ]
     },
     "metadata": {},
     "output_type": "display_data"
    },
    {
     "data": {
      "image/png": "[encoded data removed]",
      "text/plain": [
       "<Figure size 432x288 with 1 Axes>"
      ]
     },
     "metadata": {},
     "output_type": "display_data"
    }
   ],
   "source": [
    "#display(actual_data.head())\n",
    "#Платформы \n",
    "na_platform=actual_data.groupby('platform')['na_sales'].sum().sort_values(ascending=False)[:5]\n",
    "eu_platform=actual_data.groupby('platform')['eu_sales'].sum().sort_values(ascending=False)[:5]\n",
    "jp_platform=actual_data.groupby('platform')['jp_sales'].sum().sort_values(ascending=False)[:5]\n",
    "na_platform.plot(kind='pie',title='Северная Америка')\n",
    "plt.show()\n",
    "eu_platform.plot(kind='pie',title='Европа')\n",
    "plt.show()\n",
    "jp_platform.plot(kind='pie',title='Япония')\n",
    "plt.show()"
   ]
  },
  {
   "cell_type": "markdown",
   "metadata": {},
   "source": [
    "Предпочтения по игровым платформам сильно разняться в зависимости от региона, так, например, в Японии половина продаж приходиться на игры 3DS, в Северной Америке чуть больше 50% рынка поделили между собой 2 компании: PS4 и XOne. В Европе предпочитают игры от Play Station."
   ]
  },
  {
   "cell_type": "code",
   "execution_count": 20,
   "metadata": {},
   "outputs": [
    {
     "data": {
      "image/png": "[encoded data removed]",
      "text/plain": [
       "<Figure size 432x288 with 1 Axes>"
      ]
     },
     "metadata": {},
     "output_type": "display_data"
    },
    {
     "data": {
      "image/png": "[encoded data removed]",
      "text/plain": [
       "<Figure size 432x288 with 1 Axes>"
      ]
     },
     "metadata": {},
     "output_type": "display_data"
    },
    {
     "data": {
      "image/png": "[encoded data removed]",
      "text/plain": [
       "<Figure size 432x288 with 1 Axes>"
      ]
     },
     "metadata": {},
     "output_type": "display_data"
    }
   ],
   "source": [
    "#Жанры:\n",
    "na_platform=actual_data.groupby('genre')['na_sales'].sum().sort_values(ascending=False)[:5]\n",
    "eu_platform=actual_data.groupby('genre')['eu_sales'].sum().sort_values(ascending=False)[:5]\n",
    "jp_platform=actual_data.groupby('genre')['jp_sales'].sum().sort_values(ascending=False)[:5]\n",
    "na_platform.plot(kind='pie',title='Северная Америка')\n",
    "plt.show()\n",
    "eu_platform.plot(kind='pie',title='Европа')\n",
    "plt.show()\n",
    "jp_platform.plot(kind='pie',title='Япония')\n",
    "plt.show()"
   ]
  },
  {
   "cell_type": "markdown",
   "metadata": {},
   "source": [
    "В Северной Америке и Европе предпочтения игроков совпадают: самые любимые игры это игры жанров Action, Shooter и Sports. В Японии же практически весь рынок занимают игры жанров Role-Playing и Action."
   ]
  },
  {
   "cell_type": "code",
   "execution_count": 21,
   "metadata": {},
   "outputs": [
    {
     "data": {
      "text/plain": [
       "rating\n",
       "M       165.21\n",
       "E        79.05\n",
       "E10+     54.24\n",
       "T        49.79\n",
       "Name: na_sales, dtype: float64"
      ]
     },
     "metadata": {},
     "output_type": "display_data"
    },
    {
     "data": {
      "image/png": "[encoded data removed]",
      "text/plain": [
       "<Figure size 432x288 with 1 Axes>"
      ]
     },
     "metadata": {},
     "output_type": "display_data"
    },
    {
     "data": {
      "image/png": "[encoded data removed]",
      "text/plain": [
       "<Figure size 432x288 with 1 Axes>"
      ]
     },
     "metadata": {},
     "output_type": "display_data"
    },
    {
     "data": {
      "image/png": "[encoded data removed]",
      "text/plain": [
       "<Figure size 432x288 with 1 Axes>"
      ]
     },
     "metadata": {},
     "output_type": "display_data"
    }
   ],
   "source": [
    "#рейтинг ESRB\n",
    "na_platform=actual_data.groupby('rating')['na_sales'].sum().sort_values(ascending=False)[:5]\n",
    "eu_platform=actual_data.groupby('rating')['eu_sales'].sum().sort_values(ascending=False)[:5]\n",
    "jp_platform=actual_data.groupby('rating')['jp_sales'].sum().sort_values(ascending=False)[:5]\n",
    "display(na_platform)\n",
    "na_platform.plot(kind='pie',title='Северная Америка')\n",
    "plt.show()\n",
    "eu_platform.plot(kind='pie',title='Европа')\n",
    "plt.show()\n",
    "jp_platform.plot(kind='pie',title='Япония')\n",
    "plt.show()"
   ]
  },
  {
   "cell_type": "markdown",
   "metadata": {},
   "source": [
    "В Америке и Европе пользуются наибольшей популярностью игры с рейтингом \"для взрослых\", в Японии - \"для подростков\". Также во всех регионах хорошо продаются игры с рейтингов \"для всех\".\n"
   ]
  },
  {
   "cell_type": "markdown",
   "metadata": {},
   "source": [
    "<h2>Проверка гипотез</h2>"
   ]
  },
  {
   "cell_type": "markdown",
   "metadata": {},
   "source": [
    "<h3>Гипотеза 1</h3>\n",
    "Нулевая гипотеза: пользовательские рейтинги платформ Xbox One и PC одинаковые. АЛьтернативная гиптеза: пользовательские рейтинги платформ Xbox One и PC разные. "
   ]
  },
  {
   "cell_type": "code",
   "execution_count": 22,
   "metadata": {},
   "outputs": [
    {
     "data": {
      "text/plain": [
       "array(['PS3', 'X360', 'PS4', '3DS', 'XOne', 'WiiU', 'Wii', 'PC', 'PSV',\n",
       "       'DS', 'PSP'], dtype=object)"
      ]
     },
     "metadata": {},
     "output_type": "display_data"
    },
    {
     "name": "stdout",
     "output_type": "stream",
     "text": [
      "Средний пользовательский рейтинг платформы XOne:  6.521428571428572\n",
      "Средний пользовательский рейтинг платформы PC:  6.2696774193548395\n",
      "\n",
      "p-значение: 0.14012658403611647\n",
      "Не получилось отвергнуть нулевую гипотезу\n"
     ]
    }
   ],
   "source": [
    "display(actual_data['platform'].unique())\n",
    "#display(actual_data.head())\n",
    "#Подготовим выборки для проверки гипотез:\n",
    "xone_platform=actual_data[actual_data['platform']=='XOne']['user_score'].dropna()\n",
    "pc_platform=actual_data[actual_data['platform']=='PC']['user_score'].dropna()\n",
    "#Проверим средние значения:\n",
    "print('Средний пользовательский рейтинг платформы XOne: ', xone_platform.mean())\n",
    "print('Средний пользовательский рейтинг платформы PC: ', pc_platform.mean())\n",
    "print()\n",
    "\n",
    "#Проверим гипотезы:\n",
    "alpha = 0.05 # зададим критический уровень статистической значимости\n",
    "results = st.ttest_ind(xone_platform, pc_platform) \n",
    "\n",
    "print('p-значение:', results.pvalue)\n",
    "\n",
    "if results.pvalue < alpha:\n",
    "    print(\"Отвергаем нулевую гипотезу\")\n",
    "else:\n",
    "    print(\"Не получилось отвергнуть нулевую гипотезу\")\n",
    "    "
   ]
  },
  {
   "cell_type": "markdown",
   "metadata": {},
   "source": [
    "Разница в средних значениях пользовательских рейтингов не боольшая, гипотезу отвергнуть не удалось."
   ]
  },
  {
   "cell_type": "markdown",
   "metadata": {},
   "source": [
    "<h3> Гипотеза 2</h3>\n",
    "Нулевая гипотеза: средние значения пользовательских рейтингов жанров Action и Sports равны.\n",
    "Альтернативная гипотеза: средние значения пользовательских рейтингов жанров Action и Sports не равны."
   ]
  },
  {
   "cell_type": "code",
   "execution_count": 23,
   "metadata": {},
   "outputs": [
    {
     "data": {
      "text/plain": [
       "array(['Action', 'Shooter', 'Role-Playing', 'Misc', 'Sports', 'Fighting',\n",
       "       'Racing', 'Simulation', 'Platform', 'Strategy', 'Adventure',\n",
       "       'Puzzle'], dtype=object)"
      ]
     },
     "metadata": {},
     "output_type": "display_data"
    },
    {
     "name": "stdout",
     "output_type": "stream",
     "text": [
      "Среднее значение пользовательсткого рейинга для жанра Action:  6.837532133676092\n",
      "Среднее значение пользовательсткого рейинга для жанра Sports:  5.238124999999999\n",
      "\n",
      "p-значение: 1.0517832389140023e-27\n",
      "Отвергаем нулевую гипотезу\n"
     ]
    }
   ],
   "source": [
    "display(actual_data['genre'].unique())\n",
    "#Подготовим выборки для проверки гипотез:\n",
    "action_genre=actual_data[actual_data['genre']=='Action']['user_score'].dropna()\n",
    "sports_genre=actual_data[actual_data['genre']=='Sports']['user_score'].dropna()\n",
    "\n",
    "#Проверим срение значения:\n",
    "print('Среднее значение пользовательсткого рейинга для жанра Action: ', action_genre.mean())\n",
    "print('Среднее значение пользовательсткого рейинга для жанра Sports: ', sports_genre.mean())\n",
    "print()\n",
    "\n",
    "#Проверим гипотезы:\n",
    "\n",
    "results = st.ttest_ind(action_genre, sports_genre) \n",
    "\n",
    "print('p-значение:', results.pvalue)\n",
    "\n",
    "if results.pvalue < alpha:\n",
    "    print(\"Отвергаем нулевую гипотезу\")\n",
    "else:\n",
    "    print(\"Не получилось отвергнуть нулевую гипотезу\")"
   ]
  },
  {
   "cell_type": "markdown",
   "metadata": {},
   "source": [
    "Средние значения пользовательских рейтингов по жанрам сильно различаются, альтернативная гипотеза подтвердилась."
   ]
  },
  {
   "cell_type": "markdown",
   "metadata": {},
   "source": [
    "<h2>Вывод</h2>"
   ]
  },
  {
   "cell_type": "markdown",
   "metadata": {},
   "source": [
    "По результатам проведенного исследования рвнка компьюетрных игр можно сделать ряд выводов. Прежде всего, стратегия рекланых компаний должна быть различной для разных рынков сбыта. Если, например, рынки Северной Америки и Европы схожи в своих предпочтениях, то у игроков Японии интересы заметно отличаются.\n",
    "Так, например, для Японии стоит сделать ставку на игры для подростков на платформе  Nintendo 3DS в жанрах RPG и Action. Игроки западного мира предпочитают игры для взрослых, наиболее востребованы игры для PS4 в жанрах Action и Shooter, но в Северной Америке также популярны игры для  Xbox One, а в Европе еще не все игроки перешли с PlayStation3 на PlayStation4. Сходно то, что во всех регионах популярны игры с рейтингом \"для всех\".\n",
    "При покупке конкретных игр можно ориентироваться на рейтинги от критиков, тогда как пользовательские рейтинги не следует учитывать при планировании продаж."
   ]
  }
 ],
 "metadata": {
  "ExecuteTimeLog": [
   {
    "duration": 2769,
    "start_time": "2021-08-18T14:02:52.633Z"
   },
   {
    "duration": 71,
    "start_time": "2021-08-18T14:03:23.356Z"
   },
   {
    "duration": 96,
    "start_time": "2021-08-18T14:07:15.944Z"
   },
   {
    "duration": 61,
    "start_time": "2021-08-18T14:10:23.825Z"
   },
   {
    "duration": 5,
    "start_time": "2021-08-18T14:25:36.774Z"
   },
   {
    "duration": 5,
    "start_time": "2021-08-18T14:27:18.839Z"
   },
   {
    "duration": 10,
    "start_time": "2021-08-18T14:27:38.546Z"
   },
   {
    "duration": 4,
    "start_time": "2021-08-18T14:28:45.418Z"
   },
   {
    "duration": 279,
    "start_time": "2021-08-18T14:29:37.972Z"
   },
   {
    "duration": 505,
    "start_time": "2021-08-18T14:29:59.792Z"
   },
   {
    "duration": 4,
    "start_time": "2021-08-18T14:31:07.484Z"
   },
   {
    "duration": 12,
    "start_time": "2021-08-18T14:33:34.790Z"
   },
   {
    "duration": 16,
    "start_time": "2021-08-18T14:45:06.954Z"
   },
   {
    "duration": 271,
    "start_time": "2021-08-18T14:47:09.500Z"
   },
   {
    "duration": 15,
    "start_time": "2021-08-18T14:53:08.429Z"
   },
   {
    "duration": 17,
    "start_time": "2021-08-18T14:56:26.346Z"
   },
   {
    "duration": 307,
    "start_time": "2021-08-18T14:57:46.486Z"
   },
   {
    "duration": 669,
    "start_time": "2021-08-18T14:58:05.738Z"
   },
   {
    "duration": 13,
    "start_time": "2021-08-18T14:58:06.409Z"
   },
   {
    "duration": 16,
    "start_time": "2021-08-18T14:58:06.424Z"
   },
   {
    "duration": 19,
    "start_time": "2021-08-18T14:58:06.443Z"
   },
   {
    "duration": 347,
    "start_time": "2021-08-19T18:12:02.013Z"
   },
   {
    "duration": 876,
    "start_time": "2021-08-19T18:12:11.625Z"
   },
   {
    "duration": 16,
    "start_time": "2021-08-19T18:12:12.504Z"
   },
   {
    "duration": 48,
    "start_time": "2021-08-19T18:12:12.527Z"
   },
   {
    "duration": 27,
    "start_time": "2021-08-19T18:12:12.578Z"
   },
   {
    "duration": 22,
    "start_time": "2021-08-19T18:12:12.607Z"
   },
   {
    "duration": 38,
    "start_time": "2021-08-19T18:18:22.521Z"
   },
   {
    "duration": 39,
    "start_time": "2021-08-19T18:20:07.909Z"
   },
   {
    "duration": 34,
    "start_time": "2021-08-19T18:32:18.813Z"
   },
   {
    "duration": 15,
    "start_time": "2021-08-19T18:32:30.876Z"
   },
   {
    "duration": 13,
    "start_time": "2021-08-19T18:32:44.488Z"
   },
   {
    "duration": 30,
    "start_time": "2021-08-19T18:32:53.337Z"
   },
   {
    "duration": 86,
    "start_time": "2021-08-19T18:37:42.145Z"
   },
   {
    "duration": 359,
    "start_time": "2021-08-19T18:37:47.401Z"
   },
   {
    "duration": 16,
    "start_time": "2021-08-19T18:38:13.462Z"
   },
   {
    "duration": 294,
    "start_time": "2021-08-19T18:45:48.566Z"
   },
   {
    "duration": 258,
    "start_time": "2021-08-19T18:47:00.378Z"
   },
   {
    "duration": 12,
    "start_time": "2021-08-19T18:48:14.865Z"
   },
   {
    "duration": 11,
    "start_time": "2021-08-19T18:48:17.853Z"
   },
   {
    "duration": 18,
    "start_time": "2021-08-19T18:48:25.897Z"
   },
   {
    "duration": 30,
    "start_time": "2021-08-19T18:48:53.080Z"
   },
   {
    "duration": 30,
    "start_time": "2021-08-19T18:50:51.923Z"
   },
   {
    "duration": 13,
    "start_time": "2021-08-19T18:54:16.615Z"
   },
   {
    "duration": 15,
    "start_time": "2021-08-19T19:00:00.733Z"
   },
   {
    "duration": 13,
    "start_time": "2021-08-19T19:00:16.152Z"
   },
   {
    "duration": 14,
    "start_time": "2021-08-19T19:00:27.636Z"
   },
   {
    "duration": 10,
    "start_time": "2021-08-19T19:00:43.820Z"
   },
   {
    "duration": 73,
    "start_time": "2021-08-19T19:05:04.667Z"
   },
   {
    "duration": 95,
    "start_time": "2021-08-19T19:05:35.636Z"
   },
   {
    "duration": 32,
    "start_time": "2021-08-19T19:05:48.298Z"
   },
   {
    "duration": 609,
    "start_time": "2021-08-19T19:06:25.863Z"
   },
   {
    "duration": 33,
    "start_time": "2021-08-19T19:06:43.529Z"
   },
   {
    "duration": 1403,
    "start_time": "2021-08-19T19:07:13.923Z"
   },
   {
    "duration": 504,
    "start_time": "2021-08-19T19:07:30.353Z"
   },
   {
    "duration": 507,
    "start_time": "2021-08-19T19:07:41.348Z"
   },
   {
    "duration": 33,
    "start_time": "2021-08-19T19:07:49.725Z"
   },
   {
    "duration": 502,
    "start_time": "2021-08-19T19:07:55.920Z"
   },
   {
    "duration": 544,
    "start_time": "2021-08-19T19:08:09.761Z"
   },
   {
    "duration": 681,
    "start_time": "2021-08-19T19:08:49.504Z"
   },
   {
    "duration": 102,
    "start_time": "2021-08-19T19:09:34.180Z"
   },
   {
    "duration": 549,
    "start_time": "2021-08-19T19:09:41.716Z"
   },
   {
    "duration": 46,
    "start_time": "2021-08-19T19:10:15.783Z"
   },
   {
    "duration": 44,
    "start_time": "2021-08-19T19:10:21.865Z"
   },
   {
    "duration": 1066,
    "start_time": "2021-08-20T07:23:02.312Z"
   },
   {
    "duration": 10,
    "start_time": "2021-08-20T07:23:03.380Z"
   },
   {
    "duration": 12,
    "start_time": "2021-08-20T07:23:03.392Z"
   },
   {
    "duration": 36,
    "start_time": "2021-08-20T07:23:03.406Z"
   },
   {
    "duration": 15,
    "start_time": "2021-08-20T07:23:03.443Z"
   },
   {
    "duration": 20,
    "start_time": "2021-08-20T07:23:03.460Z"
   },
   {
    "duration": 14,
    "start_time": "2021-08-20T07:23:03.482Z"
   },
   {
    "duration": 5,
    "start_time": "2021-08-20T07:23:03.498Z"
   },
   {
    "duration": 55,
    "start_time": "2021-08-20T07:23:03.504Z"
   },
   {
    "duration": 167,
    "start_time": "2021-08-20T07:45:17.901Z"
   },
   {
    "duration": 378,
    "start_time": "2021-08-20T07:50:10.964Z"
   },
   {
    "duration": 259,
    "start_time": "2021-08-20T07:51:36.354Z"
   },
   {
    "duration": 725,
    "start_time": "2021-08-20T07:51:50.917Z"
   },
   {
    "duration": 10,
    "start_time": "2021-08-20T07:51:51.644Z"
   },
   {
    "duration": 17,
    "start_time": "2021-08-20T07:51:51.656Z"
   },
   {
    "duration": 15,
    "start_time": "2021-08-20T07:51:51.675Z"
   },
   {
    "duration": 13,
    "start_time": "2021-08-20T07:51:51.691Z"
   },
   {
    "duration": 36,
    "start_time": "2021-08-20T07:51:51.706Z"
   },
   {
    "duration": 14,
    "start_time": "2021-08-20T07:51:51.744Z"
   },
   {
    "duration": 8,
    "start_time": "2021-08-20T07:51:51.760Z"
   },
   {
    "duration": 20,
    "start_time": "2021-08-20T07:51:51.770Z"
   },
   {
    "duration": 100,
    "start_time": "2021-08-20T07:51:51.791Z"
   },
   {
    "duration": 263,
    "start_time": "2021-08-20T07:52:34.862Z"
   },
   {
    "duration": 251,
    "start_time": "2021-08-20T07:53:08.155Z"
   },
   {
    "duration": 248,
    "start_time": "2021-08-20T07:53:25.071Z"
   },
   {
    "duration": 308,
    "start_time": "2021-08-20T07:53:34.119Z"
   },
   {
    "duration": 96,
    "start_time": "2021-08-20T07:58:33.525Z"
   },
   {
    "duration": 15,
    "start_time": "2021-08-20T07:58:50.391Z"
   },
   {
    "duration": 23,
    "start_time": "2021-08-20T07:58:56.100Z"
   },
   {
    "duration": 22,
    "start_time": "2021-08-20T07:59:26.401Z"
   },
   {
    "duration": 325,
    "start_time": "2021-08-20T08:00:13.922Z"
   },
   {
    "duration": 300,
    "start_time": "2021-08-20T08:01:00.477Z"
   },
   {
    "duration": 86,
    "start_time": "2021-08-20T08:01:55.563Z"
   },
   {
    "duration": 47,
    "start_time": "2021-08-20T08:02:01.434Z"
   },
   {
    "duration": 302,
    "start_time": "2021-08-20T08:02:29.274Z"
   },
   {
    "duration": 283,
    "start_time": "2021-08-20T08:03:50.273Z"
   },
   {
    "duration": 26,
    "start_time": "2021-08-20T08:04:05.973Z"
   },
   {
    "duration": 187,
    "start_time": "2021-08-20T08:09:21.617Z"
   },
   {
    "duration": 348,
    "start_time": "2021-08-20T08:09:46.481Z"
   },
   {
    "duration": 95,
    "start_time": "2021-08-20T08:12:00.035Z"
   },
   {
    "duration": 366,
    "start_time": "2021-08-20T08:12:12.878Z"
   },
   {
    "duration": 283,
    "start_time": "2021-08-20T08:13:41.460Z"
   },
   {
    "duration": 271,
    "start_time": "2021-08-20T08:14:04.616Z"
   },
   {
    "duration": 23,
    "start_time": "2021-08-20T08:14:25.185Z"
   },
   {
    "duration": 24,
    "start_time": "2021-08-20T08:15:19.239Z"
   },
   {
    "duration": 17,
    "start_time": "2021-08-20T08:18:26.236Z"
   },
   {
    "duration": 18,
    "start_time": "2021-08-20T08:20:22.696Z"
   },
   {
    "duration": 15,
    "start_time": "2021-08-20T08:31:02.821Z"
   },
   {
    "duration": 266,
    "start_time": "2021-08-20T08:32:57.214Z"
   },
   {
    "duration": 271,
    "start_time": "2021-08-20T08:33:22.112Z"
   },
   {
    "duration": 295,
    "start_time": "2021-08-20T08:33:32.942Z"
   },
   {
    "duration": 307,
    "start_time": "2021-08-20T08:34:21.623Z"
   },
   {
    "duration": 7081,
    "start_time": "2021-08-20T08:34:35.478Z"
   },
   {
    "duration": 305,
    "start_time": "2021-08-20T08:34:44.208Z"
   },
   {
    "duration": 366,
    "start_time": "2021-08-20T08:34:59.246Z"
   },
   {
    "duration": 19,
    "start_time": "2021-08-20T08:36:39.962Z"
   },
   {
    "duration": 21,
    "start_time": "2021-08-20T08:37:19.449Z"
   },
   {
    "duration": 1200,
    "start_time": "2021-08-20T08:41:12.035Z"
   },
   {
    "duration": 262,
    "start_time": "2021-08-20T08:42:48.201Z"
   },
   {
    "duration": 267,
    "start_time": "2021-08-20T08:43:42.007Z"
   },
   {
    "duration": 460,
    "start_time": "2021-08-20T08:44:15.711Z"
   },
   {
    "duration": 368,
    "start_time": "2021-08-20T08:45:25.313Z"
   },
   {
    "duration": 206,
    "start_time": "2021-08-20T08:46:19.561Z"
   },
   {
    "duration": 379,
    "start_time": "2021-08-20T08:47:05.872Z"
   },
   {
    "duration": 338,
    "start_time": "2021-08-20T08:47:21.515Z"
   },
   {
    "duration": 348,
    "start_time": "2021-08-20T08:47:50.127Z"
   },
   {
    "duration": 334,
    "start_time": "2021-08-20T08:48:47.319Z"
   },
   {
    "duration": 334,
    "start_time": "2021-08-20T08:49:03.969Z"
   },
   {
    "duration": 312,
    "start_time": "2021-08-20T08:49:35.070Z"
   },
   {
    "duration": 292,
    "start_time": "2021-08-20T08:49:50.098Z"
   },
   {
    "duration": 324,
    "start_time": "2021-08-20T08:50:23.817Z"
   },
   {
    "duration": 15,
    "start_time": "2021-08-20T09:01:21.818Z"
   },
   {
    "duration": 16,
    "start_time": "2021-08-20T09:02:26.644Z"
   },
   {
    "duration": 16,
    "start_time": "2021-08-20T09:02:54.476Z"
   },
   {
    "duration": 16,
    "start_time": "2021-08-20T09:03:12.695Z"
   },
   {
    "duration": 15,
    "start_time": "2021-08-20T09:03:17.988Z"
   },
   {
    "duration": 16,
    "start_time": "2021-08-20T09:03:43.308Z"
   },
   {
    "duration": 325,
    "start_time": "2021-08-20T09:09:37.384Z"
   },
   {
    "duration": 20,
    "start_time": "2021-08-20T09:09:57.401Z"
   },
   {
    "duration": 312,
    "start_time": "2021-08-20T09:10:27.795Z"
   },
   {
    "duration": 283,
    "start_time": "2021-08-20T09:13:25.560Z"
   },
   {
    "duration": 351,
    "start_time": "2021-08-20T09:13:51.671Z"
   },
   {
    "duration": 200,
    "start_time": "2021-08-20T09:14:33.474Z"
   },
   {
    "duration": 174,
    "start_time": "2021-08-20T09:52:16.403Z"
   },
   {
    "duration": 188,
    "start_time": "2021-08-20T09:53:29.729Z"
   },
   {
    "duration": 174,
    "start_time": "2021-08-20T09:53:45.050Z"
   },
   {
    "duration": 695,
    "start_time": "2021-08-20T09:56:41.262Z"
   },
   {
    "duration": 9,
    "start_time": "2021-08-20T09:56:41.959Z"
   },
   {
    "duration": 17,
    "start_time": "2021-08-20T09:56:41.970Z"
   },
   {
    "duration": 16,
    "start_time": "2021-08-20T09:56:41.989Z"
   },
   {
    "duration": 35,
    "start_time": "2021-08-20T09:56:42.007Z"
   },
   {
    "duration": 20,
    "start_time": "2021-08-20T09:56:42.043Z"
   },
   {
    "duration": 14,
    "start_time": "2021-08-20T09:56:42.064Z"
   },
   {
    "duration": 4,
    "start_time": "2021-08-20T09:56:42.081Z"
   },
   {
    "duration": 306,
    "start_time": "2021-08-20T09:56:42.087Z"
   },
   {
    "duration": 345,
    "start_time": "2021-08-20T09:56:42.395Z"
   },
   {
    "duration": 226,
    "start_time": "2021-08-20T09:56:42.741Z"
   },
   {
    "duration": 241,
    "start_time": "2021-08-20T09:56:42.969Z"
   },
   {
    "duration": 126,
    "start_time": "2021-08-20T09:58:02.720Z"
   },
   {
    "duration": 315,
    "start_time": "2021-08-20T09:58:34.824Z"
   },
   {
    "duration": 577,
    "start_time": "2021-08-20T09:59:22.047Z"
   },
   {
    "duration": 246,
    "start_time": "2021-08-20T10:00:47.915Z"
   },
   {
    "duration": 9,
    "start_time": "2021-08-20T10:01:05.237Z"
   },
   {
    "duration": 257,
    "start_time": "2021-08-20T10:01:19.819Z"
   },
   {
    "duration": 669,
    "start_time": "2021-08-20T10:01:28.787Z"
   },
   {
    "duration": 11,
    "start_time": "2021-08-20T10:01:29.458Z"
   },
   {
    "duration": 21,
    "start_time": "2021-08-20T10:01:29.471Z"
   },
   {
    "duration": 15,
    "start_time": "2021-08-20T10:01:29.494Z"
   },
   {
    "duration": 30,
    "start_time": "2021-08-20T10:01:29.511Z"
   },
   {
    "duration": 18,
    "start_time": "2021-08-20T10:01:29.543Z"
   },
   {
    "duration": 25,
    "start_time": "2021-08-20T10:01:29.563Z"
   },
   {
    "duration": 6,
    "start_time": "2021-08-20T10:01:29.591Z"
   },
   {
    "duration": 285,
    "start_time": "2021-08-20T10:01:29.598Z"
   },
   {
    "duration": 344,
    "start_time": "2021-08-20T10:01:29.886Z"
   },
   {
    "duration": 259,
    "start_time": "2021-08-20T10:01:30.232Z"
   },
   {
    "duration": 596,
    "start_time": "2021-08-20T10:01:30.493Z"
   },
   {
    "duration": 7,
    "start_time": "2021-08-20T10:01:36.554Z"
   },
   {
    "duration": 285,
    "start_time": "2021-08-20T10:02:27.166Z"
   },
   {
    "duration": 15,
    "start_time": "2021-08-20T10:03:16.772Z"
   },
   {
    "duration": 170,
    "start_time": "2021-08-20T10:03:21.601Z"
   },
   {
    "duration": 257,
    "start_time": "2021-08-20T10:09:39.651Z"
   },
   {
    "duration": 93,
    "start_time": "2021-08-20T10:10:54.722Z"
   },
   {
    "duration": 439,
    "start_time": "2021-08-20T10:11:03.231Z"
   },
   {
    "duration": 206,
    "start_time": "2021-08-20T10:11:17.685Z"
   },
   {
    "duration": 4,
    "start_time": "2021-08-20T10:11:38.642Z"
   },
   {
    "duration": 252,
    "start_time": "2021-08-20T10:11:53.129Z"
   },
   {
    "duration": 5,
    "start_time": "2021-08-20T10:12:36.755Z"
   },
   {
    "duration": 21,
    "start_time": "2021-08-20T10:12:45.589Z"
   },
   {
    "duration": 211,
    "start_time": "2021-08-20T10:13:52.155Z"
   },
   {
    "duration": 397,
    "start_time": "2021-08-20T10:14:32.068Z"
   },
   {
    "duration": 129,
    "start_time": "2021-08-20T10:14:47.704Z"
   },
   {
    "duration": 643,
    "start_time": "2021-08-20T10:17:43.212Z"
   },
   {
    "duration": 260,
    "start_time": "2021-08-20T10:18:07.386Z"
   },
   {
    "duration": 540,
    "start_time": "2021-08-20T10:18:37.670Z"
   },
   {
    "duration": 6405,
    "start_time": "2021-08-20T10:19:18.275Z"
   },
   {
    "duration": 6650,
    "start_time": "2021-08-20T10:19:38.006Z"
   },
   {
    "duration": 6763,
    "start_time": "2021-08-20T10:22:04.163Z"
   },
   {
    "duration": 6685,
    "start_time": "2021-08-20T10:24:31.875Z"
   },
   {
    "duration": 6329,
    "start_time": "2021-08-20T10:24:51.637Z"
   },
   {
    "duration": 8416,
    "start_time": "2021-08-20T10:41:55.933Z"
   },
   {
    "duration": 6823,
    "start_time": "2021-08-20T10:43:27.792Z"
   },
   {
    "duration": 7158,
    "start_time": "2021-08-20T10:43:38.015Z"
   },
   {
    "duration": 6472,
    "start_time": "2021-08-20T10:44:18.352Z"
   },
   {
    "duration": 7363,
    "start_time": "2021-08-20T10:45:09.447Z"
   },
   {
    "duration": 6333,
    "start_time": "2021-08-20T10:45:22.657Z"
   },
   {
    "duration": 7044,
    "start_time": "2021-08-20T10:45:41.835Z"
   },
   {
    "duration": 1215,
    "start_time": "2021-08-20T10:46:04.433Z"
   },
   {
    "duration": 11,
    "start_time": "2021-08-20T10:46:05.650Z"
   },
   {
    "duration": 25,
    "start_time": "2021-08-20T10:46:05.663Z"
   },
   {
    "duration": 20,
    "start_time": "2021-08-20T10:46:05.690Z"
   },
   {
    "duration": 30,
    "start_time": "2021-08-20T10:46:05.712Z"
   },
   {
    "duration": 20,
    "start_time": "2021-08-20T10:46:05.744Z"
   },
   {
    "duration": 18,
    "start_time": "2021-08-20T10:46:05.766Z"
   },
   {
    "duration": 10,
    "start_time": "2021-08-20T10:46:05.786Z"
   },
   {
    "duration": 307,
    "start_time": "2021-08-20T10:46:05.798Z"
   },
   {
    "duration": 337,
    "start_time": "2021-08-20T10:46:06.107Z"
   },
   {
    "duration": 222,
    "start_time": "2021-08-20T10:46:06.447Z"
   },
   {
    "duration": 23,
    "start_time": "2021-08-20T10:46:06.671Z"
   },
   {
    "duration": 221,
    "start_time": "2021-08-20T10:46:26.842Z"
   },
   {
    "duration": 1771,
    "start_time": "2021-08-20T10:46:45.164Z"
   },
   {
    "duration": 500,
    "start_time": "2021-08-20T10:47:25.994Z"
   },
   {
    "duration": 373,
    "start_time": "2021-08-20T10:48:31.777Z"
   },
   {
    "duration": 264,
    "start_time": "2021-08-20T10:48:59.878Z"
   },
   {
    "duration": 293,
    "start_time": "2021-08-20T10:49:09.680Z"
   },
   {
    "duration": 181,
    "start_time": "2021-08-20T10:49:24.003Z"
   },
   {
    "duration": 246,
    "start_time": "2021-08-20T10:49:58.135Z"
   },
   {
    "duration": 491,
    "start_time": "2021-08-20T10:50:32.914Z"
   },
   {
    "duration": 244,
    "start_time": "2021-08-20T10:50:46.984Z"
   },
   {
    "duration": 249,
    "start_time": "2021-08-20T10:50:55.073Z"
   },
   {
    "duration": 20,
    "start_time": "2021-08-20T11:00:50.947Z"
   },
   {
    "duration": 13,
    "start_time": "2021-08-20T11:00:58.623Z"
   },
   {
    "duration": 21,
    "start_time": "2021-08-20T11:05:17.057Z"
   },
   {
    "duration": 21,
    "start_time": "2021-08-20T11:05:29.387Z"
   },
   {
    "duration": 3152,
    "start_time": "2021-08-20T11:10:58.697Z"
   },
   {
    "duration": 278,
    "start_time": "2021-08-20T11:14:08.782Z"
   },
   {
    "duration": 2869,
    "start_time": "2021-08-20T11:14:15.326Z"
   },
   {
    "duration": 2979,
    "start_time": "2021-08-20T11:14:34.406Z"
   },
   {
    "duration": 2954,
    "start_time": "2021-08-20T11:16:43.423Z"
   },
   {
    "duration": 3487,
    "start_time": "2021-08-20T11:17:14.115Z"
   },
   {
    "duration": 3470,
    "start_time": "2021-08-20T11:19:35.317Z"
   },
   {
    "duration": 20,
    "start_time": "2021-08-20T11:21:49.100Z"
   },
   {
    "duration": 406,
    "start_time": "2021-08-20T11:22:53.346Z"
   },
   {
    "duration": 699,
    "start_time": "2021-08-20T11:25:35.029Z"
   },
   {
    "duration": 426,
    "start_time": "2021-08-20T11:25:51.231Z"
   },
   {
    "duration": 747,
    "start_time": "2021-08-20T11:34:39.575Z"
   },
   {
    "duration": 87,
    "start_time": "2021-08-20T11:35:32.851Z"
   },
   {
    "duration": 1181,
    "start_time": "2021-08-20T11:35:39.000Z"
   },
   {
    "duration": 886,
    "start_time": "2021-08-20T11:40:51.502Z"
   },
   {
    "duration": 897,
    "start_time": "2021-08-20T11:44:20.017Z"
   },
   {
    "duration": 890,
    "start_time": "2021-08-20T11:45:45.906Z"
   },
   {
    "duration": 871,
    "start_time": "2021-08-20T11:46:26.783Z"
   },
   {
    "duration": 851,
    "start_time": "2021-08-20T11:47:29.815Z"
   },
   {
    "duration": 21,
    "start_time": "2021-08-20T12:01:22.764Z"
   },
   {
    "duration": 20,
    "start_time": "2021-08-20T12:04:38.157Z"
   },
   {
    "duration": 368,
    "start_time": "2021-08-20T12:05:49.582Z"
   },
   {
    "duration": 231,
    "start_time": "2021-08-20T12:06:10.423Z"
   },
   {
    "duration": 217,
    "start_time": "2021-08-20T12:07:10.429Z"
   },
   {
    "duration": 436,
    "start_time": "2021-08-20T12:08:14.196Z"
   },
   {
    "duration": 15,
    "start_time": "2021-08-20T12:20:17.476Z"
   },
   {
    "duration": 270,
    "start_time": "2021-08-20T12:22:59.171Z"
   },
   {
    "duration": 993,
    "start_time": "2021-08-20T12:23:19.553Z"
   },
   {
    "duration": 991,
    "start_time": "2021-08-20T12:23:29.464Z"
   },
   {
    "duration": 1364,
    "start_time": "2021-08-20T12:23:37.861Z"
   },
   {
    "duration": 918,
    "start_time": "2021-08-20T12:23:45.359Z"
   },
   {
    "duration": 14,
    "start_time": "2021-08-20T12:24:05.272Z"
   },
   {
    "duration": 5,
    "start_time": "2021-08-20T12:37:05.200Z"
   },
   {
    "duration": 8,
    "start_time": "2021-08-20T12:37:13.892Z"
   },
   {
    "duration": 8,
    "start_time": "2021-08-20T12:37:43.845Z"
   },
   {
    "duration": 7,
    "start_time": "2021-08-20T12:40:11.884Z"
   },
   {
    "duration": 13,
    "start_time": "2021-08-20T12:40:23.595Z"
   },
   {
    "duration": 17,
    "start_time": "2021-08-20T12:40:36.736Z"
   },
   {
    "duration": 18,
    "start_time": "2021-08-20T12:41:12.162Z"
   },
   {
    "duration": 17,
    "start_time": "2021-08-20T12:41:24.251Z"
   },
   {
    "duration": 17,
    "start_time": "2021-08-20T12:41:46.417Z"
   },
   {
    "duration": 19,
    "start_time": "2021-08-20T12:42:06.968Z"
   },
   {
    "duration": 18,
    "start_time": "2021-08-20T12:42:13.864Z"
   },
   {
    "duration": 18,
    "start_time": "2021-08-20T12:42:37.671Z"
   },
   {
    "duration": 17,
    "start_time": "2021-08-20T12:42:59.506Z"
   },
   {
    "duration": 193,
    "start_time": "2021-08-20T12:45:34.781Z"
   },
   {
    "duration": 162,
    "start_time": "2021-08-20T12:45:59.171Z"
   },
   {
    "duration": 174,
    "start_time": "2021-08-20T12:46:11.812Z"
   },
   {
    "duration": 173,
    "start_time": "2021-08-20T12:48:06.727Z"
   },
   {
    "duration": 164,
    "start_time": "2021-08-20T12:48:21.482Z"
   },
   {
    "duration": 220,
    "start_time": "2021-08-20T12:57:35.859Z"
   },
   {
    "duration": 196,
    "start_time": "2021-08-20T12:57:49.941Z"
   },
   {
    "duration": 177,
    "start_time": "2021-08-20T12:58:50.200Z"
   },
   {
    "duration": 207,
    "start_time": "2021-08-20T13:06:18.709Z"
   },
   {
    "duration": 188,
    "start_time": "2021-08-20T13:07:26.048Z"
   },
   {
    "duration": 559,
    "start_time": "2021-08-20T13:09:09.177Z"
   },
   {
    "duration": 172,
    "start_time": "2021-08-20T13:09:28.978Z"
   },
   {
    "duration": 188,
    "start_time": "2021-08-20T13:11:49.160Z"
   },
   {
    "duration": 182,
    "start_time": "2021-08-20T13:12:01.680Z"
   },
   {
    "duration": 177,
    "start_time": "2021-08-20T13:12:18.848Z"
   },
   {
    "duration": 191,
    "start_time": "2021-08-20T13:12:35.241Z"
   },
   {
    "duration": 178,
    "start_time": "2021-08-20T13:12:54.278Z"
   },
   {
    "duration": 197,
    "start_time": "2021-08-20T13:13:12.635Z"
   },
   {
    "duration": 182,
    "start_time": "2021-08-20T13:13:55.899Z"
   },
   {
    "duration": 423,
    "start_time": "2021-08-20T13:14:16.995Z"
   },
   {
    "duration": 157,
    "start_time": "2021-08-20T13:15:19.784Z"
   },
   {
    "duration": 411,
    "start_time": "2021-08-20T13:15:32.281Z"
   },
   {
    "duration": 343,
    "start_time": "2021-08-20T13:16:01.639Z"
   },
   {
    "duration": 211,
    "start_time": "2021-08-20T13:16:06.984Z"
   },
   {
    "duration": 123,
    "start_time": "2021-08-20T13:16:14.704Z"
   },
   {
    "duration": 201,
    "start_time": "2021-08-20T13:16:27.796Z"
   },
   {
    "duration": 90,
    "start_time": "2021-08-20T13:17:35.995Z"
   },
   {
    "duration": 220,
    "start_time": "2021-08-20T13:17:54.695Z"
   },
   {
    "duration": 230,
    "start_time": "2021-08-20T13:22:21.968Z"
   },
   {
    "duration": 233,
    "start_time": "2021-08-20T13:22:38.533Z"
   },
   {
    "duration": 5,
    "start_time": "2021-08-20T13:28:43.482Z"
   },
   {
    "duration": 262,
    "start_time": "2021-08-20T13:32:01.944Z"
   },
   {
    "duration": 5,
    "start_time": "2021-08-20T13:32:14.263Z"
   },
   {
    "duration": 5,
    "start_time": "2021-08-20T13:32:22.735Z"
   },
   {
    "duration": 4,
    "start_time": "2021-08-20T13:32:42.376Z"
   },
   {
    "duration": 319,
    "start_time": "2021-08-20T13:34:36.041Z"
   },
   {
    "duration": 319,
    "start_time": "2021-08-20T13:35:11.180Z"
   },
   {
    "duration": 326,
    "start_time": "2021-08-20T13:35:46.122Z"
   },
   {
    "duration": 323,
    "start_time": "2021-08-20T13:35:58.890Z"
   },
   {
    "duration": 320,
    "start_time": "2021-08-20T13:36:21.359Z"
   },
   {
    "duration": 411,
    "start_time": "2021-08-20T13:36:36.795Z"
   },
   {
    "duration": 212,
    "start_time": "2021-08-20T13:36:44.673Z"
   },
   {
    "duration": 219,
    "start_time": "2021-08-20T13:38:28.689Z"
   },
   {
    "duration": 209,
    "start_time": "2021-08-20T13:38:43.122Z"
   },
   {
    "duration": 219,
    "start_time": "2021-08-20T13:39:04.841Z"
   },
   {
    "duration": 212,
    "start_time": "2021-08-20T13:39:20.404Z"
   },
   {
    "duration": 207,
    "start_time": "2021-08-20T13:39:32.614Z"
   },
   {
    "duration": 228,
    "start_time": "2021-08-21T10:04:07.102Z"
   },
   {
    "duration": 1203,
    "start_time": "2021-08-21T10:04:17.683Z"
   },
   {
    "duration": 16,
    "start_time": "2021-08-21T10:04:18.889Z"
   },
   {
    "duration": 13,
    "start_time": "2021-08-21T10:04:18.907Z"
   },
   {
    "duration": 15,
    "start_time": "2021-08-21T10:04:18.922Z"
   },
   {
    "duration": 14,
    "start_time": "2021-08-21T10:04:18.939Z"
   },
   {
    "duration": 56,
    "start_time": "2021-08-21T10:04:18.954Z"
   },
   {
    "duration": 15,
    "start_time": "2021-08-21T10:04:19.011Z"
   },
   {
    "duration": 6,
    "start_time": "2021-08-21T10:04:19.028Z"
   },
   {
    "duration": 334,
    "start_time": "2021-08-21T10:04:19.035Z"
   },
   {
    "duration": 383,
    "start_time": "2021-08-21T10:04:19.370Z"
   },
   {
    "duration": 253,
    "start_time": "2021-08-21T10:04:19.755Z"
   },
   {
    "duration": 301,
    "start_time": "2021-08-21T10:04:20.009Z"
   },
   {
    "duration": 1095,
    "start_time": "2021-08-21T10:04:20.312Z"
   },
   {
    "duration": 1024,
    "start_time": "2021-08-21T10:04:21.409Z"
   },
   {
    "duration": 983,
    "start_time": "2021-08-21T10:04:22.435Z"
   },
   {
    "duration": 1087,
    "start_time": "2021-08-21T10:04:23.420Z"
   },
   {
    "duration": 483,
    "start_time": "2021-08-21T10:04:24.508Z"
   },
   {
    "duration": 254,
    "start_time": "2021-08-21T10:04:24.997Z"
   },
   {
    "duration": 262,
    "start_time": "2021-08-21T10:04:25.253Z"
   },
   {
    "duration": 233,
    "start_time": "2021-08-21T10:04:25.517Z"
   },
   {
    "duration": 14,
    "start_time": "2021-08-21T10:04:25.752Z"
   },
   {
    "duration": 5,
    "start_time": "2021-08-21T10:05:22.358Z"
   },
   {
    "duration": 17,
    "start_time": "2021-08-21T10:06:06.163Z"
   },
   {
    "duration": 304,
    "start_time": "2021-08-21T10:10:52.811Z"
   },
   {
    "duration": 215,
    "start_time": "2021-08-21T10:10:57.910Z"
   },
   {
    "duration": 63,
    "start_time": "2021-08-21T10:11:24.578Z"
   },
   {
    "duration": 12,
    "start_time": "2021-08-21T10:11:30.429Z"
   },
   {
    "duration": 14,
    "start_time": "2021-08-21T10:12:25.492Z"
   },
   {
    "duration": 13,
    "start_time": "2021-08-21T10:13:00.790Z"
   },
   {
    "duration": 4,
    "start_time": "2021-08-21T10:16:32.705Z"
   },
   {
    "duration": 5970,
    "start_time": "2021-08-21T10:17:25.958Z"
   },
   {
    "duration": 10,
    "start_time": "2021-08-21T10:18:12.832Z"
   },
   {
    "duration": 20,
    "start_time": "2021-08-21T10:20:12.818Z"
   },
   {
    "duration": 189,
    "start_time": "2021-08-21T10:34:17.914Z"
   },
   {
    "duration": 196,
    "start_time": "2021-08-21T10:34:32.594Z"
   },
   {
    "duration": 1128,
    "start_time": "2021-08-21T10:34:49.001Z"
   },
   {
    "duration": 10,
    "start_time": "2021-08-21T10:34:50.130Z"
   },
   {
    "duration": 13,
    "start_time": "2021-08-21T10:34:50.142Z"
   },
   {
    "duration": 34,
    "start_time": "2021-08-21T10:34:50.157Z"
   },
   {
    "duration": 14,
    "start_time": "2021-08-21T10:34:50.193Z"
   },
   {
    "duration": 20,
    "start_time": "2021-08-21T10:34:50.209Z"
   },
   {
    "duration": 14,
    "start_time": "2021-08-21T10:34:50.230Z"
   },
   {
    "duration": 5,
    "start_time": "2021-08-21T10:34:50.247Z"
   },
   {
    "duration": 342,
    "start_time": "2021-08-21T10:34:50.254Z"
   },
   {
    "duration": 375,
    "start_time": "2021-08-21T10:34:50.598Z"
   },
   {
    "duration": 241,
    "start_time": "2021-08-21T10:34:50.975Z"
   },
   {
    "duration": 285,
    "start_time": "2021-08-21T10:34:51.218Z"
   },
   {
    "duration": 1059,
    "start_time": "2021-08-21T10:34:51.504Z"
   },
   {
    "duration": 945,
    "start_time": "2021-08-21T10:34:52.564Z"
   },
   {
    "duration": 962,
    "start_time": "2021-08-21T10:34:53.511Z"
   },
   {
    "duration": 1023,
    "start_time": "2021-08-21T10:34:54.475Z"
   },
   {
    "duration": 486,
    "start_time": "2021-08-21T10:34:55.499Z"
   },
   {
    "duration": 238,
    "start_time": "2021-08-21T10:34:55.986Z"
   },
   {
    "duration": 259,
    "start_time": "2021-08-21T10:34:56.226Z"
   },
   {
    "duration": 235,
    "start_time": "2021-08-21T10:34:56.487Z"
   },
   {
    "duration": 13,
    "start_time": "2021-08-21T10:34:56.724Z"
   },
   {
    "duration": 15,
    "start_time": "2021-08-21T10:34:56.739Z"
   },
   {
    "duration": 286,
    "start_time": "2021-08-21T10:35:18.294Z"
   },
   {
    "duration": 64,
    "start_time": "2021-08-21T10:38:00.029Z"
   },
   {
    "duration": 61,
    "start_time": "2021-08-21T10:38:09.707Z"
   },
   {
    "duration": 60,
    "start_time": "2021-08-21T10:38:24.867Z"
   },
   {
    "duration": 61,
    "start_time": "2021-08-21T10:38:35.270Z"
   },
   {
    "duration": 67,
    "start_time": "2021-08-21T10:38:44.962Z"
   },
   {
    "duration": 64,
    "start_time": "2021-08-21T10:38:52.405Z"
   },
   {
    "duration": 66,
    "start_time": "2021-08-21T10:41:06.949Z"
   },
   {
    "duration": 66,
    "start_time": "2021-08-21T10:41:25.967Z"
   },
   {
    "duration": 61,
    "start_time": "2021-08-21T10:42:50.445Z"
   },
   {
    "duration": 60,
    "start_time": "2021-08-21T10:42:59.622Z"
   },
   {
    "duration": 1122,
    "start_time": "2021-08-21T10:43:30.914Z"
   },
   {
    "duration": 9,
    "start_time": "2021-08-21T10:43:32.038Z"
   },
   {
    "duration": 29,
    "start_time": "2021-08-21T10:43:32.048Z"
   },
   {
    "duration": 23,
    "start_time": "2021-08-21T10:43:32.079Z"
   },
   {
    "duration": 23,
    "start_time": "2021-08-21T10:43:32.103Z"
   },
   {
    "duration": 20,
    "start_time": "2021-08-21T10:43:32.128Z"
   },
   {
    "duration": 15,
    "start_time": "2021-08-21T10:43:32.150Z"
   },
   {
    "duration": 7,
    "start_time": "2021-08-21T10:43:32.187Z"
   },
   {
    "duration": 340,
    "start_time": "2021-08-21T10:43:32.197Z"
   },
   {
    "duration": 367,
    "start_time": "2021-08-21T10:43:32.539Z"
   },
   {
    "duration": 240,
    "start_time": "2021-08-21T10:43:32.908Z"
   },
   {
    "duration": 318,
    "start_time": "2021-08-21T10:43:33.150Z"
   },
   {
    "duration": 1169,
    "start_time": "2021-08-21T10:43:33.470Z"
   },
   {
    "duration": 1079,
    "start_time": "2021-08-21T10:43:34.641Z"
   },
   {
    "duration": 986,
    "start_time": "2021-08-21T10:43:35.722Z"
   },
   {
    "duration": 1080,
    "start_time": "2021-08-21T10:43:36.709Z"
   },
   {
    "duration": 467,
    "start_time": "2021-08-21T10:43:37.790Z"
   },
   {
    "duration": 235,
    "start_time": "2021-08-21T10:43:38.259Z"
   },
   {
    "duration": 245,
    "start_time": "2021-08-21T10:43:38.495Z"
   },
   {
    "duration": 237,
    "start_time": "2021-08-21T10:43:38.742Z"
   },
   {
    "duration": 16,
    "start_time": "2021-08-21T10:43:38.984Z"
   },
   {
    "duration": 13,
    "start_time": "2021-08-21T10:43:39.003Z"
   },
   {
    "duration": 61,
    "start_time": "2021-08-21T10:44:21.627Z"
   },
   {
    "duration": 63,
    "start_time": "2021-08-21T10:44:34.177Z"
   },
   {
    "duration": 61,
    "start_time": "2021-08-21T10:44:46.341Z"
   },
   {
    "duration": 59,
    "start_time": "2021-08-21T10:44:55.977Z"
   },
   {
    "duration": 279,
    "start_time": "2021-08-21T10:46:22.560Z"
   },
   {
    "duration": 176,
    "start_time": "2021-08-21T10:46:35.352Z"
   },
   {
    "duration": 1214,
    "start_time": "2021-08-21T10:46:44.296Z"
   },
   {
    "duration": 10,
    "start_time": "2021-08-21T10:46:45.512Z"
   },
   {
    "duration": 12,
    "start_time": "2021-08-21T10:46:45.526Z"
   },
   {
    "duration": 15,
    "start_time": "2021-08-21T10:46:45.540Z"
   },
   {
    "duration": 19,
    "start_time": "2021-08-21T10:46:45.584Z"
   },
   {
    "duration": 20,
    "start_time": "2021-08-21T10:46:45.605Z"
   },
   {
    "duration": 14,
    "start_time": "2021-08-21T10:46:45.629Z"
   },
   {
    "duration": 5,
    "start_time": "2021-08-21T10:46:45.646Z"
   },
   {
    "duration": 358,
    "start_time": "2021-08-21T10:46:45.653Z"
   },
   {
    "duration": 379,
    "start_time": "2021-08-21T10:46:46.012Z"
   },
   {
    "duration": 259,
    "start_time": "2021-08-21T10:46:46.394Z"
   },
   {
    "duration": 301,
    "start_time": "2021-08-21T10:46:46.655Z"
   },
   {
    "duration": 1107,
    "start_time": "2021-08-21T10:46:46.957Z"
   },
   {
    "duration": 1081,
    "start_time": "2021-08-21T10:46:48.066Z"
   },
   {
    "duration": 964,
    "start_time": "2021-08-21T10:46:49.149Z"
   },
   {
    "duration": 1100,
    "start_time": "2021-08-21T10:46:50.115Z"
   },
   {
    "duration": 492,
    "start_time": "2021-08-21T10:46:51.217Z"
   },
   {
    "duration": 240,
    "start_time": "2021-08-21T10:46:51.710Z"
   },
   {
    "duration": 259,
    "start_time": "2021-08-21T10:46:51.953Z"
   },
   {
    "duration": 231,
    "start_time": "2021-08-21T10:46:52.213Z"
   },
   {
    "duration": 13,
    "start_time": "2021-08-21T10:46:52.446Z"
   },
   {
    "duration": 32,
    "start_time": "2021-08-21T10:46:52.462Z"
   },
   {
    "duration": 490,
    "start_time": "2021-08-21T10:48:57.660Z"
   },
   {
    "duration": 617,
    "start_time": "2021-08-21T10:51:37.558Z"
   },
   {
    "duration": 507,
    "start_time": "2021-08-21T10:53:28.705Z"
   },
   {
    "duration": 4491,
    "start_time": "2021-08-21T10:54:21.251Z"
   },
   {
    "duration": 1092,
    "start_time": "2021-08-21T10:54:37.143Z"
   },
   {
    "duration": 10,
    "start_time": "2021-08-21T10:54:38.236Z"
   },
   {
    "duration": 18,
    "start_time": "2021-08-21T10:54:38.248Z"
   },
   {
    "duration": 30,
    "start_time": "2021-08-21T10:54:38.268Z"
   },
   {
    "duration": 15,
    "start_time": "2021-08-21T10:54:38.301Z"
   },
   {
    "duration": 19,
    "start_time": "2021-08-21T10:54:38.318Z"
   },
   {
    "duration": 13,
    "start_time": "2021-08-21T10:54:38.339Z"
   },
   {
    "duration": 35,
    "start_time": "2021-08-21T10:54:38.355Z"
   },
   {
    "duration": 324,
    "start_time": "2021-08-21T10:54:38.393Z"
   },
   {
    "duration": 503,
    "start_time": "2021-08-21T10:54:38.718Z"
   },
   {
    "duration": 316,
    "start_time": "2021-08-21T10:54:39.223Z"
   },
   {
    "duration": 1967,
    "start_time": "2021-08-21T10:54:37.574Z"
   },
   {
    "duration": 1964,
    "start_time": "2021-08-21T10:54:37.577Z"
   },
   {
    "duration": 1963,
    "start_time": "2021-08-21T10:54:37.579Z"
   },
   {
    "duration": 1962,
    "start_time": "2021-08-21T10:54:37.581Z"
   },
   {
    "duration": 1962,
    "start_time": "2021-08-21T10:54:37.582Z"
   },
   {
    "duration": 1962,
    "start_time": "2021-08-21T10:54:37.583Z"
   },
   {
    "duration": 1961,
    "start_time": "2021-08-21T10:54:37.585Z"
   },
   {
    "duration": 1960,
    "start_time": "2021-08-21T10:54:37.587Z"
   },
   {
    "duration": 1959,
    "start_time": "2021-08-21T10:54:37.589Z"
   },
   {
    "duration": 1957,
    "start_time": "2021-08-21T10:54:37.592Z"
   },
   {
    "duration": 1956,
    "start_time": "2021-08-21T10:54:37.594Z"
   },
   {
    "duration": 1955,
    "start_time": "2021-08-21T10:54:37.596Z"
   },
   {
    "duration": 215,
    "start_time": "2021-08-21T10:55:25.625Z"
   },
   {
    "duration": 1184,
    "start_time": "2021-08-21T10:55:39.305Z"
   },
   {
    "duration": 13,
    "start_time": "2021-08-21T10:55:40.491Z"
   },
   {
    "duration": 13,
    "start_time": "2021-08-21T10:55:40.507Z"
   },
   {
    "duration": 14,
    "start_time": "2021-08-21T10:55:40.522Z"
   },
   {
    "duration": 14,
    "start_time": "2021-08-21T10:55:40.538Z"
   },
   {
    "duration": 53,
    "start_time": "2021-08-21T10:55:40.553Z"
   },
   {
    "duration": 14,
    "start_time": "2021-08-21T10:55:40.608Z"
   },
   {
    "duration": 5,
    "start_time": "2021-08-21T10:55:40.624Z"
   },
   {
    "duration": 337,
    "start_time": "2021-08-21T10:55:40.631Z"
   },
   {
    "duration": 517,
    "start_time": "2021-08-21T10:55:40.969Z"
   },
   {
    "duration": 264,
    "start_time": "2021-08-21T10:55:41.489Z"
   },
   {
    "duration": 301,
    "start_time": "2021-08-21T10:55:41.755Z"
   },
   {
    "duration": 1084,
    "start_time": "2021-08-21T10:55:42.057Z"
   },
   {
    "duration": 1021,
    "start_time": "2021-08-21T10:55:43.142Z"
   },
   {
    "duration": 1072,
    "start_time": "2021-08-21T10:55:44.165Z"
   },
   {
    "duration": 1077,
    "start_time": "2021-08-21T10:55:45.238Z"
   },
   {
    "duration": 504,
    "start_time": "2021-08-21T10:55:46.317Z"
   },
   {
    "duration": 5044,
    "start_time": "2021-08-21T10:55:46.823Z"
   },
   {
    "duration": 2039,
    "start_time": "2021-08-21T10:55:49.831Z"
   },
   {
    "duration": 2038,
    "start_time": "2021-08-21T10:55:49.833Z"
   },
   {
    "duration": 2036,
    "start_time": "2021-08-21T10:55:49.835Z"
   },
   {
    "duration": 2035,
    "start_time": "2021-08-21T10:55:49.837Z"
   },
   {
    "duration": 2035,
    "start_time": "2021-08-21T10:55:49.838Z"
   },
   {
    "duration": 512,
    "start_time": "2021-08-21T10:56:14.996Z"
   },
   {
    "duration": 4304,
    "start_time": "2021-08-21T10:56:33.491Z"
   },
   {
    "duration": 194,
    "start_time": "2021-08-21T10:57:37.471Z"
   },
   {
    "duration": 4626,
    "start_time": "2021-08-21T11:00:01.522Z"
   },
   {
    "duration": 4851,
    "start_time": "2021-08-21T11:00:27.475Z"
   },
   {
    "duration": 1171,
    "start_time": "2021-08-21T11:17:27.725Z"
   },
   {
    "duration": 10,
    "start_time": "2021-08-21T11:17:28.898Z"
   },
   {
    "duration": 19,
    "start_time": "2021-08-21T11:17:28.910Z"
   },
   {
    "duration": 16,
    "start_time": "2021-08-21T11:17:28.931Z"
   },
   {
    "duration": 39,
    "start_time": "2021-08-21T11:17:28.948Z"
   },
   {
    "duration": 23,
    "start_time": "2021-08-21T11:17:28.989Z"
   },
   {
    "duration": 16,
    "start_time": "2021-08-21T11:17:29.014Z"
   },
   {
    "duration": 6,
    "start_time": "2021-08-21T11:17:29.033Z"
   },
   {
    "duration": 345,
    "start_time": "2021-08-21T11:17:29.041Z"
   },
   {
    "duration": 488,
    "start_time": "2021-08-21T11:17:29.388Z"
   },
   {
    "duration": 254,
    "start_time": "2021-08-21T11:17:29.885Z"
   },
   {
    "duration": 296,
    "start_time": "2021-08-21T11:17:30.141Z"
   },
   {
    "duration": 1105,
    "start_time": "2021-08-21T11:17:30.439Z"
   },
   {
    "duration": 1006,
    "start_time": "2021-08-21T11:17:31.546Z"
   },
   {
    "duration": 988,
    "start_time": "2021-08-21T11:17:32.554Z"
   },
   {
    "duration": 1046,
    "start_time": "2021-08-21T11:17:33.544Z"
   },
   {
    "duration": 488,
    "start_time": "2021-08-21T11:17:34.592Z"
   },
   {
    "duration": 254,
    "start_time": "2021-08-21T11:17:35.085Z"
   },
   {
    "duration": 263,
    "start_time": "2021-08-21T11:17:35.341Z"
   },
   {
    "duration": 238,
    "start_time": "2021-08-21T11:17:35.605Z"
   },
   {
    "duration": 11,
    "start_time": "2021-08-21T11:17:35.845Z"
   },
   {
    "duration": 36,
    "start_time": "2021-08-21T11:17:35.858Z"
   },
   {
    "duration": 94,
    "start_time": "2021-08-22T03:49:25.130Z"
   },
   {
    "duration": 98,
    "start_time": "2021-08-22T03:53:06.024Z"
   }
  ],
  "kernelspec": {
   "display_name": "Python 3 (ipykernel)",
   "language": "python",
   "name": "python3"
  },
  "language_info": {
   "codemirror_mode": {
    "name": "ipython",
    "version": 3
   },
   "file_extension": ".py",
   "mimetype": "text/x-python",
   "name": "python",
   "nbconvert_exporter": "python",
   "pygments_lexer": "ipython3",
   "version": "3.10.1"
  },
  "toc": {
   "base_numbering": 1,
   "nav_menu": {},
   "number_sections": false,
   "sideBar": true,
   "skip_h1_title": true,
   "title_cell": "Table of Contents",
   "title_sidebar": "Contents",
   "toc_cell": false,
   "toc_position": {},
   "toc_section_display": true,
   "toc_window_display": true
  }
 },
 "nbformat": 4,
 "nbformat_minor": 2
}
