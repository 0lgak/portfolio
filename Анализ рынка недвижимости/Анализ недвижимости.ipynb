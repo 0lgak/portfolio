{
 "cells": [
  {
   "cell_type": "markdown",
   "metadata": {
    "toc": true
   },
   "source": [
    "<h1>Содержание<span class=\"tocSkip\"></span></h1>\n",
    "<div class=\"toc\"><ul class=\"toc-item\"><li><span><a href=\"#Изучение-данных-из-файла\" data-toc-modified-id=\"Изучение-данных-из-файла-1\"><span class=\"toc-item-num\">1&nbsp;&nbsp;</span>Изучение данных из файла</a></span><ul class=\"toc-item\"><li><span><a href=\"#Вывод\" data-toc-modified-id=\"Вывод-1.1\"><span class=\"toc-item-num\">1.1&nbsp;&nbsp;</span>Вывод</a></span></li></ul></li><li><span><a href=\"#Предобработка-данных\" data-toc-modified-id=\"Предобработка-данных-2\"><span class=\"toc-item-num\">2&nbsp;&nbsp;</span>Предобработка данных</a></span></li><li><span><a href=\"#Расчёты-и-добавление-результатов-в-таблицу\" data-toc-modified-id=\"Расчёты-и-добавление-результатов-в-таблицу-3\"><span class=\"toc-item-num\">3&nbsp;&nbsp;</span>Расчёты и добавление результатов в таблицу</a></span></li><li><span><a href=\"#Исследовательский-анализ-данных\" data-toc-modified-id=\"Исследовательский-анализ-данных-4\"><span class=\"toc-item-num\">4&nbsp;&nbsp;</span>Исследовательский анализ данных</a></span></li><li><span><a href=\"#Общий-вывод\" data-toc-modified-id=\"Общий-вывод-5\"><span class=\"toc-item-num\">5&nbsp;&nbsp;</span>Общий вывод</a></span></li></ul></div>"
   ]
  },
  {
   "cell_type": "markdown",
   "metadata": {},
   "source": [
    "# Исследование объявлений о продаже квартир\n",
    "\n",
    "В вашем распоряжении данные сервиса Яндекс.Недвижимость — архив объявлений о продаже квартир в Санкт-Петербурге и соседних населённых пунктах за несколько лет. Нужно научиться определять рыночную стоимость объектов недвижимости. Ваша задача — установить параметры. Это позволит построить автоматизированную систему: она отследит аномалии и мошенническую деятельность. \n",
    "\n",
    "По каждой квартире на продажу доступны два вида данных. Первые вписаны пользователем, вторые получены автоматически на основе картографических данных. Например, расстояние до центра, аэропорта, ближайшего парка и водоёма. "
   ]
  },
  {
   "cell_type": "markdown",
   "metadata": {},
   "source": [
    "## Изучение данных из файла"
   ]
  },
  {
   "cell_type": "code",
   "execution_count": 1,
   "metadata": {},
   "outputs": [],
   "source": [
    "import pandas as pd\n",
    "import matplotlib.pyplot as plt \n",
    "import numpy as np\n",
    "from math import ceil"
   ]
  },
  {
   "cell_type": "code",
   "execution_count": 2,
   "metadata": {},
   "outputs": [
    {
     "data": {
      "text/html": [
       "<div>\n",
       "<style scoped>\n",
       "    .dataframe tbody tr th:only-of-type {\n",
       "        vertical-align: middle;\n",
       "    }\n",
       "\n",
       "    .dataframe tbody tr th {\n",
       "        vertical-align: top;\n",
       "    }\n",
       "\n",
       "    .dataframe thead th {\n",
       "        text-align: right;\n",
       "    }\n",
       "</style>\n",
       "<table border=\"1\" class=\"dataframe\">\n",
       "  <thead>\n",
       "    <tr style=\"text-align: right;\">\n",
       "      <th></th>\n",
       "      <th>total_images</th>\n",
       "      <th>last_price</th>\n",
       "      <th>total_area</th>\n",
       "      <th>first_day_exposition</th>\n",
       "      <th>rooms</th>\n",
       "      <th>ceiling_height</th>\n",
       "      <th>floors_total</th>\n",
       "      <th>living_area</th>\n",
       "      <th>floor</th>\n",
       "      <th>is_apartment</th>\n",
       "      <th>studio</th>\n",
       "      <th>open_plan</th>\n",
       "      <th>kitchen_area</th>\n",
       "      <th>balcony</th>\n",
       "      <th>locality_name</th>\n",
       "      <th>airports_nearest</th>\n",
       "      <th>cityCenters_nearest</th>\n",
       "      <th>parks_around3000</th>\n",
       "      <th>parks_nearest</th>\n",
       "      <th>ponds_around3000</th>\n",
       "      <th>ponds_nearest</th>\n",
       "      <th>days_exposition</th>\n",
       "    </tr>\n",
       "  </thead>\n",
       "  <tbody>\n",
       "    <tr>\n",
       "      <th>0</th>\n",
       "      <td>20</td>\n",
       "      <td>13000000.0</td>\n",
       "      <td>108.0</td>\n",
       "      <td>2019-03-07T00:00:00</td>\n",
       "      <td>3</td>\n",
       "      <td>2.70</td>\n",
       "      <td>16.0</td>\n",
       "      <td>51.0</td>\n",
       "      <td>8</td>\n",
       "      <td>NaN</td>\n",
       "      <td>False</td>\n",
       "      <td>False</td>\n",
       "      <td>25.0</td>\n",
       "      <td>NaN</td>\n",
       "      <td>Санкт-Петербург</td>\n",
       "      <td>18863.0</td>\n",
       "      <td>16028.0</td>\n",
       "      <td>1.0</td>\n",
       "      <td>482.0</td>\n",
       "      <td>2.0</td>\n",
       "      <td>755.0</td>\n",
       "      <td>NaN</td>\n",
       "    </tr>\n",
       "    <tr>\n",
       "      <th>1</th>\n",
       "      <td>7</td>\n",
       "      <td>3350000.0</td>\n",
       "      <td>40.4</td>\n",
       "      <td>2018-12-04T00:00:00</td>\n",
       "      <td>1</td>\n",
       "      <td>NaN</td>\n",
       "      <td>11.0</td>\n",
       "      <td>18.6</td>\n",
       "      <td>1</td>\n",
       "      <td>NaN</td>\n",
       "      <td>False</td>\n",
       "      <td>False</td>\n",
       "      <td>11.0</td>\n",
       "      <td>2.0</td>\n",
       "      <td>посёлок Шушары</td>\n",
       "      <td>12817.0</td>\n",
       "      <td>18603.0</td>\n",
       "      <td>0.0</td>\n",
       "      <td>NaN</td>\n",
       "      <td>0.0</td>\n",
       "      <td>NaN</td>\n",
       "      <td>81.0</td>\n",
       "    </tr>\n",
       "    <tr>\n",
       "      <th>2</th>\n",
       "      <td>10</td>\n",
       "      <td>5196000.0</td>\n",
       "      <td>56.0</td>\n",
       "      <td>2015-08-20T00:00:00</td>\n",
       "      <td>2</td>\n",
       "      <td>NaN</td>\n",
       "      <td>5.0</td>\n",
       "      <td>34.3</td>\n",
       "      <td>4</td>\n",
       "      <td>NaN</td>\n",
       "      <td>False</td>\n",
       "      <td>False</td>\n",
       "      <td>8.3</td>\n",
       "      <td>0.0</td>\n",
       "      <td>Санкт-Петербург</td>\n",
       "      <td>21741.0</td>\n",
       "      <td>13933.0</td>\n",
       "      <td>1.0</td>\n",
       "      <td>90.0</td>\n",
       "      <td>2.0</td>\n",
       "      <td>574.0</td>\n",
       "      <td>558.0</td>\n",
       "    </tr>\n",
       "    <tr>\n",
       "      <th>3</th>\n",
       "      <td>0</td>\n",
       "      <td>64900000.0</td>\n",
       "      <td>159.0</td>\n",
       "      <td>2015-07-24T00:00:00</td>\n",
       "      <td>3</td>\n",
       "      <td>NaN</td>\n",
       "      <td>14.0</td>\n",
       "      <td>NaN</td>\n",
       "      <td>9</td>\n",
       "      <td>NaN</td>\n",
       "      <td>False</td>\n",
       "      <td>False</td>\n",
       "      <td>NaN</td>\n",
       "      <td>0.0</td>\n",
       "      <td>Санкт-Петербург</td>\n",
       "      <td>28098.0</td>\n",
       "      <td>6800.0</td>\n",
       "      <td>2.0</td>\n",
       "      <td>84.0</td>\n",
       "      <td>3.0</td>\n",
       "      <td>234.0</td>\n",
       "      <td>424.0</td>\n",
       "    </tr>\n",
       "    <tr>\n",
       "      <th>4</th>\n",
       "      <td>2</td>\n",
       "      <td>10000000.0</td>\n",
       "      <td>100.0</td>\n",
       "      <td>2018-06-19T00:00:00</td>\n",
       "      <td>2</td>\n",
       "      <td>3.03</td>\n",
       "      <td>14.0</td>\n",
       "      <td>32.0</td>\n",
       "      <td>13</td>\n",
       "      <td>NaN</td>\n",
       "      <td>False</td>\n",
       "      <td>False</td>\n",
       "      <td>41.0</td>\n",
       "      <td>NaN</td>\n",
       "      <td>Санкт-Петербург</td>\n",
       "      <td>31856.0</td>\n",
       "      <td>8098.0</td>\n",
       "      <td>2.0</td>\n",
       "      <td>112.0</td>\n",
       "      <td>1.0</td>\n",
       "      <td>48.0</td>\n",
       "      <td>121.0</td>\n",
       "    </tr>\n",
       "  </tbody>\n",
       "</table>\n",
       "</div>"
      ],
      "text/plain": [
       "   total_images  last_price  total_area first_day_exposition  rooms  \\\n",
       "0            20  13000000.0       108.0  2019-03-07T00:00:00      3   \n",
       "1             7   3350000.0        40.4  2018-12-04T00:00:00      1   \n",
       "2            10   5196000.0        56.0  2015-08-20T00:00:00      2   \n",
       "3             0  64900000.0       159.0  2015-07-24T00:00:00      3   \n",
       "4             2  10000000.0       100.0  2018-06-19T00:00:00      2   \n",
       "\n",
       "   ceiling_height  floors_total  living_area  floor is_apartment  studio  \\\n",
       "0            2.70          16.0         51.0      8          NaN   False   \n",
       "1             NaN          11.0         18.6      1          NaN   False   \n",
       "2             NaN           5.0         34.3      4          NaN   False   \n",
       "3             NaN          14.0          NaN      9          NaN   False   \n",
       "4            3.03          14.0         32.0     13          NaN   False   \n",
       "\n",
       "   open_plan  kitchen_area  balcony    locality_name  airports_nearest  \\\n",
       "0      False          25.0      NaN  Санкт-Петербург           18863.0   \n",
       "1      False          11.0      2.0   посёлок Шушары           12817.0   \n",
       "2      False           8.3      0.0  Санкт-Петербург           21741.0   \n",
       "3      False           NaN      0.0  Санкт-Петербург           28098.0   \n",
       "4      False          41.0      NaN  Санкт-Петербург           31856.0   \n",
       "\n",
       "   cityCenters_nearest  parks_around3000  parks_nearest  ponds_around3000  \\\n",
       "0              16028.0               1.0          482.0               2.0   \n",
       "1              18603.0               0.0            NaN               0.0   \n",
       "2              13933.0               1.0           90.0               2.0   \n",
       "3               6800.0               2.0           84.0               3.0   \n",
       "4               8098.0               2.0          112.0               1.0   \n",
       "\n",
       "   ponds_nearest  days_exposition  \n",
       "0          755.0              NaN  \n",
       "1            NaN             81.0  \n",
       "2          574.0            558.0  \n",
       "3          234.0            424.0  \n",
       "4           48.0            121.0  "
      ]
     },
     "metadata": {},
     "output_type": "display_data"
    },
    {
     "name": "stdout",
     "output_type": "stream",
     "text": [
      "<class 'pandas.core.frame.DataFrame'>\n",
      "RangeIndex: 23699 entries, 0 to 23698\n",
      "Data columns (total 22 columns):\n",
      " #   Column                Non-Null Count  Dtype  \n",
      "---  ------                --------------  -----  \n",
      " 0   total_images          23699 non-null  int64  \n",
      " 1   last_price            23699 non-null  float64\n",
      " 2   total_area            23699 non-null  float64\n",
      " 3   first_day_exposition  23699 non-null  object \n",
      " 4   rooms                 23699 non-null  int64  \n",
      " 5   ceiling_height        14504 non-null  float64\n",
      " 6   floors_total          23613 non-null  float64\n",
      " 7   living_area           21796 non-null  float64\n",
      " 8   floor                 23699 non-null  int64  \n",
      " 9   is_apartment          2775 non-null   object \n",
      " 10  studio                23699 non-null  bool   \n",
      " 11  open_plan             23699 non-null  bool   \n",
      " 12  kitchen_area          21421 non-null  float64\n",
      " 13  balcony               12180 non-null  float64\n",
      " 14  locality_name         23650 non-null  object \n",
      " 15  airports_nearest      18157 non-null  float64\n",
      " 16  cityCenters_nearest   18180 non-null  float64\n",
      " 17  parks_around3000      18181 non-null  float64\n",
      " 18  parks_nearest         8079 non-null   float64\n",
      " 19  ponds_around3000      18181 non-null  float64\n",
      " 20  ponds_nearest         9110 non-null   float64\n",
      " 21  days_exposition       20518 non-null  float64\n",
      "dtypes: bool(2), float64(14), int64(3), object(3)\n",
      "memory usage: 3.7+ MB\n"
     ]
    },
    {
     "data": {
      "text/html": [
       "<div>\n",
       "<style scoped>\n",
       "    .dataframe tbody tr th:only-of-type {\n",
       "        vertical-align: middle;\n",
       "    }\n",
       "\n",
       "    .dataframe tbody tr th {\n",
       "        vertical-align: top;\n",
       "    }\n",
       "\n",
       "    .dataframe thead th {\n",
       "        text-align: right;\n",
       "    }\n",
       "</style>\n",
       "<table border=\"1\" class=\"dataframe\">\n",
       "  <thead>\n",
       "    <tr style=\"text-align: right;\">\n",
       "      <th></th>\n",
       "      <th>total_images</th>\n",
       "      <th>last_price</th>\n",
       "      <th>total_area</th>\n",
       "      <th>rooms</th>\n",
       "      <th>ceiling_height</th>\n",
       "      <th>floors_total</th>\n",
       "      <th>living_area</th>\n",
       "      <th>floor</th>\n",
       "      <th>kitchen_area</th>\n",
       "      <th>balcony</th>\n",
       "      <th>airports_nearest</th>\n",
       "      <th>cityCenters_nearest</th>\n",
       "      <th>parks_around3000</th>\n",
       "      <th>parks_nearest</th>\n",
       "      <th>ponds_around3000</th>\n",
       "      <th>ponds_nearest</th>\n",
       "      <th>days_exposition</th>\n",
       "    </tr>\n",
       "  </thead>\n",
       "  <tbody>\n",
       "    <tr>\n",
       "      <th>count</th>\n",
       "      <td>23699.000000</td>\n",
       "      <td>2.369900e+04</td>\n",
       "      <td>23699.000000</td>\n",
       "      <td>23699.000000</td>\n",
       "      <td>14504.000000</td>\n",
       "      <td>23613.000000</td>\n",
       "      <td>21796.000000</td>\n",
       "      <td>23699.000000</td>\n",
       "      <td>21421.000000</td>\n",
       "      <td>12180.000000</td>\n",
       "      <td>18157.000000</td>\n",
       "      <td>18180.000000</td>\n",
       "      <td>18181.000000</td>\n",
       "      <td>8079.000000</td>\n",
       "      <td>18181.000000</td>\n",
       "      <td>9110.000000</td>\n",
       "      <td>20518.000000</td>\n",
       "    </tr>\n",
       "    <tr>\n",
       "      <th>mean</th>\n",
       "      <td>9.858475</td>\n",
       "      <td>6.541549e+06</td>\n",
       "      <td>60.348651</td>\n",
       "      <td>2.070636</td>\n",
       "      <td>2.771499</td>\n",
       "      <td>10.673824</td>\n",
       "      <td>34.457852</td>\n",
       "      <td>5.892358</td>\n",
       "      <td>10.569807</td>\n",
       "      <td>1.150082</td>\n",
       "      <td>28793.672193</td>\n",
       "      <td>14191.277833</td>\n",
       "      <td>0.611408</td>\n",
       "      <td>490.804555</td>\n",
       "      <td>0.770255</td>\n",
       "      <td>517.980900</td>\n",
       "      <td>180.888634</td>\n",
       "    </tr>\n",
       "    <tr>\n",
       "      <th>std</th>\n",
       "      <td>5.682529</td>\n",
       "      <td>1.088701e+07</td>\n",
       "      <td>35.654083</td>\n",
       "      <td>1.078405</td>\n",
       "      <td>1.261056</td>\n",
       "      <td>6.597173</td>\n",
       "      <td>22.030445</td>\n",
       "      <td>4.885249</td>\n",
       "      <td>5.905438</td>\n",
       "      <td>1.071300</td>\n",
       "      <td>12630.880622</td>\n",
       "      <td>8608.386210</td>\n",
       "      <td>0.802074</td>\n",
       "      <td>342.317995</td>\n",
       "      <td>0.938346</td>\n",
       "      <td>277.720643</td>\n",
       "      <td>219.727988</td>\n",
       "    </tr>\n",
       "    <tr>\n",
       "      <th>min</th>\n",
       "      <td>0.000000</td>\n",
       "      <td>1.219000e+04</td>\n",
       "      <td>12.000000</td>\n",
       "      <td>0.000000</td>\n",
       "      <td>1.000000</td>\n",
       "      <td>1.000000</td>\n",
       "      <td>2.000000</td>\n",
       "      <td>1.000000</td>\n",
       "      <td>1.300000</td>\n",
       "      <td>0.000000</td>\n",
       "      <td>0.000000</td>\n",
       "      <td>181.000000</td>\n",
       "      <td>0.000000</td>\n",
       "      <td>1.000000</td>\n",
       "      <td>0.000000</td>\n",
       "      <td>13.000000</td>\n",
       "      <td>1.000000</td>\n",
       "    </tr>\n",
       "    <tr>\n",
       "      <th>25%</th>\n",
       "      <td>6.000000</td>\n",
       "      <td>3.400000e+06</td>\n",
       "      <td>40.000000</td>\n",
       "      <td>1.000000</td>\n",
       "      <td>2.520000</td>\n",
       "      <td>5.000000</td>\n",
       "      <td>18.600000</td>\n",
       "      <td>2.000000</td>\n",
       "      <td>7.000000</td>\n",
       "      <td>0.000000</td>\n",
       "      <td>18585.000000</td>\n",
       "      <td>9238.000000</td>\n",
       "      <td>0.000000</td>\n",
       "      <td>288.000000</td>\n",
       "      <td>0.000000</td>\n",
       "      <td>294.000000</td>\n",
       "      <td>45.000000</td>\n",
       "    </tr>\n",
       "    <tr>\n",
       "      <th>50%</th>\n",
       "      <td>9.000000</td>\n",
       "      <td>4.650000e+06</td>\n",
       "      <td>52.000000</td>\n",
       "      <td>2.000000</td>\n",
       "      <td>2.650000</td>\n",
       "      <td>9.000000</td>\n",
       "      <td>30.000000</td>\n",
       "      <td>4.000000</td>\n",
       "      <td>9.100000</td>\n",
       "      <td>1.000000</td>\n",
       "      <td>26726.000000</td>\n",
       "      <td>13098.500000</td>\n",
       "      <td>0.000000</td>\n",
       "      <td>455.000000</td>\n",
       "      <td>1.000000</td>\n",
       "      <td>502.000000</td>\n",
       "      <td>95.000000</td>\n",
       "    </tr>\n",
       "    <tr>\n",
       "      <th>75%</th>\n",
       "      <td>14.000000</td>\n",
       "      <td>6.800000e+06</td>\n",
       "      <td>69.900000</td>\n",
       "      <td>3.000000</td>\n",
       "      <td>2.800000</td>\n",
       "      <td>16.000000</td>\n",
       "      <td>42.300000</td>\n",
       "      <td>8.000000</td>\n",
       "      <td>12.000000</td>\n",
       "      <td>2.000000</td>\n",
       "      <td>37273.000000</td>\n",
       "      <td>16293.000000</td>\n",
       "      <td>1.000000</td>\n",
       "      <td>612.000000</td>\n",
       "      <td>1.000000</td>\n",
       "      <td>729.000000</td>\n",
       "      <td>232.000000</td>\n",
       "    </tr>\n",
       "    <tr>\n",
       "      <th>max</th>\n",
       "      <td>50.000000</td>\n",
       "      <td>7.630000e+08</td>\n",
       "      <td>900.000000</td>\n",
       "      <td>19.000000</td>\n",
       "      <td>100.000000</td>\n",
       "      <td>60.000000</td>\n",
       "      <td>409.700000</td>\n",
       "      <td>33.000000</td>\n",
       "      <td>112.000000</td>\n",
       "      <td>5.000000</td>\n",
       "      <td>84869.000000</td>\n",
       "      <td>65968.000000</td>\n",
       "      <td>3.000000</td>\n",
       "      <td>3190.000000</td>\n",
       "      <td>3.000000</td>\n",
       "      <td>1344.000000</td>\n",
       "      <td>1580.000000</td>\n",
       "    </tr>\n",
       "  </tbody>\n",
       "</table>\n",
       "</div>"
      ],
      "text/plain": [
       "       total_images    last_price    total_area         rooms  ceiling_height  \\\n",
       "count  23699.000000  2.369900e+04  23699.000000  23699.000000    14504.000000   \n",
       "mean       9.858475  6.541549e+06     60.348651      2.070636        2.771499   \n",
       "std        5.682529  1.088701e+07     35.654083      1.078405        1.261056   \n",
       "min        0.000000  1.219000e+04     12.000000      0.000000        1.000000   \n",
       "25%        6.000000  3.400000e+06     40.000000      1.000000        2.520000   \n",
       "50%        9.000000  4.650000e+06     52.000000      2.000000        2.650000   \n",
       "75%       14.000000  6.800000e+06     69.900000      3.000000        2.800000   \n",
       "max       50.000000  7.630000e+08    900.000000     19.000000      100.000000   \n",
       "\n",
       "       floors_total   living_area         floor  kitchen_area       balcony  \\\n",
       "count  23613.000000  21796.000000  23699.000000  21421.000000  12180.000000   \n",
       "mean      10.673824     34.457852      5.892358     10.569807      1.150082   \n",
       "std        6.597173     22.030445      4.885249      5.905438      1.071300   \n",
       "min        1.000000      2.000000      1.000000      1.300000      0.000000   \n",
       "25%        5.000000     18.600000      2.000000      7.000000      0.000000   \n",
       "50%        9.000000     30.000000      4.000000      9.100000      1.000000   \n",
       "75%       16.000000     42.300000      8.000000     12.000000      2.000000   \n",
       "max       60.000000    409.700000     33.000000    112.000000      5.000000   \n",
       "\n",
       "       airports_nearest  cityCenters_nearest  parks_around3000  parks_nearest  \\\n",
       "count      18157.000000         18180.000000      18181.000000    8079.000000   \n",
       "mean       28793.672193         14191.277833          0.611408     490.804555   \n",
       "std        12630.880622          8608.386210          0.802074     342.317995   \n",
       "min            0.000000           181.000000          0.000000       1.000000   \n",
       "25%        18585.000000          9238.000000          0.000000     288.000000   \n",
       "50%        26726.000000         13098.500000          0.000000     455.000000   \n",
       "75%        37273.000000         16293.000000          1.000000     612.000000   \n",
       "max        84869.000000         65968.000000          3.000000    3190.000000   \n",
       "\n",
       "       ponds_around3000  ponds_nearest  days_exposition  \n",
       "count      18181.000000    9110.000000     20518.000000  \n",
       "mean           0.770255     517.980900       180.888634  \n",
       "std            0.938346     277.720643       219.727988  \n",
       "min            0.000000      13.000000         1.000000  \n",
       "25%            0.000000     294.000000        45.000000  \n",
       "50%            1.000000     502.000000        95.000000  \n",
       "75%            1.000000     729.000000       232.000000  \n",
       "max            3.000000    1344.000000      1580.000000  "
      ]
     },
     "execution_count": 2,
     "metadata": {},
     "output_type": "execute_result"
    }
   ],
   "source": [
    "data=pd.read_csv('https://code.s3.yandex.net/datasets/real_estate_data.csv', sep='\\t')\n",
    "pd.options.display.max_columns = None\n",
    "display (data.head())\n",
    "data.info()\n",
    "data.describe()"
   ]
  },
  {
   "cell_type": "markdown",
   "metadata": {},
   "source": [
    "### Вывод"
   ]
  },
  {
   "cell_type": "markdown",
   "metadata": {},
   "source": [
    "Первое, с чем я столкнулась при изучении это то, что данные были отделены друг от дураг наклонной чертой. Исправила это.\n",
    "Пропущенные значения есть в столбцах 'ceiling_height', 'living_area',  'is_apartment, 'kitchen_area', 'balcony', 'airports_nearest', 'cityCenters_nearest', 'parks_around3000', 'parks_nearest', 'ponds_around3000', 'ponds_nearest', 'days_exposition'. Некоторые форматы не соотверствуют типу данных. "
   ]
  },
  {
   "cell_type": "markdown",
   "metadata": {},
   "source": [
    "## Предобработка данных"
   ]
  },
  {
   "cell_type": "code",
   "execution_count": 3,
   "metadata": {
    "scrolled": false
   },
   "outputs": [
    {
     "data": {
      "text/plain": [
       "total_images                0\n",
       "last_price                  0\n",
       "total_area                  0\n",
       "first_day_exposition        0\n",
       "rooms                       0\n",
       "ceiling_height           9195\n",
       "floors_total                0\n",
       "living_area              1903\n",
       "floor                       0\n",
       "is_apartment                0\n",
       "studio                      0\n",
       "open_plan                   0\n",
       "kitchen_area             2278\n",
       "balcony                     0\n",
       "locality_name              49\n",
       "airports_nearest         5542\n",
       "cityCenters_nearest      5519\n",
       "parks_around3000            0\n",
       "parks_nearest           15620\n",
       "ponds_around3000            0\n",
       "ponds_nearest           14589\n",
       "days_exposition          3181\n",
       "dtype: int64"
      ]
     },
     "metadata": {},
     "output_type": "display_data"
    },
    {
     "name": "stdout",
     "output_type": "stream",
     "text": [
      "<class 'pandas.core.frame.DataFrame'>\n",
      "RangeIndex: 23699 entries, 0 to 23698\n",
      "Data columns (total 22 columns):\n",
      " #   Column                Non-Null Count  Dtype  \n",
      "---  ------                --------------  -----  \n",
      " 0   total_images          23699 non-null  int64  \n",
      " 1   last_price            23699 non-null  float64\n",
      " 2   total_area            23699 non-null  float64\n",
      " 3   first_day_exposition  23699 non-null  object \n",
      " 4   rooms                 23699 non-null  int64  \n",
      " 5   ceiling_height        14504 non-null  float64\n",
      " 6   floors_total          23699 non-null  int32  \n",
      " 7   living_area           21796 non-null  float64\n",
      " 8   floor                 23699 non-null  int64  \n",
      " 9   is_apartment          23699 non-null  bool   \n",
      " 10  studio                23699 non-null  bool   \n",
      " 11  open_plan             23699 non-null  bool   \n",
      " 12  kitchen_area          21421 non-null  float64\n",
      " 13  balcony               23699 non-null  int32  \n",
      " 14  locality_name         23650 non-null  object \n",
      " 15  airports_nearest      18157 non-null  float64\n",
      " 16  cityCenters_nearest   18180 non-null  float64\n",
      " 17  parks_around3000      23699 non-null  float64\n",
      " 18  parks_nearest         8079 non-null   float64\n",
      " 19  ponds_around3000      23699 non-null  float64\n",
      " 20  ponds_nearest         9110 non-null   float64\n",
      " 21  days_exposition       20518 non-null  float64\n",
      "dtypes: bool(3), float64(12), int32(2), int64(3), object(2)\n",
      "memory usage: 3.3+ MB\n"
     ]
    }
   ],
   "source": [
    "#Избавляюсь от пропусков данных:\n",
    "data['balcony']=data['balcony'].fillna(0)\n",
    "data['parks_around3000']=data['parks_around3000'].fillna(0)\n",
    "data['ponds_around3000']=data['ponds_around3000'].fillna(0)\n",
    "data['floors_total']=data['floors_total'].fillna(1)\n",
    "data['is_apartment']=data['is_apartment'].fillna(False)\n",
    "\n",
    "display(data.isnull().sum()) #убедилась, что пропуски заполнены\n",
    "\n",
    "#Замена типа данных:\n",
    "data['floors_total']=data['floors_total'].astype('int')\n",
    "data['is_apartment']=data['is_apartment'].astype('bool')\n",
    "data['balcony']=data['balcony'].astype('int') \n",
    "\n",
    "data.info() #проверка, что замена произведена"
   ]
  },
  {
   "cell_type": "markdown",
   "metadata": {},
   "source": [
    "Пропущенные значения в столбцах \"balcony\", \"parks_around3000\", \"ponds_around3000\"  заполнила нулями, т.к. предполагаю, что их нет, иначе бы сведения были представлены. Пропущенные значения в столбце \"floors_total\" заполнила единицами, т.к. предположила, что у одноэтажных домов не заполнили данное значение, \"is_apartment\" заполнила заполнила значениями False исходя из предположения, что апартоментов не так и много. Другие пропуски не стала заполнять, т.к. средние или медианные значения могут существенно изменить картину. Также я заметила, что не заполнено одинаковое значение строк в столбцах \"парков в радиусе 3 км\" и \"водоемов в радиусе 3 км\". Вероятно, ошибка выгрузки.\n",
    "Заметила тип данных в столбцах, где это необходимо и возможно.\n"
   ]
  },
  {
   "cell_type": "markdown",
   "metadata": {},
   "source": [
    "## Расчёты и добавление результатов в таблицу"
   ]
  },
  {
   "cell_type": "code",
   "execution_count": 4,
   "metadata": {},
   "outputs": [
    {
     "data": {
      "text/html": [
       "<div>\n",
       "<style scoped>\n",
       "    .dataframe tbody tr th:only-of-type {\n",
       "        vertical-align: middle;\n",
       "    }\n",
       "\n",
       "    .dataframe tbody tr th {\n",
       "        vertical-align: top;\n",
       "    }\n",
       "\n",
       "    .dataframe thead th {\n",
       "        text-align: right;\n",
       "    }\n",
       "</style>\n",
       "<table border=\"1\" class=\"dataframe\">\n",
       "  <thead>\n",
       "    <tr style=\"text-align: right;\">\n",
       "      <th></th>\n",
       "      <th>total_images</th>\n",
       "      <th>last_price</th>\n",
       "      <th>total_area</th>\n",
       "      <th>first_day_exposition</th>\n",
       "      <th>rooms</th>\n",
       "      <th>ceiling_height</th>\n",
       "      <th>floors_total</th>\n",
       "      <th>living_area</th>\n",
       "      <th>floor</th>\n",
       "      <th>is_apartment</th>\n",
       "      <th>studio</th>\n",
       "      <th>open_plan</th>\n",
       "      <th>kitchen_area</th>\n",
       "      <th>balcony</th>\n",
       "      <th>locality_name</th>\n",
       "      <th>airports_nearest</th>\n",
       "      <th>cityCenters_nearest</th>\n",
       "      <th>parks_around3000</th>\n",
       "      <th>parks_nearest</th>\n",
       "      <th>ponds_around3000</th>\n",
       "      <th>ponds_nearest</th>\n",
       "      <th>days_exposition</th>\n",
       "      <th>price_per_metr</th>\n",
       "      <th>floor_type</th>\n",
       "      <th>liv_total</th>\n",
       "      <th>kit_total</th>\n",
       "    </tr>\n",
       "  </thead>\n",
       "  <tbody>\n",
       "    <tr>\n",
       "      <th>0</th>\n",
       "      <td>20</td>\n",
       "      <td>13000000.0</td>\n",
       "      <td>108.0</td>\n",
       "      <td>2019-03-07</td>\n",
       "      <td>3</td>\n",
       "      <td>2.70</td>\n",
       "      <td>16</td>\n",
       "      <td>51.0</td>\n",
       "      <td>8</td>\n",
       "      <td>False</td>\n",
       "      <td>False</td>\n",
       "      <td>False</td>\n",
       "      <td>25.0</td>\n",
       "      <td>0</td>\n",
       "      <td>Санкт-Петербург</td>\n",
       "      <td>18863.0</td>\n",
       "      <td>16028.0</td>\n",
       "      <td>1.0</td>\n",
       "      <td>482.0</td>\n",
       "      <td>2.0</td>\n",
       "      <td>755.0</td>\n",
       "      <td>NaN</td>\n",
       "      <td>120370.370370</td>\n",
       "      <td>другой</td>\n",
       "      <td>0.472222</td>\n",
       "      <td>0.231481</td>\n",
       "    </tr>\n",
       "    <tr>\n",
       "      <th>1</th>\n",
       "      <td>7</td>\n",
       "      <td>3350000.0</td>\n",
       "      <td>40.4</td>\n",
       "      <td>2018-12-04</td>\n",
       "      <td>1</td>\n",
       "      <td>NaN</td>\n",
       "      <td>11</td>\n",
       "      <td>18.6</td>\n",
       "      <td>1</td>\n",
       "      <td>False</td>\n",
       "      <td>False</td>\n",
       "      <td>False</td>\n",
       "      <td>11.0</td>\n",
       "      <td>2</td>\n",
       "      <td>посёлок Шушары</td>\n",
       "      <td>12817.0</td>\n",
       "      <td>18603.0</td>\n",
       "      <td>0.0</td>\n",
       "      <td>NaN</td>\n",
       "      <td>0.0</td>\n",
       "      <td>NaN</td>\n",
       "      <td>81.0</td>\n",
       "      <td>82920.792079</td>\n",
       "      <td>первый</td>\n",
       "      <td>0.460396</td>\n",
       "      <td>0.272277</td>\n",
       "    </tr>\n",
       "    <tr>\n",
       "      <th>2</th>\n",
       "      <td>10</td>\n",
       "      <td>5196000.0</td>\n",
       "      <td>56.0</td>\n",
       "      <td>2015-08-20</td>\n",
       "      <td>2</td>\n",
       "      <td>NaN</td>\n",
       "      <td>5</td>\n",
       "      <td>34.3</td>\n",
       "      <td>4</td>\n",
       "      <td>False</td>\n",
       "      <td>False</td>\n",
       "      <td>False</td>\n",
       "      <td>8.3</td>\n",
       "      <td>0</td>\n",
       "      <td>Санкт-Петербург</td>\n",
       "      <td>21741.0</td>\n",
       "      <td>13933.0</td>\n",
       "      <td>1.0</td>\n",
       "      <td>90.0</td>\n",
       "      <td>2.0</td>\n",
       "      <td>574.0</td>\n",
       "      <td>558.0</td>\n",
       "      <td>92785.714286</td>\n",
       "      <td>другой</td>\n",
       "      <td>0.612500</td>\n",
       "      <td>0.148214</td>\n",
       "    </tr>\n",
       "    <tr>\n",
       "      <th>3</th>\n",
       "      <td>0</td>\n",
       "      <td>64900000.0</td>\n",
       "      <td>159.0</td>\n",
       "      <td>2015-07-24</td>\n",
       "      <td>3</td>\n",
       "      <td>NaN</td>\n",
       "      <td>14</td>\n",
       "      <td>NaN</td>\n",
       "      <td>9</td>\n",
       "      <td>False</td>\n",
       "      <td>False</td>\n",
       "      <td>False</td>\n",
       "      <td>NaN</td>\n",
       "      <td>0</td>\n",
       "      <td>Санкт-Петербург</td>\n",
       "      <td>28098.0</td>\n",
       "      <td>6800.0</td>\n",
       "      <td>2.0</td>\n",
       "      <td>84.0</td>\n",
       "      <td>3.0</td>\n",
       "      <td>234.0</td>\n",
       "      <td>424.0</td>\n",
       "      <td>408176.100629</td>\n",
       "      <td>другой</td>\n",
       "      <td>NaN</td>\n",
       "      <td>NaN</td>\n",
       "    </tr>\n",
       "    <tr>\n",
       "      <th>4</th>\n",
       "      <td>2</td>\n",
       "      <td>10000000.0</td>\n",
       "      <td>100.0</td>\n",
       "      <td>2018-06-19</td>\n",
       "      <td>2</td>\n",
       "      <td>3.03</td>\n",
       "      <td>14</td>\n",
       "      <td>32.0</td>\n",
       "      <td>13</td>\n",
       "      <td>False</td>\n",
       "      <td>False</td>\n",
       "      <td>False</td>\n",
       "      <td>41.0</td>\n",
       "      <td>0</td>\n",
       "      <td>Санкт-Петербург</td>\n",
       "      <td>31856.0</td>\n",
       "      <td>8098.0</td>\n",
       "      <td>2.0</td>\n",
       "      <td>112.0</td>\n",
       "      <td>1.0</td>\n",
       "      <td>48.0</td>\n",
       "      <td>121.0</td>\n",
       "      <td>100000.000000</td>\n",
       "      <td>другой</td>\n",
       "      <td>0.320000</td>\n",
       "      <td>0.410000</td>\n",
       "    </tr>\n",
       "  </tbody>\n",
       "</table>\n",
       "</div>"
      ],
      "text/plain": [
       "   total_images  last_price  total_area first_day_exposition  rooms  \\\n",
       "0            20  13000000.0       108.0           2019-03-07      3   \n",
       "1             7   3350000.0        40.4           2018-12-04      1   \n",
       "2            10   5196000.0        56.0           2015-08-20      2   \n",
       "3             0  64900000.0       159.0           2015-07-24      3   \n",
       "4             2  10000000.0       100.0           2018-06-19      2   \n",
       "\n",
       "   ceiling_height  floors_total  living_area  floor  is_apartment  studio  \\\n",
       "0            2.70            16         51.0      8         False   False   \n",
       "1             NaN            11         18.6      1         False   False   \n",
       "2             NaN             5         34.3      4         False   False   \n",
       "3             NaN            14          NaN      9         False   False   \n",
       "4            3.03            14         32.0     13         False   False   \n",
       "\n",
       "   open_plan  kitchen_area  balcony    locality_name  airports_nearest  \\\n",
       "0      False          25.0        0  Санкт-Петербург           18863.0   \n",
       "1      False          11.0        2   посёлок Шушары           12817.0   \n",
       "2      False           8.3        0  Санкт-Петербург           21741.0   \n",
       "3      False           NaN        0  Санкт-Петербург           28098.0   \n",
       "4      False          41.0        0  Санкт-Петербург           31856.0   \n",
       "\n",
       "   cityCenters_nearest  parks_around3000  parks_nearest  ponds_around3000  \\\n",
       "0              16028.0               1.0          482.0               2.0   \n",
       "1              18603.0               0.0            NaN               0.0   \n",
       "2              13933.0               1.0           90.0               2.0   \n",
       "3               6800.0               2.0           84.0               3.0   \n",
       "4               8098.0               2.0          112.0               1.0   \n",
       "\n",
       "   ponds_nearest  days_exposition  price_per_metr floor_type  liv_total  \\\n",
       "0          755.0              NaN   120370.370370     другой   0.472222   \n",
       "1            NaN             81.0    82920.792079     первый   0.460396   \n",
       "2          574.0            558.0    92785.714286     другой   0.612500   \n",
       "3          234.0            424.0   408176.100629     другой        NaN   \n",
       "4           48.0            121.0   100000.000000     другой   0.320000   \n",
       "\n",
       "   kit_total  \n",
       "0   0.231481  \n",
       "1   0.272277  \n",
       "2   0.148214  \n",
       "3        NaN  \n",
       "4   0.410000  "
      ]
     },
     "execution_count": 4,
     "metadata": {},
     "output_type": "execute_result"
    }
   ],
   "source": [
    "#расчет стоимости квадратного метра жилья:\n",
    "data['price_per_metr']=data['last_price']/data['total_area']\n",
    "\n",
    "#дата публикации:\n",
    "data['first_day_exposition']=pd.to_datetime(data['first_day_exposition'], format='%Y-%m-%dT%H:%M:%S')\n",
    "\n",
    "#определение этажа:\n",
    "def floor_in_house (row_values):\n",
    "    last_floor=row_values['floors_total']\n",
    "    if row_values['floor']==1:\n",
    "        return 'первый'\n",
    "    if row_values['floor'] == last_floor:\n",
    "        return 'последний'\n",
    "    return 'другой'\n",
    "data['floor_type']=data.apply(floor_in_house, axis=1)\n",
    "\n",
    "#отношение жилой и общей площади:\n",
    "data['liv_total']=data['living_area']/data['total_area']\n",
    "\n",
    "#отношение площади кухник к общей:\n",
    "data['kit_total']= data['kitchen_area']/data['total_area']\n",
    "data.head()"
   ]
  },
  {
   "cell_type": "markdown",
   "metadata": {},
   "source": [
    "## Исследовательский анализ данных"
   ]
  },
  {
   "cell_type": "markdown",
   "metadata": {},
   "source": [
    "**1. Изучите следующие параметры: площадь, цена, число комнат, высота потолков.**"
   ]
  },
  {
   "cell_type": "code",
   "execution_count": 5,
   "metadata": {
    "scrolled": false
   },
   "outputs": [
    {
     "data": {
      "text/plain": [
       "array([[<AxesSubplot:title={'center':'ceiling_height'}>]], dtype=object)"
      ]
     },
     "execution_count": 5,
     "metadata": {},
     "output_type": "execute_result"
    },
    {
     "data": {
      "image/png": "[encoded data removed]",
      "text/plain": [
       "<Figure size 432x288 with 1 Axes>"
      ]
     },
     "metadata": {
      "needs_background": "light"
     },
     "output_type": "display_data"
    },
    {
     "data": {
      "image/png": "[encoded data removed]",
      "text/plain": [
       "<Figure size 432x288 with 1 Axes>"
      ]
     },
     "metadata": {
      "needs_background": "light"
     },
     "output_type": "display_data"
    },
    {
     "data": {
      "image/png": "[encoded data removed]",
      "text/plain": [
       "<Figure size 432x288 with 1 Axes>"
      ]
     },
     "metadata": {
      "needs_background": "light"
     },
     "output_type": "display_data"
    },
    {
     "data": {
      "image/png": "[encoded data removed]",
      "text/plain": [
       "<Figure size 432x288 with 1 Axes>"
      ]
     },
     "metadata": {
      "needs_background": "light"
     },
     "output_type": "display_data"
    }
   ],
   "source": [
    "data.hist('total_area',bins=50) #\n",
    "data.hist('last_price',bins=50) #\n",
    "data.hist('rooms',bins=20) #\n",
    "data.hist('ceiling_height',range = (1, 4)) # добавила диапазон оборажения высоты потолка"
   ]
  },
  {
   "cell_type": "markdown",
   "metadata": {},
   "source": [
    "Площадь колеблется от 20 до 200 метров. Цена не превышает 5 млн. Количество комнат не превышает 7. Высота потолков не более 4 метров, самыая распространенная высота 2,5 м."
   ]
  },
  {
   "cell_type": "markdown",
   "metadata": {},
   "source": [
    "**2. Изучите время продажи квартиры. Постройте гистограмму. Посчитайте среднее и медиану. Опишите, сколько обычно занимает продажа. Когда можно считать, что продажи прошли очень быстро, а когда необычно долго?**"
   ]
  },
  {
   "cell_type": "code",
   "execution_count": 6,
   "metadata": {},
   "outputs": [
    {
     "name": "stdout",
     "output_type": "stream",
     "text": [
      "count    20518.000000\n",
      "mean       180.888634\n",
      "std        219.727988\n",
      "min          1.000000\n",
      "25%         45.000000\n",
      "50%         95.000000\n",
      "75%        232.000000\n",
      "max       1580.000000\n",
      "Name: days_exposition, dtype: float64\n"
     ]
    },
    {
     "data": {
      "image/png": "[encoded data removed]",
      "text/plain": [
       "<Figure size 432x288 with 1 Axes>"
      ]
     },
     "metadata": {
      "needs_background": "light"
     },
     "output_type": "display_data"
    }
   ],
   "source": [
    "data.hist('days_exposition')\n",
    "print(data['days_exposition'].describe())"
   ]
  },
  {
   "cell_type": "markdown",
   "metadata": {},
   "source": [
    "Очень большое среднее отклонение, медианное и среднее значения отличаются практически в 2 раза. Повезло, если сделка по продаже закрыта быстрее, чем за 45 дней. Очень долгая продажа это более, чем 232 дня. "
   ]
  },
  {
   "cell_type": "markdown",
   "metadata": {},
   "source": [
    "**3. Уберите редкие и выбивающиеся значения. Опишите, какие особенности обнаружили.**"
   ]
  },
  {
   "cell_type": "code",
   "execution_count": 7,
   "metadata": {},
   "outputs": [
    {
     "name": "stdout",
     "output_type": "stream",
     "text": [
      "count    2.091700e+04\n",
      "mean     4.633430e+06\n",
      "std      1.948351e+06\n",
      "min      1.219000e+04\n",
      "25%      3.300000e+06\n",
      "50%      4.300000e+06\n",
      "75%      5.800000e+06\n",
      "max      9.999999e+06\n",
      "Name: last_price, dtype: float64\n"
     ]
    },
    {
     "data": {
      "image/png": "[encoded data removed]",
      "text/plain": [
       "<Figure size 432x288 with 1 Axes>"
      ]
     },
     "metadata": {
      "needs_background": "light"
     },
     "output_type": "display_data"
    },
    {
     "data": {
      "image/png": "[encoded data removed]",
      "text/plain": [
       "<Figure size 432x288 with 1 Axes>"
      ]
     },
     "metadata": {
      "needs_background": "light"
     },
     "output_type": "display_data"
    }
   ],
   "source": [
    "#Выбросы \"Цена\"\n",
    "data.boxplot(column ='last_price') \n",
    "\n",
    "data_norm_price=data.query('last_price<10000000')\n",
    "data_norm_price.hist('last_price')\n",
    "print (data_norm_price['last_price'].describe())"
   ]
  },
  {
   "cell_type": "markdown",
   "metadata": {},
   "source": [
    "Убираем квартиры больше 10 млн. Видим, что пик цены приходится на 3 млн."
   ]
  },
  {
   "cell_type": "code",
   "execution_count": 8,
   "metadata": {},
   "outputs": [
    {
     "name": "stdout",
     "output_type": "stream",
     "text": [
      "count    20616.000000\n",
      "mean        51.122884\n",
      "std         16.110975\n",
      "min         12.000000\n",
      "25%         38.400000\n",
      "50%         47.900000\n",
      "75%         61.400000\n",
      "max         99.900000\n",
      "Name: total_area, dtype: float64\n"
     ]
    },
    {
     "data": {
      "image/png": "[encoded data removed]",
      "text/plain": [
       "<Figure size 432x288 with 1 Axes>"
      ]
     },
     "metadata": {
      "needs_background": "light"
     },
     "output_type": "display_data"
    },
    {
     "data": {
      "image/png": "[encoded data removed]",
      "text/plain": [
       "<Figure size 432x288 with 1 Axes>"
      ]
     },
     "metadata": {
      "needs_background": "light"
     },
     "output_type": "display_data"
    }
   ],
   "source": [
    "#Выбросы \"Площадь\"\n",
    "data_norm_price.boxplot(column ='total_area') \n",
    "\n",
    "data_norm_area=data_norm_price.query('total_area<100')\n",
    "data_norm_area.hist('total_area')\n",
    "print(data_norm_area['total_area'].describe())"
   ]
  },
  {
   "cell_type": "markdown",
   "metadata": {},
   "source": [
    "Посмотрим поближе на квартиры, не превышающиее 100 кв.м. Наибольшей популярностью пользуются квартиры до 50 кв.м."
   ]
  },
  {
   "cell_type": "code",
   "execution_count": 9,
   "metadata": {},
   "outputs": [
    {
     "data": {
      "text/plain": [
       "<AxesSubplot:>"
      ]
     },
     "execution_count": 9,
     "metadata": {},
     "output_type": "execute_result"
    },
    {
     "data": {
      "image/png": "[encoded data removed]",
      "text/plain": [
       "<Figure size 432x288 with 1 Axes>"
      ]
     },
     "metadata": {
      "needs_background": "light"
     },
     "output_type": "display_data"
    }
   ],
   "source": [
    "#Выбросы \"число комнат\"\n",
    "data_norm_area.boxplot(column ='rooms') \n"
   ]
  },
  {
   "cell_type": "markdown",
   "metadata": {},
   "source": [
    "Единичные выбросы, никак не обрабатываю."
   ]
  },
  {
   "cell_type": "code",
   "execution_count": 10,
   "metadata": {},
   "outputs": [
    {
     "data": {
      "text/plain": [
       "array([[<AxesSubplot:title={'center':'ceiling_height'}>]], dtype=object)"
      ]
     },
     "execution_count": 10,
     "metadata": {},
     "output_type": "execute_result"
    },
    {
     "data": {
      "image/png": "[encoded data removed]",
      "text/plain": [
       "<Figure size 432x288 with 1 Axes>"
      ]
     },
     "metadata": {
      "needs_background": "light"
     },
     "output_type": "display_data"
    },
    {
     "data": {
      "image/png": "[encoded data removed]",
      "text/plain": [
       "<Figure size 432x288 with 1 Axes>"
      ]
     },
     "metadata": {
      "needs_background": "light"
     },
     "output_type": "display_data"
    }
   ],
   "source": [
    "#Выбросы \"высота потолков\"\n",
    "data_norm_area.boxplot(column ='ceiling_height') \n",
    "data_norm_height=data_norm_area.query('2<ceiling_height<=4')\n",
    "data_norm_height.hist('ceiling_height')"
   ]
  },
  {
   "cell_type": "markdown",
   "metadata": {},
   "source": [
    "Убрала варианты с высотой ниже 2 метров и больше 4. Больше всего предложение среди \"хрущевок\" - для них характерна высота потолков 2.5-2.75 м"
   ]
  },
  {
   "cell_type": "code",
   "execution_count": 11,
   "metadata": {},
   "outputs": [
    {
     "name": "stdout",
     "output_type": "stream",
     "text": [
      "count    9445.000000\n",
      "mean      119.144733\n",
      "std       109.046430\n",
      "min         1.000000\n",
      "25%        37.000000\n",
      "50%        80.000000\n",
      "75%       173.000000\n",
      "max       450.000000\n",
      "Name: days_exposition, dtype: float64\n"
     ]
    },
    {
     "data": {
      "image/png": "[encoded data removed]",
      "text/plain": [
       "<Figure size 432x288 with 1 Axes>"
      ]
     },
     "metadata": {
      "needs_background": "light"
     },
     "output_type": "display_data"
    },
    {
     "data": {
      "image/png": "[encoded data removed]",
      "text/plain": [
       "<Figure size 432x288 with 1 Axes>"
      ]
     },
     "metadata": {
      "needs_background": "light"
     },
     "output_type": "display_data"
    }
   ],
   "source": [
    "#Выборосы \"Сколько дней разещено объявление\"\n",
    "data_norm_height.boxplot(column ='days_exposition') \n",
    "\n",
    "data_norm_exp=data_norm_height.query('days_exposition<=450')\n",
    "data_norm_exp.hist('days_exposition',bins=100)\n",
    "print(data_norm_exp['days_exposition'].describe())\n"
   ]
  },
  {
   "cell_type": "markdown",
   "metadata": {},
   "source": [
    "Судя по \"ящику с усами\" выбросы начинаются после 450 дней продажи, это аномально долго, их отбросила. Гистограмма стала более плавной. Пик около нуля \n",
    "\n"
   ]
  },
  {
   "cell_type": "markdown",
   "metadata": {},
   "source": [
    "**4. Какие факторы больше всего влияют на стоимость квартиры? Изучите, зависит ли цена от площади, числа комнат, удалённости от центра. Изучите зависимость цены от того, на каком этаже расположена квартира: первом, последнем или другом. Также изучите зависимость от даты размещения: дня недели, месяца и года.**"
   ]
  },
  {
   "cell_type": "code",
   "execution_count": 12,
   "metadata": {
    "scrolled": false
   },
   "outputs": [
    {
     "data": {
      "image/png": "[encoded data removed]",
      "text/plain": [
       "<Figure size 576x360 with 1 Axes>"
      ]
     },
     "metadata": {
      "needs_background": "light"
     },
     "output_type": "display_data"
    },
    {
     "data": {
      "image/png": "[encoded data removed]",
      "text/plain": [
       "<Figure size 576x360 with 1 Axes>"
      ]
     },
     "metadata": {
      "needs_background": "light"
     },
     "output_type": "display_data"
    },
    {
     "data": {
      "image/png": "[encoded data removed]",
      "text/plain": [
       "<Figure size 576x360 with 1 Axes>"
      ]
     },
     "metadata": {
      "needs_background": "light"
     },
     "output_type": "display_data"
    },
    {
     "data": {
      "image/png": "[encoded data removed]",
      "text/plain": [
       "<Figure size 576x360 with 1 Axes>"
      ]
     },
     "metadata": {
      "needs_background": "light"
     },
     "output_type": "display_data"
    }
   ],
   "source": [
    "data_norm_exp.pivot_table(index='total_area', values='price_per_metr', aggfunc='median').plot(\n",
    "    grid=True,title='Зависимость цены от площади', figsize=(8,5))\n",
    "plt.show()\n",
    "data_norm_exp.pivot_table(index='rooms', values='price_per_metr', aggfunc='median').plot(\n",
    "    grid=True,title='Зависимость цены от числа комнат', figsize=(8,5))\n",
    "plt.show()\n",
    "data_norm_exp.pivot_table(index='cityCenters_nearest', values='price_per_metr', aggfunc='median').plot(\n",
    "    grid=True,title='Зависимость цены от удаленности от центра', figsize=(8,5))\n",
    "plt.show()\n",
    "data_norm_exp.pivot_table(index='floor_type', values='price_per_metr', aggfunc='median').plot(\n",
    "    grid=True,title='Зависимость цены от этажа', figsize=(8,5))\n",
    "plt.show()\n",
    "\n"
   ]
  },
  {
   "cell_type": "markdown",
   "metadata": {},
   "source": [
    "Разброс по цене за метр при площади до 100 кв.м не существенный и рост цен небольшой, т.е.  стоимость за квадратный метр квартир не сильно зависит от площади. То же самое могу сказать и про влияние количества комнат на цену – до 10 комнат оно несущественно. А вот расстояние на центр уже оказывает существенное влияение – чем ближе к центру, тем дороже.\n",
    "Самые дешевые квартиры на первом этаже,  последний этаж тоже предпочитают меньше, чем любой другой."
   ]
  },
  {
   "cell_type": "code",
   "execution_count": 13,
   "metadata": {},
   "outputs": [
    {
     "data": {
      "image/png": "[encoded data removed]",
      "text/plain": [
       "<Figure size 576x360 with 1 Axes>"
      ]
     },
     "metadata": {
      "needs_background": "light"
     },
     "output_type": "display_data"
    },
    {
     "data": {
      "image/png": "[encoded data removed]",
      "text/plain": [
       "<Figure size 576x360 with 1 Axes>"
      ]
     },
     "metadata": {
      "needs_background": "light"
     },
     "output_type": "display_data"
    },
    {
     "data": {
      "image/png": "[encoded data removed]",
      "text/plain": [
       "<Figure size 576x360 with 1 Axes>"
      ]
     },
     "metadata": {
      "needs_background": "light"
     },
     "output_type": "display_data"
    }
   ],
   "source": [
    "# Зависимости от даты размещения:\n",
    "pd.set_option('chained_assignment', None)\n",
    "data_norm_exp['weekday']=data_norm_exp['first_day_exposition'].dt.weekday\n",
    "data_norm_exp.pivot_table(index='weekday', values='price_per_metr', aggfunc='median').plot(grid=True,title='Зависимость от дня недели', figsize=(8,5))\n",
    "pd.set_option('chained_assignment', None)\n",
    "plt.show()\n",
    "\n",
    "data_norm_exp['month']=data_norm_exp['first_day_exposition'].dt.month\n",
    "data_norm_exp.pivot_table(index='month', values='price_per_metr', aggfunc='median').plot(grid=True,title='Зависимость от месяца', figsize=(8,5))\n",
    "plt.show()\n",
    "data_norm_exp['year']=data_norm_exp['first_day_exposition'].dt.year\n",
    "data_norm_exp.pivot_table(index='year', values='price_per_metr', aggfunc='median').plot(grid=True,title='Зависимость от года', figsize=(8,5))\n",
    "plt.show()"
   ]
  },
  {
   "cell_type": "markdown",
   "metadata": {},
   "source": [
    "Лучше всего продаются квартиры продаются в начале недели, дешевле всего – в субботу, также стоимость колеблется в течении года – выгоднее всего приобретать жилье в мае, пока все отдыхают по дачам. К сожалению, с каждым годом квартиры дорожают и темпы удорожания ускоряются."
   ]
  },
  {
   "cell_type": "markdown",
   "metadata": {},
   "source": [
    "**5. Выберите 10 населённых пунктов с наибольшим числом объявлений. Посчитайте среднюю цену квадратного метра в этих населённых пунктах. Выделите среди них населённые пункты с самой высокой и низкой стоимостью жилья. Эти данные можно найти по имени в столбце 'locality_name'.**"
   ]
  },
  {
   "cell_type": "code",
   "execution_count": 14,
   "metadata": {},
   "outputs": [
    {
     "name": "stdout",
     "output_type": "stream",
     "text": [
      "                   price_per_metr\n",
      "locality_name                    \n",
      "Всеволожск           65781.381616\n",
      "Гатчина              70202.076785\n",
      "Колпино              74816.376827\n",
      "Петергоф             83171.530983\n",
      "Пушкин               98254.362926\n",
      "Санкт-Петербург     104194.990487\n",
      "деревня Кудрово      91261.289390\n",
      "посёлок Мурино       88042.488552\n",
      "посёлок Парголово    89555.107282\n",
      "посёлок Шушары       79063.850510\n",
      "\n",
      "Минимальная цена:\n",
      "               price_per_metr\n",
      "locality_name                \n",
      "Всеволожск       65781.381616\n",
      "\n",
      "Максимальная цена:\n",
      "                 price_per_metr\n",
      "locality_name                  \n",
      "Санкт-Петербург   104194.990487\n"
     ]
    }
   ],
   "source": [
    "#получение списка населенных пунктов с наибольшим числом объявлений:\n",
    "towns=data_norm_exp['locality_name'].value_counts(ascending=False)\n",
    "top_ten_towns=towns[:10]\n",
    "\n",
    "data_top_towns=data_norm_exp.query('locality_name in @top_ten_towns.index').pivot_table(\n",
    "    index='locality_name', values='price_per_metr', aggfunc='mean'\n",
    ")\n",
    "print(data_top_towns)\n",
    "min_price=data_top_towns.min()\n",
    "max_price=data_top_towns.max()\n",
    "print()\n",
    "print('Минимальная цена:')\n",
    "print(data_top_towns.query('price_per_metr in @min_price'))\n",
    "print()\n",
    "print('Максимальная цена:')\n",
    "print(data_top_towns.query('price_per_metr in @max_price'))"
   ]
  },
  {
   "cell_type": "markdown",
   "metadata": {},
   "source": [
    "Самое дорогое жилье в Санкт-Петербурге (104 тыс.руб за кв.м) и пригородах, дороже - в Питере, дешевле всего во Всеволожске 65,7 тыс. руб. за кв.м."
   ]
  },
  {
   "cell_type": "markdown",
   "metadata": {},
   "source": [
    "**6. Изучите предложения квартир: для каждой квартиры есть информация о расстоянии до центра. Выделите квартиры в Санкт-Петербурге ('locality_name'). Ваша задача — выяснить, какая область входит в центр. Создайте столбец с расстоянием до центра в километрах: округлите до целых значений. После этого посчитайте среднюю цену для каждого километра. Постройте график: он должен показывать, как цена зависит от удалённости от центра. Определите границу, где график сильно меняется — это и будет центральная зона.**"
   ]
  },
  {
   "cell_type": "code",
   "execution_count": 15,
   "metadata": {},
   "outputs": [
    {
     "data": {
      "text/plain": [
       "<AxesSubplot:title={'center':'Стоимость жилья, в зависимости от удаленности от центра'}, xlabel='city_center_km'>"
      ]
     },
     "execution_count": 15,
     "metadata": {},
     "output_type": "execute_result"
    },
    {
     "data": {
      "image/png": "[encoded data removed]",
      "text/plain": [
       "<Figure size 576x360 with 1 Axes>"
      ]
     },
     "metadata": {
      "needs_background": "light"
     },
     "output_type": "display_data"
    }
   ],
   "source": [
    "def m_to_km (value):\n",
    "   # функция для пересчета метров в километры\n",
    "    new_value=value/1000\n",
    "    return np.ceil(new_value)\n",
    "data_norm_exp['city_center_km']=data_norm_exp['cityCenters_nearest'].apply(m_to_km)\n",
    "\n",
    "\n",
    "data_norm_exp.pivot_table(index='city_center_km', values='price_per_metr', aggfunc='mean').plot(\n",
    "    grid=True,title='Стоимость жилья, в зависимости от удаленности от центра', figsize=(8,5))\n"
   ]
  },
  {
   "cell_type": "markdown",
   "metadata": {},
   "source": [
    "Судя по графику, цена на жилье падает при удаленности от центра города более, чем на 8 км."
   ]
  },
  {
   "cell_type": "markdown",
   "metadata": {},
   "source": [
    "**7. Выделите сегмент квартир в центре. Проанализируйте эту территорию и изучите следующие параметры: площадь, цена, число комнат, высота потолков. Также выделите факторы, которые влияют на стоимость квартиры (число комнат, этаж, удалённость от центра, дата размещения объявления). Сделайте выводы. Отличаются ли они от общих выводов по всему городу?**"
   ]
  },
  {
   "cell_type": "code",
   "execution_count": 16,
   "metadata": {},
   "outputs": [
    {
     "data": {
      "text/plain": [
       "array([[<AxesSubplot:title={'center':'ceiling_height'}>]], dtype=object)"
      ]
     },
     "execution_count": 16,
     "metadata": {},
     "output_type": "execute_result"
    },
    {
     "data": {
      "image/png": "[encoded data removed]",
      "text/plain": [
       "<Figure size 432x288 with 1 Axes>"
      ]
     },
     "metadata": {
      "needs_background": "light"
     },
     "output_type": "display_data"
    },
    {
     "data": {
      "image/png": "[encoded data removed]",
      "text/plain": [
       "<Figure size 432x288 with 1 Axes>"
      ]
     },
     "metadata": {
      "needs_background": "light"
     },
     "output_type": "display_data"
    },
    {
     "data": {
      "image/png": "[encoded data removed]",
      "text/plain": [
       "<Figure size 432x288 with 1 Axes>"
      ]
     },
     "metadata": {
      "needs_background": "light"
     },
     "output_type": "display_data"
    },
    {
     "data": {
      "image/png": "[encoded data removed]",
      "text/plain": [
       "<Figure size 432x288 with 1 Axes>"
      ]
     },
     "metadata": {
      "needs_background": "light"
     },
     "output_type": "display_data"
    }
   ],
   "source": [
    "data_city_center=data_norm_exp.query('city_center_km<=8') # таблица с отсортированными данными для центра города.\n",
    "data_city_center.hist('total_area',bins=20)\n",
    "data_city_center.hist('last_price',bins=50)\n",
    "data_city_center.hist('rooms',bins=6)\n",
    "data_city_center.hist('ceiling_height',range = (2, 4))\n"
   ]
  },
  {
   "cell_type": "markdown",
   "metadata": {},
   "source": [
    "Распределение для центра города схоже с распределением параметров по всему городу, но есть и отличия – например, меньше жилья с большой площадью, которые больше соответствуют загородным домам. Больше двух- и трехкомнатных квартир, потолки выше."
   ]
  },
  {
   "cell_type": "code",
   "execution_count": 17,
   "metadata": {},
   "outputs": [
    {
     "data": {
      "text/plain": [
       "<AxesSubplot:title={'center':'Зависимость цены от площади'}, xlabel='total_area'>"
      ]
     },
     "execution_count": 17,
     "metadata": {},
     "output_type": "execute_result"
    },
    {
     "data": {
      "image/png": "[encoded data removed]",
      "text/plain": [
       "<Figure size 432x288 with 1 Axes>"
      ]
     },
     "metadata": {
      "needs_background": "light"
     },
     "output_type": "display_data"
    }
   ],
   "source": [
    "ax=data_norm_exp.pivot_table(index='total_area', values='price_per_metr', aggfunc='median').plot(\n",
    "    y='price_per_metr', linewidth=5,alpha=0.7,label='весь город')\n",
    "\n",
    "data_city_center.pivot_table(index='total_area', values='price_per_metr', aggfunc='median').plot(\n",
    "    y='price_per_metr', title='Зависимость цены от площади',linewidth=5, alpha=0.7,label='центр города',ax=ax,grid=True,legend=True)\n"
   ]
  },
  {
   "cell_type": "markdown",
   "metadata": {},
   "source": [
    "Разница между центром и отдаленными территориями несущественна - в центре просто дороже."
   ]
  },
  {
   "cell_type": "code",
   "execution_count": 18,
   "metadata": {},
   "outputs": [
    {
     "data": {
      "text/plain": [
       "<AxesSubplot:title={'center':'Зависимость цены от количества комнат'}, xlabel='rooms'>"
      ]
     },
     "execution_count": 18,
     "metadata": {},
     "output_type": "execute_result"
    },
    {
     "data": {
      "image/png": "[encoded data removed]",
      "text/plain": [
       "<Figure size 432x288 with 1 Axes>"
      ]
     },
     "metadata": {
      "needs_background": "light"
     },
     "output_type": "display_data"
    }
   ],
   "source": [
    "ax=data_norm_exp.pivot_table(index='rooms', values='price_per_metr', aggfunc='median').plot(\n",
    "    y='price_per_metr', linewidth=5,alpha=0.7,label='весь город')\n",
    "\n",
    "data_city_center.pivot_table(index='rooms', values='price_per_metr', aggfunc='median').plot(\n",
    "    y='price_per_metr', title='Зависимость цены от количества комнат', linewidth=5, alpha=0.7,label='центр города',ax=ax,grid=True,legend=True)\n"
   ]
  },
  {
   "cell_type": "markdown",
   "metadata": {},
   "source": [
    "Разницы также, кроме цены, нет."
   ]
  },
  {
   "cell_type": "code",
   "execution_count": 19,
   "metadata": {},
   "outputs": [
    {
     "data": {
      "text/plain": [
       "<AxesSubplot:title={'center':'Зависимость цены от этажа'}, xlabel='floor_type'>"
      ]
     },
     "execution_count": 19,
     "metadata": {},
     "output_type": "execute_result"
    },
    {
     "data": {
      "image/png": "[encoded data removed]",
      "text/plain": [
       "<Figure size 432x288 with 1 Axes>"
      ]
     },
     "metadata": {
      "needs_background": "light"
     },
     "output_type": "display_data"
    }
   ],
   "source": [
    "ax=data_norm_exp.pivot_table(index='floor_type', values='price_per_metr', aggfunc='median').plot(\n",
    "    y='price_per_metr', linewidth=5,alpha=0.7,label='весь город')\n",
    "\n",
    "data_city_center.pivot_table(index='floor_type', values='price_per_metr', aggfunc='median').plot(\n",
    "    y='price_per_metr', title='Зависимость цены от этажа', linewidth=5, alpha=0.7,label='центр города',ax=ax,grid=True,legend=True)\n"
   ]
  },
  {
   "cell_type": "markdown",
   "metadata": {},
   "source": [
    "Разницы также, кроме цены, нет."
   ]
  },
  {
   "cell_type": "code",
   "execution_count": 20,
   "metadata": {},
   "outputs": [
    {
     "data": {
      "text/plain": [
       "<AxesSubplot:title={'center':'Зависимость цены от удаленности от центра'}, xlabel='city_center_km'>"
      ]
     },
     "execution_count": 20,
     "metadata": {},
     "output_type": "execute_result"
    },
    {
     "data": {
      "image/png": "[encoded data removed]",
      "text/plain": [
       "<Figure size 432x288 with 1 Axes>"
      ]
     },
     "metadata": {
      "needs_background": "light"
     },
     "output_type": "display_data"
    }
   ],
   "source": [
    "ax=data_norm_exp.pivot_table(index='city_center_km', values='price_per_metr', aggfunc='median').plot(\n",
    "    y='price_per_metr', linewidth=5,alpha=0.7,label='весь город')\n",
    "\n",
    "data_city_center.pivot_table(index='city_center_km', values='price_per_metr', aggfunc='median').plot(\n",
    "    y='price_per_metr', title='Зависимость цены от удаленности от центра', linewidth=5, alpha=0.7,label='центр города',ax=ax,grid=True,legend=True)\n"
   ]
  },
  {
   "cell_type": "code",
   "execution_count": 21,
   "metadata": {},
   "outputs": [
    {
     "data": {
      "text/plain": [
       "<AxesSubplot:title={'center':'Зависимость цены от даты размещения'}, xlabel='first_day_exposition'>"
      ]
     },
     "execution_count": 21,
     "metadata": {},
     "output_type": "execute_result"
    },
    {
     "data": {
      "image/png": "[encoded data removed]",
      "text/plain": [
       "<Figure size 432x288 with 1 Axes>"
      ]
     },
     "metadata": {
      "needs_background": "light"
     },
     "output_type": "display_data"
    }
   ],
   "source": [
    "ax=data_norm_exp.pivot_table(index='first_day_exposition', values='price_per_metr', aggfunc='median').plot(\n",
    "    y='price_per_metr', linewidth=5,alpha=0.7,label='весь город')\n",
    "\n",
    "data_city_center.pivot_table(index='first_day_exposition', values='price_per_metr', aggfunc='median').plot(\n",
    "    y='price_per_metr', title='Зависимость цены от даты размещения', linewidth=5, alpha=0.7,label='центр города',ax=ax,grid=True,legend=True)\n"
   ]
  },
  {
   "cell_type": "markdown",
   "metadata": {},
   "source": [
    "Разницы нет, нагляднее заметна разница в цене."
   ]
  },
  {
   "cell_type": "markdown",
   "metadata": {},
   "source": [
    "## Общий вывод"
   ]
  },
  {
   "cell_type": "markdown",
   "metadata": {},
   "source": [
    "В ходе проведения анализа мы установили усредненный \"портрет\" продаваемой недвижимости:\n",
    "\n",
    "Средняя площадь недвижимости - 50 кв.м\n",
    "Cредняя цена помещения - 3 млн. руб\n",
    "Количество комнат - 2,5\n",
    "Высота потолка -  2,75 м\n",
    "\n",
    "\n",
    "Среднее время продажи - 181 день.\n",
    "Быстрой продажей можно назвать срок до 100 дней, а долгой более 500 дней\n",
    "Факторы, влияющие на стоимость объекта:\n",
    "\n",
    "На стоимость больше влияет общая площадь квартиры и в меньшей степени жилая площадь, площадь кухни и количествово комнат.\n",
    "В среднем цена жилья на первом этаже дешевле, также последний этаж дешевле остальных.\n",
    "А вот расстояние на центр уже оказывает существенное влияение – чем ближе к центру, тем дороже.\n",
    "Активнее квартиры продаются в начале недели, дешевле всего – в субботу, также стоимость колеблется в течении года – выгоднее всего приобретать жилье в мае.\n",
    "\n",
    "Самая высокая в Санкт-Петербурге - 104 195 рублей\n",
    "Самая низкая во Всеволожске - 65 781 рубль\n",
    "Стоимосость жилья в Санкт-Петербурге в зависимости от расстояния до центра города:\n",
    "\n",
    "Чем жилье ближе к центру, тем цена выше и наоборот\n",
    "Чем жилье дальше от центра, тем цена ниже."
   ]
  }
 ],
 "metadata": {
  "ExecuteTimeLog": [
   {
    "duration": 1053,
    "start_time": "2021-07-21T11:07:30.887Z"
   },
   {
    "duration": 120,
    "start_time": "2021-07-21T11:08:01.481Z"
   },
   {
    "duration": 116,
    "start_time": "2021-07-21T11:08:26.895Z"
   },
   {
    "duration": 209,
    "start_time": "2021-07-21T11:10:53.024Z"
   },
   {
    "duration": 28,
    "start_time": "2021-07-21T11:35:27.472Z"
   },
   {
    "duration": 25,
    "start_time": "2021-07-21T11:36:07.187Z"
   },
   {
    "duration": 26,
    "start_time": "2021-07-21T11:36:22.639Z"
   },
   {
    "duration": 130,
    "start_time": "2021-07-21T11:37:40.517Z"
   },
   {
    "duration": 8690,
    "start_time": "2021-07-21T11:38:55.894Z"
   },
   {
    "duration": 382,
    "start_time": "2021-07-21T11:39:24.546Z"
   },
   {
    "duration": -45,
    "start_time": "2021-07-21T11:39:56.934Z"
   },
   {
    "duration": 8690,
    "start_time": "2021-07-21T11:40:08.097Z"
   },
   {
    "duration": 30,
    "start_time": "2021-07-21T11:40:49.323Z"
   },
   {
    "duration": 9442,
    "start_time": "2021-07-21T11:46:07.328Z"
   },
   {
    "duration": 8820,
    "start_time": "2021-07-21T11:46:30.690Z"
   },
   {
    "duration": 208,
    "start_time": "2021-07-21T11:47:22.115Z"
   },
   {
    "duration": 368,
    "start_time": "2021-07-21T12:03:24.549Z"
   },
   {
    "duration": 328,
    "start_time": "2021-07-21T12:04:16.052Z"
   },
   {
    "duration": 10,
    "start_time": "2021-07-21T12:04:38.386Z"
   },
   {
    "duration": 9,
    "start_time": "2021-07-21T12:05:05.856Z"
   },
   {
    "duration": 10,
    "start_time": "2021-07-21T12:05:26.230Z"
   },
   {
    "duration": 9,
    "start_time": "2021-07-21T12:05:59.224Z"
   },
   {
    "duration": 11,
    "start_time": "2021-07-21T12:06:16.736Z"
   },
   {
    "duration": 12,
    "start_time": "2021-07-21T12:12:47.342Z"
   },
   {
    "duration": 123,
    "start_time": "2021-07-21T12:24:11.095Z"
   },
   {
    "duration": 23,
    "start_time": "2021-07-21T12:24:16.748Z"
   },
   {
    "duration": 204,
    "start_time": "2021-07-21T18:22:41.239Z"
   },
   {
    "duration": 20,
    "start_time": "2021-07-21T18:53:24.491Z"
   },
   {
    "duration": 220,
    "start_time": "2021-07-21T18:53:46.264Z"
   },
   {
    "duration": 12,
    "start_time": "2021-07-21T18:53:51.155Z"
   },
   {
    "duration": 11,
    "start_time": "2021-07-21T18:54:10.849Z"
   },
   {
    "duration": 378,
    "start_time": "2021-07-21T18:54:18.240Z"
   },
   {
    "duration": 335,
    "start_time": "2021-07-21T18:54:26.665Z"
   },
   {
    "duration": 13,
    "start_time": "2021-07-21T18:54:50.563Z"
   },
   {
    "duration": 21,
    "start_time": "2021-07-21T18:56:43.801Z"
   },
   {
    "duration": 18,
    "start_time": "2021-07-21T19:01:58.748Z"
   },
   {
    "duration": 427,
    "start_time": "2021-07-21T19:20:58.930Z"
   },
   {
    "duration": 27,
    "start_time": "2021-07-21T19:21:32.546Z"
   },
   {
    "duration": 382,
    "start_time": "2021-07-21T19:21:49.030Z"
   },
   {
    "duration": 768,
    "start_time": "2021-07-21T19:22:29.828Z"
   },
   {
    "duration": 356,
    "start_time": "2021-07-21T19:22:43.373Z"
   },
   {
    "duration": 933,
    "start_time": "2021-07-21T19:22:54.421Z"
   },
   {
    "duration": 473,
    "start_time": "2021-07-21T19:22:55.356Z"
   },
   {
    "duration": 323,
    "start_time": "2021-07-21T19:23:21.742Z"
   },
   {
    "duration": 336,
    "start_time": "2021-07-21T19:26:09.124Z"
   },
   {
    "duration": 207,
    "start_time": "2021-07-21T19:26:17.939Z"
   },
   {
    "duration": 396,
    "start_time": "2021-07-21T19:26:21.593Z"
   },
   {
    "duration": 408,
    "start_time": "2021-07-21T19:26:32.788Z"
   },
   {
    "duration": 32,
    "start_time": "2021-07-21T19:27:01.168Z"
   },
   {
    "duration": 25,
    "start_time": "2021-07-21T19:28:13.990Z"
   },
   {
    "duration": 208,
    "start_time": "2021-07-21T19:28:39.731Z"
   },
   {
    "duration": 34,
    "start_time": "2021-07-21T19:28:42.698Z"
   },
   {
    "duration": 1385,
    "start_time": "2021-07-21T19:34:21.079Z"
   },
   {
    "duration": 364,
    "start_time": "2021-07-21T19:41:30.399Z"
   },
   {
    "duration": 62,
    "start_time": "2021-07-21T19:44:12.847Z"
   },
   {
    "duration": 54,
    "start_time": "2021-07-21T19:45:39.964Z"
   },
   {
    "duration": 210,
    "start_time": "2021-07-21T19:46:00.173Z"
   },
   {
    "duration": 104,
    "start_time": "2021-07-21T19:46:20.566Z"
   },
   {
    "duration": 621,
    "start_time": "2021-07-23T11:22:30.920Z"
   },
   {
    "duration": 43,
    "start_time": "2021-07-23T11:22:31.543Z"
   },
   {
    "duration": 15,
    "start_time": "2021-07-23T11:28:12.419Z"
   },
   {
    "duration": 1674,
    "start_time": "2021-07-23T11:33:17.010Z"
   },
   {
    "duration": 228,
    "start_time": "2021-07-23T11:34:01.469Z"
   },
   {
    "duration": 11,
    "start_time": "2021-07-23T11:34:19.524Z"
   },
   {
    "duration": 1736,
    "start_time": "2021-07-23T11:34:23.698Z"
   },
   {
    "duration": 11,
    "start_time": "2021-07-23T11:34:36.674Z"
   },
   {
    "duration": 17,
    "start_time": "2021-07-23T11:35:08.430Z"
   },
   {
    "duration": 13,
    "start_time": "2021-07-23T11:35:21.888Z"
   },
   {
    "duration": 627,
    "start_time": "2021-07-23T11:35:31.090Z"
   },
   {
    "duration": 43,
    "start_time": "2021-07-23T11:35:31.719Z"
   },
   {
    "duration": 11,
    "start_time": "2021-07-23T11:35:31.764Z"
   },
   {
    "duration": 6270,
    "start_time": "2021-07-23T11:35:55.323Z"
   },
   {
    "duration": -33,
    "start_time": "2021-07-23T11:36:07.966Z"
   },
   {
    "duration": 21,
    "start_time": "2021-07-23T11:36:26.403Z"
   },
   {
    "duration": 26,
    "start_time": "2021-07-23T11:38:10.696Z"
   },
   {
    "duration": 1081,
    "start_time": "2021-07-23T11:51:38.244Z"
   },
   {
    "duration": 13,
    "start_time": "2021-07-23T11:52:10.126Z"
   },
   {
    "duration": 462,
    "start_time": "2021-07-23T11:54:55.377Z"
   },
   {
    "duration": 443,
    "start_time": "2021-07-23T11:55:30.907Z"
   },
   {
    "duration": 498,
    "start_time": "2021-07-23T11:55:47.864Z"
   },
   {
    "duration": 3466,
    "start_time": "2021-07-23T11:56:51.222Z"
   },
   {
    "duration": 522,
    "start_time": "2021-07-23T11:58:14.911Z"
   },
   {
    "duration": 535,
    "start_time": "2021-07-23T11:58:54.751Z"
   },
   {
    "duration": 576,
    "start_time": "2021-07-23T11:59:28.463Z"
   },
   {
    "duration": 522,
    "start_time": "2021-07-23T12:02:42.339Z"
   },
   {
    "duration": 673,
    "start_time": "2021-07-27T14:30:44.881Z"
   },
   {
    "duration": 68,
    "start_time": "2021-07-27T14:30:45.556Z"
   },
   {
    "duration": 699,
    "start_time": "2021-07-27T14:30:45.625Z"
   },
   {
    "duration": 76,
    "start_time": "2021-07-27T14:30:46.326Z"
   },
   {
    "duration": 147,
    "start_time": "2021-07-27T14:34:49.157Z"
   },
   {
    "duration": 266,
    "start_time": "2021-07-27T14:41:47.280Z"
   },
   {
    "duration": 166,
    "start_time": "2021-07-27T14:42:06.855Z"
   },
   {
    "duration": 175,
    "start_time": "2021-07-27T14:42:13.640Z"
   },
   {
    "duration": 142,
    "start_time": "2021-07-27T14:42:22.800Z"
   },
   {
    "duration": 162,
    "start_time": "2021-07-27T14:42:31.295Z"
   },
   {
    "duration": 623,
    "start_time": "2021-07-27T14:44:45.599Z"
   },
   {
    "duration": 649,
    "start_time": "2021-07-27T14:46:21.680Z"
   },
   {
    "duration": 755,
    "start_time": "2021-07-27T14:46:41.287Z"
   },
   {
    "duration": 656,
    "start_time": "2021-07-27T14:46:53.464Z"
   },
   {
    "duration": 666,
    "start_time": "2021-07-27T14:47:02.672Z"
   },
   {
    "duration": 730,
    "start_time": "2021-07-27T14:47:17.016Z"
   },
   {
    "duration": 673,
    "start_time": "2021-07-27T14:48:35.648Z"
   },
   {
    "duration": 772,
    "start_time": "2021-07-27T14:49:00.352Z"
   },
   {
    "duration": 679,
    "start_time": "2021-07-27T14:49:10.175Z"
   },
   {
    "duration": 54,
    "start_time": "2021-07-27T14:49:10.856Z"
   },
   {
    "duration": 646,
    "start_time": "2021-07-27T14:49:10.915Z"
   },
   {
    "duration": 844,
    "start_time": "2021-07-27T14:49:11.562Z"
   },
   {
    "duration": 153,
    "start_time": "2021-07-27T14:49:39.661Z"
   },
   {
    "duration": 732,
    "start_time": "2021-07-27T14:50:04.549Z"
   },
   {
    "duration": 885,
    "start_time": "2021-07-27T14:50:41.998Z"
   },
   {
    "duration": 821,
    "start_time": "2021-07-27T14:51:35.854Z"
   },
   {
    "duration": 1013,
    "start_time": "2021-07-27T14:51:42.222Z"
   },
   {
    "duration": 789,
    "start_time": "2021-07-27T14:51:53.606Z"
   },
   {
    "duration": 818,
    "start_time": "2021-07-27T14:52:18.902Z"
   },
   {
    "duration": 897,
    "start_time": "2021-07-27T14:52:28.758Z"
   },
   {
    "duration": 841,
    "start_time": "2021-07-27T14:52:51.206Z"
   },
   {
    "duration": 786,
    "start_time": "2021-07-27T14:53:28.286Z"
   },
   {
    "duration": 895,
    "start_time": "2021-07-27T14:53:45.031Z"
   },
   {
    "duration": 800,
    "start_time": "2021-07-27T14:53:55.031Z"
   },
   {
    "duration": 908,
    "start_time": "2021-07-27T14:54:08.559Z"
   },
   {
    "duration": 799,
    "start_time": "2021-07-27T14:54:42.807Z"
   },
   {
    "duration": 77,
    "start_time": "2021-07-27T14:55:02.247Z"
   },
   {
    "duration": 817,
    "start_time": "2021-07-27T14:55:09.566Z"
   },
   {
    "duration": 923,
    "start_time": "2021-07-27T14:55:24.103Z"
   },
   {
    "duration": 839,
    "start_time": "2021-07-27T14:55:35.631Z"
   },
   {
    "duration": 845,
    "start_time": "2021-07-27T14:57:53.952Z"
   },
   {
    "duration": 760,
    "start_time": "2021-07-27T15:37:52.987Z"
   },
   {
    "duration": 843,
    "start_time": "2021-07-27T15:38:03.690Z"
   },
   {
    "duration": 781,
    "start_time": "2021-07-27T15:38:16.426Z"
   },
   {
    "duration": 538,
    "start_time": "2021-07-27T15:48:37.222Z"
   },
   {
    "duration": 877,
    "start_time": "2021-07-27T15:49:01.262Z"
   },
   {
    "duration": 906,
    "start_time": "2021-07-27T15:49:25.077Z"
   },
   {
    "duration": 787,
    "start_time": "2021-07-27T15:51:09.205Z"
   },
   {
    "duration": 751,
    "start_time": "2021-07-27T15:55:14.606Z"
   },
   {
    "duration": 863,
    "start_time": "2021-07-27T15:56:27.271Z"
   },
   {
    "duration": 798,
    "start_time": "2021-07-27T15:56:33.983Z"
   },
   {
    "duration": 168,
    "start_time": "2021-07-27T16:04:11.009Z"
   },
   {
    "duration": 407,
    "start_time": "2021-07-27T16:11:24.037Z"
   },
   {
    "duration": 168,
    "start_time": "2021-07-27T16:12:25.948Z"
   },
   {
    "duration": 170,
    "start_time": "2021-07-27T16:20:33.797Z"
   },
   {
    "duration": 173,
    "start_time": "2021-07-27T16:21:13.957Z"
   },
   {
    "duration": 171,
    "start_time": "2021-07-27T16:22:23.157Z"
   },
   {
    "duration": 441,
    "start_time": "2021-07-27T16:22:38.390Z"
   },
   {
    "duration": 169,
    "start_time": "2021-07-27T16:22:51.877Z"
   },
   {
    "duration": 173,
    "start_time": "2021-07-27T16:23:07.102Z"
   },
   {
    "duration": 128,
    "start_time": "2021-07-27T16:36:25.632Z"
   },
   {
    "duration": 571,
    "start_time": "2021-07-27T16:37:47.378Z"
   },
   {
    "duration": 373,
    "start_time": "2021-07-27T16:38:13.345Z"
   },
   {
    "duration": 615,
    "start_time": "2021-07-27T16:40:54.337Z"
   },
   {
    "duration": 562,
    "start_time": "2021-07-27T16:41:06.137Z"
   },
   {
    "duration": 675,
    "start_time": "2021-07-27T16:51:32.364Z"
   },
   {
    "duration": 62,
    "start_time": "2021-07-27T16:51:33.041Z"
   },
   {
    "duration": 572,
    "start_time": "2021-07-27T16:51:33.107Z"
   },
   {
    "duration": 973,
    "start_time": "2021-07-27T16:51:33.681Z"
   },
   {
    "duration": 302,
    "start_time": "2021-07-27T16:51:34.656Z"
   },
   {
    "duration": 459,
    "start_time": "2021-07-27T16:51:34.501Z"
   },
   {
    "duration": 670,
    "start_time": "2021-07-27T16:53:40.370Z"
   },
   {
    "duration": 55,
    "start_time": "2021-07-27T16:53:41.042Z"
   },
   {
    "duration": 638,
    "start_time": "2021-07-27T16:53:41.100Z"
   },
   {
    "duration": 969,
    "start_time": "2021-07-27T16:53:41.740Z"
   },
   {
    "duration": 302,
    "start_time": "2021-07-27T16:53:42.711Z"
   },
   {
    "duration": 449,
    "start_time": "2021-07-27T16:53:42.566Z"
   },
   {
    "duration": 10,
    "start_time": "2021-07-27T16:54:40.749Z"
   },
   {
    "duration": 244,
    "start_time": "2021-07-27T16:54:56.966Z"
   },
   {
    "duration": 14,
    "start_time": "2021-07-27T16:55:13.726Z"
   },
   {
    "duration": 51,
    "start_time": "2021-07-27T16:56:19.478Z"
   },
   {
    "duration": 613,
    "start_time": "2021-07-27T16:56:42.837Z"
   },
   {
    "duration": 66,
    "start_time": "2021-07-27T16:56:43.456Z"
   },
   {
    "duration": 682,
    "start_time": "2021-07-27T16:56:43.524Z"
   },
   {
    "duration": 950,
    "start_time": "2021-07-27T16:56:44.208Z"
   },
   {
    "duration": 13,
    "start_time": "2021-07-27T16:56:45.160Z"
   },
   {
    "duration": 18,
    "start_time": "2021-07-27T16:56:45.174Z"
   },
   {
    "duration": 45,
    "start_time": "2021-07-27T16:57:03.976Z"
   },
   {
    "duration": 61,
    "start_time": "2021-07-27T16:57:39.097Z"
   },
   {
    "duration": 36,
    "start_time": "2021-07-27T16:57:49.057Z"
   },
   {
    "duration": 39,
    "start_time": "2021-07-27T16:57:56.665Z"
   },
   {
    "duration": 33,
    "start_time": "2021-07-27T16:58:08.322Z"
   },
   {
    "duration": 663,
    "start_time": "2021-07-27T16:58:23.279Z"
   },
   {
    "duration": 47,
    "start_time": "2021-07-27T16:58:23.944Z"
   },
   {
    "duration": 596,
    "start_time": "2021-07-27T16:58:23.995Z"
   },
   {
    "duration": 934,
    "start_time": "2021-07-27T16:58:24.593Z"
   },
   {
    "duration": 12,
    "start_time": "2021-07-27T16:58:25.528Z"
   },
   {
    "duration": 2,
    "start_time": "2021-07-27T16:58:25.541Z"
   },
   {
    "duration": 546,
    "start_time": "2021-07-27T16:58:48.710Z"
   },
   {
    "duration": 32,
    "start_time": "2021-07-27T16:59:15.758Z"
   },
   {
    "duration": 620,
    "start_time": "2021-07-27T16:59:31.248Z"
   },
   {
    "duration": 49,
    "start_time": "2021-07-27T16:59:31.870Z"
   },
   {
    "duration": 684,
    "start_time": "2021-07-27T16:59:31.925Z"
   },
   {
    "duration": 933,
    "start_time": "2021-07-27T16:59:32.610Z"
   },
   {
    "duration": 13,
    "start_time": "2021-07-27T16:59:33.544Z"
   },
   {
    "duration": 2,
    "start_time": "2021-07-27T16:59:33.558Z"
   },
   {
    "duration": 633,
    "start_time": "2021-07-27T17:00:52.142Z"
   },
   {
    "duration": 30,
    "start_time": "2021-07-27T17:00:52.777Z"
   },
   {
    "duration": 577,
    "start_time": "2021-07-27T17:00:52.809Z"
   },
   {
    "duration": 1037,
    "start_time": "2021-07-27T17:00:53.388Z"
   },
   {
    "duration": 10,
    "start_time": "2021-07-27T17:00:54.427Z"
   },
   {
    "duration": 3,
    "start_time": "2021-07-27T17:00:54.439Z"
   },
   {
    "duration": 182,
    "start_time": "2021-07-27T17:01:28.126Z"
   },
   {
    "duration": 123,
    "start_time": "2021-07-27T17:01:40.254Z"
   },
   {
    "duration": 138,
    "start_time": "2021-07-27T17:02:28.023Z"
   },
   {
    "duration": 136,
    "start_time": "2021-07-27T17:02:50.431Z"
   },
   {
    "duration": 133,
    "start_time": "2021-07-27T17:02:55.983Z"
   },
   {
    "duration": 139,
    "start_time": "2021-07-27T17:03:04.783Z"
   },
   {
    "duration": 131,
    "start_time": "2021-07-27T17:03:16.927Z"
   },
   {
    "duration": 133,
    "start_time": "2021-07-27T17:03:38.478Z"
   },
   {
    "duration": 210,
    "start_time": "2021-07-27T17:03:44.271Z"
   },
   {
    "duration": 159,
    "start_time": "2021-07-27T17:03:50.375Z"
   },
   {
    "duration": 152,
    "start_time": "2021-07-27T18:07:45.841Z"
   },
   {
    "duration": 251,
    "start_time": "2021-07-27T18:08:07.119Z"
   },
   {
    "duration": 234,
    "start_time": "2021-07-27T18:08:22.807Z"
   },
   {
    "duration": 259,
    "start_time": "2021-07-27T18:09:02.968Z"
   },
   {
    "duration": 232,
    "start_time": "2021-07-27T18:09:12.583Z"
   },
   {
    "duration": 291,
    "start_time": "2021-07-27T18:09:25.967Z"
   },
   {
    "duration": 227,
    "start_time": "2021-07-27T18:09:32.880Z"
   },
   {
    "duration": 237,
    "start_time": "2021-07-27T18:09:42.656Z"
   },
   {
    "duration": 232,
    "start_time": "2021-07-27T18:09:49.056Z"
   },
   {
    "duration": 234,
    "start_time": "2021-07-27T18:09:55.240Z"
   },
   {
    "duration": 143,
    "start_time": "2021-07-27T18:10:44.176Z"
   },
   {
    "duration": 133,
    "start_time": "2021-07-27T18:11:05.152Z"
   },
   {
    "duration": 210,
    "start_time": "2021-07-27T18:11:19.248Z"
   },
   {
    "duration": 267,
    "start_time": "2021-07-27T18:11:54.080Z"
   },
   {
    "duration": 486,
    "start_time": "2021-07-27T18:13:25.977Z"
   },
   {
    "duration": 232,
    "start_time": "2021-07-27T18:13:36.105Z"
   },
   {
    "duration": 135,
    "start_time": "2021-07-27T18:16:58.474Z"
   },
   {
    "duration": 2758,
    "start_time": "2021-07-27T18:18:02.179Z"
   },
   {
    "duration": 2651,
    "start_time": "2021-07-27T18:18:25.228Z"
   },
   {
    "duration": 546,
    "start_time": "2021-07-27T18:18:55.700Z"
   },
   {
    "duration": 541,
    "start_time": "2021-07-27T18:21:45.180Z"
   },
   {
    "duration": 321,
    "start_time": "2021-07-27T18:21:59.956Z"
   },
   {
    "duration": 529,
    "start_time": "2021-07-27T18:22:12.636Z"
   },
   {
    "duration": 541,
    "start_time": "2021-07-27T18:22:28.793Z"
   },
   {
    "duration": 142,
    "start_time": "2021-07-27T18:22:52.164Z"
   },
   {
    "duration": 295,
    "start_time": "2021-07-27T18:23:38.140Z"
   },
   {
    "duration": 300,
    "start_time": "2021-07-27T18:25:29.005Z"
   },
   {
    "duration": 298,
    "start_time": "2021-07-27T18:26:22.157Z"
   },
   {
    "duration": 26,
    "start_time": "2021-07-27T18:29:55.749Z"
   },
   {
    "duration": 224,
    "start_time": "2021-07-27T18:31:35.111Z"
   },
   {
    "duration": 210,
    "start_time": "2021-07-27T18:35:22.150Z"
   },
   {
    "duration": 231,
    "start_time": "2021-07-27T18:35:43.238Z"
   },
   {
    "duration": 588,
    "start_time": "2021-07-27T18:36:44.151Z"
   },
   {
    "duration": 390,
    "start_time": "2021-07-27T18:37:28.767Z"
   },
   {
    "duration": 442,
    "start_time": "2021-07-27T18:37:54.807Z"
   },
   {
    "duration": 672,
    "start_time": "2021-07-27T18:38:41.200Z"
   },
   {
    "duration": 615,
    "start_time": "2021-07-27T18:39:21.048Z"
   },
   {
    "duration": 583,
    "start_time": "2021-07-27T18:39:41.119Z"
   },
   {
    "duration": 741,
    "start_time": "2021-07-27T18:40:46.624Z"
   },
   {
    "duration": 698,
    "start_time": "2021-07-27T18:41:54.288Z"
   },
   {
    "duration": 767,
    "start_time": "2021-07-27T18:43:06.312Z"
   },
   {
    "duration": 1047,
    "start_time": "2021-07-27T18:44:15.321Z"
   },
   {
    "duration": 770,
    "start_time": "2021-07-27T18:44:35.922Z"
   },
   {
    "duration": 1296,
    "start_time": "2021-07-27T18:51:29.244Z"
   },
   {
    "duration": 1041,
    "start_time": "2021-07-27T19:13:45.427Z"
   },
   {
    "duration": 1148,
    "start_time": "2021-07-27T19:18:51.106Z"
   },
   {
    "duration": 1432,
    "start_time": "2021-07-27T19:19:29.138Z"
   },
   {
    "duration": 884,
    "start_time": "2021-07-29T13:55:47.446Z"
   },
   {
    "duration": 34,
    "start_time": "2021-07-29T13:55:48.332Z"
   },
   {
    "duration": 1031,
    "start_time": "2021-07-29T13:55:48.369Z"
   },
   {
    "duration": 1562,
    "start_time": "2021-07-29T13:55:49.403Z"
   },
   {
    "duration": 345,
    "start_time": "2021-07-29T13:55:50.968Z"
   },
   {
    "duration": 531,
    "start_time": "2021-07-29T13:55:51.316Z"
   },
   {
    "duration": 2453,
    "start_time": "2021-07-29T13:55:51.850Z"
   },
   {
    "duration": 10,
    "start_time": "2021-07-29T14:06:18.781Z"
   },
   {
    "duration": 9,
    "start_time": "2021-07-29T14:06:31.649Z"
   },
   {
    "duration": -62,
    "start_time": "2021-07-29T14:16:51.142Z"
   },
   {
    "duration": 9390,
    "start_time": "2021-07-29T14:25:12.496Z"
   },
   {
    "duration": 127,
    "start_time": "2021-07-29T14:26:33.680Z"
   },
   {
    "duration": 136,
    "start_time": "2021-07-29T14:26:45.857Z"
   },
   {
    "duration": 11,
    "start_time": "2021-07-29T14:26:57.471Z"
   },
   {
    "duration": 6,
    "start_time": "2021-07-29T14:27:07.759Z"
   },
   {
    "duration": 10,
    "start_time": "2021-07-29T14:27:26.993Z"
   },
   {
    "duration": 10,
    "start_time": "2021-07-29T14:27:58.790Z"
   },
   {
    "duration": 9,
    "start_time": "2021-07-29T14:32:25.934Z"
   },
   {
    "duration": 9,
    "start_time": "2021-07-29T14:32:31.199Z"
   },
   {
    "duration": 436,
    "start_time": "2021-07-29T14:34:18.953Z"
   },
   {
    "duration": 11,
    "start_time": "2021-07-30T08:08:02.603Z"
   },
   {
    "duration": 589,
    "start_time": "2021-07-30T08:08:35.521Z"
   },
   {
    "duration": 410,
    "start_time": "2021-07-30T08:13:01.053Z"
   },
   {
    "duration": 854,
    "start_time": "2021-07-30T08:13:10.722Z"
   },
   {
    "duration": 37,
    "start_time": "2021-07-30T08:13:11.580Z"
   },
   {
    "duration": 1084,
    "start_time": "2021-07-30T08:13:11.624Z"
   },
   {
    "duration": 1615,
    "start_time": "2021-07-30T08:13:12.710Z"
   },
   {
    "duration": 343,
    "start_time": "2021-07-30T08:13:14.328Z"
   },
   {
    "duration": 562,
    "start_time": "2021-07-30T08:13:14.686Z"
   },
   {
    "duration": 2744,
    "start_time": "2021-07-30T08:13:15.251Z"
   },
   {
    "duration": 516,
    "start_time": "2021-07-30T08:13:17.999Z"
   },
   {
    "duration": 11,
    "start_time": "2021-07-30T08:13:36.498Z"
   },
   {
    "duration": 9,
    "start_time": "2021-07-30T08:14:14.377Z"
   },
   {
    "duration": 43,
    "start_time": "2021-07-30T08:29:45.982Z"
   },
   {
    "duration": 34,
    "start_time": "2021-07-30T08:31:28.747Z"
   },
   {
    "duration": 26,
    "start_time": "2021-07-30T08:32:41.941Z"
   },
   {
    "duration": 27,
    "start_time": "2021-07-30T08:32:56.225Z"
   },
   {
    "duration": 33,
    "start_time": "2021-07-30T08:33:07.715Z"
   },
   {
    "duration": 606,
    "start_time": "2021-07-30T08:34:51.256Z"
   },
   {
    "duration": 429,
    "start_time": "2021-07-30T08:34:55.855Z"
   },
   {
    "duration": 24,
    "start_time": "2021-07-30T08:35:07.122Z"
   },
   {
    "duration": 27,
    "start_time": "2021-07-30T08:39:17.757Z"
   },
   {
    "duration": 26,
    "start_time": "2021-07-30T08:39:40.331Z"
   },
   {
    "duration": 10439,
    "start_time": "2021-07-30T08:40:19.849Z"
   },
   {
    "duration": 465,
    "start_time": "2021-07-30T08:40:37.980Z"
   },
   {
    "duration": 26,
    "start_time": "2021-07-30T08:40:47.047Z"
   },
   {
    "duration": 27,
    "start_time": "2021-07-30T08:41:21.556Z"
   },
   {
    "duration": 528,
    "start_time": "2021-07-30T08:43:56.412Z"
   },
   {
    "duration": 42,
    "start_time": "2021-07-30T08:44:10.074Z"
   },
   {
    "duration": 36,
    "start_time": "2021-07-30T08:44:47.029Z"
   },
   {
    "duration": 10399,
    "start_time": "2021-07-30T08:45:12.784Z"
   },
   {
    "duration": 49,
    "start_time": "2021-07-30T08:45:26.476Z"
   },
   {
    "duration": 39,
    "start_time": "2021-07-30T08:46:14.199Z"
   },
   {
    "duration": 37,
    "start_time": "2021-07-30T08:50:58.777Z"
   },
   {
    "duration": 28,
    "start_time": "2021-07-30T08:51:12.848Z"
   },
   {
    "duration": 1095,
    "start_time": "2021-07-30T08:52:01.859Z"
   },
   {
    "duration": 1065,
    "start_time": "2021-07-30T08:52:09.044Z"
   },
   {
    "duration": 34,
    "start_time": "2021-07-30T08:52:45.513Z"
   },
   {
    "duration": 32,
    "start_time": "2021-07-30T08:52:55.357Z"
   },
   {
    "duration": 39,
    "start_time": "2021-07-30T08:53:47.627Z"
   },
   {
    "duration": 43,
    "start_time": "2021-07-30T08:54:23.750Z"
   },
   {
    "duration": 40,
    "start_time": "2021-07-30T08:54:36.506Z"
   },
   {
    "duration": 42,
    "start_time": "2021-07-30T08:54:59.865Z"
   },
   {
    "duration": 66,
    "start_time": "2021-07-30T08:55:13.967Z"
   },
   {
    "duration": 27,
    "start_time": "2021-07-30T09:03:01.396Z"
   },
   {
    "duration": 27,
    "start_time": "2021-07-30T09:08:56.273Z"
   },
   {
    "duration": 413,
    "start_time": "2021-07-30T09:09:30.379Z"
   },
   {
    "duration": 416,
    "start_time": "2021-07-30T09:10:32.114Z"
   },
   {
    "duration": 398,
    "start_time": "2021-07-30T09:10:50.223Z"
   },
   {
    "duration": 28,
    "start_time": "2021-07-30T09:11:57.680Z"
   },
   {
    "duration": 418,
    "start_time": "2021-07-30T09:12:27.504Z"
   },
   {
    "duration": 2066,
    "start_time": "2021-07-30T09:29:15.834Z"
   },
   {
    "duration": 1822,
    "start_time": "2021-07-30T09:30:27.406Z"
   },
   {
    "duration": 2749,
    "start_time": "2021-07-30T09:30:37.989Z"
   },
   {
    "duration": 885,
    "start_time": "2021-07-30T09:31:46.730Z"
   },
   {
    "duration": 67,
    "start_time": "2021-07-30T09:31:47.618Z"
   },
   {
    "duration": 987,
    "start_time": "2021-07-30T09:31:47.689Z"
   },
   {
    "duration": 1560,
    "start_time": "2021-07-30T09:31:48.679Z"
   },
   {
    "duration": 429,
    "start_time": "2021-07-30T09:31:50.241Z"
   },
   {
    "duration": 559,
    "start_time": "2021-07-30T09:31:50.673Z"
   },
   {
    "duration": 2433,
    "start_time": "2021-07-30T09:31:51.235Z"
   },
   {
    "duration": 48,
    "start_time": "2021-07-30T09:31:53.672Z"
   },
   {
    "duration": 1956,
    "start_time": "2021-07-30T09:31:53.722Z"
   },
   {
    "duration": 1001,
    "start_time": "2021-07-30T10:10:52.880Z"
   },
   {
    "duration": 4907,
    "start_time": "2021-07-30T10:35:02.269Z"
   },
   {
    "duration": 4222,
    "start_time": "2021-07-30T10:35:16.869Z"
   },
   {
    "duration": 1888,
    "start_time": "2021-07-30T10:39:01.540Z"
   },
   {
    "duration": 932,
    "start_time": "2021-07-30T10:39:24.481Z"
   },
   {
    "duration": 505,
    "start_time": "2021-07-30T10:39:25.416Z"
   },
   {
    "duration": -76,
    "start_time": "2021-07-30T10:39:26.000Z"
   },
   {
    "duration": -76,
    "start_time": "2021-07-30T10:39:26.001Z"
   },
   {
    "duration": -75,
    "start_time": "2021-07-30T10:39:26.002Z"
   },
   {
    "duration": -75,
    "start_time": "2021-07-30T10:39:26.003Z"
   },
   {
    "duration": -75,
    "start_time": "2021-07-30T10:39:26.005Z"
   },
   {
    "duration": -75,
    "start_time": "2021-07-30T10:39:26.006Z"
   },
   {
    "duration": -75,
    "start_time": "2021-07-30T10:39:26.007Z"
   },
   {
    "duration": 38,
    "start_time": "2021-07-30T10:42:52.006Z"
   },
   {
    "duration": 950,
    "start_time": "2021-07-30T10:43:46.465Z"
   },
   {
    "duration": 51,
    "start_time": "2021-07-30T10:43:47.420Z"
   },
   {
    "duration": 830,
    "start_time": "2021-07-30T10:43:47.488Z"
   },
   {
    "duration": 1686,
    "start_time": "2021-07-30T10:43:48.321Z"
   },
   {
    "duration": 344,
    "start_time": "2021-07-30T10:43:50.010Z"
   },
   {
    "duration": 960,
    "start_time": "2021-07-30T10:43:50.357Z"
   },
   {
    "duration": 3833,
    "start_time": "2021-07-30T10:43:51.320Z"
   },
   {
    "duration": 80,
    "start_time": "2021-07-30T10:43:55.160Z"
   },
   {
    "duration": 58,
    "start_time": "2021-07-30T10:43:55.245Z"
   },
   {
    "duration": 57,
    "start_time": "2021-07-30T10:45:34.258Z"
   },
   {
    "duration": 34,
    "start_time": "2021-07-30T10:47:06.934Z"
   },
   {
    "duration": 36,
    "start_time": "2021-07-30T10:47:46.991Z"
   },
   {
    "duration": 600,
    "start_time": "2021-07-30T10:49:19.031Z"
   },
   {
    "duration": 47,
    "start_time": "2021-07-30T10:49:34.092Z"
   },
   {
    "duration": 366,
    "start_time": "2021-07-30T10:50:50.963Z"
   },
   {
    "duration": 730,
    "start_time": "2021-07-30T10:51:23.225Z"
   },
   {
    "duration": 723,
    "start_time": "2021-07-30T10:51:30.067Z"
   },
   {
    "duration": 701,
    "start_time": "2021-07-30T10:52:04.596Z"
   },
   {
    "duration": 760,
    "start_time": "2021-07-30T10:52:22.586Z"
   },
   {
    "duration": 346,
    "start_time": "2021-07-30T10:52:34.024Z"
   },
   {
    "duration": 576,
    "start_time": "2021-07-30T11:01:15.852Z"
   },
   {
    "duration": 391,
    "start_time": "2021-07-30T11:01:21.846Z"
   },
   {
    "duration": 1013,
    "start_time": "2021-07-30T11:01:33.335Z"
   },
   {
    "duration": 56,
    "start_time": "2021-07-30T11:01:34.351Z"
   },
   {
    "duration": 818,
    "start_time": "2021-07-30T11:01:34.410Z"
   },
   {
    "duration": 1668,
    "start_time": "2021-07-30T11:01:35.231Z"
   },
   {
    "duration": 337,
    "start_time": "2021-07-30T11:01:36.901Z"
   },
   {
    "duration": 544,
    "start_time": "2021-07-30T11:01:37.240Z"
   },
   {
    "duration": 1428,
    "start_time": "2021-07-30T11:01:37.787Z"
   },
   {
    "duration": 1220,
    "start_time": "2021-07-30T11:01:39.218Z"
   },
   {
    "duration": 56,
    "start_time": "2021-07-30T11:01:40.441Z"
   },
   {
    "duration": 365,
    "start_time": "2021-07-30T11:01:40.500Z"
   },
   {
    "duration": 1092,
    "start_time": "2021-07-30T11:02:42.487Z"
   },
   {
    "duration": 1483,
    "start_time": "2021-07-30T11:05:29.051Z"
   },
   {
    "duration": 1588,
    "start_time": "2021-07-30T11:05:40.071Z"
   },
   {
    "duration": 1469,
    "start_time": "2021-07-30T11:05:52.809Z"
   },
   {
    "duration": 1179,
    "start_time": "2021-07-30T11:06:04.156Z"
   },
   {
    "duration": 1098,
    "start_time": "2021-07-30T11:06:19.791Z"
   },
   {
    "duration": 56,
    "start_time": "2021-07-30T11:20:10.468Z"
   },
   {
    "duration": 1575,
    "start_time": "2021-07-30T12:03:08.139Z"
   },
   {
    "duration": 1514,
    "start_time": "2021-07-30T12:03:56.688Z"
   },
   {
    "duration": 154,
    "start_time": "2021-07-30T12:04:59.659Z"
   },
   {
    "duration": 1647,
    "start_time": "2021-07-30T12:05:04.425Z"
   },
   {
    "duration": 1337,
    "start_time": "2021-07-30T12:05:58.459Z"
   },
   {
    "duration": 1260,
    "start_time": "2021-07-30T12:06:08.625Z"
   },
   {
    "duration": 1523,
    "start_time": "2021-07-30T12:06:23.212Z"
   },
   {
    "duration": 1328,
    "start_time": "2021-07-30T12:06:31.674Z"
   },
   {
    "duration": 139,
    "start_time": "2021-07-30T12:18:07.783Z"
   },
   {
    "duration": 1027,
    "start_time": "2021-07-30T12:18:33.982Z"
   },
   {
    "duration": 357,
    "start_time": "2021-07-30T12:19:04.003Z"
   },
   {
    "duration": 305,
    "start_time": "2021-07-30T12:20:09.571Z"
   },
   {
    "duration": 314,
    "start_time": "2021-07-30T12:22:56.964Z"
   },
   {
    "duration": 313,
    "start_time": "2021-07-30T12:23:27.046Z"
   },
   {
    "duration": 143,
    "start_time": "2021-07-30T12:23:38.199Z"
   },
   {
    "duration": 371,
    "start_time": "2021-07-30T12:23:55.385Z"
   },
   {
    "duration": 338,
    "start_time": "2021-07-30T12:26:27.245Z"
   },
   {
    "duration": 419,
    "start_time": "2021-07-30T12:27:06.279Z"
   },
   {
    "duration": 355,
    "start_time": "2021-07-30T12:27:30.420Z"
   },
   {
    "duration": 333,
    "start_time": "2021-07-30T12:28:00.003Z"
   },
   {
    "duration": 325,
    "start_time": "2021-07-30T12:28:07.801Z"
   },
   {
    "duration": 324,
    "start_time": "2021-07-30T12:28:35.556Z"
   },
   {
    "duration": 370,
    "start_time": "2021-07-30T12:29:45.669Z"
   },
   {
    "duration": 343,
    "start_time": "2021-07-30T12:30:26.907Z"
   },
   {
    "duration": 351,
    "start_time": "2021-07-30T12:31:06.655Z"
   },
   {
    "duration": 351,
    "start_time": "2021-07-30T12:31:59.322Z"
   },
   {
    "duration": 141,
    "start_time": "2021-07-30T12:32:51.455Z"
   },
   {
    "duration": 324,
    "start_time": "2021-07-30T12:33:07.971Z"
   },
   {
    "duration": 335,
    "start_time": "2021-07-30T12:34:14.001Z"
   },
   {
    "duration": 347,
    "start_time": "2021-07-30T12:35:58.207Z"
   },
   {
    "duration": 362,
    "start_time": "2021-07-30T12:49:57.763Z"
   },
   {
    "duration": 455,
    "start_time": "2021-07-30T12:50:54.312Z"
   },
   {
    "duration": 136,
    "start_time": "2021-07-30T12:51:11.537Z"
   },
   {
    "duration": 131,
    "start_time": "2021-07-30T12:51:27.595Z"
   },
   {
    "duration": 376,
    "start_time": "2021-07-30T12:51:34.434Z"
   },
   {
    "duration": 485,
    "start_time": "2021-07-30T12:53:06.763Z"
   },
   {
    "duration": 389,
    "start_time": "2021-07-30T12:55:16.820Z"
   },
   {
    "duration": 936,
    "start_time": "2021-07-30T12:56:54.616Z"
   },
   {
    "duration": 428,
    "start_time": "2021-07-30T12:57:54.842Z"
   },
   {
    "duration": 331,
    "start_time": "2021-07-30T12:58:14.903Z"
   },
   {
    "duration": 313,
    "start_time": "2021-07-30T12:59:13.850Z"
   },
   {
    "duration": 9654,
    "start_time": "2021-07-30T13:01:36.662Z"
   },
   {
    "duration": 393,
    "start_time": "2021-07-30T13:22:23.386Z"
   },
   {
    "duration": 390,
    "start_time": "2021-07-30T13:24:46.723Z"
   },
   {
    "duration": 337,
    "start_time": "2021-07-30T13:26:19.584Z"
   },
   {
    "duration": 399,
    "start_time": "2021-07-30T13:27:43.586Z"
   },
   {
    "duration": 325,
    "start_time": "2021-07-30T13:30:11.053Z"
   },
   {
    "duration": 385,
    "start_time": "2021-07-30T13:30:21.689Z"
   },
   {
    "duration": 482,
    "start_time": "2021-07-30T13:30:29.350Z"
   },
   {
    "duration": 893,
    "start_time": "2021-07-30T13:32:19.212Z"
   },
   {
    "duration": 820,
    "start_time": "2021-07-30T13:33:29.980Z"
   },
   {
    "duration": 38,
    "start_time": "2021-07-30T13:34:55.180Z"
   },
   {
    "duration": 1379,
    "start_time": "2021-07-30T13:37:22.888Z"
   },
   {
    "duration": 132,
    "start_time": "2021-07-30T13:54:57.635Z"
   },
   {
    "duration": 994,
    "start_time": "2021-07-30T14:03:51.676Z"
   },
   {
    "duration": 54,
    "start_time": "2021-07-30T14:03:52.672Z"
   },
   {
    "duration": 883,
    "start_time": "2021-07-30T14:03:52.729Z"
   },
   {
    "duration": 1794,
    "start_time": "2021-07-30T14:03:53.614Z"
   },
   {
    "duration": 356,
    "start_time": "2021-07-30T14:03:55.410Z"
   },
   {
    "duration": 861,
    "start_time": "2021-07-30T14:03:55.768Z"
   },
   {
    "duration": 2314,
    "start_time": "2021-07-30T14:03:56.633Z"
   },
   {
    "duration": 1197,
    "start_time": "2021-07-30T14:03:58.951Z"
   },
   {
    "duration": 59,
    "start_time": "2021-07-30T14:04:00.150Z"
   },
   {
    "duration": 539,
    "start_time": "2021-07-30T14:04:00.212Z"
   },
   {
    "duration": 1397,
    "start_time": "2021-07-30T14:04:00.754Z"
   },
   {
    "duration": 439,
    "start_time": "2021-07-30T14:04:02.154Z"
   },
   {
    "duration": 410,
    "start_time": "2021-07-30T14:04:02.597Z"
   },
   {
    "duration": 367,
    "start_time": "2021-07-30T14:04:03.010Z"
   },
   {
    "duration": 399,
    "start_time": "2021-07-30T14:04:03.380Z"
   },
   {
    "duration": 579,
    "start_time": "2021-07-30T14:04:03.785Z"
   },
   {
    "duration": 95,
    "start_time": "2021-07-30T15:49:06.560Z"
   },
   {
    "duration": 939,
    "start_time": "2021-08-15T08:10:24.845Z"
   },
   {
    "duration": 829,
    "start_time": "2021-08-15T08:11:02.686Z"
   },
   {
    "duration": 45,
    "start_time": "2021-08-15T08:11:03.518Z"
   },
   {
    "duration": 750,
    "start_time": "2021-08-15T08:11:03.566Z"
   },
   {
    "duration": 1550,
    "start_time": "2021-08-15T08:11:04.318Z"
   },
   {
    "duration": 319,
    "start_time": "2021-08-15T08:11:05.870Z"
   },
   {
    "duration": 538,
    "start_time": "2021-08-15T08:11:06.192Z"
   },
   {
    "duration": 1455,
    "start_time": "2021-08-15T08:11:06.732Z"
   },
   {
    "duration": 1073,
    "start_time": "2021-08-15T08:11:08.190Z"
   },
   {
    "duration": 41,
    "start_time": "2021-08-15T08:11:09.266Z"
   },
   {
    "duration": 481,
    "start_time": "2021-08-15T08:11:09.310Z"
   },
   {
    "duration": 1261,
    "start_time": "2021-08-15T08:11:09.794Z"
   },
   {
    "duration": 391,
    "start_time": "2021-08-15T08:11:11.057Z"
   },
   {
    "duration": 376,
    "start_time": "2021-08-15T08:11:11.450Z"
   },
   {
    "duration": 322,
    "start_time": "2021-08-15T08:11:11.828Z"
   },
   {
    "duration": 368,
    "start_time": "2021-08-15T08:11:12.152Z"
   },
   {
    "duration": 428,
    "start_time": "2021-08-15T08:11:12.523Z"
   },
   {
    "duration": 928,
    "start_time": "2021-08-15T11:03:57.945Z"
   },
   {
    "duration": 56,
    "start_time": "2021-08-15T11:03:58.876Z"
   },
   {
    "duration": 1308,
    "start_time": "2021-08-15T11:03:58.964Z"
   },
   {
    "duration": 2436,
    "start_time": "2021-08-15T11:04:00.276Z"
   },
   {
    "duration": 481,
    "start_time": "2021-08-15T11:04:02.715Z"
   },
   {
    "duration": 564,
    "start_time": "2021-08-15T11:04:03.200Z"
   },
   {
    "duration": 1576,
    "start_time": "2021-08-15T11:04:03.767Z"
   },
   {
    "duration": 1171,
    "start_time": "2021-08-15T11:04:05.346Z"
   },
   {
    "duration": 62,
    "start_time": "2021-08-15T11:04:06.521Z"
   },
   {
    "duration": 387,
    "start_time": "2021-08-15T11:04:06.586Z"
   },
   {
    "duration": 1381,
    "start_time": "2021-08-15T11:04:06.975Z"
   },
   {
    "duration": 394,
    "start_time": "2021-08-15T11:04:08.359Z"
   },
   {
    "duration": 381,
    "start_time": "2021-08-15T11:04:08.755Z"
   },
   {
    "duration": 337,
    "start_time": "2021-08-15T11:04:09.138Z"
   },
   {
    "duration": 372,
    "start_time": "2021-08-15T11:04:09.477Z"
   },
   {
    "duration": 460,
    "start_time": "2021-08-15T11:04:09.852Z"
   },
   {
    "duration": 38,
    "start_time": "2021-08-15T11:04:35.686Z"
   },
   {
    "duration": 36,
    "start_time": "2021-08-15T11:04:46.382Z"
   },
   {
    "duration": 1371,
    "start_time": "2021-08-15T11:04:57.229Z"
   },
   {
    "duration": 714,
    "start_time": "2021-08-15T11:17:35.490Z"
   },
   {
    "duration": 489,
    "start_time": "2021-08-15T11:17:48.401Z"
   },
   {
    "duration": 128,
    "start_time": "2021-08-15T11:17:58.553Z"
   },
   {
    "duration": 501,
    "start_time": "2021-08-15T11:18:06.864Z"
   },
   {
    "duration": 505,
    "start_time": "2021-08-15T11:18:28.536Z"
   },
   {
    "duration": 666,
    "start_time": "2021-08-15T11:21:19.243Z"
   },
   {
    "duration": 529,
    "start_time": "2021-08-15T11:21:48.970Z"
   },
   {
    "duration": 849,
    "start_time": "2021-08-15T11:22:48.170Z"
   },
   {
    "duration": 524,
    "start_time": "2021-08-15T11:23:02.802Z"
   },
   {
    "duration": 765,
    "start_time": "2021-08-15T11:23:11.187Z"
   },
   {
    "duration": 441,
    "start_time": "2021-08-15T11:24:02.091Z"
   },
   {
    "duration": 435,
    "start_time": "2021-08-15T11:24:13.371Z"
   },
   {
    "duration": 757,
    "start_time": "2021-08-15T11:24:58.995Z"
   },
   {
    "duration": 239,
    "start_time": "2021-08-15T11:25:01.723Z"
   },
   {
    "duration": 232,
    "start_time": "2021-08-15T11:29:20.020Z"
   },
   {
    "duration": 76,
    "start_time": "2021-08-15T11:30:39.812Z"
   },
   {
    "duration": 566,
    "start_time": "2021-08-15T11:30:48.955Z"
   },
   {
    "duration": 163,
    "start_time": "2021-08-15T11:33:54.341Z"
   },
   {
    "duration": 86,
    "start_time": "2021-08-15T11:34:19.741Z"
   },
   {
    "duration": 80,
    "start_time": "2021-08-15T11:34:27.004Z"
   },
   {
    "duration": 83,
    "start_time": "2021-08-15T11:34:30.717Z"
   },
   {
    "duration": 102,
    "start_time": "2021-08-15T11:34:35.660Z"
   },
   {
    "duration": 80,
    "start_time": "2021-08-15T11:34:39.405Z"
   },
   {
    "duration": 101,
    "start_time": "2021-08-15T11:34:58.165Z"
   },
   {
    "duration": 252,
    "start_time": "2021-08-15T11:35:05.829Z"
   },
   {
    "duration": 539,
    "start_time": "2021-08-15T11:44:06.911Z"
   },
   {
    "duration": 656,
    "start_time": "2021-08-15T11:44:19.383Z"
   },
   {
    "duration": 622,
    "start_time": "2021-08-15T11:44:26.343Z"
   },
   {
    "duration": 702,
    "start_time": "2021-08-15T11:45:30.599Z"
   },
   {
    "duration": 234,
    "start_time": "2021-08-15T11:47:03.136Z"
   },
   {
    "duration": 233,
    "start_time": "2021-08-15T11:47:12.688Z"
   },
   {
    "duration": 516,
    "start_time": "2021-08-15T11:49:41.209Z"
   },
   {
    "duration": 774,
    "start_time": "2021-08-15T11:51:00.354Z"
   },
   {
    "duration": 790,
    "start_time": "2021-08-15T11:51:39.634Z"
   },
   {
    "duration": 335,
    "start_time": "2021-08-15T11:52:08.890Z"
   },
   {
    "duration": 322,
    "start_time": "2021-08-15T11:52:20.905Z"
   },
   {
    "duration": 765,
    "start_time": "2021-08-15T11:53:03.146Z"
   },
   {
    "duration": 890,
    "start_time": "2021-08-15T11:53:22.962Z"
   },
   {
    "duration": 545,
    "start_time": "2021-08-15T11:54:57.507Z"
   },
   {
    "duration": 527,
    "start_time": "2021-08-15T11:55:04.586Z"
   },
   {
    "duration": 527,
    "start_time": "2021-08-15T11:55:30.627Z"
   },
   {
    "duration": 526,
    "start_time": "2021-08-15T11:55:47.322Z"
   },
   {
    "duration": 1135,
    "start_time": "2021-08-15T11:55:57.672Z"
   },
   {
    "duration": 78,
    "start_time": "2021-08-15T11:55:58.810Z"
   },
   {
    "duration": 836,
    "start_time": "2021-08-15T11:55:58.892Z"
   },
   {
    "duration": 1595,
    "start_time": "2021-08-15T11:55:59.731Z"
   },
   {
    "duration": 355,
    "start_time": "2021-08-15T11:56:01.329Z"
   },
   {
    "duration": 594,
    "start_time": "2021-08-15T11:56:01.686Z"
   },
   {
    "duration": 608,
    "start_time": "2021-08-15T11:56:02.283Z"
   },
   {
    "duration": 570,
    "start_time": "2021-08-15T11:56:02.895Z"
   },
   {
    "duration": 587,
    "start_time": "2021-08-15T11:56:03.469Z"
   },
   {
    "duration": 1647,
    "start_time": "2021-08-15T11:56:04.058Z"
   },
   {
    "duration": 1254,
    "start_time": "2021-08-15T11:56:05.708Z"
   },
   {
    "duration": 39,
    "start_time": "2021-08-15T11:56:06.965Z"
   },
   {
    "duration": 556,
    "start_time": "2021-08-15T11:56:07.006Z"
   },
   {
    "duration": 2074,
    "start_time": "2021-08-15T11:56:07.565Z"
   },
   {
    "duration": 606,
    "start_time": "2021-08-15T11:56:09.643Z"
   },
   {
    "duration": 664,
    "start_time": "2021-08-15T11:56:10.252Z"
   },
   {
    "duration": 358,
    "start_time": "2021-08-15T11:56:10.918Z"
   },
   {
    "duration": 399,
    "start_time": "2021-08-15T11:56:11.278Z"
   },
   {
    "duration": 497,
    "start_time": "2021-08-15T11:56:11.679Z"
   },
   {
    "duration": 509,
    "start_time": "2021-08-15T11:56:34.547Z"
   },
   {
    "duration": 508,
    "start_time": "2021-08-15T11:56:44.555Z"
   },
   {
    "duration": 507,
    "start_time": "2021-08-15T11:57:04.163Z"
   },
   {
    "duration": 502,
    "start_time": "2021-08-15T11:57:30.530Z"
   },
   {
    "duration": 232,
    "start_time": "2021-08-15T11:57:35.034Z"
   },
   {
    "duration": 214,
    "start_time": "2021-08-15T11:57:38.313Z"
   },
   {
    "duration": 225,
    "start_time": "2021-08-15T11:57:45.970Z"
   },
   {
    "duration": 289,
    "start_time": "2021-08-15T11:58:29.082Z"
   },
   {
    "duration": 525,
    "start_time": "2021-08-15T11:59:07.882Z"
   },
   {
    "duration": 515,
    "start_time": "2021-08-15T11:59:19.506Z"
   },
   {
    "duration": 227,
    "start_time": "2021-08-15T12:00:56.131Z"
   },
   {
    "duration": 507,
    "start_time": "2021-08-15T12:01:21.586Z"
   },
   {
    "duration": 753,
    "start_time": "2021-08-15T12:02:08.211Z"
   },
   {
    "duration": 522,
    "start_time": "2021-08-15T12:02:24.315Z"
   },
   {
    "duration": 536,
    "start_time": "2021-08-15T12:02:32.267Z"
   },
   {
    "duration": 510,
    "start_time": "2021-08-15T12:02:52.419Z"
   },
   {
    "duration": 620,
    "start_time": "2021-08-15T12:03:06.331Z"
   },
   {
    "duration": 1370,
    "start_time": "2021-08-15T12:03:29.450Z"
   },
   {
    "duration": 1084,
    "start_time": "2021-08-15T12:05:19.507Z"
   },
   {
    "duration": 37,
    "start_time": "2021-08-15T12:05:30.163Z"
   },
   {
    "duration": 369,
    "start_time": "2021-08-15T12:05:52.515Z"
   },
   {
    "duration": 1439,
    "start_time": "2021-08-15T12:05:57.195Z"
   },
   {
    "duration": 1271,
    "start_time": "2021-08-15T12:06:12.467Z"
   },
   {
    "duration": 1240,
    "start_time": "2021-08-15T12:06:22.900Z"
   },
   {
    "duration": 376,
    "start_time": "2021-08-15T12:06:45.475Z"
   },
   {
    "duration": 371,
    "start_time": "2021-08-15T12:06:51.275Z"
   },
   {
    "duration": 313,
    "start_time": "2021-08-15T12:06:55.044Z"
   },
   {
    "duration": 393,
    "start_time": "2021-08-15T12:06:57.965Z"
   },
   {
    "duration": 554,
    "start_time": "2021-08-15T12:07:02.132Z"
   },
   {
    "duration": 416,
    "start_time": "2021-08-15T12:10:00.149Z"
   },
   {
    "duration": 888,
    "start_time": "2021-08-15T12:38:13.977Z"
   },
   {
    "duration": 658,
    "start_time": "2021-08-15T12:40:46.513Z"
   },
   {
    "duration": 781,
    "start_time": "2021-08-15T12:40:59.104Z"
   },
   {
    "duration": 1663,
    "start_time": "2021-08-15T12:41:17.747Z"
   },
   {
    "duration": 869,
    "start_time": "2021-08-15T12:41:29.880Z"
   },
   {
    "duration": 29,
    "start_time": "2021-08-15T13:19:19.730Z"
   },
   {
    "duration": 1477,
    "start_time": "2021-08-15T13:19:29.264Z"
   },
   {
    "duration": 55,
    "start_time": "2021-08-15T13:19:30.745Z"
   },
   {
    "duration": 1062,
    "start_time": "2021-08-15T13:19:30.803Z"
   },
   {
    "duration": 1515,
    "start_time": "2021-08-15T13:19:31.869Z"
   },
   {
    "duration": 358,
    "start_time": "2021-08-15T13:19:33.387Z"
   },
   {
    "duration": 576,
    "start_time": "2021-08-15T13:19:33.748Z"
   },
   {
    "duration": 548,
    "start_time": "2021-08-15T13:19:34.327Z"
   },
   {
    "duration": 241,
    "start_time": "2021-08-15T13:19:34.879Z"
   },
   {
    "duration": 562,
    "start_time": "2021-08-15T13:19:35.123Z"
   },
   {
    "duration": 867,
    "start_time": "2021-08-15T13:19:35.688Z"
   },
   {
    "duration": 1445,
    "start_time": "2021-08-15T13:19:36.558Z"
   },
   {
    "duration": 1080,
    "start_time": "2021-08-15T13:19:38.005Z"
   },
   {
    "duration": 38,
    "start_time": "2021-08-15T13:19:39.087Z"
   },
   {
    "duration": 1365,
    "start_time": "2021-08-15T13:19:39.127Z"
   },
   {
    "duration": -459,
    "start_time": "2021-08-15T13:19:40.954Z"
   },
   {
    "duration": -464,
    "start_time": "2021-08-15T13:19:40.961Z"
   },
   {
    "duration": -465,
    "start_time": "2021-08-15T13:19:40.964Z"
   },
   {
    "duration": -470,
    "start_time": "2021-08-15T13:19:40.970Z"
   },
   {
    "duration": -470,
    "start_time": "2021-08-15T13:19:40.972Z"
   },
   {
    "duration": -473,
    "start_time": "2021-08-15T13:19:40.976Z"
   },
   {
    "duration": 308,
    "start_time": "2021-08-15T13:21:48.133Z"
   },
   {
    "duration": 2406,
    "start_time": "2021-08-15T13:22:47.885Z"
   },
   {
    "duration": 262,
    "start_time": "2021-08-15T13:27:24.999Z"
   },
   {
    "duration": 277,
    "start_time": "2021-08-15T13:27:32.990Z"
   },
   {
    "duration": 106,
    "start_time": "2021-08-15T13:27:46.966Z"
   },
   {
    "duration": 1638,
    "start_time": "2021-08-15T13:27:58.710Z"
   },
   {
    "duration": 40,
    "start_time": "2021-08-15T13:28:29.519Z"
   },
   {
    "duration": 1155,
    "start_time": "2021-08-15T13:28:42.670Z"
   },
   {
    "duration": 2051,
    "start_time": "2021-08-15T13:30:04.316Z"
   },
   {
    "duration": 98,
    "start_time": "2021-08-15T13:30:06.371Z"
   },
   {
    "duration": 824,
    "start_time": "2021-08-15T13:30:06.474Z"
   },
   {
    "duration": 1559,
    "start_time": "2021-08-15T13:30:07.302Z"
   },
   {
    "duration": 342,
    "start_time": "2021-08-15T13:30:08.864Z"
   },
   {
    "duration": 571,
    "start_time": "2021-08-15T13:30:09.208Z"
   },
   {
    "duration": 541,
    "start_time": "2021-08-15T13:30:09.782Z"
   },
   {
    "duration": 251,
    "start_time": "2021-08-15T13:30:10.326Z"
   },
   {
    "duration": 548,
    "start_time": "2021-08-15T13:30:10.581Z"
   },
   {
    "duration": 865,
    "start_time": "2021-08-15T13:30:11.132Z"
   },
   {
    "duration": 1408,
    "start_time": "2021-08-15T13:30:12.000Z"
   },
   {
    "duration": 1094,
    "start_time": "2021-08-15T13:30:13.410Z"
   },
   {
    "duration": 63,
    "start_time": "2021-08-15T13:30:14.507Z"
   },
   {
    "duration": 414,
    "start_time": "2021-08-15T13:30:14.573Z"
   },
   {
    "duration": 1418,
    "start_time": "2021-08-15T13:30:14.990Z"
   },
   {
    "duration": 420,
    "start_time": "2021-08-15T13:30:16.410Z"
   },
   {
    "duration": 403,
    "start_time": "2021-08-15T13:30:16.833Z"
   },
   {
    "duration": 358,
    "start_time": "2021-08-15T13:30:17.239Z"
   },
   {
    "duration": 420,
    "start_time": "2021-08-15T13:30:17.600Z"
   },
   {
    "duration": 466,
    "start_time": "2021-08-15T13:30:18.022Z"
   },
   {
    "duration": 1011,
    "start_time": "2021-08-15T13:32:22.761Z"
   },
   {
    "duration": 1078,
    "start_time": "2021-08-15T13:32:40.255Z"
   },
   {
    "duration": 346,
    "start_time": "2021-08-15T13:32:45.392Z"
   },
   {
    "duration": 1524,
    "start_time": "2021-08-15T13:44:23.527Z"
   },
   {
    "duration": 49,
    "start_time": "2021-08-15T13:44:25.054Z"
   },
   {
    "duration": 845,
    "start_time": "2021-08-15T13:44:25.107Z"
   },
   {
    "duration": 2272,
    "start_time": "2021-08-15T13:44:25.963Z"
   },
   {
    "duration": 500,
    "start_time": "2021-08-15T13:44:28.238Z"
   },
   {
    "duration": 573,
    "start_time": "2021-08-15T13:44:28.741Z"
   },
   {
    "duration": 584,
    "start_time": "2021-08-15T13:44:29.316Z"
   },
   {
    "duration": 252,
    "start_time": "2021-08-15T13:44:29.904Z"
   },
   {
    "duration": 578,
    "start_time": "2021-08-15T13:44:30.163Z"
   },
   {
    "duration": 900,
    "start_time": "2021-08-15T13:44:30.744Z"
   },
   {
    "duration": 1394,
    "start_time": "2021-08-15T13:44:31.646Z"
   },
   {
    "duration": 1048,
    "start_time": "2021-08-15T13:44:33.043Z"
   },
   {
    "duration": 36,
    "start_time": "2021-08-15T13:44:34.094Z"
   },
   {
    "duration": 380,
    "start_time": "2021-08-15T13:44:34.163Z"
   },
   {
    "duration": 1375,
    "start_time": "2021-08-15T13:44:34.546Z"
   },
   {
    "duration": 405,
    "start_time": "2021-08-15T13:44:35.923Z"
   },
   {
    "duration": 375,
    "start_time": "2021-08-15T13:44:36.330Z"
   },
   {
    "duration": 345,
    "start_time": "2021-08-15T13:44:36.707Z"
   },
   {
    "duration": 383,
    "start_time": "2021-08-15T13:44:37.063Z"
   },
   {
    "duration": 460,
    "start_time": "2021-08-15T13:44:37.449Z"
   },
   {
    "duration": 1350,
    "start_time": "2021-08-15T13:45:51.475Z"
   },
   {
    "duration": 1089,
    "start_time": "2021-08-15T13:46:57.803Z"
   },
   {
    "duration": 946,
    "start_time": "2021-08-15T13:59:45.542Z"
   },
   {
    "duration": 1317,
    "start_time": "2021-08-15T14:06:19.857Z"
   },
   {
    "duration": 118,
    "start_time": "2021-08-15T20:14:09.894Z"
   },
   {
    "duration": 280,
    "start_time": "2021-08-15T20:15:42.281Z"
   },
   {
    "duration": 818,
    "start_time": "2021-08-15T20:15:57.377Z"
   },
   {
    "duration": 37,
    "start_time": "2021-08-15T20:15:58.198Z"
   },
   {
    "duration": 1035,
    "start_time": "2021-08-15T20:15:58.239Z"
   },
   {
    "duration": 1468,
    "start_time": "2021-08-15T20:15:59.277Z"
   },
   {
    "duration": 337,
    "start_time": "2021-08-15T20:16:00.748Z"
   },
   {
    "duration": 540,
    "start_time": "2021-08-15T20:16:01.088Z"
   },
   {
    "duration": 533,
    "start_time": "2021-08-15T20:16:01.631Z"
   },
   {
    "duration": 251,
    "start_time": "2021-08-15T20:16:02.167Z"
   },
   {
    "duration": 520,
    "start_time": "2021-08-15T20:16:02.422Z"
   },
   {
    "duration": 847,
    "start_time": "2021-08-15T20:16:02.945Z"
   },
   {
    "duration": 1507,
    "start_time": "2021-08-15T20:16:03.795Z"
   },
   {
    "duration": 1036,
    "start_time": "2021-08-15T20:16:05.305Z"
   },
   {
    "duration": 50,
    "start_time": "2021-08-15T20:16:06.343Z"
   },
   {
    "duration": 1498,
    "start_time": "2021-08-15T20:16:06.396Z"
   },
   {
    "duration": 54247,
    "start_time": "2021-08-15T20:15:13.650Z"
   },
   {
    "duration": 54246,
    "start_time": "2021-08-15T20:15:13.652Z"
   },
   {
    "duration": 54244,
    "start_time": "2021-08-15T20:15:13.656Z"
   },
   {
    "duration": 54243,
    "start_time": "2021-08-15T20:15:13.658Z"
   },
   {
    "duration": 54244,
    "start_time": "2021-08-15T20:15:13.659Z"
   },
   {
    "duration": 54243,
    "start_time": "2021-08-15T20:15:13.661Z"
   },
   {
    "duration": 347,
    "start_time": "2021-08-15T20:18:57.117Z"
   },
   {
    "duration": 231,
    "start_time": "2021-08-15T20:19:02.952Z"
   },
   {
    "duration": 37,
    "start_time": "2021-08-15T20:19:03.186Z"
   },
   {
    "duration": 1116,
    "start_time": "2021-08-15T20:19:03.226Z"
   },
   {
    "duration": 1445,
    "start_time": "2021-08-15T20:19:04.344Z"
   },
   {
    "duration": 328,
    "start_time": "2021-08-15T20:19:05.792Z"
   },
   {
    "duration": 539,
    "start_time": "2021-08-15T20:19:06.123Z"
   },
   {
    "duration": 534,
    "start_time": "2021-08-15T20:19:06.666Z"
   },
   {
    "duration": 230,
    "start_time": "2021-08-15T20:19:07.205Z"
   },
   {
    "duration": 533,
    "start_time": "2021-08-15T20:19:07.437Z"
   },
   {
    "duration": 867,
    "start_time": "2021-08-15T20:19:07.973Z"
   },
   {
    "duration": 1466,
    "start_time": "2021-08-15T20:19:08.842Z"
   },
   {
    "duration": 1008,
    "start_time": "2021-08-15T20:19:10.310Z"
   },
   {
    "duration": 36,
    "start_time": "2021-08-15T20:19:11.321Z"
   },
   {
    "duration": 385,
    "start_time": "2021-08-15T20:19:11.359Z"
   },
   {
    "duration": 1542,
    "start_time": "2021-08-15T20:19:11.746Z"
   },
   {
    "duration": 405,
    "start_time": "2021-08-15T20:19:13.290Z"
   },
   {
    "duration": 362,
    "start_time": "2021-08-15T20:19:13.698Z"
   },
   {
    "duration": 329,
    "start_time": "2021-08-15T20:19:14.063Z"
   },
   {
    "duration": 363,
    "start_time": "2021-08-15T20:19:14.395Z"
   },
   {
    "duration": 440,
    "start_time": "2021-08-15T20:19:14.760Z"
   },
   {
    "duration": 126,
    "start_time": "2021-08-15T20:19:49.306Z"
   }
  ],
  "kernelspec": {
   "display_name": "Python 3 (ipykernel)",
   "language": "python",
   "name": "python3"
  },
  "language_info": {
   "codemirror_mode": {
    "name": "ipython",
    "version": 3
   },
   "file_extension": ".py",
   "mimetype": "text/x-python",
   "name": "python",
   "nbconvert_exporter": "python",
   "pygments_lexer": "ipython3",
   "version": "3.10.1"
  },
  "toc": {
   "base_numbering": 1,
   "nav_menu": {},
   "number_sections": true,
   "sideBar": true,
   "skip_h1_title": true,
   "title_cell": "Содержание",
   "title_sidebar": "Contents",
   "toc_cell": true,
   "toc_position": {
    "height": "calc(100% - 180px)",
    "left": "10px",
    "top": "150px",
    "width": "284.444px"
   },
   "toc_section_display": true,
   "toc_window_display": true
  }
 },
 "nbformat": 4,
 "nbformat_minor": 2
}
