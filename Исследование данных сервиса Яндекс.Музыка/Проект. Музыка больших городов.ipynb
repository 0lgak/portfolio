{
 "cells": [
  {
   "cell_type": "markdown",
   "metadata": {
    "id": "E0vqbgi9ay0H"
   },
   "source": [
    "# Яндекс.Музыка"
   ]
  },
  {
   "cell_type": "markdown",
   "metadata": {
    "id": "VUC88oWjTJw2"
   },
   "source": [
    "**Цель исследования** — проверьте три гипотезы:\n",
    "1. Активность пользователей зависит от дня недели. Причём в Москве и Петербурге это проявляется по-разному.\n",
    "2. В понедельник утром в Москве преобладают одни жанры, а в Петербурге — другие. Так же и вечером пятницы преобладают разные жанры — в зависимости от города. \n",
    "3. Москва и Петербург предпочитают разные жанры музыки. В Москве чаще слушают поп-музыку, в Петербурге — русский рэп.\n",
    "\n",
    "**Ход исследования**\n",
    " 1. Обзор данных.\n",
    " 2. Предобработка данных.\n",
    " 3. Проверка гипотез."
   ]
  },
  {
   "cell_type": "markdown",
   "metadata": {
    "id": "Ml1hmfXC_Zcs"
   },
   "source": [
    "## Обзор данных\n"
   ]
  },
  {
   "cell_type": "code",
   "execution_count": 1,
   "metadata": {
    "id": "AXN7PHPN_Zcs"
   },
   "outputs": [],
   "source": [
    "import pandas as pd # импорт библиотеки pandas"
   ]
  },
  {
   "cell_type": "code",
   "execution_count": 2,
   "metadata": {
    "id": "fFVu7vqh_Zct"
   },
   "outputs": [],
   "source": [
    "df = pd.read_csv('yandex_music_project.csv') # чтение файла с данными и сохранение в df"
   ]
  },
  {
   "cell_type": "code",
   "execution_count": 3,
   "metadata": {
    "id": "oWTVX3gW_Zct"
   },
   "outputs": [
    {
     "data": {
      "text/html": [
       "<div>\n",
       "<style scoped>\n",
       "    .dataframe tbody tr th:only-of-type {\n",
       "        vertical-align: middle;\n",
       "    }\n",
       "\n",
       "    .dataframe tbody tr th {\n",
       "        vertical-align: top;\n",
       "    }\n",
       "\n",
       "    .dataframe thead th {\n",
       "        text-align: right;\n",
       "    }\n",
       "</style>\n",
       "<table border=\"1\" class=\"dataframe\">\n",
       "  <thead>\n",
       "    <tr style=\"text-align: right;\">\n",
       "      <th></th>\n",
       "      <th>userID</th>\n",
       "      <th>Track</th>\n",
       "      <th>artist</th>\n",
       "      <th>genre</th>\n",
       "      <th>City</th>\n",
       "      <th>time</th>\n",
       "      <th>Day</th>\n",
       "    </tr>\n",
       "  </thead>\n",
       "  <tbody>\n",
       "    <tr>\n",
       "      <th>0</th>\n",
       "      <td>FFB692EC</td>\n",
       "      <td>Kamigata To Boots</td>\n",
       "      <td>The Mass Missile</td>\n",
       "      <td>rock</td>\n",
       "      <td>Saint-Petersburg</td>\n",
       "      <td>20:28:33</td>\n",
       "      <td>Wednesday</td>\n",
       "    </tr>\n",
       "    <tr>\n",
       "      <th>1</th>\n",
       "      <td>55204538</td>\n",
       "      <td>Delayed Because of Accident</td>\n",
       "      <td>Andreas Rönnberg</td>\n",
       "      <td>rock</td>\n",
       "      <td>Moscow</td>\n",
       "      <td>14:07:09</td>\n",
       "      <td>Friday</td>\n",
       "    </tr>\n",
       "    <tr>\n",
       "      <th>2</th>\n",
       "      <td>20EC38</td>\n",
       "      <td>Funiculì funiculà</td>\n",
       "      <td>Mario Lanza</td>\n",
       "      <td>pop</td>\n",
       "      <td>Saint-Petersburg</td>\n",
       "      <td>20:58:07</td>\n",
       "      <td>Wednesday</td>\n",
       "    </tr>\n",
       "    <tr>\n",
       "      <th>3</th>\n",
       "      <td>A3DD03C9</td>\n",
       "      <td>Dragons in the Sunset</td>\n",
       "      <td>Fire + Ice</td>\n",
       "      <td>folk</td>\n",
       "      <td>Saint-Petersburg</td>\n",
       "      <td>08:37:09</td>\n",
       "      <td>Monday</td>\n",
       "    </tr>\n",
       "    <tr>\n",
       "      <th>4</th>\n",
       "      <td>E2DC1FAE</td>\n",
       "      <td>Soul People</td>\n",
       "      <td>Space Echo</td>\n",
       "      <td>dance</td>\n",
       "      <td>Moscow</td>\n",
       "      <td>08:34:34</td>\n",
       "      <td>Monday</td>\n",
       "    </tr>\n",
       "    <tr>\n",
       "      <th>5</th>\n",
       "      <td>842029A1</td>\n",
       "      <td>Преданная</td>\n",
       "      <td>IMPERVTOR</td>\n",
       "      <td>rusrap</td>\n",
       "      <td>Saint-Petersburg</td>\n",
       "      <td>13:09:41</td>\n",
       "      <td>Friday</td>\n",
       "    </tr>\n",
       "    <tr>\n",
       "      <th>6</th>\n",
       "      <td>4CB90AA5</td>\n",
       "      <td>True</td>\n",
       "      <td>Roman Messer</td>\n",
       "      <td>dance</td>\n",
       "      <td>Moscow</td>\n",
       "      <td>13:00:07</td>\n",
       "      <td>Wednesday</td>\n",
       "    </tr>\n",
       "    <tr>\n",
       "      <th>7</th>\n",
       "      <td>F03E1C1F</td>\n",
       "      <td>Feeling This Way</td>\n",
       "      <td>Polina Griffith</td>\n",
       "      <td>dance</td>\n",
       "      <td>Moscow</td>\n",
       "      <td>20:47:49</td>\n",
       "      <td>Wednesday</td>\n",
       "    </tr>\n",
       "    <tr>\n",
       "      <th>8</th>\n",
       "      <td>8FA1D3BE</td>\n",
       "      <td>И вновь продолжается бой</td>\n",
       "      <td>NaN</td>\n",
       "      <td>ruspop</td>\n",
       "      <td>Moscow</td>\n",
       "      <td>09:17:40</td>\n",
       "      <td>Friday</td>\n",
       "    </tr>\n",
       "    <tr>\n",
       "      <th>9</th>\n",
       "      <td>E772D5C0</td>\n",
       "      <td>Pessimist</td>\n",
       "      <td>NaN</td>\n",
       "      <td>dance</td>\n",
       "      <td>Saint-Petersburg</td>\n",
       "      <td>21:20:49</td>\n",
       "      <td>Wednesday</td>\n",
       "    </tr>\n",
       "  </tbody>\n",
       "</table>\n",
       "</div>"
      ],
      "text/plain": [
       "     userID                        Track            artist   genre  \\\n",
       "0  FFB692EC            Kamigata To Boots  The Mass Missile    rock   \n",
       "1  55204538  Delayed Because of Accident  Andreas Rönnberg    rock   \n",
       "2    20EC38            Funiculì funiculà       Mario Lanza     pop   \n",
       "3  A3DD03C9        Dragons in the Sunset        Fire + Ice    folk   \n",
       "4  E2DC1FAE                  Soul People        Space Echo   dance   \n",
       "5  842029A1                    Преданная         IMPERVTOR  rusrap   \n",
       "6  4CB90AA5                         True      Roman Messer   dance   \n",
       "7  F03E1C1F             Feeling This Way   Polina Griffith   dance   \n",
       "8  8FA1D3BE     И вновь продолжается бой               NaN  ruspop   \n",
       "9  E772D5C0                    Pessimist               NaN   dance   \n",
       "\n",
       "             City        time        Day  \n",
       "0  Saint-Petersburg  20:28:33  Wednesday  \n",
       "1            Moscow  14:07:09     Friday  \n",
       "2  Saint-Petersburg  20:58:07  Wednesday  \n",
       "3  Saint-Petersburg  08:37:09     Monday  \n",
       "4            Moscow  08:34:34     Monday  \n",
       "5  Saint-Petersburg  13:09:41     Friday  \n",
       "6            Moscow  13:00:07  Wednesday  \n",
       "7            Moscow  20:47:49  Wednesday  \n",
       "8            Moscow  09:17:40     Friday  \n",
       "9  Saint-Petersburg  21:20:49  Wednesday  "
      ]
     },
     "execution_count": 3,
     "metadata": {},
     "output_type": "execute_result"
    }
   ],
   "source": [
    "df.head(10)  #получение первых 10 строк таблицы df)"
   ]
  },
  {
   "cell_type": "code",
   "execution_count": 4,
   "metadata": {
    "id": "DSf2kIb-_Zct",
    "scrolled": true
   },
   "outputs": [
    {
     "name": "stdout",
     "output_type": "stream",
     "text": [
      "<class 'pandas.core.frame.DataFrame'>\n",
      "RangeIndex: 65079 entries, 0 to 65078\n",
      "Data columns (total 7 columns):\n",
      " #   Column    Non-Null Count  Dtype \n",
      "---  ------    --------------  ----- \n",
      " 0     userID  65079 non-null  object\n",
      " 1   Track     63848 non-null  object\n",
      " 2   artist    57876 non-null  object\n",
      " 3   genre     63881 non-null  object\n",
      " 4     City    65079 non-null  object\n",
      " 5   time      65079 non-null  object\n",
      " 6   Day       65079 non-null  object\n",
      "dtypes: object(7)\n",
      "memory usage: 3.5+ MB\n"
     ]
    }
   ],
   "source": [
    "df.info()# получение общей информации о данных в таблице df"
   ]
  },
  {
   "cell_type": "markdown",
   "metadata": {
    "id": "TaQ2Iwbr_Zct"
   },
   "source": [
    "Итак, в таблице семь столбцов. Тип данных во всех столбцах — `object`.\n",
    "\n",
    "Согласно документации к данным:\n",
    "* `userID` — идентификатор пользователя;\n",
    "* `Track` — название трека;  \n",
    "* `artist` — имя исполнителя;\n",
    "* `genre` — название жанра;\n",
    "* `City` — город пользователя;\n",
    "* `time` — время начала прослушивания;\n",
    "* `Day` — день недели."
   ]
  },
  {
   "cell_type": "markdown",
   "metadata": {
    "id": "MCB6-dXG_Zct"
   },
   "source": [
    "**Выводы**\n",
    "\n",
    "Каждая строка таблицы содержит информацию о композициях определённого жанра в определённом исполнении, которые пользователи слушали в одном из городов в определённое время и день недели. Две проблемы, которые нужно решать: пропуски и некачественные названия столбцов. Для проверки рабочих гипотез особенно ценны столбцы *time*, *day* и *City*. Данные из столбца *genre* позволят узнать самые популярные жанры."
   ]
  },
  {
   "cell_type": "markdown",
   "metadata": {
    "id": "SjYF6Ub9_Zct"
   },
   "source": [
    "## Предобработка данных\n"
   ]
  },
  {
   "cell_type": "markdown",
   "metadata": {},
   "source": [
    "### Переименование столбцов"
   ]
  },
  {
   "cell_type": "code",
   "execution_count": 5,
   "metadata": {
    "id": "oKOTdF_Q_Zct"
   },
   "outputs": [
    {
     "data": {
      "text/plain": [
       "Index(['  userID', 'Track', 'artist', 'genre', '  City  ', 'time', 'Day'], dtype='object')"
      ]
     },
     "execution_count": 5,
     "metadata": {},
     "output_type": "execute_result"
    }
   ],
   "source": [
    "df.columns # перечень названий столбцов таблицы df"
   ]
  },
  {
   "cell_type": "markdown",
   "metadata": {},
   "source": [
    "В названиях столбцов есть пробелы, которые могут затруднять доступ к данным."
   ]
  },
  {
   "cell_type": "markdown",
   "metadata": {
    "id": "zj5534cv_Zct"
   },
   "source": [
    "Переименуем столбцы для удобства дальнейшей работы. Проверим результат."
   ]
  },
  {
   "cell_type": "code",
   "execution_count": 40,
   "metadata": {
    "id": "ISlFqs5y_Zct"
   },
   "outputs": [],
   "source": [
    "new_names=['user_id','track_name','artist_name', 'genre_name', 'city','time', 'weekday']\n",
    "df.set_axis(new_names, axis='columns', inplace=True)"
   ]
  },
  {
   "cell_type": "markdown",
   "metadata": {
    "id": "1dqbh00J_Zct"
   },
   "source": [
    "Проверьте результат. Для этого ещё раз выведите на экран названия столбцов:"
   ]
  },
  {
   "cell_type": "code",
   "execution_count": 7,
   "metadata": {
    "id": "d4NOAmTW_Zct"
   },
   "outputs": [
    {
     "data": {
      "text/plain": [
       "Index(['user_id', 'track_name', 'artist_name', 'genre_name', 'city', 'time',\n",
       "       'weekday'],\n",
       "      dtype='object')"
      ]
     },
     "execution_count": 7,
     "metadata": {},
     "output_type": "execute_result"
    }
   ],
   "source": [
    "df.columns # проверка результатов - перечень названий столбцов"
   ]
  },
  {
   "cell_type": "markdown",
   "metadata": {
    "id": "5ISfbcfY_Zct"
   },
   "source": [
    "### Пропуски значений\n",
    "Сначала посчитайте, сколько в таблице пропущенных значений. Для этого достаточно двух методов `pandas`:"
   ]
  },
  {
   "cell_type": "code",
   "execution_count": 8,
   "metadata": {
    "id": "RskX29qr_Zct"
   },
   "outputs": [
    {
     "data": {
      "text/plain": [
       "user_id           0\n",
       "track_name     1231\n",
       "artist_name    7203\n",
       "genre_name     1198\n",
       "city              0\n",
       "time              0\n",
       "weekday           0\n",
       "dtype: int64"
      ]
     },
     "execution_count": 8,
     "metadata": {},
     "output_type": "execute_result"
    }
   ],
   "source": [
    " df.isna().sum() # подсчёт пропусков"
   ]
  },
  {
   "cell_type": "markdown",
   "metadata": {
    "id": "qubhgnlO_Zct"
   },
   "source": [
    "Пустые значения свидетельствуют, что для некоторых треков доступна не вся информация. Причины могут быть разные: скажем, не назван конкретный исполнитель народной песни. Хуже, если проблемы с записью данных. Каждый отдельный случай необходимо разобрать и выявить причину.\n"
   ]
  },
  {
   "cell_type": "markdown",
   "metadata": {
    "id": "fSv2laPA_Zct"
   },
   "source": [
    "Заменяем пропущенные значения в столбцах с названием трека и исполнителя на строку 'unknown'. После этой операции нужно убедиться, что таблица больше не содержит пропусков."
   ]
  },
  {
   "cell_type": "code",
   "execution_count": 9,
   "metadata": {
    "id": "KplB5qWs_Zct"
   },
   "outputs": [
    {
     "data": {
      "text/plain": [
       "user_id           0\n",
       "track_name        0\n",
       "artist_name    7203\n",
       "genre_name     1198\n",
       "city              0\n",
       "time              0\n",
       "weekday           0\n",
       "dtype: int64"
      ]
     },
     "execution_count": 9,
     "metadata": {},
     "output_type": "execute_result"
    }
   ],
   "source": [
    "df['track_name']=df['track_name'].fillna('unknown')# <замена пропущенных значений в столбце 'track_name' на строку 'unknown' специальным методом замены>\n",
    "df.isnull().sum()"
   ]
  },
  {
   "cell_type": "code",
   "execution_count": 10,
   "metadata": {},
   "outputs": [],
   "source": [
    "# <замена пропущенных значений в столбце 'artist_name' на строку 'unknown' специальным методом замены>\n",
    "df['artist_name']=df['artist_name'].fillna('unknown')"
   ]
  },
  {
   "cell_type": "markdown",
   "metadata": {},
   "source": [
    "Удаляем в столбце с жанрами пустые значения; убеждаемся, что их больше не осталось."
   ]
  },
  {
   "cell_type": "code",
   "execution_count": 11,
   "metadata": {},
   "outputs": [],
   "source": [
    "# <удаление пропущенных значений в столбце 'genre_name'>\n",
    "df.dropna(subset=['genre_name'],inplace=True)"
   ]
  },
  {
   "cell_type": "markdown",
   "metadata": {
    "id": "Ilsm-MZo_Zct"
   },
   "source": [
    "Убедимся, что в таблице не осталось пропусков. Для этого ещё раз посчитайте пропущенные значения."
   ]
  },
  {
   "cell_type": "code",
   "execution_count": 12,
   "metadata": {
    "id": "Tq4nYRX4_Zct"
   },
   "outputs": [
    {
     "data": {
      "text/plain": [
       "user_id        0\n",
       "track_name     0\n",
       "artist_name    0\n",
       "genre_name     0\n",
       "city           0\n",
       "time           0\n",
       "weekday        0\n",
       "dtype: int64"
      ]
     },
     "execution_count": 12,
     "metadata": {},
     "output_type": "execute_result"
    }
   ],
   "source": [
    " df.isna().sum() # подсчёт пропусков"
   ]
  },
  {
   "cell_type": "markdown",
   "metadata": {
    "id": "BWKRtBJ3_Zct"
   },
   "source": [
    "### Дубликаты\n",
    "Необходимо установить наличие дубликатов.  Если найдутся, удаляем, и проверяем, все ли удалились."
   ]
  },
  {
   "cell_type": "code",
   "execution_count": 13,
   "metadata": {
    "id": "36eES_S0_Zct"
   },
   "outputs": [
    {
     "data": {
      "text/plain": [
       "3755"
      ]
     },
     "execution_count": 13,
     "metadata": {},
     "output_type": "execute_result"
    }
   ],
   "source": [
    "df.duplicated().sum() # подсчёт явных дубликатов"
   ]
  },
  {
   "cell_type": "code",
   "execution_count": 14,
   "metadata": {
    "id": "exFHq6tt_Zct"
   },
   "outputs": [],
   "source": [
    "# удаление явных дубликатов (с удалением старых индексов и формированием новых)\n",
    "df = df.drop_duplicates().reset_index(drop=True) "
   ]
  },
  {
   "cell_type": "code",
   "execution_count": 15,
   "metadata": {
    "id": "-8PuNWQ0_Zct"
   },
   "outputs": [
    {
     "data": {
      "text/plain": [
       "0"
      ]
     },
     "execution_count": 15,
     "metadata": {},
     "output_type": "execute_result"
    }
   ],
   "source": [
    "df.duplicated().sum() # проверка на отсутствие дубликатов"
   ]
  },
  {
   "cell_type": "markdown",
   "metadata": {
    "id": "QlFBsxAr_Zct"
   },
   "source": [
    "Теперь избавьтесь от неявных дубликатов в колонке `genre`. Например, название одного и того же жанра может быть записано немного по-разному. Такие ошибки тоже повлияют на результат исследования."
   ]
  },
  {
   "cell_type": "markdown",
   "metadata": {
    "id": "eSjWwsOh_Zct"
   },
   "source": [
    "Сохраняем список уникальных значений столбца с жанрами в переменной genres_list.\n",
    "\n",
    "Объявим функцию find_genre() для поиска неявных дубликатов в столбце с жанрами. Например, когда название одного и того же жанра написано разными словами."
   ]
  },
  {
   "cell_type": "code",
   "execution_count": 16,
   "metadata": {
    "id": "JIUcqzZN_Zct",
    "scrolled": false
   },
   "outputs": [
    {
     "data": {
      "text/plain": [
       "array(['acid', 'acoustic', 'action', 'adult', 'africa', 'afrikaans',\n",
       "       'alternative', 'alternativepunk', 'ambient', 'americana',\n",
       "       'animated', 'anime', 'arabesk', 'arabic', 'arena',\n",
       "       'argentinetango', 'art', 'audiobook', 'author', 'avantgarde',\n",
       "       'axé', 'baile', 'balkan', 'beats', 'bigroom', 'black', 'bluegrass',\n",
       "       'blues', 'bollywood', 'bossa', 'brazilian', 'breakbeat', 'breaks',\n",
       "       'broadway', 'cantautori', 'cantopop', 'canzone', 'caribbean',\n",
       "       'caucasian', 'celtic', 'chamber', 'chanson', 'children', 'chill',\n",
       "       'chinese', 'choral', 'christian', 'christmas', 'classical',\n",
       "       'classicmetal', 'club', 'colombian', 'comedy', 'conjazz',\n",
       "       'contemporary', 'country', 'cuban', 'dance', 'dancehall',\n",
       "       'dancepop', 'dark', 'death', 'deep', 'deutschrock', 'deutschspr',\n",
       "       'dirty', 'disco', 'dnb', 'documentary', 'downbeat', 'downtempo',\n",
       "       'drum', 'dub', 'dubstep', 'eastern', 'easy', 'electronic',\n",
       "       'electropop', 'emo', 'entehno', 'epicmetal', 'estrada', 'ethnic',\n",
       "       'eurofolk', 'european', 'experimental', 'extrememetal', 'fado',\n",
       "       'fairytail', 'film', 'fitness', 'flamenco', 'folk', 'folklore',\n",
       "       'folkmetal', 'folkrock', 'folktronica', 'forró', 'frankreich',\n",
       "       'französisch', 'french', 'funk', 'future', 'gangsta', 'garage',\n",
       "       'german', 'ghazal', 'gitarre', 'glitch', 'gospel', 'gothic',\n",
       "       'grime', 'grunge', 'gypsy', 'handsup', \"hard'n'heavy\", 'hardcore',\n",
       "       'hardstyle', 'hardtechno', 'hip', 'hip-hop', 'hiphop',\n",
       "       'historisch', 'holiday', 'hop', 'horror', 'house', 'hymn', 'idm',\n",
       "       'independent', 'indian', 'indie', 'indipop', 'industrial',\n",
       "       'inspirational', 'instrumental', 'international', 'irish', 'jam',\n",
       "       'japanese', 'jazz', 'jewish', 'jpop', 'jungle', 'k-pop',\n",
       "       'karadeniz', 'karaoke', 'kayokyoku', 'korean', 'laiko', 'latin',\n",
       "       'latino', 'leftfield', 'local', 'lounge', 'loungeelectronic',\n",
       "       'lovers', 'malaysian', 'mandopop', 'marschmusik', 'meditative',\n",
       "       'mediterranean', 'melodic', 'metal', 'metalcore', 'mexican',\n",
       "       'middle', 'minimal', 'miscellaneous', 'modern', 'mood', 'mpb',\n",
       "       'muslim', 'native', 'neoklassik', 'neue', 'new', 'newage',\n",
       "       'newwave', 'nu', 'nujazz', 'numetal', 'oceania', 'old', 'opera',\n",
       "       'orchestral', 'other', 'piano', 'podcasts', 'pop', 'popdance',\n",
       "       'popelectronic', 'popeurodance', 'poprussian', 'post',\n",
       "       'posthardcore', 'postrock', 'power', 'progmetal', 'progressive',\n",
       "       'psychedelic', 'punjabi', 'punk', 'quebecois', 'ragga', 'ram',\n",
       "       'rancheras', 'rap', 'rave', 'reggae', 'reggaeton', 'regional',\n",
       "       'relax', 'religious', 'retro', 'rhythm', 'rnb', 'rnr', 'rock',\n",
       "       'rockabilly', 'rockalternative', 'rockindie', 'rockother',\n",
       "       'romance', 'roots', 'ruspop', 'rusrap', 'rusrock', 'russian',\n",
       "       'salsa', 'samba', 'scenic', 'schlager', 'self', 'sertanejo',\n",
       "       'shanson', 'shoegazing', 'showtunes', 'singer', 'ska', 'skarock',\n",
       "       'slow', 'smooth', 'soft', 'soul', 'soulful', 'sound', 'soundtrack',\n",
       "       'southern', 'specialty', 'speech', 'spiritual', 'sport',\n",
       "       'stonerrock', 'surf', 'swing', 'synthpop', 'synthrock',\n",
       "       'sängerportrait', 'tango', 'tanzorchester', 'taraftar', 'tatar',\n",
       "       'tech', 'techno', 'teen', 'thrash', 'top', 'traditional',\n",
       "       'tradjazz', 'trance', 'tribal', 'trip', 'triphop', 'tropical',\n",
       "       'türk', 'türkçe', 'ukrrock', 'urban', 'uzbek', 'variété', 'vi',\n",
       "       'videogame', 'vocal', 'western', 'world', 'worldbeat', 'ïîï',\n",
       "       'электроника'], dtype=object)"
      ]
     },
     "execution_count": 16,
     "metadata": {},
     "output_type": "execute_result"
    }
   ],
   "source": [
    "df['genre_name'].sort_values().unique()   # Просмотр уникальных названий жанров"
   ]
  },
  {
   "cell_type": "markdown",
   "metadata": {
    "id": "qej-Qmuo_Zct"
   },
   "source": [
    "Мы видим следующие неявные дубликаты:\n",
    "* *hip*,\n",
    "* *hop*,\n",
    "* *hip-hop*.\n",
    "\n",
    "Объявим функцию *replace_wrong_genres()*, которая заменяет  неправильное название этого жанра в столбце *'genre_name'* на *'hiphop'* и проверяет успешность выполнения замены.\n",
    "\n",
    "Так исправляем все варианты написания, которые выявила проверка."
   ]
  },
  {
   "cell_type": "code",
   "execution_count": 17,
   "metadata": {
    "code_folding": [],
    "id": "ErNDkmns_Zct"
   },
   "outputs": [],
   "source": [
    "def replace_wrong_genres(wrong_genres,correct_genre):# Функция для замены неявных дубликатов\n",
    "    df['genre_name']= df['genre_name'].replace(wrong_genres, correct_genre)"
   ]
  },
  {
   "cell_type": "code",
   "execution_count": 18,
   "metadata": {
    "id": "YN5i2hpmSo09"
   },
   "outputs": [],
   "source": [
    "replace_wrong_genres(['hip', 'hop', 'hip-hop'], 'hiphop') # Устранение неявных дубликатов"
   ]
  },
  {
   "cell_type": "markdown",
   "metadata": {
    "id": "zQKF16_RG15m"
   },
   "source": [
    "Проверим, что заменили неправильные названия:\n",
    "\n",
    "*   hip\n",
    "*   hop\n",
    "*   hip-hop\n",
    "\n",
    "Выведите отсортированный список уникальных значений столбца `genre`:"
   ]
  },
  {
   "cell_type": "code",
   "execution_count": 19,
   "metadata": {
    "id": "wvixALnFG15m"
   },
   "outputs": [
    {
     "data": {
      "text/plain": [
       "array(['acid', 'acoustic', 'action', 'adult', 'africa', 'afrikaans',\n",
       "       'alternative', 'alternativepunk', 'ambient', 'americana',\n",
       "       'animated', 'anime', 'arabesk', 'arabic', 'arena',\n",
       "       'argentinetango', 'art', 'audiobook', 'author', 'avantgarde',\n",
       "       'axé', 'baile', 'balkan', 'beats', 'bigroom', 'black', 'bluegrass',\n",
       "       'blues', 'bollywood', 'bossa', 'brazilian', 'breakbeat', 'breaks',\n",
       "       'broadway', 'cantautori', 'cantopop', 'canzone', 'caribbean',\n",
       "       'caucasian', 'celtic', 'chamber', 'chanson', 'children', 'chill',\n",
       "       'chinese', 'choral', 'christian', 'christmas', 'classical',\n",
       "       'classicmetal', 'club', 'colombian', 'comedy', 'conjazz',\n",
       "       'contemporary', 'country', 'cuban', 'dance', 'dancehall',\n",
       "       'dancepop', 'dark', 'death', 'deep', 'deutschrock', 'deutschspr',\n",
       "       'dirty', 'disco', 'dnb', 'documentary', 'downbeat', 'downtempo',\n",
       "       'drum', 'dub', 'dubstep', 'eastern', 'easy', 'electronic',\n",
       "       'electropop', 'emo', 'entehno', 'epicmetal', 'estrada', 'ethnic',\n",
       "       'eurofolk', 'european', 'experimental', 'extrememetal', 'fado',\n",
       "       'fairytail', 'film', 'fitness', 'flamenco', 'folk', 'folklore',\n",
       "       'folkmetal', 'folkrock', 'folktronica', 'forró', 'frankreich',\n",
       "       'französisch', 'french', 'funk', 'future', 'gangsta', 'garage',\n",
       "       'german', 'ghazal', 'gitarre', 'glitch', 'gospel', 'gothic',\n",
       "       'grime', 'grunge', 'gypsy', 'handsup', \"hard'n'heavy\", 'hardcore',\n",
       "       'hardstyle', 'hardtechno', 'hiphop', 'historisch', 'holiday',\n",
       "       'horror', 'house', 'hymn', 'idm', 'independent', 'indian', 'indie',\n",
       "       'indipop', 'industrial', 'inspirational', 'instrumental',\n",
       "       'international', 'irish', 'jam', 'japanese', 'jazz', 'jewish',\n",
       "       'jpop', 'jungle', 'k-pop', 'karadeniz', 'karaoke', 'kayokyoku',\n",
       "       'korean', 'laiko', 'latin', 'latino', 'leftfield', 'local',\n",
       "       'lounge', 'loungeelectronic', 'lovers', 'malaysian', 'mandopop',\n",
       "       'marschmusik', 'meditative', 'mediterranean', 'melodic', 'metal',\n",
       "       'metalcore', 'mexican', 'middle', 'minimal', 'miscellaneous',\n",
       "       'modern', 'mood', 'mpb', 'muslim', 'native', 'neoklassik', 'neue',\n",
       "       'new', 'newage', 'newwave', 'nu', 'nujazz', 'numetal', 'oceania',\n",
       "       'old', 'opera', 'orchestral', 'other', 'piano', 'podcasts', 'pop',\n",
       "       'popdance', 'popelectronic', 'popeurodance', 'poprussian', 'post',\n",
       "       'posthardcore', 'postrock', 'power', 'progmetal', 'progressive',\n",
       "       'psychedelic', 'punjabi', 'punk', 'quebecois', 'ragga', 'ram',\n",
       "       'rancheras', 'rap', 'rave', 'reggae', 'reggaeton', 'regional',\n",
       "       'relax', 'religious', 'retro', 'rhythm', 'rnb', 'rnr', 'rock',\n",
       "       'rockabilly', 'rockalternative', 'rockindie', 'rockother',\n",
       "       'romance', 'roots', 'ruspop', 'rusrap', 'rusrock', 'russian',\n",
       "       'salsa', 'samba', 'scenic', 'schlager', 'self', 'sertanejo',\n",
       "       'shanson', 'shoegazing', 'showtunes', 'singer', 'ska', 'skarock',\n",
       "       'slow', 'smooth', 'soft', 'soul', 'soulful', 'sound', 'soundtrack',\n",
       "       'southern', 'specialty', 'speech', 'spiritual', 'sport',\n",
       "       'stonerrock', 'surf', 'swing', 'synthpop', 'synthrock',\n",
       "       'sängerportrait', 'tango', 'tanzorchester', 'taraftar', 'tatar',\n",
       "       'tech', 'techno', 'teen', 'thrash', 'top', 'traditional',\n",
       "       'tradjazz', 'trance', 'tribal', 'trip', 'triphop', 'tropical',\n",
       "       'türk', 'türkçe', 'ukrrock', 'urban', 'uzbek', 'variété', 'vi',\n",
       "       'videogame', 'vocal', 'western', 'world', 'worldbeat', 'ïîï',\n",
       "       'электроника'], dtype=object)"
      ]
     },
     "execution_count": 19,
     "metadata": {},
     "output_type": "execute_result"
    }
   ],
   "source": [
    "df['genre_name'].sort_values().unique() # Проверка на неявные дубликаты"
   ]
  },
  {
   "cell_type": "code",
   "execution_count": 20,
   "metadata": {},
   "outputs": [
    {
     "name": "stdout",
     "output_type": "stream",
     "text": [
      "<class 'pandas.core.frame.DataFrame'>\n",
      "RangeIndex: 60126 entries, 0 to 60125\n",
      "Data columns (total 7 columns):\n",
      " #   Column       Non-Null Count  Dtype \n",
      "---  ------       --------------  ----- \n",
      " 0   user_id      60126 non-null  object\n",
      " 1   track_name   60126 non-null  object\n",
      " 2   artist_name  60126 non-null  object\n",
      " 3   genre_name   60126 non-null  object\n",
      " 4   city         60126 non-null  object\n",
      " 5   time         60126 non-null  object\n",
      " 6   weekday      60126 non-null  object\n",
      "dtypes: object(7)\n",
      "memory usage: 3.2+ MB\n"
     ]
    }
   ],
   "source": [
    "# <получение общей информации о данных таблицы df>\n",
    "df.info()"
   ]
  },
  {
   "cell_type": "markdown",
   "metadata": {
    "id": "jz6a9-7HQUDd"
   },
   "source": [
    "**Выводы**\n",
    "На этапе предобработки в данных обнаружились не только пропуски и проблемы с названиями столбцов, но и   дубликаты. Их удаление позволит провести анализ точнее. Поскольку сведения о жанрах важно сохранить для анализа, не просто удаляем все пропущенные значения, но заполним пропущенные имена исполнителей и названия треков. Имена столбцов теперь корректны и удобны для дальнейшей работы."
   ]
  },
  {
   "cell_type": "markdown",
   "metadata": {
    "id": "WttZHXH0SqKk"
   },
   "source": [
    "## Проверка гипотез"
   ]
  },
  {
   "cell_type": "markdown",
   "metadata": {
    "id": "Im936VVi_Zcu"
   },
   "source": [
    "### Сравнение поведения пользователей двух столиц"
   ]
  },
  {
   "cell_type": "markdown",
   "metadata": {},
   "source": [
    "Была выдвинута гипотеза, что в Москве и Санкт-Петербурге пользователи слушают музыку по-разному. Проверяем это предположение по данным о трёх днях недели — понедельнике, среде и пятнице.\n",
    "\n",
    "Для каждого города устанавливаем количество прослушанных  в эти дни композиций с известным жанром, и сравниваем результаты."
   ]
  },
  {
   "cell_type": "code",
   "execution_count": 21,
   "metadata": {},
   "outputs": [
    {
     "data": {
      "text/plain": [
       "city\n",
       "Moscow              41892\n",
       "Saint-Petersburg    18234\n",
       "Name: genre_name, dtype: int64"
      ]
     },
     "execution_count": 21,
     "metadata": {},
     "output_type": "execute_result"
    }
   ],
   "source": [
    "# <группировка данных таблицы df по столбцу 'city' и подсчёт количества значений столбца 'genre_name'>\n",
    "df.groupby('city')['genre_name'].count()"
   ]
  },
  {
   "cell_type": "markdown",
   "metadata": {
    "id": "dzli3w8o_Zcu"
   },
   "source": [
    "В Москве прослушиваний больше, чем в Петербурге. Из этого не следует, что московские пользователи чаще слушают музыку. Просто самих пользователей в Москве больше.\n",
    "\n",
    "Сгруппируем данные по дню недели и подсчитаем прослушанные в понедельник, среду и пятницу композиции, для которых известен жанр."
   ]
  },
  {
   "cell_type": "code",
   "execution_count": 22,
   "metadata": {},
   "outputs": [
    {
     "data": {
      "text/plain": [
       "weekday\n",
       "Friday       21482\n",
       "Monday       20866\n",
       "Wednesday    17778\n",
       "Name: genre_name, dtype: int64"
      ]
     },
     "execution_count": 22,
     "metadata": {},
     "output_type": "execute_result"
    }
   ],
   "source": [
    "# <группировка данных по столбцу 'weekday' и подсчёт количества значений столбца 'genre_name'>\n",
    "df.groupby('weekday')['genre_name'].count()"
   ]
  },
  {
   "cell_type": "markdown",
   "metadata": {
    "id": "cC2tNrlL_Zcu"
   },
   "source": [
    "Понедельник и пятница — время для музыки; по средам пользователи немного больше вовлечены в работу."
   ]
  },
  {
   "cell_type": "markdown",
   "metadata": {},
   "source": [
    "Создаём функцию *number_tracks()*, которая принимает как параметры таблицу, день недели и название города, а возвращает количество прослушанных композиций, для которых известен жанр. Проверяем количество прослушанных композиций для каждого города и понедельника, затем среды и пятницы."
   ]
  },
  {
   "cell_type": "code",
   "execution_count": 23,
   "metadata": {},
   "outputs": [
    {
     "name": "stdout",
     "output_type": "stream",
     "text": [
      "Прослушиваний по дням в Москве:15347 - понедельник, 10865 - среда, 15680- пятница\n",
      "Прослушиваний по дням в Санкт-Петербурге:5519 - понедельник, 6913 - среда, 5802- пятница\n"
     ]
    }
   ],
   "source": [
    "df_moscow = df.loc[df['city']=='Moscow']\n",
    "df_mon_msk = df_moscow.loc[df['weekday']=='Monday']['user_id'].count()\n",
    "df_wed_msk = df_moscow.loc[df['weekday']=='Wednesday']['user_id'].count()\n",
    "df_fri_msk = df_moscow.loc[df['weekday']=='Friday']['user_id'].count()\n",
    "print(f'Прослушиваний по дням в Москве:{df_mon_msk} - понедельник, {df_wed_msk} - среда, {df_fri_msk}- пятница')\n",
    "\n",
    "df_piter = df.loc[df['city']=='Saint-Petersburg']\n",
    "df_mon_pit = df_piter.loc[df['weekday']=='Monday']['user_id'].count()\n",
    "df_wed_pit = df_piter.loc[df['weekday']=='Wednesday']['user_id'].count()\n",
    "df_fri_pit = df_piter.loc[df['weekday']=='Friday']['user_id'].count()\n",
    "print(f'Прослушиваний по дням в Санкт-Петербурге:{df_mon_pit} - понедельник, {df_wed_pit} - среда, {df_fri_pit}- пятница')"
   ]
  },
  {
   "cell_type": "markdown",
   "metadata": {},
   "source": [
    "Сведём полученную информацию в одну таблицу, где ['city', 'monday', 'wednesday', 'friday'] названия столбцов.\n"
   ]
  },
  {
   "cell_type": "code",
   "execution_count": 24,
   "metadata": {
    "id": "APAcLpOr_Zcu"
   },
   "outputs": [
    {
     "name": "stdout",
     "output_type": "stream",
     "text": [
      "               city  monday  wednesday  friday\n",
      "0            Moscow   15347      10865   15680\n",
      "1  Saint-Petersburg    5519       6913    5802\n"
     ]
    }
   ],
   "source": [
    "data = [['Moscow', df_mon_msk, df_wed_msk, df_fri_msk],\n",
    "       ['Saint-Petersburg', df_mon_pit, df_wed_pit,df_fri_pit]]\n",
    "columns = ['city', 'monday', 'wednesday', 'friday']\n",
    "research_result = pd.DataFrame(data=data,columns=columns) # Таблица с результатами\n",
    "print(research_result)"
   ]
  },
  {
   "cell_type": "markdown",
   "metadata": {
    "id": "-EgPIHYu_Zcu"
   },
   "source": [
    "**Выводы**\n",
    "Результаты показывают, что относительно среды музыку в Петербурге и Москве слушают «зеркально»: в Москве пики приходятся на понедельник и пятницу, а в среду время прослушивания снижается. Тогда как в Санкт-Петербурге среда — день самого большого интереса к музыке, а в понедельник и пятницу он меньше, причём почти одинаково меньше.\n",
    "\n",
    "Значит, данные говорят в пользу гипотезы."
   ]
  },
  {
   "cell_type": "markdown",
   "metadata": {
    "id": "atZAxtq4_Zcu"
   },
   "source": [
    "### Музыка в начале и в конце недели"
   ]
  },
  {
   "cell_type": "markdown",
   "metadata": {
    "id": "eXrQqXFH_Zcu"
   },
   "source": [
    "Согласно второй гипотезе, утром в понедельник в Москве преобладают одни жанры, а в Петербурге — другие. Так же и вечером пятницы преобладают разные жанры — в зависимости от города."
   ]
  },
  {
   "cell_type": "markdown",
   "metadata": {
    "id": "S8UcW6Hw_Zcu"
   },
   "source": [
    "Создадим 2 таблицы с данными в две переменные:\n",
    "* по Москве — в `moscow_general`;\n",
    "* по Санкт-Петербургу — в `spb_general`."
   ]
  },
  {
   "cell_type": "code",
   "execution_count": 25,
   "metadata": {
    "id": "qeaFfM_P_Zcu"
   },
   "outputs": [],
   "source": [
    "moscow_general=df[df['city']=='Moscow']"
   ]
  },
  {
   "cell_type": "code",
   "execution_count": 26,
   "metadata": {
    "id": "ORaVRKto_Zcu"
   },
   "outputs": [],
   "source": [
    "spb_general=df[df['city']=='Saint-Petersburg']"
   ]
  },
  {
   "cell_type": "markdown",
   "metadata": {},
   "source": [
    "Создаём функцию *genre_weekday()*, которая возвращает список жанров по запрошенному дню недели и времени суток с такого-то часа по такой-то."
   ]
  },
  {
   "cell_type": "code",
   "execution_count": 30,
   "metadata": {},
   "outputs": [],
   "source": [
    "# объявление функции genre_weekday() с параметрами df, day, time1, time2\n",
    "# в переменной genre_list сохраняются те строки df, для которых одновременно:\n",
    "# 1) значение в столбце 'weekday' равно параметру day,\n",
    "# 2) значение в столбце 'time' больше time1 и\n",
    "# 3) меньше time2.\n",
    "# в переменной genre_list_sorted сохраняются в порядке убывания  \n",
    "# первые 10 значений Series, полученной подсчётом числа значений 'genre_name'\n",
    "# сгруппированной по столбцу 'genre_name' таблицы genre_list\n",
    "# функция возвращает значение genre_list_sorted\n",
    "def genre_weekday(df, day, time1, time2):\n",
    "    genre_list = df[(df['weekday'] == day) & (df['time'] > time1) & (df['time'] < time2)]\n",
    "    genre_list_sorted=genre_list.sort_values(by = 'genre_name', ascending = False).head(10)\n",
    "    return genre_list_sorted"
   ]
  },
  {
   "cell_type": "markdown",
   "metadata": {},
   "source": [
    "Cравниваем полученные результаты по таблице для Москвы и Санкт-Петербурга в понедельник утром (с 7 до 11) и в пятницу вечером (с 17 до 23)."
   ]
  },
  {
   "cell_type": "code",
   "execution_count": 31,
   "metadata": {},
   "outputs": [
    {
     "data": {
      "text/html": [
       "<div>\n",
       "<style scoped>\n",
       "    .dataframe tbody tr th:only-of-type {\n",
       "        vertical-align: middle;\n",
       "    }\n",
       "\n",
       "    .dataframe tbody tr th {\n",
       "        vertical-align: top;\n",
       "    }\n",
       "\n",
       "    .dataframe thead th {\n",
       "        text-align: right;\n",
       "    }\n",
       "</style>\n",
       "<table border=\"1\" class=\"dataframe\">\n",
       "  <thead>\n",
       "    <tr style=\"text-align: right;\">\n",
       "      <th></th>\n",
       "      <th>user_id</th>\n",
       "      <th>track_name</th>\n",
       "      <th>artist_name</th>\n",
       "      <th>genre_name</th>\n",
       "      <th>city</th>\n",
       "      <th>time</th>\n",
       "      <th>weekday</th>\n",
       "    </tr>\n",
       "  </thead>\n",
       "  <tbody>\n",
       "    <tr>\n",
       "      <th>27442</th>\n",
       "      <td>D7FB50DA</td>\n",
       "      <td>Drumming Circle</td>\n",
       "      <td>Professor Trance</td>\n",
       "      <td>worldbeat</td>\n",
       "      <td>Moscow</td>\n",
       "      <td>09:30:47</td>\n",
       "      <td>Monday</td>\n",
       "    </tr>\n",
       "    <tr>\n",
       "      <th>20384</th>\n",
       "      <td>F0C5DA9A</td>\n",
       "      <td>Hasta Siempre Comandante</td>\n",
       "      <td>Juan M. Chazarreta</td>\n",
       "      <td>world</td>\n",
       "      <td>Moscow</td>\n",
       "      <td>08:10:09</td>\n",
       "      <td>Monday</td>\n",
       "    </tr>\n",
       "    <tr>\n",
       "      <th>36691</th>\n",
       "      <td>C3B36125</td>\n",
       "      <td>Brava la cuoca</td>\n",
       "      <td>Roberto Scaglioni</td>\n",
       "      <td>world</td>\n",
       "      <td>Moscow</td>\n",
       "      <td>09:51:28</td>\n",
       "      <td>Monday</td>\n",
       "    </tr>\n",
       "    <tr>\n",
       "      <th>54812</th>\n",
       "      <td>F37EC6D1</td>\n",
       "      <td>Penjereden Dash Gelir</td>\n",
       "      <td>Chingiz Sadykhov</td>\n",
       "      <td>world</td>\n",
       "      <td>Moscow</td>\n",
       "      <td>08:29:31</td>\n",
       "      <td>Monday</td>\n",
       "    </tr>\n",
       "    <tr>\n",
       "      <th>58660</th>\n",
       "      <td>59CBCCE5</td>\n",
       "      <td>Dyolmano Dyulbero</td>\n",
       "      <td>The Bulgarian Voices</td>\n",
       "      <td>world</td>\n",
       "      <td>Moscow</td>\n",
       "      <td>09:53:19</td>\n",
       "      <td>Monday</td>\n",
       "    </tr>\n",
       "    <tr>\n",
       "      <th>7388</th>\n",
       "      <td>62E1B964</td>\n",
       "      <td>Child of a Blind Man</td>\n",
       "      <td>Hazmat Modine</td>\n",
       "      <td>world</td>\n",
       "      <td>Moscow</td>\n",
       "      <td>09:37:22</td>\n",
       "      <td>Monday</td>\n",
       "    </tr>\n",
       "    <tr>\n",
       "      <th>21143</th>\n",
       "      <td>FF3FD2BD</td>\n",
       "      <td>Ire</td>\n",
       "      <td>Adekunle Gold</td>\n",
       "      <td>world</td>\n",
       "      <td>Moscow</td>\n",
       "      <td>08:26:19</td>\n",
       "      <td>Monday</td>\n",
       "    </tr>\n",
       "    <tr>\n",
       "      <th>49652</th>\n",
       "      <td>FE3A4C70</td>\n",
       "      <td>Ма царды 'мбал (Спутник жизни)</td>\n",
       "      <td>Оксана Джелиева</td>\n",
       "      <td>world</td>\n",
       "      <td>Moscow</td>\n",
       "      <td>08:53:25</td>\n",
       "      <td>Monday</td>\n",
       "    </tr>\n",
       "    <tr>\n",
       "      <th>26801</th>\n",
       "      <td>FDF6D919</td>\n",
       "      <td>Nuage</td>\n",
       "      <td>Jim Cole &amp; Spectral Voices</td>\n",
       "      <td>world</td>\n",
       "      <td>Moscow</td>\n",
       "      <td>08:42:04</td>\n",
       "      <td>Monday</td>\n",
       "    </tr>\n",
       "    <tr>\n",
       "      <th>40820</th>\n",
       "      <td>3D844B0C</td>\n",
       "      <td>Tango</td>\n",
       "      <td>Athens Symphony Orchestra</td>\n",
       "      <td>world</td>\n",
       "      <td>Moscow</td>\n",
       "      <td>09:45:53</td>\n",
       "      <td>Monday</td>\n",
       "    </tr>\n",
       "  </tbody>\n",
       "</table>\n",
       "</div>"
      ],
      "text/plain": [
       "        user_id                      track_name                 artist_name  \\\n",
       "27442  D7FB50DA                 Drumming Circle            Professor Trance   \n",
       "20384  F0C5DA9A        Hasta Siempre Comandante          Juan M. Chazarreta   \n",
       "36691  C3B36125                  Brava la cuoca           Roberto Scaglioni   \n",
       "54812  F37EC6D1           Penjereden Dash Gelir            Chingiz Sadykhov   \n",
       "58660  59CBCCE5               Dyolmano Dyulbero        The Bulgarian Voices   \n",
       "7388   62E1B964            Child of a Blind Man               Hazmat Modine   \n",
       "21143  FF3FD2BD                             Ire               Adekunle Gold   \n",
       "49652  FE3A4C70  Ма царды 'мбал (Спутник жизни)             Оксана Джелиева   \n",
       "26801  FDF6D919                           Nuage  Jim Cole & Spectral Voices   \n",
       "40820  3D844B0C                           Tango   Athens Symphony Orchestra   \n",
       "\n",
       "      genre_name    city      time weekday  \n",
       "27442  worldbeat  Moscow  09:30:47  Monday  \n",
       "20384      world  Moscow  08:10:09  Monday  \n",
       "36691      world  Moscow  09:51:28  Monday  \n",
       "54812      world  Moscow  08:29:31  Monday  \n",
       "58660      world  Moscow  09:53:19  Monday  \n",
       "7388       world  Moscow  09:37:22  Monday  \n",
       "21143      world  Moscow  08:26:19  Monday  \n",
       "49652      world  Moscow  08:53:25  Monday  \n",
       "26801      world  Moscow  08:42:04  Monday  \n",
       "40820      world  Moscow  09:45:53  Monday  "
      ]
     },
     "execution_count": 31,
     "metadata": {},
     "output_type": "execute_result"
    }
   ],
   "source": [
    "# <вызов функции для утра понедельника в Москве (вместо df таблица moscow_general)>\n",
    "genre_weekday(moscow_general, 'Monday', '07:00:00', '11:00:00')"
   ]
  },
  {
   "cell_type": "code",
   "execution_count": 32,
   "metadata": {},
   "outputs": [
    {
     "data": {
      "text/html": [
       "<div>\n",
       "<style scoped>\n",
       "    .dataframe tbody tr th:only-of-type {\n",
       "        vertical-align: middle;\n",
       "    }\n",
       "\n",
       "    .dataframe tbody tr th {\n",
       "        vertical-align: top;\n",
       "    }\n",
       "\n",
       "    .dataframe thead th {\n",
       "        text-align: right;\n",
       "    }\n",
       "</style>\n",
       "<table border=\"1\" class=\"dataframe\">\n",
       "  <thead>\n",
       "    <tr style=\"text-align: right;\">\n",
       "      <th></th>\n",
       "      <th>user_id</th>\n",
       "      <th>track_name</th>\n",
       "      <th>artist_name</th>\n",
       "      <th>genre_name</th>\n",
       "      <th>city</th>\n",
       "      <th>time</th>\n",
       "      <th>weekday</th>\n",
       "    </tr>\n",
       "  </thead>\n",
       "  <tbody>\n",
       "    <tr>\n",
       "      <th>30068</th>\n",
       "      <td>692AEC35</td>\n",
       "      <td>Baiana</td>\n",
       "      <td>Emicida</td>\n",
       "      <td>world</td>\n",
       "      <td>Saint-Petersburg</td>\n",
       "      <td>09:24:38</td>\n",
       "      <td>Monday</td>\n",
       "    </tr>\n",
       "    <tr>\n",
       "      <th>42316</th>\n",
       "      <td>6B62E9CE</td>\n",
       "      <td>The Color of The Night</td>\n",
       "      <td>L' Amore Orchestra</td>\n",
       "      <td>world</td>\n",
       "      <td>Saint-Petersburg</td>\n",
       "      <td>08:56:04</td>\n",
       "      <td>Monday</td>\n",
       "    </tr>\n",
       "    <tr>\n",
       "      <th>25542</th>\n",
       "      <td>F018BD36</td>\n",
       "      <td>Aicha</td>\n",
       "      <td>Khaled</td>\n",
       "      <td>world</td>\n",
       "      <td>Saint-Petersburg</td>\n",
       "      <td>09:24:54</td>\n",
       "      <td>Monday</td>\n",
       "    </tr>\n",
       "    <tr>\n",
       "      <th>25368</th>\n",
       "      <td>888CB0C0</td>\n",
       "      <td>Sichou Zhi Lu</td>\n",
       "      <td>Ethno Music Orchestra</td>\n",
       "      <td>world</td>\n",
       "      <td>Saint-Petersburg</td>\n",
       "      <td>08:49:11</td>\n",
       "      <td>Monday</td>\n",
       "    </tr>\n",
       "    <tr>\n",
       "      <th>44109</th>\n",
       "      <td>2DD633B3</td>\n",
       "      <td>Parole parole</td>\n",
       "      <td>unknown</td>\n",
       "      <td>world</td>\n",
       "      <td>Saint-Petersburg</td>\n",
       "      <td>08:50:08</td>\n",
       "      <td>Monday</td>\n",
       "    </tr>\n",
       "    <tr>\n",
       "      <th>45091</th>\n",
       "      <td>B5B6FE0A</td>\n",
       "      <td>Sade</td>\n",
       "      <td>Badmos</td>\n",
       "      <td>world</td>\n",
       "      <td>Saint-Petersburg</td>\n",
       "      <td>09:03:38</td>\n",
       "      <td>Monday</td>\n",
       "    </tr>\n",
       "    <tr>\n",
       "      <th>21206</th>\n",
       "      <td>F33FA8C</td>\n",
       "      <td>Pivni Tkach posh edit light</td>\n",
       "      <td>Katya Chilly</td>\n",
       "      <td>world</td>\n",
       "      <td>Saint-Petersburg</td>\n",
       "      <td>08:51:27</td>\n",
       "      <td>Monday</td>\n",
       "    </tr>\n",
       "    <tr>\n",
       "      <th>20813</th>\n",
       "      <td>4D2A996C</td>\n",
       "      <td>Closer to Heaven</td>\n",
       "      <td>Mysteria</td>\n",
       "      <td>world</td>\n",
       "      <td>Saint-Petersburg</td>\n",
       "      <td>09:30:23</td>\n",
       "      <td>Monday</td>\n",
       "    </tr>\n",
       "    <tr>\n",
       "      <th>19541</th>\n",
       "      <td>CA471C2</td>\n",
       "      <td>The Chieri by Avalon Rising</td>\n",
       "      <td>Avalon Rising</td>\n",
       "      <td>world</td>\n",
       "      <td>Saint-Petersburg</td>\n",
       "      <td>09:05:43</td>\n",
       "      <td>Monday</td>\n",
       "    </tr>\n",
       "    <tr>\n",
       "      <th>18608</th>\n",
       "      <td>FEA172A3</td>\n",
       "      <td>Jenny Chicken</td>\n",
       "      <td>Kate Mcmayland and Her Orchestra</td>\n",
       "      <td>world</td>\n",
       "      <td>Saint-Petersburg</td>\n",
       "      <td>09:04:32</td>\n",
       "      <td>Monday</td>\n",
       "    </tr>\n",
       "  </tbody>\n",
       "</table>\n",
       "</div>"
      ],
      "text/plain": [
       "        user_id                   track_name  \\\n",
       "30068  692AEC35                       Baiana   \n",
       "42316  6B62E9CE       The Color of The Night   \n",
       "25542  F018BD36                        Aicha   \n",
       "25368  888CB0C0                Sichou Zhi Lu   \n",
       "44109  2DD633B3                Parole parole   \n",
       "45091  B5B6FE0A                         Sade   \n",
       "21206   F33FA8C  Pivni Tkach posh edit light   \n",
       "20813  4D2A996C             Closer to Heaven   \n",
       "19541   CA471C2  The Chieri by Avalon Rising   \n",
       "18608  FEA172A3                Jenny Chicken   \n",
       "\n",
       "                            artist_name genre_name              city  \\\n",
       "30068                           Emicida      world  Saint-Petersburg   \n",
       "42316                L' Amore Orchestra      world  Saint-Petersburg   \n",
       "25542                            Khaled      world  Saint-Petersburg   \n",
       "25368             Ethno Music Orchestra      world  Saint-Petersburg   \n",
       "44109                           unknown      world  Saint-Petersburg   \n",
       "45091                            Badmos      world  Saint-Petersburg   \n",
       "21206                      Katya Chilly      world  Saint-Petersburg   \n",
       "20813                          Mysteria      world  Saint-Petersburg   \n",
       "19541                     Avalon Rising      world  Saint-Petersburg   \n",
       "18608  Kate Mcmayland and Her Orchestra      world  Saint-Petersburg   \n",
       "\n",
       "           time weekday  \n",
       "30068  09:24:38  Monday  \n",
       "42316  08:56:04  Monday  \n",
       "25542  09:24:54  Monday  \n",
       "25368  08:49:11  Monday  \n",
       "44109  08:50:08  Monday  \n",
       "45091  09:03:38  Monday  \n",
       "21206  08:51:27  Monday  \n",
       "20813  09:30:23  Monday  \n",
       "19541  09:05:43  Monday  \n",
       "18608  09:04:32  Monday  "
      ]
     },
     "execution_count": 32,
     "metadata": {},
     "output_type": "execute_result"
    }
   ],
   "source": [
    "# <вызов функции для утра понедельника в Петербурге (вместо df таблица spb_general)>\n",
    "genre_weekday(spb_general, 'Monday', '07:00:00', '11:00:00')"
   ]
  },
  {
   "cell_type": "code",
   "execution_count": 33,
   "metadata": {},
   "outputs": [
    {
     "data": {
      "text/html": [
       "<div>\n",
       "<style scoped>\n",
       "    .dataframe tbody tr th:only-of-type {\n",
       "        vertical-align: middle;\n",
       "    }\n",
       "\n",
       "    .dataframe tbody tr th {\n",
       "        vertical-align: top;\n",
       "    }\n",
       "\n",
       "    .dataframe thead th {\n",
       "        text-align: right;\n",
       "    }\n",
       "</style>\n",
       "<table border=\"1\" class=\"dataframe\">\n",
       "  <thead>\n",
       "    <tr style=\"text-align: right;\">\n",
       "      <th></th>\n",
       "      <th>user_id</th>\n",
       "      <th>track_name</th>\n",
       "      <th>artist_name</th>\n",
       "      <th>genre_name</th>\n",
       "      <th>city</th>\n",
       "      <th>time</th>\n",
       "      <th>weekday</th>\n",
       "    </tr>\n",
       "  </thead>\n",
       "  <tbody>\n",
       "    <tr>\n",
       "      <th>43694</th>\n",
       "      <td>917047E8</td>\n",
       "      <td>The Nomad</td>\n",
       "      <td>Niraj Chag Featuring Melissa Baten</td>\n",
       "      <td>world</td>\n",
       "      <td>Moscow</td>\n",
       "      <td>21:58:43</td>\n",
       "      <td>Friday</td>\n",
       "    </tr>\n",
       "    <tr>\n",
       "      <th>30922</th>\n",
       "      <td>3DC9EF93</td>\n",
       "      <td>Aprum Em Keznov</td>\n",
       "      <td>Arabo Ispiryan</td>\n",
       "      <td>world</td>\n",
       "      <td>Moscow</td>\n",
       "      <td>20:07:26</td>\n",
       "      <td>Friday</td>\n",
       "    </tr>\n",
       "    <tr>\n",
       "      <th>31820</th>\n",
       "      <td>9F87ADDC</td>\n",
       "      <td>Bir Gozal</td>\n",
       "      <td>unknown</td>\n",
       "      <td>world</td>\n",
       "      <td>Moscow</td>\n",
       "      <td>20:14:37</td>\n",
       "      <td>Friday</td>\n",
       "    </tr>\n",
       "    <tr>\n",
       "      <th>52603</th>\n",
       "      <td>4C61D12D</td>\n",
       "      <td>Apple Penne</td>\n",
       "      <td>Bharathvaj</td>\n",
       "      <td>world</td>\n",
       "      <td>Moscow</td>\n",
       "      <td>21:32:05</td>\n",
       "      <td>Friday</td>\n",
       "    </tr>\n",
       "    <tr>\n",
       "      <th>31514</th>\n",
       "      <td>5366E775</td>\n",
       "      <td>Die Reblaus</td>\n",
       "      <td>Hans Moser</td>\n",
       "      <td>world</td>\n",
       "      <td>Moscow</td>\n",
       "      <td>21:40:41</td>\n",
       "      <td>Friday</td>\n",
       "    </tr>\n",
       "    <tr>\n",
       "      <th>31317</th>\n",
       "      <td>CAAC4375</td>\n",
       "      <td>Kervansaray</td>\n",
       "      <td>Muhammet İrmikçi</td>\n",
       "      <td>world</td>\n",
       "      <td>Moscow</td>\n",
       "      <td>20:22:48</td>\n",
       "      <td>Friday</td>\n",
       "    </tr>\n",
       "    <tr>\n",
       "      <th>2878</th>\n",
       "      <td>2487DD6F</td>\n",
       "      <td>Макарий</td>\n",
       "      <td>Абстрактор</td>\n",
       "      <td>world</td>\n",
       "      <td>Moscow</td>\n",
       "      <td>20:57:45</td>\n",
       "      <td>Friday</td>\n",
       "    </tr>\n",
       "    <tr>\n",
       "      <th>14375</th>\n",
       "      <td>BCEA335</td>\n",
       "      <td>Yo Soy Maria</td>\n",
       "      <td>Panterinya</td>\n",
       "      <td>world</td>\n",
       "      <td>Moscow</td>\n",
       "      <td>21:11:20</td>\n",
       "      <td>Friday</td>\n",
       "    </tr>\n",
       "    <tr>\n",
       "      <th>31013</th>\n",
       "      <td>77BE1010</td>\n",
       "      <td>Kandıramazsın</td>\n",
       "      <td>Genco Ecer</td>\n",
       "      <td>world</td>\n",
       "      <td>Moscow</td>\n",
       "      <td>22:00:25</td>\n",
       "      <td>Friday</td>\n",
       "    </tr>\n",
       "    <tr>\n",
       "      <th>52657</th>\n",
       "      <td>6214F479</td>\n",
       "      <td>Forró do Rei</td>\n",
       "      <td>Trio Virgulino</td>\n",
       "      <td>world</td>\n",
       "      <td>Moscow</td>\n",
       "      <td>20:28:05</td>\n",
       "      <td>Friday</td>\n",
       "    </tr>\n",
       "  </tbody>\n",
       "</table>\n",
       "</div>"
      ],
      "text/plain": [
       "        user_id       track_name                         artist_name  \\\n",
       "43694  917047E8        The Nomad  Niraj Chag Featuring Melissa Baten   \n",
       "30922  3DC9EF93  Aprum Em Keznov                      Arabo Ispiryan   \n",
       "31820  9F87ADDC        Bir Gozal                             unknown   \n",
       "52603  4C61D12D      Apple Penne                          Bharathvaj   \n",
       "31514  5366E775      Die Reblaus                          Hans Moser   \n",
       "31317  CAAC4375      Kervansaray                    Muhammet İrmikçi   \n",
       "2878   2487DD6F          Макарий                          Абстрактор   \n",
       "14375   BCEA335     Yo Soy Maria                          Panterinya   \n",
       "31013  77BE1010    Kandıramazsın                          Genco Ecer   \n",
       "52657  6214F479     Forró do Rei                      Trio Virgulino   \n",
       "\n",
       "      genre_name    city      time weekday  \n",
       "43694      world  Moscow  21:58:43  Friday  \n",
       "30922      world  Moscow  20:07:26  Friday  \n",
       "31820      world  Moscow  20:14:37  Friday  \n",
       "52603      world  Moscow  21:32:05  Friday  \n",
       "31514      world  Moscow  21:40:41  Friday  \n",
       "31317      world  Moscow  20:22:48  Friday  \n",
       "2878       world  Moscow  20:57:45  Friday  \n",
       "14375      world  Moscow  21:11:20  Friday  \n",
       "31013      world  Moscow  22:00:25  Friday  \n",
       "52657      world  Moscow  20:28:05  Friday  "
      ]
     },
     "execution_count": 33,
     "metadata": {},
     "output_type": "execute_result"
    }
   ],
   "source": [
    "# <вызов функции для вечера пятницы в Москве>\n",
    "genre_weekday(moscow_general, 'Friday', '17:00:00', '23:00:00')"
   ]
  },
  {
   "cell_type": "code",
   "execution_count": 34,
   "metadata": {},
   "outputs": [
    {
     "data": {
      "text/html": [
       "<div>\n",
       "<style scoped>\n",
       "    .dataframe tbody tr th:only-of-type {\n",
       "        vertical-align: middle;\n",
       "    }\n",
       "\n",
       "    .dataframe tbody tr th {\n",
       "        vertical-align: top;\n",
       "    }\n",
       "\n",
       "    .dataframe thead th {\n",
       "        text-align: right;\n",
       "    }\n",
       "</style>\n",
       "<table border=\"1\" class=\"dataframe\">\n",
       "  <thead>\n",
       "    <tr style=\"text-align: right;\">\n",
       "      <th></th>\n",
       "      <th>user_id</th>\n",
       "      <th>track_name</th>\n",
       "      <th>artist_name</th>\n",
       "      <th>genre_name</th>\n",
       "      <th>city</th>\n",
       "      <th>time</th>\n",
       "      <th>weekday</th>\n",
       "    </tr>\n",
       "  </thead>\n",
       "  <tbody>\n",
       "    <tr>\n",
       "      <th>54324</th>\n",
       "      <td>54A01EAC</td>\n",
       "      <td>Batwanes Beek Ta'a Ninsa</td>\n",
       "      <td>emad batayeh</td>\n",
       "      <td>world</td>\n",
       "      <td>Saint-Petersburg</td>\n",
       "      <td>20:58:18</td>\n",
       "      <td>Friday</td>\n",
       "    </tr>\n",
       "    <tr>\n",
       "      <th>29985</th>\n",
       "      <td>47E5088</td>\n",
       "      <td>Что же делать?</td>\n",
       "      <td>Группа «Домбай»</td>\n",
       "      <td>world</td>\n",
       "      <td>Saint-Petersburg</td>\n",
       "      <td>21:15:04</td>\n",
       "      <td>Friday</td>\n",
       "    </tr>\n",
       "    <tr>\n",
       "      <th>44531</th>\n",
       "      <td>873D8A1B</td>\n",
       "      <td>Orkestarsko Oro</td>\n",
       "      <td>Maleševski Melos</td>\n",
       "      <td>world</td>\n",
       "      <td>Saint-Petersburg</td>\n",
       "      <td>20:58:55</td>\n",
       "      <td>Friday</td>\n",
       "    </tr>\n",
       "    <tr>\n",
       "      <th>18013</th>\n",
       "      <td>1D507F3F</td>\n",
       "      <td>A Cochabamba Me Voy</td>\n",
       "      <td>Daniele Sepe</td>\n",
       "      <td>world</td>\n",
       "      <td>Saint-Petersburg</td>\n",
       "      <td>21:50:57</td>\n",
       "      <td>Friday</td>\n",
       "    </tr>\n",
       "    <tr>\n",
       "      <th>48238</th>\n",
       "      <td>F3FB8127</td>\n",
       "      <td>Dari Lolo</td>\n",
       "      <td>Aravod</td>\n",
       "      <td>world</td>\n",
       "      <td>Saint-Petersburg</td>\n",
       "      <td>21:48:19</td>\n",
       "      <td>Friday</td>\n",
       "    </tr>\n",
       "    <tr>\n",
       "      <th>22457</th>\n",
       "      <td>A38F488E</td>\n",
       "      <td>The Forest</td>\n",
       "      <td>Taiko Drums</td>\n",
       "      <td>world</td>\n",
       "      <td>Saint-Petersburg</td>\n",
       "      <td>21:27:03</td>\n",
       "      <td>Friday</td>\n",
       "    </tr>\n",
       "    <tr>\n",
       "      <th>3470</th>\n",
       "      <td>86F2380D</td>\n",
       "      <td>Королева</td>\n",
       "      <td>Мануэль Исаков</td>\n",
       "      <td>world</td>\n",
       "      <td>Saint-Petersburg</td>\n",
       "      <td>21:19:05</td>\n",
       "      <td>Friday</td>\n",
       "    </tr>\n",
       "    <tr>\n",
       "      <th>28527</th>\n",
       "      <td>807DDAF6</td>\n",
       "      <td>El Forga Moura</td>\n",
       "      <td>Haim</td>\n",
       "      <td>world</td>\n",
       "      <td>Saint-Petersburg</td>\n",
       "      <td>21:11:00</td>\n",
       "      <td>Friday</td>\n",
       "    </tr>\n",
       "    <tr>\n",
       "      <th>38883</th>\n",
       "      <td>BF27088D</td>\n",
       "      <td>Let It Out - Rafijah &amp; Niyo Rah</td>\n",
       "      <td>Rafijah &amp; Niyo Rah</td>\n",
       "      <td>world</td>\n",
       "      <td>Saint-Petersburg</td>\n",
       "      <td>21:28:56</td>\n",
       "      <td>Friday</td>\n",
       "    </tr>\n",
       "    <tr>\n",
       "      <th>29561</th>\n",
       "      <td>DAE710B3</td>\n",
       "      <td>Les nuits de patrimonio</td>\n",
       "      <td>Jérôme Ciosi</td>\n",
       "      <td>world</td>\n",
       "      <td>Saint-Petersburg</td>\n",
       "      <td>20:07:58</td>\n",
       "      <td>Friday</td>\n",
       "    </tr>\n",
       "  </tbody>\n",
       "</table>\n",
       "</div>"
      ],
      "text/plain": [
       "        user_id                       track_name         artist_name  \\\n",
       "54324  54A01EAC         Batwanes Beek Ta'a Ninsa        emad batayeh   \n",
       "29985   47E5088                   Что же делать?     Группа «Домбай»   \n",
       "44531  873D8A1B                  Orkestarsko Oro    Maleševski Melos   \n",
       "18013  1D507F3F              A Cochabamba Me Voy        Daniele Sepe   \n",
       "48238  F3FB8127                        Dari Lolo              Aravod   \n",
       "22457  A38F488E                       The Forest         Taiko Drums   \n",
       "3470   86F2380D                         Королева      Мануэль Исаков   \n",
       "28527  807DDAF6                   El Forga Moura                Haim   \n",
       "38883  BF27088D  Let It Out - Rafijah & Niyo Rah  Rafijah & Niyo Rah   \n",
       "29561  DAE710B3          Les nuits de patrimonio        Jérôme Ciosi   \n",
       "\n",
       "      genre_name              city      time weekday  \n",
       "54324      world  Saint-Petersburg  20:58:18  Friday  \n",
       "29985      world  Saint-Petersburg  21:15:04  Friday  \n",
       "44531      world  Saint-Petersburg  20:58:55  Friday  \n",
       "18013      world  Saint-Petersburg  21:50:57  Friday  \n",
       "48238      world  Saint-Petersburg  21:48:19  Friday  \n",
       "22457      world  Saint-Petersburg  21:27:03  Friday  \n",
       "3470       world  Saint-Petersburg  21:19:05  Friday  \n",
       "28527      world  Saint-Petersburg  21:11:00  Friday  \n",
       "38883      world  Saint-Petersburg  21:28:56  Friday  \n",
       "29561      world  Saint-Petersburg  20:07:58  Friday  "
      ]
     },
     "execution_count": 34,
     "metadata": {},
     "output_type": "execute_result"
    }
   ],
   "source": [
    "# <вызов функции для вечера пятницы в Питере>\n",
    "genre_weekday(spb_general, 'Friday', '17:00:00', '23:00:00')"
   ]
  },
  {
   "cell_type": "markdown",
   "metadata": {
    "id": "wrCe4MNX_Zcu"
   },
   "source": [
    "Популярные жанры в понедельник утром в Питере и Москве оказались похожи: везде, как и предполагалось, популярен поп. Несмотря на это, концовка топ-10 для двух городов различается: в Питере в топ-10 входит джаз и русский рэп, а в Москве жанр *world*.\n",
    "\n",
    "В конце недели ситуация не меняется. Поп-музыка всё так же на первом месте. Опять разница заметна только в концовке топ-10, где в Питере пятничным вечером тоже присутствует жанр *world*.\n",
    "\n",
    "**Выводы**\n",
    "\n",
    "Жанр поп безусловный лидер, а топ-5 в целом не различается в обеих столицах. При этом видно, что концовка списка более «живая»: для каждого города выделяются более характерные жанры, которые действительно меняют свои позиции в зависимости от дня недели и времени."
   ]
  },
  {
   "cell_type": "markdown",
   "metadata": {
    "id": "JolODAqr_Zcu"
   },
   "source": [
    "### Жанровые предпочтения в Москве и Петербурге\n",
    "\n",
    "Гипотеза: Петербург — столица рэпа, музыку этого жанра там слушают чаще, чем в Москве.  А Москва — город контрастов, в котором, тем не менее, преобладает поп-музыка."
   ]
  },
  {
   "cell_type": "markdown",
   "metadata": {
    "id": "DlegSvaT_Zcu"
   },
   "source": [
    "Сгруппируем таблицу *moscow_general* по жанру, сосчитаем численность композиций каждого жанра методом *count()*, отсортируем в порядке убывания и сохраним результат в таблице *moscow_genres*.\n",
    "\n",
    "Просмотрим первые 10 строк этой новой таблицы."
   ]
  },
  {
   "cell_type": "code",
   "execution_count": 38,
   "metadata": {
    "id": "r19lIPke_Zcu"
   },
   "outputs": [
    {
     "data": {
      "text/plain": [
       "genre_name\n",
       "pop            5892\n",
       "dance          4435\n",
       "rock           3965\n",
       "electronic     3786\n",
       "hiphop         2096\n",
       "classical      1616\n",
       "world          1432\n",
       "alternative    1379\n",
       "ruspop         1372\n",
       "rusrap         1161\n",
       "Name: genre_name, dtype: int64"
      ]
     },
     "execution_count": 38,
     "metadata": {},
     "output_type": "execute_result"
    }
   ],
   "source": [
    "moscow_genres = moscow_general.groupby('genre_name')['genre_name'].count().sort_values(ascending = False)\n",
    "moscow_genres.head(10)"
   ]
  },
  {
   "cell_type": "markdown",
   "metadata": {
    "id": "cnPG2vnN_Zcv"
   },
   "source": [
    "Сгруппируем таблицу *spb_general* по жанру, сосчитаем численность композиций каждого жанра методом *count()*, отсортируем в порядке убывания и сохраним результат в таблице *spb_genres*.\n",
    "\n",
    "Просматриваем первые 10 строк этой таблицы. Теперь можно сравнивать два города."
   ]
  },
  {
   "cell_type": "code",
   "execution_count": 39,
   "metadata": {
    "id": "gluLIpE7_Zcv"
   },
   "outputs": [
    {
     "data": {
      "text/plain": [
       "genre_name\n",
       "pop            2431\n",
       "dance          1932\n",
       "rock           1879\n",
       "electronic     1736\n",
       "hiphop          960\n",
       "alternative     649\n",
       "classical       646\n",
       "rusrap          564\n",
       "ruspop          538\n",
       "world           515\n",
       "Name: genre_name, dtype: int64"
      ]
     },
     "execution_count": 39,
     "metadata": {},
     "output_type": "execute_result"
    }
   ],
   "source": [
    "# <группировка таблицы spb_general, расчёт, сохранение в spb_genres>\n",
    "spb_genres = spb_general.groupby('genre_name')['genre_name'].count().sort_values(ascending = False)\n",
    "spb_genres.head(10)"
   ]
  },
  {
   "cell_type": "markdown",
   "metadata": {
    "id": "RY51YJYu_Zcv"
   },
   "source": [
    "**Выводы**"
   ]
  },
  {
   "cell_type": "markdown",
   "metadata": {
    "id": "nVhnJEm__Zcv"
   },
   "source": [
    "Гипотеза частично подтвердилась:\n",
    "* Поп-музыка — самый популярный жанр в Москве, как и предполагала гипотеза. Более того, в топ-10 жанров встречается близкий жанр — русская популярная музыка.\n",
    "* Вопреки ожиданиям, рэп одинаково популярен в Москве и Петербурге. \n"
   ]
  },
  {
   "cell_type": "markdown",
   "metadata": {
    "id": "ykKQ0N65_Zcv"
   },
   "source": [
    "## Итоги исследования"
   ]
  },
  {
   "cell_type": "markdown",
   "metadata": {},
   "source": [
    "Рабочие гипотезы:\n",
    "\n",
    "* музыку в двух городах — Москве и Санкт-Петербурге — слушают в разном режиме;\n",
    "\n",
    "* списки десяти самых популярных жанров утром в понедельник и вечером в пятницу имеют характерные отличия;\n",
    "\n",
    "* население двух городов предпочитает cхожие музыкальные жанры.\n",
    "\n",
    "Общие результаты\n",
    "\n",
    "Москва и Петербург сходятся во вкусах: везде преобладает популярная музыка. При этом зависимости предпочтений от дня недели в каждом отдельном городе нет — люди постоянно слушают то, что им нравится. Но между городами в разрезе дней неделей наблюдается зеркальность относительно среды: Москва больше слушает в понедельник и пятницу, а Петербург наоборот - больше в среду, но меньше в понедельник и пятницу.\n"
   ]
  }
 ],
 "metadata": {
  "ExecuteTimeLog": [
   {
    "duration": 624,
    "start_time": "2021-12-26T18:14:41.773Z"
   },
   {
    "duration": 364,
    "start_time": "2021-12-26T18:14:42.399Z"
   },
   {
    "duration": 16,
    "start_time": "2021-12-26T18:14:42.765Z"
   },
   {
    "duration": 36,
    "start_time": "2021-12-26T18:14:42.782Z"
   },
   {
    "duration": 16,
    "start_time": "2021-12-26T18:14:42.820Z"
   },
   {
    "duration": 34,
    "start_time": "2021-12-26T18:14:42.838Z"
   },
   {
    "duration": 12,
    "start_time": "2021-12-26T18:14:42.874Z"
   },
   {
    "duration": 41,
    "start_time": "2021-12-26T18:14:42.888Z"
   },
   {
    "duration": 17,
    "start_time": "2021-12-26T18:14:42.932Z"
   },
   {
    "duration": 32,
    "start_time": "2021-12-26T18:14:42.952Z"
   },
   {
    "duration": 60,
    "start_time": "2021-12-26T18:14:42.986Z"
   },
   {
    "duration": 85,
    "start_time": "2021-12-26T18:14:43.048Z"
   },
   {
    "duration": 61,
    "start_time": "2021-12-26T18:14:43.135Z"
   },
   {
    "duration": 42,
    "start_time": "2021-12-26T18:14:43.198Z"
   },
   {
    "duration": 4,
    "start_time": "2021-12-26T18:14:43.242Z"
   },
   {
    "duration": 11,
    "start_time": "2021-12-26T18:14:43.248Z"
   },
   {
    "duration": 65,
    "start_time": "2021-12-26T18:14:43.261Z"
   },
   {
    "duration": 34,
    "start_time": "2021-12-26T18:14:43.329Z"
   },
   {
    "duration": 41,
    "start_time": "2021-12-26T18:14:43.365Z"
   },
   {
    "duration": 444,
    "start_time": "2021-12-26T18:14:43.408Z"
   },
   {
    "duration": -504,
    "start_time": "2021-12-26T18:14:44.359Z"
   },
   {
    "duration": -508,
    "start_time": "2021-12-26T18:14:44.364Z"
   },
   {
    "duration": -508,
    "start_time": "2021-12-26T18:14:44.365Z"
   },
   {
    "duration": -508,
    "start_time": "2021-12-26T18:14:44.367Z"
   },
   {
    "duration": -508,
    "start_time": "2021-12-26T18:14:44.368Z"
   },
   {
    "duration": -512,
    "start_time": "2021-12-26T18:14:44.373Z"
   },
   {
    "duration": -512,
    "start_time": "2021-12-26T18:14:44.375Z"
   },
   {
    "duration": -512,
    "start_time": "2021-12-26T18:14:44.376Z"
   },
   {
    "duration": -511,
    "start_time": "2021-12-26T18:14:44.377Z"
   },
   {
    "duration": -513,
    "start_time": "2021-12-26T18:14:44.380Z"
   },
   {
    "duration": -514,
    "start_time": "2021-12-26T18:14:44.382Z"
   },
   {
    "duration": -513,
    "start_time": "2021-12-26T18:14:44.383Z"
   },
   {
    "duration": -513,
    "start_time": "2021-12-26T18:14:44.384Z"
   },
   {
    "duration": -516,
    "start_time": "2021-12-26T18:14:44.389Z"
   },
   {
    "duration": -516,
    "start_time": "2021-12-26T18:14:44.390Z"
   },
   {
    "duration": -517,
    "start_time": "2021-12-26T18:14:44.392Z"
   },
   {
    "duration": -516,
    "start_time": "2021-12-26T18:14:44.393Z"
   },
   {
    "duration": -516,
    "start_time": "2021-12-26T18:14:44.394Z"
   },
   {
    "duration": -516,
    "start_time": "2021-12-26T18:14:44.396Z"
   },
   {
    "duration": 2,
    "start_time": "2021-12-26T18:16:01.655Z"
   },
   {
    "duration": 2,
    "start_time": "2021-12-26T18:16:02.419Z"
   },
   {
    "duration": 2,
    "start_time": "2021-12-26T18:16:03.049Z"
   },
   {
    "duration": 2,
    "start_time": "2021-12-26T18:16:03.316Z"
   },
   {
    "duration": 2,
    "start_time": "2021-12-26T18:16:03.496Z"
   },
   {
    "duration": 2,
    "start_time": "2021-12-26T18:16:03.760Z"
   },
   {
    "duration": 2,
    "start_time": "2021-12-26T18:16:04.298Z"
   },
   {
    "duration": 183,
    "start_time": "2021-12-26T18:16:04.809Z"
   },
   {
    "duration": 11,
    "start_time": "2021-12-26T18:16:08.511Z"
   },
   {
    "duration": 10,
    "start_time": "2021-12-26T18:16:09.050Z"
   },
   {
    "duration": 4,
    "start_time": "2021-12-26T18:16:10.207Z"
   },
   {
    "duration": 36,
    "start_time": "2021-12-26T18:16:11.409Z"
   },
   {
    "duration": 15,
    "start_time": "2021-12-26T18:16:12.002Z"
   },
   {
    "duration": 27,
    "start_time": "2021-12-26T18:16:12.172Z"
   },
   {
    "duration": 17,
    "start_time": "2021-12-26T18:16:12.352Z"
   },
   {
    "duration": 9,
    "start_time": "2021-12-26T18:17:04.876Z"
   },
   {
    "duration": 5,
    "start_time": "2021-12-26T18:17:05.499Z"
   },
   {
    "duration": 6,
    "start_time": "2021-12-26T18:17:06.332Z"
   },
   {
    "duration": 4,
    "start_time": "2021-12-26T18:17:07.424Z"
   },
   {
    "duration": 401,
    "start_time": "2021-12-26T20:18:23.080Z"
   },
   {
    "duration": 524,
    "start_time": "2021-12-27T20:16:15.546Z"
   },
   {
    "duration": 281,
    "start_time": "2021-12-27T20:16:16.072Z"
   },
   {
    "duration": 16,
    "start_time": "2021-12-27T20:16:16.355Z"
   },
   {
    "duration": 33,
    "start_time": "2021-12-27T20:16:16.373Z"
   },
   {
    "duration": 3,
    "start_time": "2021-12-27T20:16:16.408Z"
   },
   {
    "duration": 22,
    "start_time": "2021-12-27T20:16:16.413Z"
   },
   {
    "duration": 5,
    "start_time": "2021-12-27T20:16:16.437Z"
   },
   {
    "duration": 25,
    "start_time": "2021-12-27T20:16:16.444Z"
   },
   {
    "duration": 18,
    "start_time": "2021-12-27T20:16:16.491Z"
   },
   {
    "duration": 35,
    "start_time": "2021-12-27T20:16:16.511Z"
   },
   {
    "duration": 72,
    "start_time": "2021-12-27T20:16:16.548Z"
   },
   {
    "duration": 79,
    "start_time": "2021-12-27T20:16:16.621Z"
   },
   {
    "duration": 49,
    "start_time": "2021-12-27T20:16:16.702Z"
   },
   {
    "duration": 46,
    "start_time": "2021-12-27T20:16:16.753Z"
   },
   {
    "duration": 2,
    "start_time": "2021-12-27T20:16:16.801Z"
   },
   {
    "duration": 9,
    "start_time": "2021-12-27T20:16:16.805Z"
   },
   {
    "duration": 38,
    "start_time": "2021-12-27T20:16:16.816Z"
   },
   {
    "duration": 47,
    "start_time": "2021-12-27T20:16:16.856Z"
   },
   {
    "duration": 27,
    "start_time": "2021-12-27T20:16:16.905Z"
   },
   {
    "duration": 76,
    "start_time": "2021-12-27T20:16:16.934Z"
   },
   {
    "duration": 2,
    "start_time": "2021-12-27T20:16:17.012Z"
   },
   {
    "duration": 7,
    "start_time": "2021-12-27T20:16:17.016Z"
   },
   {
    "duration": 3,
    "start_time": "2021-12-27T20:16:17.026Z"
   },
   {
    "duration": 4,
    "start_time": "2021-12-27T20:16:17.031Z"
   },
   {
    "duration": 4,
    "start_time": "2021-12-27T20:16:17.036Z"
   },
   {
    "duration": 5,
    "start_time": "2021-12-27T20:16:17.041Z"
   },
   {
    "duration": 7,
    "start_time": "2021-12-27T20:16:17.047Z"
   },
   {
    "duration": 7,
    "start_time": "2021-12-27T20:16:17.056Z"
   },
   {
    "duration": 32,
    "start_time": "2021-12-27T20:16:17.065Z"
   },
   {
    "duration": 10,
    "start_time": "2021-12-27T20:16:17.099Z"
   },
   {
    "duration": 5,
    "start_time": "2021-12-27T20:16:17.111Z"
   },
   {
    "duration": 5,
    "start_time": "2021-12-27T20:16:17.118Z"
   },
   {
    "duration": 24,
    "start_time": "2021-12-27T20:16:17.124Z"
   },
   {
    "duration": 53,
    "start_time": "2021-12-27T20:16:17.150Z"
   },
   {
    "duration": 22,
    "start_time": "2021-12-27T20:16:17.205Z"
   },
   {
    "duration": 22,
    "start_time": "2021-12-27T20:16:17.229Z"
   },
   {
    "duration": 8,
    "start_time": "2021-12-27T20:16:17.253Z"
   },
   {
    "duration": 3,
    "start_time": "2021-12-27T20:16:17.263Z"
   },
   {
    "duration": 7,
    "start_time": "2021-12-27T20:16:17.292Z"
   },
   {
    "duration": 4,
    "start_time": "2021-12-27T20:16:17.300Z"
   }
  ],
  "colab": {
   "collapsed_sections": [
    "E0vqbgi9ay0H",
    "VUC88oWjTJw2"
   ],
   "name": "yandex_music_project_2021.2.ipynb",
   "provenance": []
  },
  "kernelspec": {
   "display_name": "Python 3 (ipykernel)",
   "language": "python",
   "name": "python3"
  },
  "language_info": {
   "codemirror_mode": {
    "name": "ipython",
    "version": 3
   },
   "file_extension": ".py",
   "mimetype": "text/x-python",
   "name": "python",
   "nbconvert_exporter": "python",
   "pygments_lexer": "ipython3",
   "version": "3.10.1"
  },
  "toc": {
   "base_numbering": 1,
   "nav_menu": {},
   "number_sections": true,
   "sideBar": true,
   "skip_h1_title": true,
   "title_cell": "Table of Contents",
   "title_sidebar": "Contents",
   "toc_cell": false,
   "toc_position": {},
   "toc_section_display": true,
   "toc_window_display": true
  }
 },
 "nbformat": 4,
 "nbformat_minor": 1
}
